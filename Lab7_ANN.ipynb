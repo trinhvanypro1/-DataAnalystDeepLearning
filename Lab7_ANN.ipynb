{
  "nbformat": 4,
  "nbformat_minor": 0,
  "metadata": {
    "colab": {
      "name": "Lab7_ANN.ipynb",
      "provenance": [],
      "authorship_tag": "ABX9TyOV1pA+9wqfjcK6FrKuLs8g",
      "include_colab_link": true
    },
    "kernelspec": {
      "name": "python3",
      "display_name": "Python 3"
    },
    "language_info": {
      "name": "python"
    }
  },
  "cells": [
    {
      "cell_type": "markdown",
      "metadata": {
        "id": "view-in-github",
        "colab_type": "text"
      },
      "source": [
        "<a href=\"https://colab.research.google.com/github/trinhvanypro1/-DataAnalystDeepLearning/blob/main/Lab7_ANN.ipynb\" target=\"_parent\"><img src=\"https://colab.research.google.com/assets/colab-badge.svg\" alt=\"Open In Colab\"/></a>"
      ]
    },
    {
      "cell_type": "code",
      "metadata": {
        "id": "7mFfRbygkVTG"
      },
      "source": [
        "import numpy as np\n",
        "#Hàm để hieenrt hị các tấm ảnh\n",
        "import matplotlib.pyplot as plt\n",
        "#Chọn ngẫu nhiên các tấm ảnh\n",
        "import random\n",
        "#Load dữ liệu trong tập mẫu\n",
        "from keras.datasets import mnist\n",
        "#Hàm xây dựng mô hình neural\n",
        "#Thêm 1 lớp, thêm hàm kích haojt activation\n",
        "from keras.models import Sequential\n",
        "from keras.utils import np_utils\n",
        "from keras.layers.core import Dense, Activation"
      ],
      "execution_count": 59,
      "outputs": []
    },
    {
      "cell_type": "code",
      "metadata": {
        "colab": {
          "base_uri": "https://localhost:8080/",
          "height": 204
        },
        "id": "-Kyg2Y_sm2AT",
        "outputId": "03b0170c-09af-43c4-9da4-328c383a6750"
      },
      "source": [
        "import pandas as pd\n",
        "df=pd.read_csv('https://raw.githubusercontent.com/huynhhoc/DataAnalystDeepLearning/main/Data/carpricesdata.csv')\n",
        "df"
      ],
      "execution_count": 60,
      "outputs": [
        {
          "output_type": "execute_result",
          "data": {
            "text/html": [
              "<div>\n",
              "<style scoped>\n",
              "    .dataframe tbody tr th:only-of-type {\n",
              "        vertical-align: middle;\n",
              "    }\n",
              "\n",
              "    .dataframe tbody tr th {\n",
              "        vertical-align: top;\n",
              "    }\n",
              "\n",
              "    .dataframe thead th {\n",
              "        text-align: right;\n",
              "    }\n",
              "</style>\n",
              "<table border=\"1\" class=\"dataframe\">\n",
              "  <thead>\n",
              "    <tr style=\"text-align: right;\">\n",
              "      <th></th>\n",
              "      <th>Age</th>\n",
              "      <th>KM</th>\n",
              "      <th>Weight</th>\n",
              "      <th>HP</th>\n",
              "      <th>MetColor</th>\n",
              "      <th>CC</th>\n",
              "      <th>Doors</th>\n",
              "      <th>Price</th>\n",
              "    </tr>\n",
              "  </thead>\n",
              "  <tbody>\n",
              "    <tr>\n",
              "      <th>0</th>\n",
              "      <td>23</td>\n",
              "      <td>46986</td>\n",
              "      <td>1165</td>\n",
              "      <td>90</td>\n",
              "      <td>1</td>\n",
              "      <td>2000</td>\n",
              "      <td>3</td>\n",
              "      <td>13500</td>\n",
              "    </tr>\n",
              "    <tr>\n",
              "      <th>1</th>\n",
              "      <td>23</td>\n",
              "      <td>72937</td>\n",
              "      <td>1165</td>\n",
              "      <td>90</td>\n",
              "      <td>1</td>\n",
              "      <td>2000</td>\n",
              "      <td>3</td>\n",
              "      <td>13500</td>\n",
              "    </tr>\n",
              "    <tr>\n",
              "      <th>2</th>\n",
              "      <td>24</td>\n",
              "      <td>41711</td>\n",
              "      <td>1165</td>\n",
              "      <td>90</td>\n",
              "      <td>1</td>\n",
              "      <td>2000</td>\n",
              "      <td>3</td>\n",
              "      <td>13950</td>\n",
              "    </tr>\n",
              "    <tr>\n",
              "      <th>3</th>\n",
              "      <td>26</td>\n",
              "      <td>48000</td>\n",
              "      <td>1165</td>\n",
              "      <td>90</td>\n",
              "      <td>0</td>\n",
              "      <td>2000</td>\n",
              "      <td>3</td>\n",
              "      <td>14950</td>\n",
              "    </tr>\n",
              "    <tr>\n",
              "      <th>4</th>\n",
              "      <td>30</td>\n",
              "      <td>38500</td>\n",
              "      <td>1170</td>\n",
              "      <td>90</td>\n",
              "      <td>0</td>\n",
              "      <td>2000</td>\n",
              "      <td>3</td>\n",
              "      <td>13750</td>\n",
              "    </tr>\n",
              "  </tbody>\n",
              "</table>\n",
              "</div>"
            ],
            "text/plain": [
              "   Age     KM  Weight  HP  MetColor    CC  Doors  Price\n",
              "0   23  46986    1165  90         1  2000      3  13500\n",
              "1   23  72937    1165  90         1  2000      3  13500\n",
              "2   24  41711    1165  90         1  2000      3  13950\n",
              "3   26  48000    1165  90         0  2000      3  14950\n",
              "4   30  38500    1170  90         0  2000      3  13750"
            ]
          },
          "metadata": {},
          "execution_count": 60
        }
      ]
    },
    {
      "cell_type": "code",
      "metadata": {
        "id": "70DcHiu-neYd"
      },
      "source": [
        "Prediction_Obj = ['Age','KM', 'Weight','HP','MetColor','CC','Doors']\n",
        "Prediction_Values = ['Price']"
      ],
      "execution_count": 61,
      "outputs": []
    },
    {
      "cell_type": "code",
      "metadata": {
        "id": "bmmO-PeJviCC"
      },
      "source": [
        "x=pd.DataFrame(df,columns=Prediction_Obj)\n",
        "y=pd.DataFrame(df,columns=Prediction_Values)"
      ],
      "execution_count": 62,
      "outputs": []
    },
    {
      "cell_type": "code",
      "metadata": {
        "id": "sFxijoE-v1-r"
      },
      "source": [
        "#Khởi tạo mô hình\n",
        "model=Sequential()\n",
        "#Add vào lớp input có 10 neural(10 neural) và mỗi neural có 784 input\n",
        "model.add(Dense(7,input_dim=7,kernel_initializer='normal'))\n",
        "model.add(Activation('relu'))"
      ],
      "execution_count": 63,
      "outputs": []
    },
    {
      "cell_type": "code",
      "metadata": {
        "id": "9lqwL7Qvcejv"
      },
      "source": [
        "#add vào lớp hidden sẽ tự động lấy đầu vào của lớp input, giá trị hieden có thể thay đổi\n",
        "model.add(Dense(7,kernel_initializer='normal'))\n",
        "model.add(Activation('relu'))"
      ],
      "execution_count": 64,
      "outputs": []
    },
    {
      "cell_type": "code",
      "metadata": {
        "id": "xzwveL_UeMGv",
        "outputId": "76493264-3eb7-4c35-9d76-a6f6ece9882f",
        "colab": {
          "base_uri": "https://localhost:8080/"
        }
      },
      "source": [
        "#add vào lớp đầu ra, bắc buộc là 10 vì số lượng 0-9 là 10 số\n",
        "model.add(Dense(1,kernel_initializer='normal'))\n",
        "#Dùng hàm softmax vì đầu ra là 10 lớp, với các bài toán classification(phân loại) do output có 10 lớp nên lớn hơn 2 ta dùng hàm softmax\n",
        "model.add(Activation('softmax'))\n",
        "model.summary() "
      ],
      "execution_count": 65,
      "outputs": [
        {
          "output_type": "stream",
          "name": "stdout",
          "text": [
            "Model: \"sequential_8\"\n",
            "_________________________________________________________________\n",
            "Layer (type)                 Output Shape              Param #   \n",
            "=================================================================\n",
            "dense_15 (Dense)             (None, 7)                 56        \n",
            "_________________________________________________________________\n",
            "activation_18 (Activation)   (None, 7)                 0         \n",
            "_________________________________________________________________\n",
            "dense_16 (Dense)             (None, 7)                 56        \n",
            "_________________________________________________________________\n",
            "activation_19 (Activation)   (None, 7)                 0         \n",
            "_________________________________________________________________\n",
            "dense_17 (Dense)             (None, 1)                 8         \n",
            "_________________________________________________________________\n",
            "activation_20 (Activation)   (None, 1)                 0         \n",
            "=================================================================\n",
            "Total params: 120\n",
            "Trainable params: 120\n",
            "Non-trainable params: 0\n",
            "_________________________________________________________________\n"
          ]
        }
      ]
    },
    {
      "cell_type": "code",
      "metadata": {
        "id": "DnQ-HIdjks-v"
      },
      "source": [
        "model.compile(loss='mean_squared_error',optimizer='adam',metrics=['accuracy'])"
      ],
      "execution_count": 66,
      "outputs": []
    },
    {
      "cell_type": "code",
      "metadata": {
        "id": "S2Jbl9BWk6bK"
      },
      "source": [
        "from sklearn.preprocessing import StandardScaler\n",
        "PredictorScaler=StandardScaler()\n",
        "TargetVarScaler=StandardScaler()\n",
        "\n",
        "PredictorScalerFit=PredictorScaler.fit(x)\n",
        "TargetVarScalerFit=TargetVarScaler.fit(y)\n",
        "\n",
        "x=PredictorScalerFit.transform(x)\n",
        "y=TargetVarScalerFit.transform(y)"
      ],
      "execution_count": 67,
      "outputs": []
    },
    {
      "cell_type": "code",
      "metadata": {
        "id": "5Kljs1B1l8XK"
      },
      "source": [
        "from sklearn.model_selection import train_test_split\n",
        "x_train, x_test, y_train, y_test = train_test_split(x,y,test_size=0.3, random_state=42)"
      ],
      "execution_count": 68,
      "outputs": []
    },
    {
      "cell_type": "code",
      "metadata": {
        "id": "GarKL-ASoYfN",
        "outputId": "027f7e98-62f2-4151-a288-ebd3afd35d5f",
        "colab": {
          "base_uri": "https://localhost:8080/"
        }
      },
      "source": [
        "history=model.fit(x_train, y_train,batch_size=20, epochs=5, verbose=1)"
      ],
      "execution_count": 69,
      "outputs": [
        {
          "output_type": "stream",
          "name": "stdout",
          "text": [
            "Epoch 1/5\n",
            "1/1 [==============================] - 0s 342ms/step - loss: 1.6587 - accuracy: 0.0000e+00\n",
            "Epoch 2/5\n",
            "1/1 [==============================] - 0s 4ms/step - loss: 1.6587 - accuracy: 0.0000e+00\n",
            "Epoch 3/5\n",
            "1/1 [==============================] - 0s 3ms/step - loss: 1.6587 - accuracy: 0.0000e+00\n",
            "Epoch 4/5\n",
            "1/1 [==============================] - 0s 4ms/step - loss: 1.6587 - accuracy: 0.0000e+00\n",
            "Epoch 5/5\n",
            "1/1 [==============================] - 0s 4ms/step - loss: 1.6587 - accuracy: 0.0000e+00\n"
          ]
        }
      ]
    },
    {
      "cell_type": "code",
      "metadata": {
        "id": "KH8CGfJnomYS"
      },
      "source": [
        "#Giá trị thực tế được lưu ở tập t_test\n",
        "predicted_price=model.predict(x_test)"
      ],
      "execution_count": 70,
      "outputs": []
    },
    {
      "cell_type": "code",
      "metadata": {
        "id": "KhQ4Z0dsptkK"
      },
      "source": [
        "predicted_price=TargetVarScalerFit.inverse_transform(predicted_price)\n",
        "y_test_orig=TargetVarScalerFit.inverse_transform(y_test)\n",
        "test_data=PredictorScalerFit.inverse_transform(x_test)"
      ],
      "execution_count": 71,
      "outputs": []
    },
    {
      "cell_type": "code",
      "metadata": {
        "id": "hpbyk_TsqYfT"
      },
      "source": [
        "testdata=pd.DataFrame(data=test_data, columns=Prediction_Obj)\n",
        "testdata['Price']=y_test_orig\n",
        "testdata['PredictedPrice']=predicted_price"
      ],
      "execution_count": 75,
      "outputs": []
    },
    {
      "cell_type": "code",
      "metadata": {
        "id": "iUZvoQoerM4c",
        "outputId": "5edebba9-7fd4-4b61-b6be-24e896035134",
        "colab": {
          "base_uri": "https://localhost:8080/",
          "height": 111
        }
      },
      "source": [
        "testdata"
      ],
      "execution_count": 76,
      "outputs": [
        {
          "output_type": "execute_result",
          "data": {
            "text/html": [
              "<div>\n",
              "<style scoped>\n",
              "    .dataframe tbody tr th:only-of-type {\n",
              "        vertical-align: middle;\n",
              "    }\n",
              "\n",
              "    .dataframe tbody tr th {\n",
              "        vertical-align: top;\n",
              "    }\n",
              "\n",
              "    .dataframe thead th {\n",
              "        text-align: right;\n",
              "    }\n",
              "</style>\n",
              "<table border=\"1\" class=\"dataframe\">\n",
              "  <thead>\n",
              "    <tr style=\"text-align: right;\">\n",
              "      <th></th>\n",
              "      <th>Age</th>\n",
              "      <th>KM</th>\n",
              "      <th>Weight</th>\n",
              "      <th>HP</th>\n",
              "      <th>MetColor</th>\n",
              "      <th>CC</th>\n",
              "      <th>Doors</th>\n",
              "      <th>Price</th>\n",
              "      <th>PredictedPrice</th>\n",
              "    </tr>\n",
              "  </thead>\n",
              "  <tbody>\n",
              "    <tr>\n",
              "      <th>0</th>\n",
              "      <td>23.0</td>\n",
              "      <td>72937.0</td>\n",
              "      <td>1165.0</td>\n",
              "      <td>90.0</td>\n",
              "      <td>1.0</td>\n",
              "      <td>2000.0</td>\n",
              "      <td>3.0</td>\n",
              "      <td>13500.0</td>\n",
              "      <td>14467.214844</td>\n",
              "    </tr>\n",
              "    <tr>\n",
              "      <th>1</th>\n",
              "      <td>30.0</td>\n",
              "      <td>38500.0</td>\n",
              "      <td>1170.0</td>\n",
              "      <td>90.0</td>\n",
              "      <td>0.0</td>\n",
              "      <td>2000.0</td>\n",
              "      <td>3.0</td>\n",
              "      <td>13750.0</td>\n",
              "      <td>14467.214844</td>\n",
              "    </tr>\n",
              "  </tbody>\n",
              "</table>\n",
              "</div>"
            ],
            "text/plain": [
              "    Age       KM  Weight    HP  ...      CC  Doors    Price  PredictedPrice\n",
              "0  23.0  72937.0  1165.0  90.0  ...  2000.0    3.0  13500.0    14467.214844\n",
              "1  30.0  38500.0  1170.0  90.0  ...  2000.0    3.0  13750.0    14467.214844\n",
              "\n",
              "[2 rows x 9 columns]"
            ]
          },
          "metadata": {},
          "execution_count": 76
        }
      ]
    }
  ]
}