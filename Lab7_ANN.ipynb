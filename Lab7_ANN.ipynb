{
  "nbformat": 4,
  "nbformat_minor": 0,
  "metadata": {
    "colab": {
      "name": "Lab7_ANN.ipynb",
      "provenance": [],
      "authorship_tag": "ABX9TyMmK7zDrmUjx4jk6tHlcb1e",
      "include_colab_link": true
    },
    "kernelspec": {
      "name": "python3",
      "display_name": "Python 3"
    },
    "language_info": {
      "name": "python"
    }
  },
  "cells": [
    {
      "cell_type": "markdown",
      "metadata": {
        "id": "view-in-github",
        "colab_type": "text"
      },
      "source": [
        "<a href=\"https://colab.research.google.com/github/trinhvanypro1/-DataAnalystDeepLearning/blob/main/Lab7_ANN.ipynb\" target=\"_parent\"><img src=\"https://colab.research.google.com/assets/colab-badge.svg\" alt=\"Open In Colab\"/></a>"
      ]
    },
    {
      "cell_type": "code",
      "metadata": {
        "id": "7mFfRbygkVTG"
      },
      "source": [
        "import numpy as np\n",
        "#Hàm để hieenrt hị các tấm ảnh\n",
        "import matplotlib.pyplot as plt\n",
        "#Chọn ngẫu nhiên các tấm ảnh\n",
        "import random\n",
        "#Load dữ liệu trong tập mẫu\n",
        "from keras.datasets import mnist\n",
        "#Hàm xây dựng mô hình neural\n",
        "#Thêm 1 lớp, thêm hàm kích haojt activation\n",
        "from keras.models import Sequential\n",
        "from keras.utils import np_utils\n",
        "from keras.layers.core import Dense, Activation"
      ],
      "execution_count": 1,
      "outputs": []
    },
    {
      "cell_type": "code",
      "metadata": {
        "colab": {
          "base_uri": "https://localhost:8080/",
          "height": 204
        },
        "id": "-Kyg2Y_sm2AT",
        "outputId": "edf937c6-ca50-46cc-ef4a-7a05989c1d2f"
      },
      "source": [
        "import pandas as pd\n",
        "df=pd.read_csv('https://raw.githubusercontent.com/huynhhoc/DataAnalystDeepLearning/main/Data/carpricesdata.csv')\n",
        "df"
      ],
      "execution_count": 2,
      "outputs": [
        {
          "output_type": "execute_result",
          "data": {
            "text/html": [
              "<div>\n",
              "<style scoped>\n",
              "    .dataframe tbody tr th:only-of-type {\n",
              "        vertical-align: middle;\n",
              "    }\n",
              "\n",
              "    .dataframe tbody tr th {\n",
              "        vertical-align: top;\n",
              "    }\n",
              "\n",
              "    .dataframe thead th {\n",
              "        text-align: right;\n",
              "    }\n",
              "</style>\n",
              "<table border=\"1\" class=\"dataframe\">\n",
              "  <thead>\n",
              "    <tr style=\"text-align: right;\">\n",
              "      <th></th>\n",
              "      <th>Age</th>\n",
              "      <th>KM</th>\n",
              "      <th>Weight</th>\n",
              "      <th>HP</th>\n",
              "      <th>MetColor</th>\n",
              "      <th>CC</th>\n",
              "      <th>Doors</th>\n",
              "      <th>Price</th>\n",
              "    </tr>\n",
              "  </thead>\n",
              "  <tbody>\n",
              "    <tr>\n",
              "      <th>0</th>\n",
              "      <td>23</td>\n",
              "      <td>46986</td>\n",
              "      <td>1165</td>\n",
              "      <td>90</td>\n",
              "      <td>1</td>\n",
              "      <td>2000</td>\n",
              "      <td>3</td>\n",
              "      <td>13500</td>\n",
              "    </tr>\n",
              "    <tr>\n",
              "      <th>1</th>\n",
              "      <td>23</td>\n",
              "      <td>72937</td>\n",
              "      <td>1165</td>\n",
              "      <td>90</td>\n",
              "      <td>1</td>\n",
              "      <td>2000</td>\n",
              "      <td>3</td>\n",
              "      <td>13500</td>\n",
              "    </tr>\n",
              "    <tr>\n",
              "      <th>2</th>\n",
              "      <td>24</td>\n",
              "      <td>41711</td>\n",
              "      <td>1165</td>\n",
              "      <td>90</td>\n",
              "      <td>1</td>\n",
              "      <td>2000</td>\n",
              "      <td>3</td>\n",
              "      <td>13950</td>\n",
              "    </tr>\n",
              "    <tr>\n",
              "      <th>3</th>\n",
              "      <td>26</td>\n",
              "      <td>48000</td>\n",
              "      <td>1165</td>\n",
              "      <td>90</td>\n",
              "      <td>0</td>\n",
              "      <td>2000</td>\n",
              "      <td>3</td>\n",
              "      <td>14950</td>\n",
              "    </tr>\n",
              "    <tr>\n",
              "      <th>4</th>\n",
              "      <td>30</td>\n",
              "      <td>38500</td>\n",
              "      <td>1170</td>\n",
              "      <td>90</td>\n",
              "      <td>0</td>\n",
              "      <td>2000</td>\n",
              "      <td>3</td>\n",
              "      <td>13750</td>\n",
              "    </tr>\n",
              "  </tbody>\n",
              "</table>\n",
              "</div>"
            ],
            "text/plain": [
              "   Age     KM  Weight  HP  MetColor    CC  Doors  Price\n",
              "0   23  46986    1165  90         1  2000      3  13500\n",
              "1   23  72937    1165  90         1  2000      3  13500\n",
              "2   24  41711    1165  90         1  2000      3  13950\n",
              "3   26  48000    1165  90         0  2000      3  14950\n",
              "4   30  38500    1170  90         0  2000      3  13750"
            ]
          },
          "metadata": {},
          "execution_count": 2
        }
      ]
    },
    {
      "cell_type": "code",
      "metadata": {
        "id": "70DcHiu-neYd"
      },
      "source": [
        "Prediction_Obj = ['Age','KM', 'Weight','HP','MetColor','CC','Doors']\n",
        "Prediction_Values = ['Price']"
      ],
      "execution_count": 3,
      "outputs": []
    },
    {
      "cell_type": "code",
      "metadata": {
        "id": "bmmO-PeJviCC"
      },
      "source": [
        "x=pd.DataFrame(df,columns=Prediction_Obj)\n",
        "y=pd.DataFrame(df,columns=Prediction_Values)"
      ],
      "execution_count": 4,
      "outputs": []
    },
    {
      "cell_type": "code",
      "metadata": {
        "id": "sFxijoE-v1-r"
      },
      "source": [
        "#Khởi tạo mô hình\n",
        "model=Sequential()\n",
        "#Add vào lớp input có 10 neural(10 neural) và mỗi neural có 784 input\n",
        "model.add(Dense(7,input_dim=7,kernel_initializer='normal'))\n",
        "model.add(Activation('relu'))"
      ],
      "execution_count": 5,
      "outputs": []
    },
    {
      "cell_type": "code",
      "metadata": {
        "id": "9lqwL7Qvcejv"
      },
      "source": [
        "#add vào lớp hidden sẽ tự động lấy đầu vào của lớp input, giá trị hieden có thể thay đổi\n",
        "model.add(Dense(7,kernel_initializer='normal'))\n",
        "model.add(Activation('relu'))"
      ],
      "execution_count": 6,
      "outputs": []
    },
    {
      "cell_type": "code",
      "metadata": {
        "id": "xzwveL_UeMGv",
        "colab": {
          "base_uri": "https://localhost:8080/"
        },
        "outputId": "c9822733-416e-4340-c16e-ca64e964fe75"
      },
      "source": [
        "#add vào lớp đầu ra, bắc buộc là 10 vì số lượng 0-9 là 10 số\n",
        "model.add(Dense(1,kernel_initializer='normal'))\n",
        "#Dùng hàm softmax vì đầu ra là 10 lớp, với các bài toán classification(phân loại) do output có 10 lớp nên lớn hơn 2 ta dùng hàm softmax\n",
        "model.add(Activation('softmax'))\n",
        "model.summary() "
      ],
      "execution_count": 7,
      "outputs": [
        {
          "output_type": "stream",
          "name": "stdout",
          "text": [
            "Model: \"sequential\"\n",
            "_________________________________________________________________\n",
            " Layer (type)                Output Shape              Param #   \n",
            "=================================================================\n",
            " dense (Dense)               (None, 7)                 56        \n",
            "                                                                 \n",
            " activation (Activation)     (None, 7)                 0         \n",
            "                                                                 \n",
            " dense_1 (Dense)             (None, 7)                 56        \n",
            "                                                                 \n",
            " activation_1 (Activation)   (None, 7)                 0         \n",
            "                                                                 \n",
            " dense_2 (Dense)             (None, 1)                 8         \n",
            "                                                                 \n",
            " activation_2 (Activation)   (None, 1)                 0         \n",
            "                                                                 \n",
            "=================================================================\n",
            "Total params: 120\n",
            "Trainable params: 120\n",
            "Non-trainable params: 0\n",
            "_________________________________________________________________\n"
          ]
        }
      ]
    },
    {
      "cell_type": "code",
      "metadata": {
        "id": "DnQ-HIdjks-v"
      },
      "source": [
        "model.compile(loss='mean_squared_error',optimizer='adam',metrics=['accuracy'])"
      ],
      "execution_count": 8,
      "outputs": []
    },
    {
      "cell_type": "code",
      "metadata": {
        "id": "S2Jbl9BWk6bK"
      },
      "source": [
        "from sklearn.preprocessing import StandardScaler\n",
        "PredictorScaler=StandardScaler()\n",
        "TargetVarScaler=StandardScaler()\n",
        "\n",
        "PredictorScalerFit=PredictorScaler.fit(x)\n",
        "TargetVarScalerFit=TargetVarScaler.fit(y)\n",
        "\n",
        "x=PredictorScalerFit.transform(x)\n",
        "y=TargetVarScalerFit.transform(y)"
      ],
      "execution_count": 9,
      "outputs": []
    },
    {
      "cell_type": "code",
      "metadata": {
        "id": "5Kljs1B1l8XK"
      },
      "source": [
        "from sklearn.model_selection import train_test_split\n",
        "x_train, x_test, y_train, y_test = train_test_split(x,y,test_size=0.3, random_state=42)"
      ],
      "execution_count": 10,
      "outputs": []
    },
    {
      "cell_type": "code",
      "metadata": {
        "id": "GarKL-ASoYfN",
        "colab": {
          "base_uri": "https://localhost:8080/"
        },
        "outputId": "3e5d05d3-d4b4-4d59-8f0b-80b2e8e0b4c1"
      },
      "source": [
        "history=model.fit(x_train, y_train,batch_size=20, epochs=5, verbose=1)"
      ],
      "execution_count": 11,
      "outputs": [
        {
          "output_type": "stream",
          "name": "stdout",
          "text": [
            "Epoch 1/5\n",
            "1/1 [==============================] - 1s 950ms/step - loss: 1.6587 - accuracy: 0.0000e+00\n",
            "Epoch 2/5\n",
            "1/1 [==============================] - 0s 9ms/step - loss: 1.6587 - accuracy: 0.0000e+00\n",
            "Epoch 3/5\n",
            "1/1 [==============================] - 0s 7ms/step - loss: 1.6587 - accuracy: 0.0000e+00\n",
            "Epoch 4/5\n",
            "1/1 [==============================] - 0s 8ms/step - loss: 1.6587 - accuracy: 0.0000e+00\n",
            "Epoch 5/5\n",
            "1/1 [==============================] - 0s 6ms/step - loss: 1.6587 - accuracy: 0.0000e+00\n"
          ]
        }
      ]
    },
    {
      "cell_type": "code",
      "metadata": {
        "id": "8EQTIiaNTf0P",
        "outputId": "7411faef-57db-4b4f-f901-1cb3d2e2c94e",
        "colab": {
          "base_uri": "https://localhost:8080/",
          "height": 592
        }
      },
      "source": [
        "fig, ax = plt.subplots(2,1,figsize=(18,10))\n",
        "ax[0].plot(history.history['loss'], color='b',label='Training loss')\n",
        "legend=ax[0].legend(loc='best',shadow=True)"
      ],
      "execution_count": 12,
      "outputs": [
        {
          "output_type": "display_data",
          "data": {
            "image/png": "[encoded data removed]",
            "text/plain": [
              "<Figure size 1296x720 with 2 Axes>"
            ]
          },
          "metadata": {
            "needs_background": "light"
          }
        }
      ]
    },
    {
      "cell_type": "code",
      "metadata": {
        "id": "KH8CGfJnomYS"
      },
      "source": [
        "#Giá trị thực tế được lưu ở tập t_test\n",
        "predicted_price=model.predict(x_test)"
      ],
      "execution_count": 13,
      "outputs": []
    },
    {
      "cell_type": "code",
      "metadata": {
        "id": "KhQ4Z0dsptkK"
      },
      "source": [
        "predicted_price=TargetVarScalerFit.inverse_transform(predicted_price)\n",
        "y_test_orig=TargetVarScalerFit.inverse_transform(y_test)\n",
        "test_data=PredictorScalerFit.inverse_transform(x_test)"
      ],
      "execution_count": 14,
      "outputs": []
    },
    {
      "cell_type": "code",
      "metadata": {
        "id": "hpbyk_TsqYfT"
      },
      "source": [
        "testdata=pd.DataFrame(data=test_data, columns=Prediction_Obj)\n",
        "testdata['Price']=y_test_orig\n",
        "testdata['PredictedPrice']=predicted_price"
      ],
      "execution_count": 15,
      "outputs": []
    },
    {
      "cell_type": "code",
      "metadata": {
        "id": "iUZvoQoerM4c",
        "colab": {
          "base_uri": "https://localhost:8080/",
          "height": 111
        },
        "outputId": "e0c79f11-fc11-4b73-f36a-7d3aac56211d"
      },
      "source": [
        "testdata"
      ],
      "execution_count": 16,
      "outputs": [
        {
          "output_type": "execute_result",
          "data": {
            "text/html": [
              "<div>\n",
              "<style scoped>\n",
              "    .dataframe tbody tr th:only-of-type {\n",
              "        vertical-align: middle;\n",
              "    }\n",
              "\n",
              "    .dataframe tbody tr th {\n",
              "        vertical-align: top;\n",
              "    }\n",
              "\n",
              "    .dataframe thead th {\n",
              "        text-align: right;\n",
              "    }\n",
              "</style>\n",
              "<table border=\"1\" class=\"dataframe\">\n",
              "  <thead>\n",
              "    <tr style=\"text-align: right;\">\n",
              "      <th></th>\n",
              "      <th>Age</th>\n",
              "      <th>KM</th>\n",
              "      <th>Weight</th>\n",
              "      <th>HP</th>\n",
              "      <th>MetColor</th>\n",
              "      <th>CC</th>\n",
              "      <th>Doors</th>\n",
              "      <th>Price</th>\n",
              "      <th>PredictedPrice</th>\n",
              "    </tr>\n",
              "  </thead>\n",
              "  <tbody>\n",
              "    <tr>\n",
              "      <th>0</th>\n",
              "      <td>23.0</td>\n",
              "      <td>72937.0</td>\n",
              "      <td>1165.0</td>\n",
              "      <td>90.0</td>\n",
              "      <td>1.0</td>\n",
              "      <td>2000.0</td>\n",
              "      <td>3.0</td>\n",
              "      <td>13500.0</td>\n",
              "      <td>14467.214844</td>\n",
              "    </tr>\n",
              "    <tr>\n",
              "      <th>1</th>\n",
              "      <td>30.0</td>\n",
              "      <td>38500.0</td>\n",
              "      <td>1170.0</td>\n",
              "      <td>90.0</td>\n",
              "      <td>0.0</td>\n",
              "      <td>2000.0</td>\n",
              "      <td>3.0</td>\n",
              "      <td>13750.0</td>\n",
              "      <td>14467.214844</td>\n",
              "    </tr>\n",
              "  </tbody>\n",
              "</table>\n",
              "</div>"
            ],
            "text/plain": [
              "    Age       KM  Weight    HP  ...      CC  Doors    Price  PredictedPrice\n",
              "0  23.0  72937.0  1165.0  90.0  ...  2000.0    3.0  13500.0    14467.214844\n",
              "1  30.0  38500.0  1170.0  90.0  ...  2000.0    3.0  13750.0    14467.214844\n",
              "\n",
              "[2 rows x 9 columns]"
            ]
          },
          "metadata": {},
          "execution_count": 16
        }
      ]
    }
  ]
}