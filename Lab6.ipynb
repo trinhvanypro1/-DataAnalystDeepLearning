{
  "nbformat": 4,
  "nbformat_minor": 0,
  "metadata": {
    "colab": {
      "name": "Lab6.ipynb",
      "provenance": [],
      "authorship_tag": "ABX9TyOcnb02RASmdQlyDjU3k+dI",
      "include_colab_link": true
    },
    "kernelspec": {
      "name": "python3",
      "display_name": "Python 3"
    },
    "language_info": {
      "name": "python"
    }
  },
  "cells": [
    {
      "cell_type": "markdown",
      "metadata": {
        "id": "view-in-github",
        "colab_type": "text"
      },
      "source": [
        "<a href=\"https://colab.research.google.com/github/trinhvanypro1/-DataAnalystDeepLearning/blob/main/Lab6.ipynb\" target=\"_parent\"><img src=\"https://colab.research.google.com/assets/colab-badge.svg\" alt=\"Open In Colab\"/></a>"
      ]
    },
    {
      "cell_type": "markdown",
      "metadata": {
        "id": "1DqT1qmrLOhk"
      },
      "source": [
        "Bài 1:\n",
        "Dữ liệu sử dụng trong lab này là tập dữ liệu về lượng nhựa, nicotine, CO trong\n",
        "thuốc lá cỡ king"
      ]
    },
    {
      "cell_type": "code",
      "metadata": {
        "colab": {
          "base_uri": "https://localhost:8080/",
          "height": 359
        },
        "id": "bhGuKeoILJJi",
        "outputId": "b9344bf0-e2f0-4c9d-a887-5e9776bab17b"
      },
      "source": [
        "import pandas as pd\n",
        "data = pd.read_csv('https://raw.githubusercontent.com/huynhhoc/DataAnalystDeepLearning/main/Data/04_CIGARET.csv')\n",
        "data.head(10)"
      ],
      "execution_count": 1,
      "outputs": [
        {
          "output_type": "execute_result",
          "data": {
            "text/html": [
              "<div>\n",
              "<style scoped>\n",
              "    .dataframe tbody tr th:only-of-type {\n",
              "        vertical-align: middle;\n",
              "    }\n",
              "\n",
              "    .dataframe tbody tr th {\n",
              "        vertical-align: top;\n",
              "    }\n",
              "\n",
              "    .dataframe thead th {\n",
              "        text-align: right;\n",
              "    }\n",
              "</style>\n",
              "<table border=\"1\" class=\"dataframe\">\n",
              "  <thead>\n",
              "    <tr style=\"text-align: right;\">\n",
              "      <th></th>\n",
              "      <th>KgTar</th>\n",
              "      <th>KgNic</th>\n",
              "      <th>KgCO</th>\n",
              "      <th>MnTar</th>\n",
              "      <th>MnNic</th>\n",
              "      <th>MnCO</th>\n",
              "      <th>FLTar</th>\n",
              "      <th>FLNic</th>\n",
              "      <th>FLCO</th>\n",
              "    </tr>\n",
              "  </thead>\n",
              "  <tbody>\n",
              "    <tr>\n",
              "      <th>0</th>\n",
              "      <td>20</td>\n",
              "      <td>1.1</td>\n",
              "      <td>16</td>\n",
              "      <td>16</td>\n",
              "      <td>1.1</td>\n",
              "      <td>15</td>\n",
              "      <td>5</td>\n",
              "      <td>0.4</td>\n",
              "      <td>4</td>\n",
              "    </tr>\n",
              "    <tr>\n",
              "      <th>1</th>\n",
              "      <td>27</td>\n",
              "      <td>1.7</td>\n",
              "      <td>16</td>\n",
              "      <td>13</td>\n",
              "      <td>0.8</td>\n",
              "      <td>17</td>\n",
              "      <td>16</td>\n",
              "      <td>1.0</td>\n",
              "      <td>19</td>\n",
              "    </tr>\n",
              "    <tr>\n",
              "      <th>2</th>\n",
              "      <td>27</td>\n",
              "      <td>1.7</td>\n",
              "      <td>16</td>\n",
              "      <td>16</td>\n",
              "      <td>1.0</td>\n",
              "      <td>19</td>\n",
              "      <td>17</td>\n",
              "      <td>1.2</td>\n",
              "      <td>17</td>\n",
              "    </tr>\n",
              "    <tr>\n",
              "      <th>3</th>\n",
              "      <td>20</td>\n",
              "      <td>1.1</td>\n",
              "      <td>16</td>\n",
              "      <td>9</td>\n",
              "      <td>0.9</td>\n",
              "      <td>9</td>\n",
              "      <td>13</td>\n",
              "      <td>0.8</td>\n",
              "      <td>18</td>\n",
              "    </tr>\n",
              "    <tr>\n",
              "      <th>4</th>\n",
              "      <td>20</td>\n",
              "      <td>1.1</td>\n",
              "      <td>16</td>\n",
              "      <td>14</td>\n",
              "      <td>0.8</td>\n",
              "      <td>17</td>\n",
              "      <td>13</td>\n",
              "      <td>0.8</td>\n",
              "      <td>18</td>\n",
              "    </tr>\n",
              "    <tr>\n",
              "      <th>5</th>\n",
              "      <td>24</td>\n",
              "      <td>1.4</td>\n",
              "      <td>17</td>\n",
              "      <td>13</td>\n",
              "      <td>0.8</td>\n",
              "      <td>17</td>\n",
              "      <td>14</td>\n",
              "      <td>1.0</td>\n",
              "      <td>13</td>\n",
              "    </tr>\n",
              "    <tr>\n",
              "      <th>6</th>\n",
              "      <td>20</td>\n",
              "      <td>1.1</td>\n",
              "      <td>16</td>\n",
              "      <td>12</td>\n",
              "      <td>0.8</td>\n",
              "      <td>15</td>\n",
              "      <td>15</td>\n",
              "      <td>1.1</td>\n",
              "      <td>17</td>\n",
              "    </tr>\n",
              "    <tr>\n",
              "      <th>7</th>\n",
              "      <td>23</td>\n",
              "      <td>1.4</td>\n",
              "      <td>15</td>\n",
              "      <td>14</td>\n",
              "      <td>0.8</td>\n",
              "      <td>17</td>\n",
              "      <td>15</td>\n",
              "      <td>1.1</td>\n",
              "      <td>15</td>\n",
              "    </tr>\n",
              "    <tr>\n",
              "      <th>8</th>\n",
              "      <td>20</td>\n",
              "      <td>1.0</td>\n",
              "      <td>16</td>\n",
              "      <td>14</td>\n",
              "      <td>0.9</td>\n",
              "      <td>15</td>\n",
              "      <td>15</td>\n",
              "      <td>1.1</td>\n",
              "      <td>15</td>\n",
              "    </tr>\n",
              "    <tr>\n",
              "      <th>9</th>\n",
              "      <td>22</td>\n",
              "      <td>1.2</td>\n",
              "      <td>14</td>\n",
              "      <td>13</td>\n",
              "      <td>0.8</td>\n",
              "      <td>17</td>\n",
              "      <td>9</td>\n",
              "      <td>0.8</td>\n",
              "      <td>12</td>\n",
              "    </tr>\n",
              "  </tbody>\n",
              "</table>\n",
              "</div>"
            ],
            "text/plain": [
              "   KgTar  KgNic  KgCO  MnTar  MnNic  MnCO  FLTar  FLNic  FLCO\n",
              "0     20    1.1    16     16    1.1    15      5    0.4     4\n",
              "1     27    1.7    16     13    0.8    17     16    1.0    19\n",
              "2     27    1.7    16     16    1.0    19     17    1.2    17\n",
              "3     20    1.1    16      9    0.9     9     13    0.8    18\n",
              "4     20    1.1    16     14    0.8    17     13    0.8    18\n",
              "5     24    1.4    17     13    0.8    17     14    1.0    13\n",
              "6     20    1.1    16     12    0.8    15     15    1.1    17\n",
              "7     23    1.4    15     14    0.8    17     15    1.1    15\n",
              "8     20    1.0    16     14    0.9    15     15    1.1    15\n",
              "9     22    1.2    14     13    0.8    17      9    0.8    12"
            ]
          },
          "metadata": {},
          "execution_count": 1
        }
      ]
    },
    {
      "cell_type": "code",
      "metadata": {
        "colab": {
          "base_uri": "https://localhost:8080/"
        },
        "id": "5jeFJe52LYZh",
        "outputId": "107429b4-c2bd-40fb-c3d0-2aa9802870b9"
      },
      "source": [
        "# Ex1:\n",
        "import statsmodels.formula.api as smf\n",
        "res = smf.ols('KgNic~KgTar+KgCO',data).fit()\n",
        "print(res.summary())"
      ],
      "execution_count": 2,
      "outputs": [
        {
          "output_type": "stream",
          "name": "stderr",
          "text": [
            "/usr/local/lib/python3.7/dist-packages/statsmodels/tools/_testing.py:19: FutureWarning: pandas.util.testing is deprecated. Use the functions in the public API at pandas.testing instead.\n",
            "  import pandas.util.testing as tm\n"
          ]
        },
        {
          "output_type": "stream",
          "name": "stdout",
          "text": [
            "                            OLS Regression Results                            \n",
            "==============================================================================\n",
            "Dep. Variable:                  KgNic   R-squared:                       0.099\n",
            "Model:                            OLS   Adj. R-squared:                  0.017\n",
            "Method:                 Least Squares   F-statistic:                     1.211\n",
            "Date:                Fri, 29 Oct 2021   Prob (F-statistic):              0.317\n",
            "Time:                        03:52:39   Log-Likelihood:                 2.7726\n",
            "No. Observations:                  25   AIC:                            0.4548\n",
            "Df Residuals:                      22   BIC:                             4.111\n",
            "Df Model:                           2                                         \n",
            "Covariance Type:            nonrobust                                         \n",
            "==============================================================================\n",
            "                 coef    std err          t      P>|t|      [0.025      0.975]\n",
            "------------------------------------------------------------------------------\n",
            "Intercept      1.5937      0.793      2.010      0.057      -0.051       3.238\n",
            "KgTar          0.0231      0.016      1.480      0.153      -0.009       0.055\n",
            "KgCO          -0.0525      0.054     -0.975      0.340      -0.164       0.059\n",
            "==============================================================================\n",
            "Omnibus:                       17.071   Durbin-Watson:                   1.655\n",
            "Prob(Omnibus):                  0.000   Jarque-Bera (JB):               18.215\n",
            "Skew:                           1.721   Prob(JB):                     0.000111\n",
            "Kurtosis:                       5.376   Cond. No.                         456.\n",
            "==============================================================================\n",
            "\n",
            "Warnings:\n",
            "[1] Standard Errors assume that the covariance matrix of the errors is correctly specified.\n"
          ]
        }
      ]
    },
    {
      "cell_type": "markdown",
      "metadata": {
        "id": "csc2k8oHLc4w"
      },
      "source": [
        "Nhận xét:\n",
        "\n",
        "  - Kiểm định giả thuyết hệ số hồi quy:\n",
        "\n",
        "   + Hệ số hồi quy của biến KgTar = 0.0231 với P-value = 0,153 > 0,05. Do P-value > 0.05, điều này có ý nghĩa tác động của biến KgTar lên KgNic không có ý nghĩa thống kê.\n",
        "\n",
        "   + Hệ số hồi quy của biến KgCO = -0.0525 với P-value = 0.340 > 0.05. Do P-value > 0.05 nên, điều này có ý nghĩa tác động của biến KgCO ên KgNic không có ý nghĩa thống kê.\n",
        "\n",
        "  - Kiểm định mô hình (Kiểm định F):\n",
        "\n",
        "   + Giá trị F = 1.211 với P-values = 0.317 > 0.05. Do P-value > 0.05 nên mô hình này cũng không có ý nghĩa thống kê."
      ]
    },
    {
      "cell_type": "code",
      "metadata": {
        "colab": {
          "base_uri": "https://localhost:8080/"
        },
        "id": "-SrwxVL7LplU",
        "outputId": "3376497b-79cd-4539-f82a-aa77e1a6d2e5"
      },
      "source": [
        "#Ex 2:\n",
        "resMn = smf.ols('MnNic~MnTar+MnCO',data).fit()\n",
        "print(resMn.summary())"
      ],
      "execution_count": 3,
      "outputs": [
        {
          "output_type": "stream",
          "name": "stdout",
          "text": [
            "                            OLS Regression Results                            \n",
            "==============================================================================\n",
            "Dep. Variable:                  MnNic   R-squared:                       0.915\n",
            "Model:                            OLS   Adj. R-squared:                  0.908\n",
            "Method:                 Least Squares   F-statistic:                     118.8\n",
            "Date:                Fri, 29 Oct 2021   Prob (F-statistic):           1.62e-12\n",
            "Time:                        03:53:49   Log-Likelihood:                 31.318\n",
            "No. Observations:                  25   AIC:                            -56.64\n",
            "Df Residuals:                      22   BIC:                            -52.98\n",
            "Df Model:                           2                                         \n",
            "Covariance Type:            nonrobust                                         \n",
            "==============================================================================\n",
            "                 coef    std err          t      P>|t|      [0.025      0.975]\n",
            "------------------------------------------------------------------------------\n",
            "Intercept      0.2507      0.057      4.399      0.000       0.133       0.369\n",
            "MnTar          0.1007      0.008     12.503      0.000       0.084       0.117\n",
            "MnCO          -0.0454      0.007     -6.305      0.000      -0.060      -0.030\n",
            "==============================================================================\n",
            "Omnibus:                        3.270   Durbin-Watson:                   2.014\n",
            "Prob(Omnibus):                  0.195   Jarque-Bera (JB):                1.797\n",
            "Skew:                          -0.606   Prob(JB):                        0.407\n",
            "Kurtosis:                       3.508   Cond. No.                         79.3\n",
            "==============================================================================\n",
            "\n",
            "Warnings:\n",
            "[1] Standard Errors assume that the covariance matrix of the errors is correctly specified.\n"
          ]
        }
      ]
    },
    {
      "cell_type": "markdown",
      "metadata": {
        "id": "s2GFDa_eLt9g"
      },
      "source": [
        "***Nhận xét:***\n",
        "\n",
        "  - *Kiểm định giả thuyết của hệ số hổi quy:*\n",
        "    \n",
        "    + Hệ số hồi quy của MnTar = 0,1007 với P-value = 0.000 < 0.05. Điều này có ý nghĩa tác động của biến MnTar lên MnNic có ý nghĩa thống kê.\n",
        "\n",
        "    + Hệ số hồi quy của MnCO = -0,0454 với P-value = 0.000 < 0.05. Điều này có ý nghĩa tác động của biến MnCO lên MnNic có ý nghĩa thống kê.\n",
        "\n",
        "  - *Kiểm định mô hình (Kiểm định F)*:\n",
        "    + Giá trị F =0.015 với P-value = 1.62e-12 < 0.05. Do P-value < 0.05 nên mô hình này có ý nghĩa thống kê"
      ]
    },
    {
      "cell_type": "code",
      "metadata": {
        "id": "0rMqHVBOLyJF"
      },
      "source": [
        "import matplotlib.pyplot as plt\n",
        "from scipy.stats import pearsonr\n",
        "from scipy import stats\n",
        "import statsmodels.formula.api as smf\n",
        "df = pd.read_csv('https://raw.githubusercontent.com/huynhhoc/DataAnalystDeepLearning/main/Data/crabs.txt',sep='\\s+')"
      ],
      "execution_count": 7,
      "outputs": []
    },
    {
      "cell_type": "code",
      "metadata": {
        "colab": {
          "base_uri": "https://localhost:8080/",
          "height": 204
        },
        "id": "Nv75sGduLzyr",
        "outputId": "89e60098-5487-433c-ebad-b91635ff027d"
      },
      "source": [
        "df.head(5)"
      ],
      "execution_count": 8,
      "outputs": [
        {
          "output_type": "execute_result",
          "data": {
            "text/html": [
              "<div>\n",
              "<style scoped>\n",
              "    .dataframe tbody tr th:only-of-type {\n",
              "        vertical-align: middle;\n",
              "    }\n",
              "\n",
              "    .dataframe tbody tr th {\n",
              "        vertical-align: top;\n",
              "    }\n",
              "\n",
              "    .dataframe thead th {\n",
              "        text-align: right;\n",
              "    }\n",
              "</style>\n",
              "<table border=\"1\" class=\"dataframe\">\n",
              "  <thead>\n",
              "    <tr style=\"text-align: right;\">\n",
              "      <th></th>\n",
              "      <th>presz</th>\n",
              "      <th>postsz</th>\n",
              "      <th>inc</th>\n",
              "      <th>year</th>\n",
              "      <th>lf</th>\n",
              "    </tr>\n",
              "  </thead>\n",
              "  <tbody>\n",
              "    <tr>\n",
              "      <th>0</th>\n",
              "      <td>113.6</td>\n",
              "      <td>127.7</td>\n",
              "      <td>14.1</td>\n",
              "      <td>NaN</td>\n",
              "      <td>0</td>\n",
              "    </tr>\n",
              "    <tr>\n",
              "      <th>1</th>\n",
              "      <td>118.1</td>\n",
              "      <td>133.2</td>\n",
              "      <td>15.1</td>\n",
              "      <td>NaN</td>\n",
              "      <td>0</td>\n",
              "    </tr>\n",
              "    <tr>\n",
              "      <th>2</th>\n",
              "      <td>119.9</td>\n",
              "      <td>135.3</td>\n",
              "      <td>15.4</td>\n",
              "      <td>NaN</td>\n",
              "      <td>0</td>\n",
              "    </tr>\n",
              "    <tr>\n",
              "      <th>3</th>\n",
              "      <td>126.2</td>\n",
              "      <td>143.3</td>\n",
              "      <td>17.1</td>\n",
              "      <td>NaN</td>\n",
              "      <td>0</td>\n",
              "    </tr>\n",
              "    <tr>\n",
              "      <th>4</th>\n",
              "      <td>126.7</td>\n",
              "      <td>139.3</td>\n",
              "      <td>12.6</td>\n",
              "      <td>NaN</td>\n",
              "      <td>0</td>\n",
              "    </tr>\n",
              "  </tbody>\n",
              "</table>\n",
              "</div>"
            ],
            "text/plain": [
              "   presz  postsz   inc  year  lf\n",
              "0  113.6   127.7  14.1   NaN   0\n",
              "1  118.1   133.2  15.1   NaN   0\n",
              "2  119.9   135.3  15.4   NaN   0\n",
              "3  126.2   143.3  17.1   NaN   0\n",
              "4  126.7   139.3  12.6   NaN   0"
            ]
          },
          "metadata": {},
          "execution_count": 8
        }
      ]
    },
    {
      "cell_type": "markdown",
      "metadata": {
        "id": "5YcedKZxNAQT"
      },
      "source": [
        "Vẽ đồ thị scatter plot thể hiện mối tương quan giữa postmolt và premolt"
      ]
    },
    {
      "cell_type": "code",
      "metadata": {
        "colab": {
          "base_uri": "https://localhost:8080/",
          "height": 296
        },
        "id": "fJ1QreiENBhN",
        "outputId": "c786e264-e600-4e06-e65b-1b30650a9ebb"
      },
      "source": [
        "plt.plot(df['postsz'],df['presz'],'o')\n",
        "plt.xlabel('Postmolt Size')\n",
        "plt.ylabel('Premolt Size')\n",
        "plt.title('Mối Tương Quan Giữa POSTMOLT & PREMOLT')\n",
        "plt.show()"
      ],
      "execution_count": 9,
      "outputs": [
        {
          "output_type": "display_data",
          "data": {
            "image/png": "[encoded data removed]",
            "text/plain": [
              "<Figure size 432x288 with 1 Axes>"
            ]
          },
          "metadata": {
            "needs_background": "light"
          }
        }
      ]
    },
    {
      "cell_type": "markdown",
      "metadata": {
        "id": "ExMidRa5Oijv"
      },
      "source": [
        "Tính hệ số tương quan giữa postmolt và premolt"
      ]
    },
    {
      "cell_type": "code",
      "metadata": {
        "colab": {
          "base_uri": "https://localhost:8080/"
        },
        "id": "poSB3AmeOjgn",
        "outputId": "adc23520-721f-454a-be87-fca58ae82282"
      },
      "source": [
        "print('Hệ số tương quan giữa Postmolt và Premolt: ',pearsonr(df['postsz'],df['presz']))"
      ],
      "execution_count": 10,
      "outputs": [
        {
          "output_type": "stream",
          "name": "stdout",
          "text": [
            "Hệ số tương quan giữa Postmolt và Premolt:  (0.9903699282533854, 0.0)\n"
          ]
        }
      ]
    },
    {
      "cell_type": "markdown",
      "metadata": {
        "id": "YJ3lCWUJPKsP"
      },
      "source": [
        ""
      ]
    }
  ]
}