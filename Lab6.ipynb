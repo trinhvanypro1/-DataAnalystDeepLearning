{
  "nbformat": 4,
  "nbformat_minor": 0,
  "metadata": {
    "colab": {
      "name": "Lab6.ipynb",
      "provenance": [],
      "authorship_tag": "ABX9TyNYzVunV5arHWkkQ3htQOPF",
      "include_colab_link": true
    },
    "kernelspec": {
      "name": "python3",
      "display_name": "Python 3"
    },
    "language_info": {
      "name": "python"
    }
  },
  "cells": [
    {
      "cell_type": "markdown",
      "metadata": {
        "id": "view-in-github",
        "colab_type": "text"
      },
      "source": [
        "<a href=\"https://colab.research.google.com/github/trinhvanypro1/-DataAnalystDeepLearning/blob/main/Lab6.ipynb\" target=\"_parent\"><img src=\"https://colab.research.google.com/assets/colab-badge.svg\" alt=\"Open In Colab\"/></a>"
      ]
    },
    {
      "cell_type": "markdown",
      "metadata": {
        "id": "XP2c1L2lGa4j"
      },
      "source": [
        "# ***BÀI 1:*** \n",
        "Dữ liệu sử dụng trong lab này là tập dữ liệu về lượng nhựa, nicotine, CO trong\n",
        "thuốc lá cỡ king"
      ]
    },
    {
      "cell_type": "code",
      "metadata": {
        "colab": {
          "base_uri": "https://localhost:8080/",
          "height": 197
        },
        "id": "-tdMvOH7RKHS",
        "outputId": "dd4f2a37-59d8-4f01-de27-01052f4ee2fb"
      },
      "source": [
        "import pandas as pd\n",
        "data = pd.read_csv('https://raw.githubusercontent.com/huynhhoc/DataAnalystDeepLearning/main/Data/04_CIGARET.csv')\n",
        "data.head(10)"
      ],
      "execution_count": 27,
      "outputs": [
        {
          "output_type": "error",
          "ename": "TypeError",
          "evalue": "ignored",
          "traceback": [
            "\u001b[0;31m---------------------------------------------------------------------------\u001b[0m",
            "\u001b[0;31mTypeError\u001b[0m                                 Traceback (most recent call last)",
            "\u001b[0;32m<ipython-input-27-44fe193e985e>\u001b[0m in \u001b[0;36m<module>\u001b[0;34m()\u001b[0m\n\u001b[1;32m      1\u001b[0m \u001b[0;32mimport\u001b[0m \u001b[0mpandas\u001b[0m \u001b[0;32mas\u001b[0m \u001b[0mpd\u001b[0m\u001b[0;34m\u001b[0m\u001b[0;34m\u001b[0m\u001b[0m\n\u001b[0;32m----> 2\u001b[0;31m \u001b[0mdata\u001b[0m \u001b[0;34m=\u001b[0m \u001b[0mpd\u001b[0m\u001b[0;34m.\u001b[0m\u001b[0mread_csv\u001b[0m\u001b[0;34m(\u001b[0m\u001b[0;34m'https://raw.githubusercontent.com/huynhhoc/DataAnalystDeepLearning/main/Data/04_CIGARET.csv'\u001b[0m\u001b[0;34m)\u001b[0m\u001b[0;34m\u001b[0m\u001b[0;34m\u001b[0m\u001b[0m\n\u001b[0m\u001b[1;32m      3\u001b[0m \u001b[0mdata\u001b[0m\u001b[0;34m.\u001b[0m\u001b[0mhead\u001b[0m\u001b[0;34m(\u001b[0m\u001b[0;36m10\u001b[0m\u001b[0;34m)\u001b[0m\u001b[0;34m\u001b[0m\u001b[0;34m\u001b[0m\u001b[0m\n",
            "\u001b[0;31mTypeError\u001b[0m: 'str' object is not callable"
          ]
        }
      ]
    },
    {
      "cell_type": "code",
      "metadata": {
        "colab": {
          "base_uri": "https://localhost:8080/"
        },
        "id": "XNQqx18ydNfl",
        "outputId": "607fc5b8-6e6b-4a03-a29d-34f57c731bf2"
      },
      "source": [
        "# Ex1:\n",
        "import statsmodels.formula.api as smf\n",
        "res = smf.ols('KgNic~KgTar+KgCO',data).fit()\n",
        "print(res.summary())"
      ],
      "execution_count": 28,
      "outputs": [
        {
          "output_type": "stream",
          "name": "stdout",
          "text": [
            "                            OLS Regression Results                            \n",
            "==============================================================================\n",
            "Dep. Variable:                  KgNic   R-squared:                       0.099\n",
            "Model:                            OLS   Adj. R-squared:                  0.017\n",
            "Method:                 Least Squares   F-statistic:                     1.211\n",
            "Date:                Fri, 29 Oct 2021   Prob (F-statistic):              0.317\n",
            "Time:                        03:45:32   Log-Likelihood:                 2.7726\n",
            "No. Observations:                  25   AIC:                            0.4548\n",
            "Df Residuals:                      22   BIC:                             4.111\n",
            "Df Model:                           2                                         \n",
            "Covariance Type:            nonrobust                                         \n",
            "==============================================================================\n",
            "                 coef    std err          t      P>|t|      [0.025      0.975]\n",
            "------------------------------------------------------------------------------\n",
            "Intercept      1.5937      0.793      2.010      0.057      -0.051       3.238\n",
            "KgTar          0.0231      0.016      1.480      0.153      -0.009       0.055\n",
            "KgCO          -0.0525      0.054     -0.975      0.340      -0.164       0.059\n",
            "==============================================================================\n",
            "Omnibus:                       17.071   Durbin-Watson:                   1.655\n",
            "Prob(Omnibus):                  0.000   Jarque-Bera (JB):               18.215\n",
            "Skew:                           1.721   Prob(JB):                     0.000111\n",
            "Kurtosis:                       5.376   Cond. No.                         456.\n",
            "==============================================================================\n",
            "\n",
            "Warnings:\n",
            "[1] Standard Errors assume that the covariance matrix of the errors is correctly specified.\n"
          ]
        }
      ]
    },
    {
      "cell_type": "markdown",
      "metadata": {
        "id": "UzJrTeMiP1Dt"
      },
      "source": [
        "**Nhận xét:**\n",
        "\n",
        "  - *Kiểm định giả thuyết hệ số hồi quy*:\n",
        "    + Hệ số hồi quy của biến KgTar = 0.0231 với P-value = 0,153 > 0,05. Do P-value > 0.05, điều này có ý nghĩa tác động của biến KgTar lên KgNic không có ý nghĩa thống kê.\n",
        "\n",
        "    + Hệ số hồi quy của biến KgCO = -0.0525 với P-value = 0.340 > 0.05. Do P-value > 0.05 nên, điều này có ý nghĩa tác động của biến KgCO ên KgNic không có ý nghĩa thống kê.\n",
        "\n",
        "  - Kiểm định mô hình (Kiểm định F):\n",
        "\n",
        "     + Giá trị F = 1.211 với P-values = 0.317 > 0.05. Do P-value > 0.05 nên mô hình này cũng không có ý nghĩa thống kê."
      ]
    },
    {
      "cell_type": "code",
      "metadata": {
        "id": "Zvt_fdpLAZUq",
        "outputId": "39893a07-12bd-4861-e734-318bb402d5b7",
        "colab": {
          "base_uri": "https://localhost:8080/"
        }
      },
      "source": [
        "#Ex 2:\n",
        "resMn = smf.ols('MnNic~MnTar+MnCO',data).fit()\n",
        "print(resMn.summary())"
      ],
      "execution_count": 29,
      "outputs": [
        {
          "output_type": "stream",
          "name": "stdout",
          "text": [
            "                            OLS Regression Results                            \n",
            "==============================================================================\n",
            "Dep. Variable:                  MnNic   R-squared:                       0.915\n",
            "Model:                            OLS   Adj. R-squared:                  0.908\n",
            "Method:                 Least Squares   F-statistic:                     118.8\n",
            "Date:                Fri, 29 Oct 2021   Prob (F-statistic):           1.62e-12\n",
            "Time:                        03:45:32   Log-Likelihood:                 31.318\n",
            "No. Observations:                  25   AIC:                            -56.64\n",
            "Df Residuals:                      22   BIC:                            -52.98\n",
            "Df Model:                           2                                         \n",
            "Covariance Type:            nonrobust                                         \n",
            "==============================================================================\n",
            "                 coef    std err          t      P>|t|      [0.025      0.975]\n",
            "------------------------------------------------------------------------------\n",
            "Intercept      0.2507      0.057      4.399      0.000       0.133       0.369\n",
            "MnTar          0.1007      0.008     12.503      0.000       0.084       0.117\n",
            "MnCO          -0.0454      0.007     -6.305      0.000      -0.060      -0.030\n",
            "==============================================================================\n",
            "Omnibus:                        3.270   Durbin-Watson:                   2.014\n",
            "Prob(Omnibus):                  0.195   Jarque-Bera (JB):                1.797\n",
            "Skew:                          -0.606   Prob(JB):                        0.407\n",
            "Kurtosis:                       3.508   Cond. No.                         79.3\n",
            "==============================================================================\n",
            "\n",
            "Warnings:\n",
            "[1] Standard Errors assume that the covariance matrix of the errors is correctly specified.\n"
          ]
        }
      ]
    },
    {
      "cell_type": "markdown",
      "metadata": {
        "id": "DauIvqaqDQgR"
      },
      "source": [
        "***Nhận xét:***\n",
        "\n",
        "  - *Kiểm định giả thuyết của hệ số hổi quy:*\n",
        "    \n",
        "    + Hệ số hồi quy của MnTar = 0,1007 với P-value = 0.000 < 0.05. Điều này có ý nghĩa tác động của biến MnTar lên MnNic có ý nghĩa thống kê.\n",
        "\n",
        "    + Hệ số hồi quy của MnCO = -0,0454 với P-value = 0.000 < 0.05. Điều này có ý nghĩa tác động của biến MnCO lên MnNic có ý nghĩa thống kê.\n",
        "\n",
        "  - *Kiểm định mô hình (Kiểm định F)*:\n",
        "    + Giá trị F =0.015 với P-value = 1.62e-12 < 0.05. Do P-value < 0.05 nên mô hình này có ý nghĩa thống kê"
      ]
    },
    {
      "cell_type": "markdown",
      "metadata": {
        "id": "cPg1pUviG4f-"
      },
      "source": [
        "# ***BÀI 2:***\n",
        "Dữ liệu sử dụng trong lab này là dữ liệu về kích thước giáp cua."
      ]
    },
    {
      "cell_type": "code",
      "metadata": {
        "id": "Nfs0O7LNG-_2"
      },
      "source": [
        "import pandas as pd\n",
        "import numpy as np\n"
      ],
      "execution_count": 35,
      "outputs": []
    },
    {
      "cell_type": "code",
      "metadata": {
        "id": "nVd9h3a7HiWA",
        "outputId": "ec522e98-6ea3-4709-a358-f3820330e47c",
        "colab": {
          "base_uri": "https://localhost:8080/",
          "height": 163
        }
      },
      "source": [
        "df = pd.read_csv('https://raw.githubusercontent.com/huynhhoc/DataAnalystDeepLearning/main/Data/crabs.txt',sep='\\s+')"
      ],
      "execution_count": 36,
      "outputs": [
        {
          "output_type": "error",
          "ename": "TypeError",
          "evalue": "ignored",
          "traceback": [
            "\u001b[0;31m---------------------------------------------------------------------------\u001b[0m",
            "\u001b[0;31mTypeError\u001b[0m                                 Traceback (most recent call last)",
            "\u001b[0;32m<ipython-input-36-4c943489ac53>\u001b[0m in \u001b[0;36m<module>\u001b[0;34m()\u001b[0m\n\u001b[0;32m----> 1\u001b[0;31m \u001b[0mdf\u001b[0m \u001b[0;34m=\u001b[0m \u001b[0mpd\u001b[0m\u001b[0;34m.\u001b[0m\u001b[0mread_csv\u001b[0m\u001b[0;34m(\u001b[0m\u001b[0;34m'https://raw.githubusercontent.com/huynhhoc/DataAnalystDeepLearning/main/Data/crabs.txt'\u001b[0m\u001b[0;34m,\u001b[0m\u001b[0msep\u001b[0m\u001b[0;34m=\u001b[0m\u001b[0;34m'\\s+'\u001b[0m\u001b[0;34m)\u001b[0m\u001b[0;34m\u001b[0m\u001b[0;34m\u001b[0m\u001b[0m\n\u001b[0m",
            "\u001b[0;31mTypeError\u001b[0m: 'str' object is not callable"
          ]
        }
      ]
    },
    {
      "cell_type": "code",
      "metadata": {
        "id": "sUnKkOjSH31U",
        "outputId": "4b5600ff-b786-423e-bb96-05173986af58",
        "colab": {
          "base_uri": "https://localhost:8080/",
          "height": 163
        }
      },
      "source": [
        "df.head(10)"
      ],
      "execution_count": 34,
      "outputs": [
        {
          "output_type": "error",
          "ename": "AttributeError",
          "evalue": "ignored",
          "traceback": [
            "\u001b[0;31m---------------------------------------------------------------------------\u001b[0m",
            "\u001b[0;31mAttributeError\u001b[0m                            Traceback (most recent call last)",
            "\u001b[0;32m<ipython-input-34-4a676c3d8c05>\u001b[0m in \u001b[0;36m<module>\u001b[0;34m()\u001b[0m\n\u001b[0;32m----> 1\u001b[0;31m \u001b[0mdf\u001b[0m\u001b[0;34m.\u001b[0m\u001b[0mhead\u001b[0m\u001b[0;34m(\u001b[0m\u001b[0;36m10\u001b[0m\u001b[0;34m)\u001b[0m\u001b[0;34m\u001b[0m\u001b[0;34m\u001b[0m\u001b[0m\n\u001b[0m",
            "\u001b[0;31mAttributeError\u001b[0m: 'str' object has no attribute 'head'"
          ]
        }
      ]
    }
  ]
}