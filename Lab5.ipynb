{
  "nbformat": 4,
  "nbformat_minor": 0,
  "metadata": {
    "colab": {
      "name": "Lab5.ipynb",
      "provenance": [],
      "authorship_tag": "ABX9TyP0do9zE81cAF8CPZ1MevkY",
      "include_colab_link": true
    },
    "kernelspec": {
      "name": "python3",
      "display_name": "Python 3"
    },
    "language_info": {
      "name": "python"
    }
  },
  "cells": [
    {
      "cell_type": "markdown",
      "metadata": {
        "id": "view-in-github",
        "colab_type": "text"
      },
      "source": [
        "<a href=\"https://colab.research.google.com/github/trinhvanypro1/-DataAnalystDeepLearning/blob/main/Lab5.ipynb\" target=\"_parent\"><img src=\"https://colab.research.google.com/assets/colab-badge.svg\" alt=\"Open In Colab\"/></a>"
      ]
    },
    {
      "cell_type": "code",
      "metadata": {
        "id": "WTc1jspqe-wN"
      },
      "source": [
        "import pandas as pd\n",
        "import numpy as np\n",
        "babies=pd.read_fwf('https://raw.githubusercontent.com/huynhhoc/DataAnalystDeepLearning/main/Data/babies.txt')"
      ],
      "execution_count": 6,
      "outputs": []
    },
    {
      "cell_type": "code",
      "metadata": {
        "id": "BfMgAzQfHWJx",
        "colab": {
          "base_uri": "https://localhost:8080/",
          "height": 142
        },
        "outputId": "8de96e0a-0766-4952-8f30-df5eb1ff8839"
      },
      "source": [
        "babies.head(3)"
      ],
      "execution_count": 7,
      "outputs": [
        {
          "output_type": "execute_result",
          "data": {
            "text/html": [
              "<div>\n",
              "<style scoped>\n",
              "    .dataframe tbody tr th:only-of-type {\n",
              "        vertical-align: middle;\n",
              "    }\n",
              "\n",
              "    .dataframe tbody tr th {\n",
              "        vertical-align: top;\n",
              "    }\n",
              "\n",
              "    .dataframe thead th {\n",
              "        text-align: right;\n",
              "    }\n",
              "</style>\n",
              "<table border=\"1\" class=\"dataframe\">\n",
              "  <thead>\n",
              "    <tr style=\"text-align: right;\">\n",
              "      <th></th>\n",
              "      <th>bwt</th>\n",
              "      <th>smoke</th>\n",
              "    </tr>\n",
              "  </thead>\n",
              "  <tbody>\n",
              "    <tr>\n",
              "      <th>0</th>\n",
              "      <td>120.0</td>\n",
              "      <td>0.0</td>\n",
              "    </tr>\n",
              "    <tr>\n",
              "      <th>1</th>\n",
              "      <td>113.0</td>\n",
              "      <td>0.0</td>\n",
              "    </tr>\n",
              "    <tr>\n",
              "      <th>2</th>\n",
              "      <td>128.0</td>\n",
              "      <td>1.0</td>\n",
              "    </tr>\n",
              "  </tbody>\n",
              "</table>\n",
              "</div>"
            ],
            "text/plain": [
              "     bwt  smoke\n",
              "0  120.0    0.0\n",
              "1  113.0    0.0\n",
              "2  128.0    1.0"
            ]
          },
          "metadata": {},
          "execution_count": 7
        }
      ]
    },
    {
      "cell_type": "code",
      "metadata": {
        "id": "P1KHyPVyIR1E",
        "outputId": "4bd616ab-1d2b-4518-ded5-cbbe07311908",
        "colab": {
          "base_uri": "https://localhost:8080/"
        }
      },
      "source": [
        "smoke=babies[babies['smoke']==1]\n",
        "Q1 = smoke.quantile(0.25)\n",
        "Q1"
      ],
      "execution_count": 44,
      "outputs": [
        {
          "output_type": "execute_result",
          "data": {
            "text/plain": [
              "bwt      102.0\n",
              "smoke      1.0\n",
              "Name: 0.25, dtype: float64"
            ]
          },
          "metadata": {},
          "execution_count": 44
        }
      ]
    },
    {
      "cell_type": "code",
      "metadata": {
        "id": "Y0x3zU3dKX8T"
      },
      "source": [
        "nosmoke=babies[babies['smoke']==0]"
      ],
      "execution_count": 9,
      "outputs": []
    },
    {
      "cell_type": "code",
      "metadata": {
        "id": "3SBdQRQbKd_P"
      },
      "source": [
        "unknown=babies[babies['smoke']==9]"
      ],
      "execution_count": 10,
      "outputs": []
    },
    {
      "cell_type": "code",
      "metadata": {
        "id": "ywA-Ebr-0apT"
      },
      "source": [
        "def percentile(n):\n",
        "  def percentile_(x):\n",
        "    return np.percentile(x,n)\n",
        "  percentile_.__name__= 'percentile_%s' %n\n",
        "  return percentile_"
      ],
      "execution_count": 11,
      "outputs": []
    },
    {
      "cell_type": "code",
      "metadata": {
        "id": "xkwP80t49mwB"
      },
      "source": [
        "def IQR(x):\n",
        "  return np.subtract(*np.percentile(x, [75, 25]))"
      ],
      "execution_count": 52,
      "outputs": []
    },
    {
      "cell_type": "code",
      "metadata": {
        "id": "gqMThglqEU_Z"
      },
      "source": [
        "def Kurtosis(x):\n",
        "  return np.kurtosis(x)"
      ],
      "execution_count": 63,
      "outputs": []
    },
    {
      "cell_type": "code",
      "metadata": {
        "id": "jWFSnDPv1Oo5"
      },
      "source": [
        "table_smoke=babies[babies.smoke.isin(['0','1','9'])].groupby(['smoke']).agg({'count','var','min','max','mean','std','median',percentile(0),percentile(25),percentile(50),percentile(75),IQR,'skew'})"
      ],
      "execution_count": 67,
      "outputs": []
    },
    {
      "cell_type": "code",
      "metadata": {
        "id": "-INne4L_54ik",
        "outputId": "ec71c14c-1d66-4334-a6a1-bf5cebded062",
        "colab": {
          "base_uri": "https://localhost:8080/",
          "height": 204
        }
      },
      "source": [
        "table_smoke"
      ],
      "execution_count": 68,
      "outputs": [
        {
          "output_type": "execute_result",
          "data": {
            "text/html": [
              "<div>\n",
              "<style scoped>\n",
              "    .dataframe tbody tr th:only-of-type {\n",
              "        vertical-align: middle;\n",
              "    }\n",
              "\n",
              "    .dataframe tbody tr th {\n",
              "        vertical-align: top;\n",
              "    }\n",
              "\n",
              "    .dataframe thead tr th {\n",
              "        text-align: left;\n",
              "    }\n",
              "\n",
              "    .dataframe thead tr:last-of-type th {\n",
              "        text-align: right;\n",
              "    }\n",
              "</style>\n",
              "<table border=\"1\" class=\"dataframe\">\n",
              "  <thead>\n",
              "    <tr>\n",
              "      <th></th>\n",
              "      <th colspan=\"13\" halign=\"left\">bwt</th>\n",
              "    </tr>\n",
              "    <tr>\n",
              "      <th></th>\n",
              "      <th>max</th>\n",
              "      <th>percentile_50</th>\n",
              "      <th>var</th>\n",
              "      <th>IQR</th>\n",
              "      <th>median</th>\n",
              "      <th>percentile_0</th>\n",
              "      <th>skew</th>\n",
              "      <th>std</th>\n",
              "      <th>count</th>\n",
              "      <th>percentile_25</th>\n",
              "      <th>percentile_75</th>\n",
              "      <th>mean</th>\n",
              "      <th>min</th>\n",
              "    </tr>\n",
              "    <tr>\n",
              "      <th>smoke</th>\n",
              "      <th></th>\n",
              "      <th></th>\n",
              "      <th></th>\n",
              "      <th></th>\n",
              "      <th></th>\n",
              "      <th></th>\n",
              "      <th></th>\n",
              "      <th></th>\n",
              "      <th></th>\n",
              "      <th></th>\n",
              "      <th></th>\n",
              "      <th></th>\n",
              "      <th></th>\n",
              "    </tr>\n",
              "  </thead>\n",
              "  <tbody>\n",
              "    <tr>\n",
              "      <th>0.0</th>\n",
              "      <td>176.0</td>\n",
              "      <td>123.0</td>\n",
              "      <td>302.714371</td>\n",
              "      <td>21.0</td>\n",
              "      <td>123.0</td>\n",
              "      <td>55.0</td>\n",
              "      <td>-0.187363</td>\n",
              "      <td>17.398689</td>\n",
              "      <td>742</td>\n",
              "      <td>113.00</td>\n",
              "      <td>134.00</td>\n",
              "      <td>123.047170</td>\n",
              "      <td>55.0</td>\n",
              "    </tr>\n",
              "    <tr>\n",
              "      <th>1.0</th>\n",
              "      <td>163.0</td>\n",
              "      <td>115.0</td>\n",
              "      <td>327.571835</td>\n",
              "      <td>24.0</td>\n",
              "      <td>115.0</td>\n",
              "      <td>58.0</td>\n",
              "      <td>-0.033700</td>\n",
              "      <td>18.098946</td>\n",
              "      <td>484</td>\n",
              "      <td>102.00</td>\n",
              "      <td>126.00</td>\n",
              "      <td>114.109504</td>\n",
              "      <td>58.0</td>\n",
              "    </tr>\n",
              "    <tr>\n",
              "      <th>9.0</th>\n",
              "      <td>158.0</td>\n",
              "      <td>128.0</td>\n",
              "      <td>475.788889</td>\n",
              "      <td>32.0</td>\n",
              "      <td>128.0</td>\n",
              "      <td>90.0</td>\n",
              "      <td>-0.199227</td>\n",
              "      <td>21.812586</td>\n",
              "      <td>10</td>\n",
              "      <td>109.75</td>\n",
              "      <td>141.75</td>\n",
              "      <td>126.700000</td>\n",
              "      <td>90.0</td>\n",
              "    </tr>\n",
              "  </tbody>\n",
              "</table>\n",
              "</div>"
            ],
            "text/plain": [
              "         bwt                            ...                                \n",
              "         max percentile_50         var  ... percentile_75        mean   min\n",
              "smoke                                   ...                                \n",
              "0.0    176.0         123.0  302.714371  ...        134.00  123.047170  55.0\n",
              "1.0    163.0         115.0  327.571835  ...        126.00  114.109504  58.0\n",
              "9.0    158.0         128.0  475.788889  ...        141.75  126.700000  90.0\n",
              "\n",
              "[3 rows x 13 columns]"
            ]
          },
          "metadata": {},
          "execution_count": 68
        }
      ]
    }
  ]
}