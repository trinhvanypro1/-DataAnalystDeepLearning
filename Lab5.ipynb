{
  "nbformat": 4,
  "nbformat_minor": 0,
  "metadata": {
    "colab": {
      "name": "Lab5.ipynb",
      "provenance": [],
      "authorship_tag": "ABX9TyNV6ySdotq2FWUGMFwqAJWo",
      "include_colab_link": true
    },
    "kernelspec": {
      "name": "python3",
      "display_name": "Python 3"
    },
    "language_info": {
      "name": "python"
    }
  },
  "cells": [
    {
      "cell_type": "markdown",
      "metadata": {
        "id": "view-in-github",
        "colab_type": "text"
      },
      "source": [
        "<a href=\"https://colab.research.google.com/github/trinhvanypro1/-DataAnalystDeepLearning/blob/main/Lab5.ipynb\" target=\"_parent\"><img src=\"https://colab.research.google.com/assets/colab-badge.svg\" alt=\"Open In Colab\"/></a>"
      ]
    },
    {
      "cell_type": "markdown",
      "metadata": {
        "id": "EchivTLKtrTJ"
      },
      "source": [
        "**Learn**\n",
        "\n",
        "Mean - Mode - Median\n",
        "\n",
        "Mode: là giá trị xuất hiện nhiều nhất trong tập dữ liệu"
      ]
    },
    {
      "cell_type": "code",
      "metadata": {
        "id": "9G2f1POxtn22",
        "colab": {
          "base_uri": "https://localhost:8080/"
        },
        "outputId": "051dceed-6921-4575-b0b2-bed90996cfcc"
      },
      "source": [
        "from scipy import stats\n",
        "speed=[99,86,87,88,111,86,103,87,94,78,77,85,86]\n",
        "mode=stats.mode(speed)\n",
        "mode"
      ],
      "execution_count": 1,
      "outputs": [
        {
          "output_type": "execute_result",
          "data": {
            "text/plain": [
              "ModeResult(mode=array([86]), count=array([3]))"
            ]
          },
          "metadata": {},
          "execution_count": 1
        }
      ]
    },
    {
      "cell_type": "markdown",
      "metadata": {
        "id": "NjoUHXdcuxk6"
      },
      "source": [
        "Median là giá trị nằm giữa, sau khi được sắp xếp các giá trị"
      ]
    },
    {
      "cell_type": "code",
      "metadata": {
        "id": "0yf-IY2AvAiU",
        "colab": {
          "base_uri": "https://localhost:8080/"
        },
        "outputId": "02ecede2-5475-4c85-aa50-396694787c04"
      },
      "source": [
        "import numpy as np\n",
        "speed=[99,86,87,88,111,86,103,87,94,78,77,85,86]\n",
        "np.median(speed)"
      ],
      "execution_count": 2,
      "outputs": [
        {
          "output_type": "execute_result",
          "data": {
            "text/plain": [
              "87.0"
            ]
          },
          "metadata": {},
          "execution_count": 2
        }
      ]
    },
    {
      "cell_type": "markdown",
      "metadata": {
        "id": "1Fh9rIgrvPCR"
      },
      "source": [
        "Mean là giá trị trung  bình"
      ]
    },
    {
      "cell_type": "code",
      "metadata": {
        "id": "b7hqFxfkvW0n",
        "colab": {
          "base_uri": "https://localhost:8080/"
        },
        "outputId": "5d4fb324-0fd2-44c5-ca73-874432d71d50"
      },
      "source": [
        "speed=[99,86,87,88,111,86,103,87,94,78,77,85,86]\n",
        "np.mean(speed)"
      ],
      "execution_count": 3,
      "outputs": [
        {
          "output_type": "execute_result",
          "data": {
            "text/plain": [
              "89.76923076923077"
            ]
          },
          "metadata": {},
          "execution_count": 3
        }
      ]
    },
    {
      "cell_type": "markdown",
      "metadata": {
        "id": "An69YZg6vjzk"
      },
      "source": [
        "Dùng đồ thị Histogram, đồ thị boxplot và các độ đo thống kê để khảo sát hình dạng phân phối"
      ]
    },
    {
      "cell_type": "code",
      "metadata": {
        "id": "bUtUiDnkvm_E"
      },
      "source": [
        "import pandas as pd\n",
        "dt_xettuyen=pd.read_csv(\"https://raw.githubusercontent.com/huynhhoc/DataAnalystDeepLearning/main/Data/dulieuxettuyendaihoc.csv\")\n"
      ],
      "execution_count": 4,
      "outputs": []
    },
    {
      "cell_type": "code",
      "metadata": {
        "id": "2KWRB86dvyaS",
        "colab": {
          "base_uri": "https://localhost:8080/",
          "height": 386
        },
        "outputId": "62b1e399-7a94-4329-e474-35e5e4781bd8"
      },
      "source": [
        "import seaborn as sns\n",
        "sns.displot(dt_xettuyen,x='T1',kde=True)"
      ],
      "execution_count": 5,
      "outputs": [
        {
          "output_type": "execute_result",
          "data": {
            "text/plain": [
              "<seaborn.axisgrid.FacetGrid at 0x7efdf00b71d0>"
            ]
          },
          "metadata": {},
          "execution_count": 5
        },
        {
          "output_type": "display_data",
          "data": {
            "image/png": "[encoded data removed]",
            "text/plain": [
              "<Figure size 360x360 with 1 Axes>"
            ]
          },
          "metadata": {
            "needs_background": "light"
          }
        }
      ]
    },
    {
      "cell_type": "code",
      "metadata": {
        "id": "J9Uog9gawHVa",
        "colab": {
          "base_uri": "https://localhost:8080/",
          "height": 296
        },
        "outputId": "a49f3ebd-43a2-416b-b57b-2e2e329806bc"
      },
      "source": [
        "sns.boxplot(x='T1',data=dt_xettuyen)"
      ],
      "execution_count": 6,
      "outputs": [
        {
          "output_type": "execute_result",
          "data": {
            "text/plain": [
              "<matplotlib.axes._subplots.AxesSubplot at 0x7efdf059d4d0>"
            ]
          },
          "metadata": {},
          "execution_count": 6
        },
        {
          "output_type": "display_data",
          "data": {
            "image/png": "[encoded data removed]",
            "text/plain": [
              "<Figure size 432x288 with 1 Axes>"
            ]
          },
          "metadata": {
            "needs_background": "light"
          }
        }
      ]
    },
    {
      "cell_type": "markdown",
      "metadata": {
        "id": "VOX8wyHNzHSe"
      },
      "source": [
        "Dựa vào histogram ta có thể thấy hình dạng phân phối của T1 có dạng xấp xỉ đối xứng, nhưng đồ thị boxplot ta lại thấy phân phối của T1 hơi lệch trái. Ta dùng thêm các đặc trưng số của T1 để có thêm thông tin"
      ]
    },
    {
      "cell_type": "code",
      "metadata": {
        "id": "6Y45dpWZzL_d"
      },
      "source": [
        "mean=dt_xettuyen['T1'].mean()\n",
        "median=dt_xettuyen['T1'].median()\n",
        "mode=dt_xettuyen['T1'].mode()"
      ],
      "execution_count": 7,
      "outputs": []
    },
    {
      "cell_type": "code",
      "metadata": {
        "id": "ewO--H3HzaeH",
        "colab": {
          "base_uri": "https://localhost:8080/"
        },
        "outputId": "22f38a70-de14-4cda-9afa-6775a348aa11"
      },
      "source": [
        "print('Mean = ',mean)\n",
        "print('Median= ',median)\n",
        "print('Mode = ')\n",
        "print(mode)"
      ],
      "execution_count": 8,
      "outputs": [
        {
          "output_type": "stream",
          "name": "stdout",
          "text": [
            "Mean =  5.946000000000001\n",
            "Median=  5.85\n",
            "Mode = \n",
            "0    5.2\n",
            "1    5.3\n",
            "2    7.3\n",
            "dtype: float64\n"
          ]
        }
      ]
    },
    {
      "cell_type": "markdown",
      "metadata": {
        "id": "mS2K6P-50Uve"
      },
      "source": [
        "Kết luận: Ta thấy **Mean > Median** nên hình dáng phân phối của T1 lệch phải."
      ]
    },
    {
      "cell_type": "markdown",
      "metadata": {
        "id": "mTe-p2tL0qmI"
      },
      "source": [
        "***Skewness và Kurtosis***"
      ]
    },
    {
      "cell_type": "code",
      "metadata": {
        "id": "YAo2APMR0uHM",
        "colab": {
          "base_uri": "https://localhost:8080/"
        },
        "outputId": "0a5f7046-a675-48c5-947a-3b306c1a75aa"
      },
      "source": [
        "#tinh skewness:\n",
        "from scipy.stats import skew\n",
        "skew(dt_xettuyen['T1'], bias=False)"
      ],
      "execution_count": 9,
      "outputs": [
        {
          "output_type": "execute_result",
          "data": {
            "text/plain": [
              "-0.17824317486762223"
            ]
          },
          "metadata": {},
          "execution_count": 9
        }
      ]
    },
    {
      "cell_type": "code",
      "metadata": {
        "id": "wR_aG6qc2c6k",
        "colab": {
          "base_uri": "https://localhost:8080/"
        },
        "outputId": "78e180c9-271b-4226-8589-5a69d3712934"
      },
      "source": [
        "#Tinh kurtosis:\n",
        "from scipy.stats import kurtosis\n",
        "kurtosis(dt_xettuyen['T1'],bias=False)"
      ],
      "execution_count": 10,
      "outputs": [
        {
          "output_type": "execute_result",
          "data": {
            "text/plain": [
              "-0.48010360836580546"
            ]
          },
          "metadata": {},
          "execution_count": 10
        }
      ]
    },
    {
      "cell_type": "markdown",
      "metadata": {
        "id": "7deTDy9WnLFr"
      },
      "source": [
        "Phân tích các dữ liệu quan sát được để trả lời câu hỏi: Việc bà mẹ hút thuốc\n",
        "khi mang thai có ảnh hưởng đến cân nặng của trẻ sơ sinh hay không?"
      ]
    },
    {
      "cell_type": "markdown",
      "metadata": {
        "id": "cx9CssbU3Jej"
      },
      "source": [
        "Thêm dữ liệu:"
      ]
    },
    {
      "cell_type": "code",
      "metadata": {
        "id": "WTc1jspqe-wN"
      },
      "source": [
        "import pandas as pd\n",
        "import numpy as np\n",
        "babies=pd.read_fwf('https://raw.githubusercontent.com/huynhhoc/DataAnalystDeepLearning/main/Data/babies.txt')"
      ],
      "execution_count": 11,
      "outputs": []
    },
    {
      "cell_type": "code",
      "metadata": {
        "id": "BfMgAzQfHWJx",
        "colab": {
          "base_uri": "https://localhost:8080/",
          "height": 142
        },
        "outputId": "8ea5e96c-908f-4556-dd9a-ca363c12ec3d"
      },
      "source": [
        "babies.head(3)"
      ],
      "execution_count": 12,
      "outputs": [
        {
          "output_type": "execute_result",
          "data": {
            "text/html": [
              "<div>\n",
              "<style scoped>\n",
              "    .dataframe tbody tr th:only-of-type {\n",
              "        vertical-align: middle;\n",
              "    }\n",
              "\n",
              "    .dataframe tbody tr th {\n",
              "        vertical-align: top;\n",
              "    }\n",
              "\n",
              "    .dataframe thead th {\n",
              "        text-align: right;\n",
              "    }\n",
              "</style>\n",
              "<table border=\"1\" class=\"dataframe\">\n",
              "  <thead>\n",
              "    <tr style=\"text-align: right;\">\n",
              "      <th></th>\n",
              "      <th>bwt</th>\n",
              "      <th>smoke</th>\n",
              "    </tr>\n",
              "  </thead>\n",
              "  <tbody>\n",
              "    <tr>\n",
              "      <th>0</th>\n",
              "      <td>120.0</td>\n",
              "      <td>0.0</td>\n",
              "    </tr>\n",
              "    <tr>\n",
              "      <th>1</th>\n",
              "      <td>113.0</td>\n",
              "      <td>0.0</td>\n",
              "    </tr>\n",
              "    <tr>\n",
              "      <th>2</th>\n",
              "      <td>128.0</td>\n",
              "      <td>1.0</td>\n",
              "    </tr>\n",
              "  </tbody>\n",
              "</table>\n",
              "</div>"
            ],
            "text/plain": [
              "     bwt  smoke\n",
              "0  120.0    0.0\n",
              "1  113.0    0.0\n",
              "2  128.0    1.0"
            ]
          },
          "metadata": {},
          "execution_count": 12
        }
      ]
    },
    {
      "cell_type": "markdown",
      "metadata": {
        "id": "pUwo4hojnhNk"
      },
      "source": [
        "Gán giá trị để vui =)))):"
      ]
    },
    {
      "cell_type": "code",
      "metadata": {
        "id": "P1KHyPVyIR1E"
      },
      "source": [
        "smoke=babies.loc[babies['smoke']==1]"
      ],
      "execution_count": 13,
      "outputs": []
    },
    {
      "cell_type": "code",
      "metadata": {
        "id": "Y0x3zU3dKX8T"
      },
      "source": [
        "nosmoke=babies.loc[babies['smoke']==0]"
      ],
      "execution_count": 14,
      "outputs": []
    },
    {
      "cell_type": "code",
      "metadata": {
        "id": "3SBdQRQbKd_P"
      },
      "source": [
        "unknown=babies.loc[babies['smoke']==9]"
      ],
      "execution_count": 15,
      "outputs": []
    },
    {
      "cell_type": "markdown",
      "metadata": {
        "id": "YNMR1lXynoYy"
      },
      "source": [
        "Tạo hàm tính Q1,Q2,Q3:"
      ]
    },
    {
      "cell_type": "code",
      "metadata": {
        "id": "ywA-Ebr-0apT"
      },
      "source": [
        "def percentile(n):\n",
        "  def percentile_(x):\n",
        "    return np.percentile(x,n)\n",
        "  percentile_.__name__= 'percentile_%s' %n\n",
        "  return percentile_"
      ],
      "execution_count": 16,
      "outputs": []
    },
    {
      "cell_type": "markdown",
      "metadata": {
        "id": "KFk-Iq9mnwAl"
      },
      "source": [
        "Tạo hàm IQR"
      ]
    },
    {
      "cell_type": "code",
      "metadata": {
        "id": "xkwP80t49mwB"
      },
      "source": [
        "def IQR(x):\n",
        "  return np.subtract(*np.percentile(x, [75, 25]))"
      ],
      "execution_count": 17,
      "outputs": []
    },
    {
      "cell_type": "markdown",
      "metadata": {
        "id": "9UV5zucLn2Ha"
      },
      "source": [
        "Thống kê và trình bày dữ liệu:\n",
        "\n",
        "- Tính các đại lượng thống kê cho 3 tập dữ liệu:"
      ]
    },
    {
      "cell_type": "code",
      "metadata": {
        "id": "jWFSnDPv1Oo5"
      },
      "source": [
        "table_statistical=babies[babies.smoke.isin(['0','1','9'])].groupby(['smoke']).agg({'count','var','min','max','mean','std','median',percentile(0),percentile(25),percentile(50),percentile(75),IQR,'skew'}).rename(columns={'bwt':'Statistical'})"
      ],
      "execution_count": 18,
      "outputs": []
    },
    {
      "cell_type": "code",
      "metadata": {
        "id": "-INne4L_54ik",
        "colab": {
          "base_uri": "https://localhost:8080/",
          "height": 204
        },
        "outputId": "7f940841-fd4f-42a2-82ca-2039a2629d72"
      },
      "source": [
        "table_statistical=table_statistical.rename(columns={'median':'Median','var':'Var','mean':'Mean','std':'Std','max':'Max','min':'Min','skew':'Skewness','count':'Count','percentile_0':'Q0','percentile_25':'Q1','percentile_50':'Q2','percentile_75':'Q3'})\n",
        "table_statistical"
      ],
      "execution_count": 19,
      "outputs": [
        {
          "output_type": "execute_result",
          "data": {
            "text/html": [
              "<div>\n",
              "<style scoped>\n",
              "    .dataframe tbody tr th:only-of-type {\n",
              "        vertical-align: middle;\n",
              "    }\n",
              "\n",
              "    .dataframe tbody tr th {\n",
              "        vertical-align: top;\n",
              "    }\n",
              "\n",
              "    .dataframe thead tr th {\n",
              "        text-align: left;\n",
              "    }\n",
              "\n",
              "    .dataframe thead tr:last-of-type th {\n",
              "        text-align: right;\n",
              "    }\n",
              "</style>\n",
              "<table border=\"1\" class=\"dataframe\">\n",
              "  <thead>\n",
              "    <tr>\n",
              "      <th></th>\n",
              "      <th colspan=\"13\" halign=\"left\">Statistical</th>\n",
              "    </tr>\n",
              "    <tr>\n",
              "      <th></th>\n",
              "      <th>Median</th>\n",
              "      <th>IQR</th>\n",
              "      <th>Q2</th>\n",
              "      <th>Q1</th>\n",
              "      <th>Mean</th>\n",
              "      <th>Min</th>\n",
              "      <th>Q3</th>\n",
              "      <th>Var</th>\n",
              "      <th>Max</th>\n",
              "      <th>Std</th>\n",
              "      <th>Q0</th>\n",
              "      <th>Skewness</th>\n",
              "      <th>Count</th>\n",
              "    </tr>\n",
              "    <tr>\n",
              "      <th>smoke</th>\n",
              "      <th></th>\n",
              "      <th></th>\n",
              "      <th></th>\n",
              "      <th></th>\n",
              "      <th></th>\n",
              "      <th></th>\n",
              "      <th></th>\n",
              "      <th></th>\n",
              "      <th></th>\n",
              "      <th></th>\n",
              "      <th></th>\n",
              "      <th></th>\n",
              "      <th></th>\n",
              "    </tr>\n",
              "  </thead>\n",
              "  <tbody>\n",
              "    <tr>\n",
              "      <th>0.0</th>\n",
              "      <td>123.0</td>\n",
              "      <td>21.0</td>\n",
              "      <td>123.0</td>\n",
              "      <td>113.00</td>\n",
              "      <td>123.047170</td>\n",
              "      <td>55.0</td>\n",
              "      <td>134.00</td>\n",
              "      <td>302.714371</td>\n",
              "      <td>176.0</td>\n",
              "      <td>17.398689</td>\n",
              "      <td>55.0</td>\n",
              "      <td>-0.187363</td>\n",
              "      <td>742</td>\n",
              "    </tr>\n",
              "    <tr>\n",
              "      <th>1.0</th>\n",
              "      <td>115.0</td>\n",
              "      <td>24.0</td>\n",
              "      <td>115.0</td>\n",
              "      <td>102.00</td>\n",
              "      <td>114.109504</td>\n",
              "      <td>58.0</td>\n",
              "      <td>126.00</td>\n",
              "      <td>327.571835</td>\n",
              "      <td>163.0</td>\n",
              "      <td>18.098946</td>\n",
              "      <td>58.0</td>\n",
              "      <td>-0.033700</td>\n",
              "      <td>484</td>\n",
              "    </tr>\n",
              "    <tr>\n",
              "      <th>9.0</th>\n",
              "      <td>128.0</td>\n",
              "      <td>32.0</td>\n",
              "      <td>128.0</td>\n",
              "      <td>109.75</td>\n",
              "      <td>126.700000</td>\n",
              "      <td>90.0</td>\n",
              "      <td>141.75</td>\n",
              "      <td>475.788889</td>\n",
              "      <td>158.0</td>\n",
              "      <td>21.812586</td>\n",
              "      <td>90.0</td>\n",
              "      <td>-0.199227</td>\n",
              "      <td>10</td>\n",
              "    </tr>\n",
              "  </tbody>\n",
              "</table>\n",
              "</div>"
            ],
            "text/plain": [
              "      Statistical                       ...                                 \n",
              "           Median   IQR     Q2      Q1  ...        Std    Q0  Skewness Count\n",
              "smoke                                   ...                                 \n",
              "0.0         123.0  21.0  123.0  113.00  ...  17.398689  55.0 -0.187363   742\n",
              "1.0         115.0  24.0  115.0  102.00  ...  18.098946  58.0 -0.033700   484\n",
              "9.0         128.0  32.0  128.0  109.75  ...  21.812586  90.0 -0.199227    10\n",
              "\n",
              "[3 rows x 13 columns]"
            ]
          },
          "metadata": {},
          "execution_count": 19
        }
      ]
    },
    {
      "cell_type": "code",
      "metadata": {
        "id": "lvbPF9CgpFrq"
      },
      "source": [
        "from scipy.stats import kurtosis\n",
        "kur_smoke=kurtosis(smoke, fisher=False)\n",
        "kur_no_smoke=kurtosis(nosmoke, fisher=False)\n",
        "kur_unknown=kurtosis(unknown, fisher=False)"
      ],
      "execution_count": 20,
      "outputs": []
    },
    {
      "cell_type": "code",
      "metadata": {
        "id": "sHf3GzBy5B7N",
        "colab": {
          "base_uri": "https://localhost:8080/"
        },
        "outputId": "07dbe7ba-ed3e-4f0f-b020-b4ca1ef14d7d"
      },
      "source": [
        "kur_smoke"
      ],
      "execution_count": 21,
      "outputs": [
        {
          "output_type": "execute_result",
          "data": {
            "text/plain": [
              "array([2.98803248, 0.        ])"
            ]
          },
          "metadata": {},
          "execution_count": 21
        }
      ]
    },
    {
      "cell_type": "code",
      "metadata": {
        "id": "L1USSMR95Fg8",
        "colab": {
          "base_uri": "https://localhost:8080/"
        },
        "outputId": "0522880e-4806-4b18-f2fb-843057fe6eab"
      },
      "source": [
        "kur_no_smoke"
      ],
      "execution_count": 22,
      "outputs": [
        {
          "output_type": "execute_result",
          "data": {
            "text/plain": [
              "array([4.03706031, 0.        ])"
            ]
          },
          "metadata": {},
          "execution_count": 22
        }
      ]
    },
    {
      "cell_type": "code",
      "metadata": {
        "id": "49GaSezuHAfI",
        "colab": {
          "base_uri": "https://localhost:8080/"
        },
        "outputId": "2f1ae0f6-3903-46d2-a5c8-54f79dc6ad72"
      },
      "source": [
        "kur_unknown"
      ],
      "execution_count": 23,
      "outputs": [
        {
          "output_type": "execute_result",
          "data": {
            "text/plain": [
              "array([1.93273825, 0.        ])"
            ]
          },
          "metadata": {},
          "execution_count": 23
        }
      ]
    },
    {
      "cell_type": "markdown",
      "metadata": {
        "id": "AScXcn2rQ2VA"
      },
      "source": [
        "# ***Nhận xét 1:***\n",
        "\n",
        "TH1: Đối với bà mẹ có hút thuốc:\n",
        "\n",
        "-Vị trí tập trung của dữ liệu nằm ở giá trị: 115\n",
        "\n",
        "-Tính biến động của dữ liệu:\n",
        "\n",
        "  +Phương sai: Var=327.571835\n",
        "\n",
        "  +Độ lệch chuẩn: Std=18.098946\t\n",
        "\n",
        "  +Khoảng giá trị: (Min=58.0 ,Max= 163.0, -> range=105)\n",
        "\n",
        "  +Khoảng các giữa 2 phần tư vị: IQR=Q3-Q1=24\n",
        "\n",
        "Kết luận: Như vậy dữ liệu phân bố gần nhau\n",
        "\n",
        "Hình dạng phân bố của dữ liệu:\n",
        "\n",
        "  +Độ lệch: Skewness=-0.033700\t\n",
        "\n",
        "  +Độ bè nhọn của đỉnh dữ liệu:Kurtosis=2.98803248\n",
        "\n",
        "Kết luận: Như vậy dữ liệu hơi lệch về phía trái, và đỉnh nọn, 2 bên giảm với tốc độ vừa phải\n"
      ]
    },
    {
      "cell_type": "markdown",
      "metadata": {
        "id": "PaBQ2WnI-V4b"
      },
      "source": [
        "# ***Nhận xét 2:***\n",
        "TH1: Đối với bà mẹ không hút thuốc:\n",
        "\n",
        "-Vị trí tập trung của dữ liệu nằm ở giá trị: 123.0-115=8\n",
        "\n",
        "-Tính biến động của dữ liệu:\n",
        "\n",
        "+Phương sai: Var=302.714371\n",
        "\n",
        "+Độ lệch chuẩn: Std=17.398689\n",
        "\n",
        "+Khoảng giá trị: (Min=55.0 ,Max= 176.0, -> range=121)\n",
        "\n",
        "+Khoảng các giữa 2 phần tư vị: IQR=Q3-Q1=21\n",
        "\n",
        "Kết luận: khác biệt không đáng kể\n",
        "\n",
        "Hình dạng phân bổ dữ liệu:\n",
        "  + Độ lệch: Skewness = -0.187363\n",
        "  + Độ bè nhọn của đỉnh dữ liệu: Kurtosis = 4.03706031\n",
        "\n",
        "Kết luận: Trường hợp bà mẹ hút thuốc có phân bố dữ liệu nhọn hơn, đối xứng hơn so với trường hợp không hút thuốc. Cả 2 trường hợp đều hơi lệch về trái."
      ]
    },
    {
      "cell_type": "markdown",
      "metadata": {
        "id": "mha_toS1FjI5"
      },
      "source": [
        "Histogram:"
      ]
    },
    {
      "cell_type": "code",
      "metadata": {
        "id": "7ddfAzXzKiZW",
        "colab": {
          "base_uri": "https://localhost:8080/",
          "height": 386
        },
        "outputId": "4fc79872-9845-4598-af72-78e8db3c8541"
      },
      "source": [
        "sns.displot(babies,x='bwt',col='smoke',kde=True)"
      ],
      "execution_count": 24,
      "outputs": [
        {
          "output_type": "execute_result",
          "data": {
            "text/plain": [
              "<seaborn.axisgrid.FacetGrid at 0x7efde4874550>"
            ]
          },
          "metadata": {},
          "execution_count": 24
        },
        {
          "output_type": "display_data",
          "data": {
            "image/png": "[encoded data removed]",
            "text/plain": [
              "<Figure size 1080x360 with 3 Axes>"
            ]
          },
          "metadata": {
            "needs_background": "light"
          }
        }
      ]
    },
    {
      "cell_type": "markdown",
      "metadata": {
        "id": "ckTzEJDNCAOw"
      },
      "source": [
        "Nhận xét:\n",
        "\n",
        "TH1: Đối với bà mẹ không hút thuốc\n",
        "\n",
        "Vị trí tập trung dữ liệu: (127-130)\n",
        "\n",
        "Tính biến động của dữ liệu: dữ liệu phân bố trong khoảng(50-170)\n",
        "\n",
        "Tính đối xứng của phân bố dữ liệu: dữ liệu bắt đầu từ đỉnh cao nhất sau đó 2 bên giảm dần, dữ liệu bên trái giảm với tốc độ giảm vừa phải hơn so với bên phải"
      ]
    },
    {
      "cell_type": "markdown",
      "metadata": {
        "id": "hLrcp1Y-EM7G"
      },
      "source": [
        "Nhận xét:\n",
        "\n",
        "TH2: Đối với bà mẹ hút thuốc\n",
        "\n",
        "Vị trí tập trung dữ liệu: (110-120)\n",
        "\n",
        "Tính biến động của dữ liệu: dữ liệu phân bố trong khoảng(50-170)\n",
        "\n",
        "Tính đối xứng của phân bố dữ liệu: dữ liệu chỉ có 1 đỉnh. Bắt đầu từ đỉnh, hai bên giảm dần và tốc độ giảm vừa phải."
      ]
    },
    {
      "cell_type": "markdown",
      "metadata": {
        "id": "kFNoOxpMFdMq"
      },
      "source": [
        "BOXPLOT:"
      ]
    },
    {
      "cell_type": "code",
      "metadata": {
        "id": "CelRraDPE4S5",
        "colab": {
          "base_uri": "https://localhost:8080/",
          "height": 296
        },
        "outputId": "06699c7c-5639-428d-c7aa-c39ac10f424c"
      },
      "source": [
        "sns.boxplot(x='bwt', data = smoke)"
      ],
      "execution_count": 25,
      "outputs": [
        {
          "output_type": "execute_result",
          "data": {
            "text/plain": [
              "<matplotlib.axes._subplots.AxesSubplot at 0x7efde45b5750>"
            ]
          },
          "metadata": {},
          "execution_count": 25
        },
        {
          "output_type": "display_data",
          "data": {
            "image/png": "[encoded data removed]",
            "text/plain": [
              "<Figure size 432x288 with 1 Axes>"
            ]
          },
          "metadata": {
            "needs_background": "light"
          }
        }
      ]
    },
    {
      "cell_type": "markdown",
      "metadata": {
        "id": "5tgycG4oFpq3"
      },
      "source": [
        "TH: bà mẹ có hút thuốc\n",
        "\n",
        "Tính biến động của dữ liệu: dữ liệu phân bố tập trung trong khoảng từ (101-107)\n",
        "\n",
        "Giá trị ngoại lệ: có một số giá trị ngoại lệ (lớn hơn 162, nhỏ hơn 66) nhưng không nhiều."
      ]
    },
    {
      "cell_type": "code",
      "metadata": {
        "id": "5f_H5mRkFESS",
        "colab": {
          "base_uri": "https://localhost:8080/",
          "height": 296
        },
        "outputId": "f29a8b6f-dc5f-40ba-8c71-1f718e7dcb05"
      },
      "source": [
        "sns.boxplot(x='bwt', data = nosmoke)"
      ],
      "execution_count": 26,
      "outputs": [
        {
          "output_type": "execute_result",
          "data": {
            "text/plain": [
              "<matplotlib.axes._subplots.AxesSubplot at 0x7efde457a050>"
            ]
          },
          "metadata": {},
          "execution_count": 26
        },
        {
          "output_type": "display_data",
          "data": {
            "image/png": "[encoded data removed]",
            "text/plain": [
              "<Figure size 432x288 with 1 Axes>"
            ]
          },
          "metadata": {
            "needs_background": "light"
          }
        }
      ]
    },
    {
      "cell_type": "markdown",
      "metadata": {
        "id": "T1Q18hI8F6M1"
      },
      "source": [
        "TH: Bà mẹ không hút thuốc\n",
        "\n",
        "Tính biến động của dữ liệu: dữ liệu phân bố tập trung trong khoảng từ (113-136)\n",
        "\n",
        "Giá trị ngoại lệ: có một số giá trị ngoại lệ (lớn hơn 164, nhỏ hơn 83) cũng hơi nhiều."
      ]
    },
    {
      "cell_type": "code",
      "metadata": {
        "id": "oiMUJRMIGk7f",
        "colab": {
          "base_uri": "https://localhost:8080/",
          "height": 296
        },
        "outputId": "39decd40-4615-4ce0-c52c-ba40501fabf8"
      },
      "source": [
        "sns.boxplot(x='bwt',data=unknown)"
      ],
      "execution_count": 27,
      "outputs": [
        {
          "output_type": "execute_result",
          "data": {
            "text/plain": [
              "<matplotlib.axes._subplots.AxesSubplot at 0x7efde486d5d0>"
            ]
          },
          "metadata": {},
          "execution_count": 27
        },
        {
          "output_type": "display_data",
          "data": {
            "image/png": "[encoded data removed]",
            "text/plain": [
              "<Figure size 432x288 with 1 Axes>"
            ]
          },
          "metadata": {
            "needs_background": "light"
          }
        }
      ]
    },
    {
      "cell_type": "markdown",
      "metadata": {
        "id": "l2HN5wWcGxMe"
      },
      "source": [
        "TH: không biết bà mẹ có hút thuốc hay không\n",
        "\n",
        "Tính biến động của dữ liệu: dữ liệu phân bố tập trung trong khoảng từ (109-142)\n",
        "\n",
        "Giá trị ngoại lệ: không có giá trị ngoại lệ"
      ]
    },
    {
      "cell_type": "markdown",
      "metadata": {
        "id": "5SnwLziQHZd5"
      },
      "source": [
        "Kết luận chung về boxplot:\n",
        "\n",
        "Khác biệt về vị trí: giá trị trung vị của trường hợp bà mẹ không hút thuốc lớn hơn trường hợp bà mẹ không hút thuốc(123 > 115). (Trong trường hợp smoke=9 là trường hợp không biết bà mẹ có hút thuốc hay không hút, trung vị = 127 lớn hơn so với trung vị ở 2 trường hợp hút thuốc và không hút thuốc).\n",
        "\n",
        "Giá trị ngoại lệ: Cả 2 trường hợp có hút thuốc và không hút thuốc đều có giá trị ngoại lệ trên và dưới, đối với TH bà mẹ không hút thuốc có giá trị ngoại lệ lớn hơn TH không hút thuốc."
      ]
    },
    {
      "cell_type": "markdown",
      "metadata": {
        "id": "j1AF4rRA6MYG"
      },
      "source": [
        "QQ Plot"
      ]
    },
    {
      "cell_type": "code",
      "metadata": {
        "id": "sL94Xky-EiDS",
        "outputId": "a68bd102-defb-4afa-c730-946b5f44372f",
        "colab": {
          "base_uri": "https://localhost:8080/",
          "height": 279
        }
      },
      "source": [
        "# QQ Plot TH bà mẹ có hút thuốc\n",
        "import matplotlib.pyplot as plt\n",
        "import statsmodels.api as sm\n",
        "sm.qqplot(babies.loc[babies['smoke']==1,'bwt'],line='s')\n",
        "plt.show()"
      ],
      "execution_count": 35,
      "outputs": [
        {
          "output_type": "display_data",
          "data": {
            "image/png": "[encoded data removed]",
            "text/plain": [
              "<Figure size 432x288 with 1 Axes>"
            ]
          },
          "metadata": {
            "needs_background": "light"
          }
        }
      ]
    },
    {
      "cell_type": "code",
      "metadata": {
        "id": "SQR7_6I3LQbc",
        "outputId": "d60e5873-460e-444e-8337-43ff0f7f16e5",
        "colab": {
          "base_uri": "https://localhost:8080/",
          "height": 280
        }
      },
      "source": [
        "#QQ Plot TH bà mẹ không hút thuốc\n",
        "import matplotlib.pyplot as plt\n",
        "import statsmodels.api as sm\n",
        "sm.qqplot(babies.loc[babies['smoke']==0,'bwt'],line='s')\n",
        "plt.show()"
      ],
      "execution_count": 36,
      "outputs": [
        {
          "output_type": "display_data",
          "data": {
            "image/png": "[encoded data removed]",
            "text/plain": [
              "<Figure size 432x288 with 1 Axes>"
            ]
          },
          "metadata": {
            "needs_background": "light"
          }
        }
      ]
    }
  ]
}