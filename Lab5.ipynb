{
  "nbformat": 4,
  "nbformat_minor": 0,
  "metadata": {
    "colab": {
      "name": "Lab5.ipynb",
      "provenance": [],
      "authorship_tag": "ABX9TyOF66V5iJx4dB9xsMnx+IMw",
      "include_colab_link": true
    },
    "kernelspec": {
      "name": "python3",
      "display_name": "Python 3"
    },
    "language_info": {
      "name": "python"
    }
  },
  "cells": [
    {
      "cell_type": "markdown",
      "metadata": {
        "id": "view-in-github",
        "colab_type": "text"
      },
      "source": [
        "<a href=\"https://colab.research.google.com/github/trinhvanypro1/-DataAnalystDeepLearning/blob/main/Lab5.ipynb\" target=\"_parent\"><img src=\"https://colab.research.google.com/assets/colab-badge.svg\" alt=\"Open In Colab\"/></a>"
      ]
    },
    {
      "cell_type": "markdown",
      "metadata": {
        "id": "EchivTLKtrTJ"
      },
      "source": [
        "**Learn**\n",
        "\n",
        "Mean - Mode - Median\n",
        "\n",
        "Mode: là giá trị xuất hiện nhiều nhất trong tập dữ liệu"
      ]
    },
    {
      "cell_type": "code",
      "metadata": {
        "id": "9G2f1POxtn22",
        "outputId": "954c7034-00cf-4013-872a-492f872a71cc",
        "colab": {
          "base_uri": "https://localhost:8080/"
        }
      },
      "source": [
        "from scipy import stats\n",
        "speed=[99,86,87,88,111,86,103,87,94,78,77,85,86]\n",
        "mode=stats.mode(speed)\n",
        "mode"
      ],
      "execution_count": 103,
      "outputs": [
        {
          "output_type": "execute_result",
          "data": {
            "text/plain": [
              "ModeResult(mode=array([86]), count=array([3]))"
            ]
          },
          "metadata": {},
          "execution_count": 103
        }
      ]
    },
    {
      "cell_type": "markdown",
      "metadata": {
        "id": "NjoUHXdcuxk6"
      },
      "source": [
        "Median là giá trị nằm giữa, sau khi được sắp xếp các giá trị"
      ]
    },
    {
      "cell_type": "code",
      "metadata": {
        "id": "0yf-IY2AvAiU",
        "outputId": "111d3b27-7454-4bf0-ac12-65920612d495",
        "colab": {
          "base_uri": "https://localhost:8080/"
        }
      },
      "source": [
        "import numpy as np\n",
        "speed=[99,86,87,88,111,86,103,87,94,78,77,85,86]\n",
        "np.median(speed)"
      ],
      "execution_count": 104,
      "outputs": [
        {
          "output_type": "execute_result",
          "data": {
            "text/plain": [
              "87.0"
            ]
          },
          "metadata": {},
          "execution_count": 104
        }
      ]
    },
    {
      "cell_type": "markdown",
      "metadata": {
        "id": "1Fh9rIgrvPCR"
      },
      "source": [
        "Mean là giá trị trung  bình"
      ]
    },
    {
      "cell_type": "code",
      "metadata": {
        "id": "b7hqFxfkvW0n",
        "outputId": "e78ef6ab-dddb-4edb-8d08-6017a0db0aec",
        "colab": {
          "base_uri": "https://localhost:8080/"
        }
      },
      "source": [
        "speed=[99,86,87,88,111,86,103,87,94,78,77,85,86]\n",
        "np.mean(speed)"
      ],
      "execution_count": 105,
      "outputs": [
        {
          "output_type": "execute_result",
          "data": {
            "text/plain": [
              "89.76923076923077"
            ]
          },
          "metadata": {},
          "execution_count": 105
        }
      ]
    },
    {
      "cell_type": "markdown",
      "metadata": {
        "id": "An69YZg6vjzk"
      },
      "source": [
        "Dùng đồ thị Histogram, đồ thị boxplot và các độ đo thống kê để khảo sát hình dạng phân phối"
      ]
    },
    {
      "cell_type": "code",
      "metadata": {
        "id": "bUtUiDnkvm_E"
      },
      "source": [
        "import pandas as np\n",
        "dt_xettuyen=pd.read_csv(\"https://raw.githubusercontent.com/huynhhoc/DataAnalystDeepLearning/main/Data/dulieuxettuyendaihoc.csv\")\n"
      ],
      "execution_count": 106,
      "outputs": []
    },
    {
      "cell_type": "code",
      "metadata": {
        "id": "2KWRB86dvyaS",
        "outputId": "c7b55933-bd80-491a-a6d6-04cacfe0d293",
        "colab": {
          "base_uri": "https://localhost:8080/",
          "height": 386
        }
      },
      "source": [
        "import seaborn as sns\n",
        "sns.displot(dt_xettuyen,x='T1',kde=True)"
      ],
      "execution_count": 107,
      "outputs": [
        {
          "output_type": "execute_result",
          "data": {
            "text/plain": [
              "<seaborn.axisgrid.FacetGrid at 0x7f8e4131a450>"
            ]
          },
          "metadata": {},
          "execution_count": 107
        },
        {
          "output_type": "display_data",
          "data": {
            "image/png": "[encoded data removed]",
            "text/plain": [
              "<Figure size 360x360 with 1 Axes>"
            ]
          },
          "metadata": {
            "needs_background": "light"
          }
        }
      ]
    },
    {
      "cell_type": "code",
      "metadata": {
        "id": "J9Uog9gawHVa",
        "outputId": "82df7173-3e27-40e1-ac7f-cd6d9adc83ad",
        "colab": {
          "base_uri": "https://localhost:8080/",
          "height": 296
        }
      },
      "source": [
        "sns.boxplot(x='T1',data=dt_xettuyen)"
      ],
      "execution_count": 108,
      "outputs": [
        {
          "output_type": "execute_result",
          "data": {
            "text/plain": [
              "<matplotlib.axes._subplots.AxesSubplot at 0x7f8e41510110>"
            ]
          },
          "metadata": {},
          "execution_count": 108
        },
        {
          "output_type": "display_data",
          "data": {
            "image/png": "[encoded data removed]",
            "text/plain": [
              "<Figure size 432x288 with 1 Axes>"
            ]
          },
          "metadata": {
            "needs_background": "light"
          }
        }
      ]
    },
    {
      "cell_type": "markdown",
      "metadata": {
        "id": "VOX8wyHNzHSe"
      },
      "source": [
        "Dựa vào histogram ta có thể thấy hình dạng phân phối của T1 có dạng xấp xỉ đối xứng, nhưng đồ thị boxplot ta lại thấy phân phối của T1 hơi lệch trái. Ta dùng thêm các đặc trưng số của T1 để có thêm thông tin"
      ]
    },
    {
      "cell_type": "code",
      "metadata": {
        "id": "6Y45dpWZzL_d"
      },
      "source": [
        "mean=dt_xettuyen['T1'].mean()\n",
        "median=dt_xettuyen['T1'].median()\n",
        "mode=dt_xettuyen['T1'].mode()"
      ],
      "execution_count": 109,
      "outputs": []
    },
    {
      "cell_type": "code",
      "metadata": {
        "id": "ewO--H3HzaeH",
        "outputId": "3bbacfc4-b81f-460d-97ed-7e489a07c6ec",
        "colab": {
          "base_uri": "https://localhost:8080/"
        }
      },
      "source": [
        "print('Mean = ',mean)\n",
        "print('Median= ',median)\n",
        "print('Mode = ')\n",
        "print(mode)"
      ],
      "execution_count": 110,
      "outputs": [
        {
          "output_type": "stream",
          "name": "stdout",
          "text": [
            "Mean =  5.946000000000001\n",
            "Median=  5.85\n",
            "Mode = \n",
            "0    5.2\n",
            "1    5.3\n",
            "2    7.3\n",
            "dtype: float64\n"
          ]
        }
      ]
    },
    {
      "cell_type": "markdown",
      "metadata": {
        "id": "mS2K6P-50Uve"
      },
      "source": [
        "Kết luận: Ta thấy **Mean > Median** nên hình dáng phân phối của T1 lệch phải."
      ]
    },
    {
      "cell_type": "markdown",
      "metadata": {
        "id": "mTe-p2tL0qmI"
      },
      "source": [
        "***Skewness và Kurtosis***"
      ]
    },
    {
      "cell_type": "code",
      "metadata": {
        "id": "YAo2APMR0uHM",
        "outputId": "dfb1b879-3a1e-4265-9890-271c45a1f028",
        "colab": {
          "base_uri": "https://localhost:8080/"
        }
      },
      "source": [
        "#tinh skewness:\n",
        "from scipy.stats import skew\n",
        "skew(dt_xettuyen['T1'], bias=False)"
      ],
      "execution_count": 111,
      "outputs": [
        {
          "output_type": "execute_result",
          "data": {
            "text/plain": [
              "-0.17824317486762223"
            ]
          },
          "metadata": {},
          "execution_count": 111
        }
      ]
    },
    {
      "cell_type": "code",
      "metadata": {
        "id": "wR_aG6qc2c6k",
        "outputId": "f99eee26-fcbd-4140-b3a9-861488f7fb44",
        "colab": {
          "base_uri": "https://localhost:8080/"
        }
      },
      "source": [
        "#Tinh kurtosis:\n",
        "from scipy.stats import kurtosis\n",
        "kurtosis(dt_xettuyen['T1'],bias=False)"
      ],
      "execution_count": 112,
      "outputs": [
        {
          "output_type": "execute_result",
          "data": {
            "text/plain": [
              "-0.48010360836580546"
            ]
          },
          "metadata": {},
          "execution_count": 112
        }
      ]
    },
    {
      "cell_type": "markdown",
      "metadata": {
        "id": "7deTDy9WnLFr"
      },
      "source": [
        "Phân tích các dữ liệu quan sát được để trả lời câu hỏi: Việc bà mẹ hút thuốc\n",
        "khi mang thai có ảnh hưởng đến cân nặng của trẻ sơ sinh hay không?"
      ]
    },
    {
      "cell_type": "markdown",
      "metadata": {
        "id": "cx9CssbU3Jej"
      },
      "source": [
        "Thêm dữ liệu:"
      ]
    },
    {
      "cell_type": "code",
      "metadata": {
        "id": "WTc1jspqe-wN"
      },
      "source": [
        "import pandas as pd\n",
        "import numpy as np\n",
        "babies=pd.read_fwf('https://raw.githubusercontent.com/huynhhoc/DataAnalystDeepLearning/main/Data/babies.txt')"
      ],
      "execution_count": 113,
      "outputs": []
    },
    {
      "cell_type": "code",
      "metadata": {
        "id": "BfMgAzQfHWJx",
        "colab": {
          "base_uri": "https://localhost:8080/",
          "height": 142
        },
        "outputId": "53a32780-ebfa-4947-d56d-e19819c2b94c"
      },
      "source": [
        "babies.head(3)"
      ],
      "execution_count": 114,
      "outputs": [
        {
          "output_type": "execute_result",
          "data": {
            "text/html": [
              "<div>\n",
              "<style scoped>\n",
              "    .dataframe tbody tr th:only-of-type {\n",
              "        vertical-align: middle;\n",
              "    }\n",
              "\n",
              "    .dataframe tbody tr th {\n",
              "        vertical-align: top;\n",
              "    }\n",
              "\n",
              "    .dataframe thead th {\n",
              "        text-align: right;\n",
              "    }\n",
              "</style>\n",
              "<table border=\"1\" class=\"dataframe\">\n",
              "  <thead>\n",
              "    <tr style=\"text-align: right;\">\n",
              "      <th></th>\n",
              "      <th>bwt</th>\n",
              "      <th>smoke</th>\n",
              "    </tr>\n",
              "  </thead>\n",
              "  <tbody>\n",
              "    <tr>\n",
              "      <th>0</th>\n",
              "      <td>120.0</td>\n",
              "      <td>0.0</td>\n",
              "    </tr>\n",
              "    <tr>\n",
              "      <th>1</th>\n",
              "      <td>113.0</td>\n",
              "      <td>0.0</td>\n",
              "    </tr>\n",
              "    <tr>\n",
              "      <th>2</th>\n",
              "      <td>128.0</td>\n",
              "      <td>1.0</td>\n",
              "    </tr>\n",
              "  </tbody>\n",
              "</table>\n",
              "</div>"
            ],
            "text/plain": [
              "     bwt  smoke\n",
              "0  120.0    0.0\n",
              "1  113.0    0.0\n",
              "2  128.0    1.0"
            ]
          },
          "metadata": {},
          "execution_count": 114
        }
      ]
    },
    {
      "cell_type": "markdown",
      "metadata": {
        "id": "pUwo4hojnhNk"
      },
      "source": [
        "Gán giá trị để vui =)))):"
      ]
    },
    {
      "cell_type": "code",
      "metadata": {
        "id": "P1KHyPVyIR1E"
      },
      "source": [
        ""
      ],
      "execution_count": 115,
      "outputs": []
    },
    {
      "cell_type": "code",
      "metadata": {
        "id": "Y0x3zU3dKX8T"
      },
      "source": [
        "nosmoke=babies[babies['smoke']==0]"
      ],
      "execution_count": 116,
      "outputs": []
    },
    {
      "cell_type": "code",
      "metadata": {
        "id": "3SBdQRQbKd_P"
      },
      "source": [
        "unknown=babies[babies['smoke']==9]"
      ],
      "execution_count": 117,
      "outputs": []
    },
    {
      "cell_type": "markdown",
      "metadata": {
        "id": "YNMR1lXynoYy"
      },
      "source": [
        "Tạo hàm tính Q1,Q2,Q3:"
      ]
    },
    {
      "cell_type": "code",
      "metadata": {
        "id": "ywA-Ebr-0apT"
      },
      "source": [
        "def percentile(n):\n",
        "  def percentile_(x):\n",
        "    return np.percentile(x,n)\n",
        "  percentile_.__name__= 'percentile_%s' %n\n",
        "  return percentile_"
      ],
      "execution_count": 118,
      "outputs": []
    },
    {
      "cell_type": "markdown",
      "metadata": {
        "id": "KFk-Iq9mnwAl"
      },
      "source": [
        "Tạo hàm IQR"
      ]
    },
    {
      "cell_type": "code",
      "metadata": {
        "id": "xkwP80t49mwB"
      },
      "source": [
        "def IQR(x):\n",
        "  return np.subtract(*np.percentile(x, [75, 25]))"
      ],
      "execution_count": 119,
      "outputs": []
    },
    {
      "cell_type": "markdown",
      "metadata": {
        "id": "9UV5zucLn2Ha"
      },
      "source": [
        "Thống kê và trình bày dữ liệu:\n",
        "\n",
        "- Tính các đại lượng thống kê cho 3 tập dữ liệu:"
      ]
    },
    {
      "cell_type": "code",
      "metadata": {
        "id": "jWFSnDPv1Oo5"
      },
      "source": [
        "table_statistical=babies[babies.smoke.isin(['0','1','9'])].groupby(['smoke']).agg({'count','var','min','max','mean','std','median',percentile(0),percentile(25),percentile(50),percentile(75),IQR,'skew'}).rename(columns={'bwt':'Statistical'})"
      ],
      "execution_count": 120,
      "outputs": []
    },
    {
      "cell_type": "code",
      "metadata": {
        "id": "-INne4L_54ik",
        "colab": {
          "base_uri": "https://localhost:8080/",
          "height": 204
        },
        "outputId": "5f2addb8-dada-44f3-d77d-ecbd219e2f55"
      },
      "source": [
        "table_statistical=table_statistical.rename(columns={'median':'Median','var':'Var','mean':'Mean','std':'Std','max':'Max','min':'Min','skew':'Skewness','count':'Count','percentile_0':'Q0','percentile_25':'Q1','percentile_50':'Q2','percentile_75':'Q3'})\n",
        "table_statistical"
      ],
      "execution_count": 136,
      "outputs": [
        {
          "output_type": "execute_result",
          "data": {
            "text/html": [
              "<div>\n",
              "<style scoped>\n",
              "    .dataframe tbody tr th:only-of-type {\n",
              "        vertical-align: middle;\n",
              "    }\n",
              "\n",
              "    .dataframe tbody tr th {\n",
              "        vertical-align: top;\n",
              "    }\n",
              "\n",
              "    .dataframe thead tr th {\n",
              "        text-align: left;\n",
              "    }\n",
              "\n",
              "    .dataframe thead tr:last-of-type th {\n",
              "        text-align: right;\n",
              "    }\n",
              "</style>\n",
              "<table border=\"1\" class=\"dataframe\">\n",
              "  <thead>\n",
              "    <tr>\n",
              "      <th></th>\n",
              "      <th colspan=\"13\" halign=\"left\">Statistical</th>\n",
              "    </tr>\n",
              "    <tr>\n",
              "      <th></th>\n",
              "      <th>IQR</th>\n",
              "      <th>Median</th>\n",
              "      <th>Q1</th>\n",
              "      <th>Var</th>\n",
              "      <th>Mean</th>\n",
              "      <th>Std</th>\n",
              "      <th>Max</th>\n",
              "      <th>Skewness</th>\n",
              "      <th>Count</th>\n",
              "      <th>Min</th>\n",
              "      <th>Q0</th>\n",
              "      <th>Q2</th>\n",
              "      <th>Q3</th>\n",
              "    </tr>\n",
              "    <tr>\n",
              "      <th>smoke</th>\n",
              "      <th></th>\n",
              "      <th></th>\n",
              "      <th></th>\n",
              "      <th></th>\n",
              "      <th></th>\n",
              "      <th></th>\n",
              "      <th></th>\n",
              "      <th></th>\n",
              "      <th></th>\n",
              "      <th></th>\n",
              "      <th></th>\n",
              "      <th></th>\n",
              "      <th></th>\n",
              "    </tr>\n",
              "  </thead>\n",
              "  <tbody>\n",
              "    <tr>\n",
              "      <th>0.0</th>\n",
              "      <td>21.0</td>\n",
              "      <td>123.0</td>\n",
              "      <td>113.00</td>\n",
              "      <td>302.714371</td>\n",
              "      <td>123.047170</td>\n",
              "      <td>17.398689</td>\n",
              "      <td>176.0</td>\n",
              "      <td>-0.187363</td>\n",
              "      <td>742</td>\n",
              "      <td>55.0</td>\n",
              "      <td>55.0</td>\n",
              "      <td>123.0</td>\n",
              "      <td>134.00</td>\n",
              "    </tr>\n",
              "    <tr>\n",
              "      <th>1.0</th>\n",
              "      <td>24.0</td>\n",
              "      <td>115.0</td>\n",
              "      <td>102.00</td>\n",
              "      <td>327.571835</td>\n",
              "      <td>114.109504</td>\n",
              "      <td>18.098946</td>\n",
              "      <td>163.0</td>\n",
              "      <td>-0.033700</td>\n",
              "      <td>484</td>\n",
              "      <td>58.0</td>\n",
              "      <td>58.0</td>\n",
              "      <td>115.0</td>\n",
              "      <td>126.00</td>\n",
              "    </tr>\n",
              "    <tr>\n",
              "      <th>9.0</th>\n",
              "      <td>32.0</td>\n",
              "      <td>128.0</td>\n",
              "      <td>109.75</td>\n",
              "      <td>475.788889</td>\n",
              "      <td>126.700000</td>\n",
              "      <td>21.812586</td>\n",
              "      <td>158.0</td>\n",
              "      <td>-0.199227</td>\n",
              "      <td>10</td>\n",
              "      <td>90.0</td>\n",
              "      <td>90.0</td>\n",
              "      <td>128.0</td>\n",
              "      <td>141.75</td>\n",
              "    </tr>\n",
              "  </tbody>\n",
              "</table>\n",
              "</div>"
            ],
            "text/plain": [
              "      Statistical                             ...                           \n",
              "              IQR Median      Q1         Var  ...   Min    Q0     Q2      Q3\n",
              "smoke                                         ...                           \n",
              "0.0          21.0  123.0  113.00  302.714371  ...  55.0  55.0  123.0  134.00\n",
              "1.0          24.0  115.0  102.00  327.571835  ...  58.0  58.0  115.0  126.00\n",
              "9.0          32.0  128.0  109.75  475.788889  ...  90.0  90.0  128.0  141.75\n",
              "\n",
              "[3 rows x 13 columns]"
            ]
          },
          "metadata": {},
          "execution_count": 136
        }
      ]
    },
    {
      "cell_type": "code",
      "metadata": {
        "id": "lvbPF9CgpFrq"
      },
      "source": [
        "from scipy.stats import kurtosis\n",
        "kur_smoke=kurtosis(smoke, fisher=False)\n",
        "kur_no_smoke=kurtosis(nosmoke, fisher=False)\n",
        "kur_unknown=kurtosis(unknown, fisher=False)"
      ],
      "execution_count": 139,
      "outputs": []
    },
    {
      "cell_type": "code",
      "metadata": {
        "id": "sHf3GzBy5B7N",
        "outputId": "6c7e6881-e920-4c1e-c474-5419e6e4298b",
        "colab": {
          "base_uri": "https://localhost:8080/"
        }
      },
      "source": [
        "kur_smoke"
      ],
      "execution_count": 138,
      "outputs": [
        {
          "output_type": "execute_result",
          "data": {
            "text/plain": [
              "array([3.00040781, 0.        ])"
            ]
          },
          "metadata": {},
          "execution_count": 138
        }
      ]
    },
    {
      "cell_type": "code",
      "metadata": {
        "id": "L1USSMR95Fg8",
        "outputId": "ea51a010-c1c7-45fc-ae19-b053a174ea2a",
        "colab": {
          "base_uri": "https://localhost:8080/"
        }
      },
      "source": [
        "kur_no_smoke"
      ],
      "execution_count": 125,
      "outputs": [
        {
          "output_type": "execute_result",
          "data": {
            "text/plain": [
              "array([4.03706031, 0.        ])"
            ]
          },
          "metadata": {},
          "execution_count": 125
        }
      ]
    },
    {
      "cell_type": "code",
      "metadata": {
        "id": "49GaSezuHAfI",
        "outputId": "aefe63f7-8099-496a-d915-bf0e0aa1e2dc",
        "colab": {
          "base_uri": "https://localhost:8080/"
        }
      },
      "source": [
        "kur_unknown"
      ],
      "execution_count": 134,
      "outputs": [
        {
          "output_type": "execute_result",
          "data": {
            "text/plain": [
              "array([1.93273825, 0.        ])"
            ]
          },
          "metadata": {},
          "execution_count": 134
        }
      ]
    },
    {
      "cell_type": "code",
      "metadata": {
        "id": "-IHrhwUFJ7DZ"
      },
      "source": [
        "smoke=babies.loc[babies['smoke']==1]"
      ],
      "execution_count": 147,
      "outputs": []
    },
    {
      "cell_type": "markdown",
      "metadata": {
        "id": "AScXcn2rQ2VA"
      },
      "source": [
        "Nhận xét:\n",
        "\n",
        "TH1: Đối với bà mẹ có hút thuốc:\n",
        "\n",
        "-Vị trí tập trung của dữ liệu nằm ở giá trị: 115\n",
        "\n",
        "-Tính biến động của dữ liệu:\n",
        "\n",
        "  +Phương sai: Var=327.571835\n",
        "\n",
        "  +Độ lệch chuẩn: Std=\n",
        "\n",
        "  +Khoảng giá trị: (Min= ,Max= , -> range=)\n",
        "\n",
        "  +Khoảng các giữa 2 phần tư vị: IQR=Q3-Q1=\n",
        "\n",
        "Kết luận: Như vậy dữ liệu phân bố gần nhau\n",
        "\n",
        "Hình dạng dữ\n",
        "\n"
      ]
    },
    {
      "cell_type": "code",
      "metadata": {
        "id": "7ddfAzXzKiZW",
        "outputId": "01614e22-3bb9-457b-e770-7a74d2121dc0",
        "colab": {
          "base_uri": "https://localhost:8080/",
          "height": 386
        }
      },
      "source": [
        "sns.displot(babies,x='bwt',col='smoke',kde=True)"
      ],
      "execution_count": 156,
      "outputs": [
        {
          "output_type": "execute_result",
          "data": {
            "text/plain": [
              "<seaborn.axisgrid.FacetGrid at 0x7f8e40bed890>"
            ]
          },
          "metadata": {},
          "execution_count": 156
        },
        {
          "output_type": "display_data",
          "data": {
            "image/png": "[encoded data removed]",
            "text/plain": [
              "<Figure size 1080x360 with 3 Axes>"
            ]
          },
          "metadata": {
            "needs_background": "light"
          }
        }
      ]
    }
  ]
}