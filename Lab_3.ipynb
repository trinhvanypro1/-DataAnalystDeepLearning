{
  "nbformat": 4,
  "nbformat_minor": 0,
  "metadata": {
    "colab": {
      "name": "Lab_3.ipynb",
      "provenance": [],
      "authorship_tag": "ABX9TyOk6toHiqsiE9S+R1AmrzXF",
      "include_colab_link": true
    },
    "kernelspec": {
      "name": "python3",
      "display_name": "Python 3"
    },
    "language_info": {
      "name": "python"
    }
  },
  "cells": [
    {
      "cell_type": "markdown",
      "metadata": {
        "id": "view-in-github",
        "colab_type": "text"
      },
      "source": [
        "<a href=\"https://colab.research.google.com/github/trinhvanypro1/-DataAnalystDeepLearning/blob/main/Lab_3.ipynb\" target=\"_parent\"><img src=\"https://colab.research.google.com/assets/colab-badge.svg\" alt=\"Open In Colab\"/></a>"
      ]
    },
    {
      "cell_type": "code",
      "metadata": {
        "colab": {
          "base_uri": "https://localhost:8080/",
          "height": 142
        },
        "id": "j4I76OSMAXu8",
        "outputId": "8f9313c7-ceb4-4651-c410-fbfc70f6a425"
      },
      "source": [
        "import pandas as pd\n",
        "patient_heart_rate=pd.read_csv('https://raw.githubusercontent.com/huynhhoc/DataAnalystDeepLearning/main/Data/patient_heart_rate.csv')\n",
        "patient_heart_rate.head(3)"
      ],
      "execution_count": 2,
      "outputs": [
        {
          "output_type": "execute_result",
          "data": {
            "text/html": [
              "<div>\n",
              "<style scoped>\n",
              "    .dataframe tbody tr th:only-of-type {\n",
              "        vertical-align: middle;\n",
              "    }\n",
              "\n",
              "    .dataframe tbody tr th {\n",
              "        vertical-align: top;\n",
              "    }\n",
              "\n",
              "    .dataframe thead th {\n",
              "        text-align: right;\n",
              "    }\n",
              "</style>\n",
              "<table border=\"1\" class=\"dataframe\">\n",
              "  <thead>\n",
              "    <tr style=\"text-align: right;\">\n",
              "      <th></th>\n",
              "      <th>1</th>\n",
              "      <th>Mickéy Mousé</th>\n",
              "      <th>56</th>\n",
              "      <th>70kgs</th>\n",
              "      <th>72</th>\n",
              "      <th>69</th>\n",
              "      <th>71</th>\n",
              "      <th>-</th>\n",
              "      <th>-.1</th>\n",
              "      <th>-.2</th>\n",
              "    </tr>\n",
              "  </thead>\n",
              "  <tbody>\n",
              "    <tr>\n",
              "      <th>0</th>\n",
              "      <td>2.0</td>\n",
              "      <td>Donald Duck</td>\n",
              "      <td>34.0</td>\n",
              "      <td>154.89lbs</td>\n",
              "      <td>-</td>\n",
              "      <td>-</td>\n",
              "      <td>-</td>\n",
              "      <td>85</td>\n",
              "      <td>84</td>\n",
              "      <td>76</td>\n",
              "    </tr>\n",
              "    <tr>\n",
              "      <th>1</th>\n",
              "      <td>3.0</td>\n",
              "      <td>Mini Mouse</td>\n",
              "      <td>16.0</td>\n",
              "      <td>NaN</td>\n",
              "      <td>-</td>\n",
              "      <td>-</td>\n",
              "      <td>-</td>\n",
              "      <td>65</td>\n",
              "      <td>69</td>\n",
              "      <td>72</td>\n",
              "    </tr>\n",
              "    <tr>\n",
              "      <th>2</th>\n",
              "      <td>4.0</td>\n",
              "      <td>Scrooge McDuck</td>\n",
              "      <td>NaN</td>\n",
              "      <td>78kgs</td>\n",
              "      <td>78</td>\n",
              "      <td>79</td>\n",
              "      <td>72</td>\n",
              "      <td>-</td>\n",
              "      <td>-</td>\n",
              "      <td>-</td>\n",
              "    </tr>\n",
              "  </tbody>\n",
              "</table>\n",
              "</div>"
            ],
            "text/plain": [
              "     1    Mickéy Mousé    56      70kgs  72  69  71   - -.1 -.2\n",
              "0  2.0     Donald Duck  34.0  154.89lbs   -   -   -  85  84  76\n",
              "1  3.0      Mini Mouse  16.0        NaN   -   -   -  65  69  72\n",
              "2  4.0  Scrooge McDuck   NaN      78kgs  78  79  72   -   -   -"
            ]
          },
          "metadata": {},
          "execution_count": 2
        }
      ]
    },
    {
      "cell_type": "markdown",
      "metadata": {
        "id": "DG_i6E_iBFTT"
      },
      "source": [
        "Comment: patient_heart_rate data missing header"
      ]
    },
    {
      "cell_type": "markdown",
      "metadata": {
        "id": "JSLh5ITdBQy_"
      },
      "source": [
        "a. Add columns name for dataframe with information such as: (ID, Name, Age, Weight, m006,m0612,m1218, f006, f0612,f1218)"
      ]
    },
    {
      "cell_type": "code",
      "metadata": {
        "colab": {
          "base_uri": "https://localhost:8080/",
          "height": 204
        },
        "id": "43EqL9uGBs0B",
        "outputId": "8e5e8b52-6463-4146-a5b6-b1eaf43ace19"
      },
      "source": [
        "patient_heart_rate=pd.read_csv('https://raw.githubusercontent.com/huynhhoc/DataAnalystDeepLearning/main/Data/patient_heart_rate.csv', names=['ID','Name','Age','Weight','m006','m0612','m1218','f006','f0612','f1218'])\n",
        "patient_heart_rate.head(5)"
      ],
      "execution_count": 4,
      "outputs": [
        {
          "output_type": "execute_result",
          "data": {
            "text/html": [
              "<div>\n",
              "<style scoped>\n",
              "    .dataframe tbody tr th:only-of-type {\n",
              "        vertical-align: middle;\n",
              "    }\n",
              "\n",
              "    .dataframe tbody tr th {\n",
              "        vertical-align: top;\n",
              "    }\n",
              "\n",
              "    .dataframe thead th {\n",
              "        text-align: right;\n",
              "    }\n",
              "</style>\n",
              "<table border=\"1\" class=\"dataframe\">\n",
              "  <thead>\n",
              "    <tr style=\"text-align: right;\">\n",
              "      <th></th>\n",
              "      <th>ID</th>\n",
              "      <th>Name</th>\n",
              "      <th>Age</th>\n",
              "      <th>Weight</th>\n",
              "      <th>m006</th>\n",
              "      <th>m0612</th>\n",
              "      <th>m1218</th>\n",
              "      <th>f006</th>\n",
              "      <th>f0612</th>\n",
              "      <th>f1218</th>\n",
              "    </tr>\n",
              "  </thead>\n",
              "  <tbody>\n",
              "    <tr>\n",
              "      <th>0</th>\n",
              "      <td>1.0</td>\n",
              "      <td>Mickéy Mousé</td>\n",
              "      <td>56.0</td>\n",
              "      <td>70kgs</td>\n",
              "      <td>72</td>\n",
              "      <td>69</td>\n",
              "      <td>71</td>\n",
              "      <td>-</td>\n",
              "      <td>-</td>\n",
              "      <td>-</td>\n",
              "    </tr>\n",
              "    <tr>\n",
              "      <th>1</th>\n",
              "      <td>2.0</td>\n",
              "      <td>Donald Duck</td>\n",
              "      <td>34.0</td>\n",
              "      <td>154.89lbs</td>\n",
              "      <td>-</td>\n",
              "      <td>-</td>\n",
              "      <td>-</td>\n",
              "      <td>85</td>\n",
              "      <td>84</td>\n",
              "      <td>76</td>\n",
              "    </tr>\n",
              "    <tr>\n",
              "      <th>2</th>\n",
              "      <td>3.0</td>\n",
              "      <td>Mini Mouse</td>\n",
              "      <td>16.0</td>\n",
              "      <td>NaN</td>\n",
              "      <td>-</td>\n",
              "      <td>-</td>\n",
              "      <td>-</td>\n",
              "      <td>65</td>\n",
              "      <td>69</td>\n",
              "      <td>72</td>\n",
              "    </tr>\n",
              "    <tr>\n",
              "      <th>3</th>\n",
              "      <td>4.0</td>\n",
              "      <td>Scrooge McDuck</td>\n",
              "      <td>NaN</td>\n",
              "      <td>78kgs</td>\n",
              "      <td>78</td>\n",
              "      <td>79</td>\n",
              "      <td>72</td>\n",
              "      <td>-</td>\n",
              "      <td>-</td>\n",
              "      <td>-</td>\n",
              "    </tr>\n",
              "    <tr>\n",
              "      <th>4</th>\n",
              "      <td>5.0</td>\n",
              "      <td>Pink Panther</td>\n",
              "      <td>54.0</td>\n",
              "      <td>198.658lbs</td>\n",
              "      <td>-</td>\n",
              "      <td>-</td>\n",
              "      <td>-</td>\n",
              "      <td>69</td>\n",
              "      <td>NaN</td>\n",
              "      <td>75</td>\n",
              "    </tr>\n",
              "  </tbody>\n",
              "</table>\n",
              "</div>"
            ],
            "text/plain": [
              "    ID            Name   Age      Weight m006 m0612 m1218 f006 f0612 f1218\n",
              "0  1.0    Mickéy Mousé  56.0       70kgs   72    69    71    -     -     -\n",
              "1  2.0     Donald Duck  34.0   154.89lbs    -     -     -   85    84    76\n",
              "2  3.0      Mini Mouse  16.0         NaN    -     -     -   65    69    72\n",
              "3  4.0  Scrooge McDuck   NaN       78kgs   78    79    72    -     -     -\n",
              "4  5.0    Pink Panther  54.0  198.658lbs    -     -     -   69   NaN    75"
            ]
          },
          "metadata": {},
          "execution_count": 4
        }
      ]
    },
    {
      "cell_type": "markdown",
      "metadata": {
        "id": "i853ntuXQ9LT"
      },
      "source": [
        "2. Multi-variables in one columns"
      ]
    },
    {
      "cell_type": "code",
      "metadata": {
        "id": "rCS6uDRFQ_AG"
      },
      "source": [
        "patient_heart_rate[['First Name','Last Name']]=patient_heart_rate['Name'].str.split(' ',expand=True)"
      ],
      "execution_count": 6,
      "outputs": []
    },
    {
      "cell_type": "code",
      "metadata": {
        "colab": {
          "base_uri": "https://localhost:8080/",
          "height": 204
        },
        "id": "uXCzf85TT59g",
        "outputId": "cf9d4bc7-e32c-47a8-a856-0da1e16a56aa"
      },
      "source": [
        "patient_heart_rate.head(5)"
      ],
      "execution_count": 7,
      "outputs": [
        {
          "output_type": "execute_result",
          "data": {
            "text/html": [
              "<div>\n",
              "<style scoped>\n",
              "    .dataframe tbody tr th:only-of-type {\n",
              "        vertical-align: middle;\n",
              "    }\n",
              "\n",
              "    .dataframe tbody tr th {\n",
              "        vertical-align: top;\n",
              "    }\n",
              "\n",
              "    .dataframe thead th {\n",
              "        text-align: right;\n",
              "    }\n",
              "</style>\n",
              "<table border=\"1\" class=\"dataframe\">\n",
              "  <thead>\n",
              "    <tr style=\"text-align: right;\">\n",
              "      <th></th>\n",
              "      <th>ID</th>\n",
              "      <th>Name</th>\n",
              "      <th>Age</th>\n",
              "      <th>Weight</th>\n",
              "      <th>m006</th>\n",
              "      <th>m0612</th>\n",
              "      <th>m1218</th>\n",
              "      <th>f006</th>\n",
              "      <th>f0612</th>\n",
              "      <th>f1218</th>\n",
              "      <th>First Name</th>\n",
              "      <th>Last Name</th>\n",
              "    </tr>\n",
              "  </thead>\n",
              "  <tbody>\n",
              "    <tr>\n",
              "      <th>0</th>\n",
              "      <td>1.0</td>\n",
              "      <td>Mickéy Mousé</td>\n",
              "      <td>56.0</td>\n",
              "      <td>70kgs</td>\n",
              "      <td>72</td>\n",
              "      <td>69</td>\n",
              "      <td>71</td>\n",
              "      <td>-</td>\n",
              "      <td>-</td>\n",
              "      <td>-</td>\n",
              "      <td>Mickéy</td>\n",
              "      <td>Mousé</td>\n",
              "    </tr>\n",
              "    <tr>\n",
              "      <th>1</th>\n",
              "      <td>2.0</td>\n",
              "      <td>Donald Duck</td>\n",
              "      <td>34.0</td>\n",
              "      <td>154.89lbs</td>\n",
              "      <td>-</td>\n",
              "      <td>-</td>\n",
              "      <td>-</td>\n",
              "      <td>85</td>\n",
              "      <td>84</td>\n",
              "      <td>76</td>\n",
              "      <td>Donald</td>\n",
              "      <td>Duck</td>\n",
              "    </tr>\n",
              "    <tr>\n",
              "      <th>2</th>\n",
              "      <td>3.0</td>\n",
              "      <td>Mini Mouse</td>\n",
              "      <td>16.0</td>\n",
              "      <td>NaN</td>\n",
              "      <td>-</td>\n",
              "      <td>-</td>\n",
              "      <td>-</td>\n",
              "      <td>65</td>\n",
              "      <td>69</td>\n",
              "      <td>72</td>\n",
              "      <td>Mini</td>\n",
              "      <td>Mouse</td>\n",
              "    </tr>\n",
              "    <tr>\n",
              "      <th>3</th>\n",
              "      <td>4.0</td>\n",
              "      <td>Scrooge McDuck</td>\n",
              "      <td>NaN</td>\n",
              "      <td>78kgs</td>\n",
              "      <td>78</td>\n",
              "      <td>79</td>\n",
              "      <td>72</td>\n",
              "      <td>-</td>\n",
              "      <td>-</td>\n",
              "      <td>-</td>\n",
              "      <td>Scrooge</td>\n",
              "      <td>McDuck</td>\n",
              "    </tr>\n",
              "    <tr>\n",
              "      <th>4</th>\n",
              "      <td>5.0</td>\n",
              "      <td>Pink Panther</td>\n",
              "      <td>54.0</td>\n",
              "      <td>198.658lbs</td>\n",
              "      <td>-</td>\n",
              "      <td>-</td>\n",
              "      <td>-</td>\n",
              "      <td>69</td>\n",
              "      <td>NaN</td>\n",
              "      <td>75</td>\n",
              "      <td>Pink</td>\n",
              "      <td>Panther</td>\n",
              "    </tr>\n",
              "  </tbody>\n",
              "</table>\n",
              "</div>"
            ],
            "text/plain": [
              "    ID            Name   Age      Weight  ... f0612 f1218 First Name Last Name\n",
              "0  1.0    Mickéy Mousé  56.0       70kgs  ...     -     -     Mickéy     Mousé\n",
              "1  2.0     Donald Duck  34.0   154.89lbs  ...    84    76     Donald      Duck\n",
              "2  3.0      Mini Mouse  16.0         NaN  ...    69    72       Mini     Mouse\n",
              "3  4.0  Scrooge McDuck   NaN       78kgs  ...     -     -    Scrooge    McDuck\n",
              "4  5.0    Pink Panther  54.0  198.658lbs  ...   NaN    75       Pink   Panther\n",
              "\n",
              "[5 rows x 12 columns]"
            ]
          },
          "metadata": {},
          "execution_count": 7
        }
      ]
    },
    {
      "cell_type": "code",
      "metadata": {
        "colab": {
          "base_uri": "https://localhost:8080/",
          "height": 142
        },
        "id": "9ko2QQ-QUDJT",
        "outputId": "b6e0c6da-1373-42da-ceb1-e50b1b6f2821"
      },
      "source": [
        "del patient_heart_rate['Name']\n",
        "patient_heart_rate.head(3)"
      ],
      "execution_count": 9,
      "outputs": [
        {
          "output_type": "execute_result",
          "data": {
            "text/html": [
              "<div>\n",
              "<style scoped>\n",
              "    .dataframe tbody tr th:only-of-type {\n",
              "        vertical-align: middle;\n",
              "    }\n",
              "\n",
              "    .dataframe tbody tr th {\n",
              "        vertical-align: top;\n",
              "    }\n",
              "\n",
              "    .dataframe thead th {\n",
              "        text-align: right;\n",
              "    }\n",
              "</style>\n",
              "<table border=\"1\" class=\"dataframe\">\n",
              "  <thead>\n",
              "    <tr style=\"text-align: right;\">\n",
              "      <th></th>\n",
              "      <th>ID</th>\n",
              "      <th>Age</th>\n",
              "      <th>Weight</th>\n",
              "      <th>m006</th>\n",
              "      <th>m0612</th>\n",
              "      <th>m1218</th>\n",
              "      <th>f006</th>\n",
              "      <th>f0612</th>\n",
              "      <th>f1218</th>\n",
              "      <th>First Name</th>\n",
              "      <th>Last Name</th>\n",
              "    </tr>\n",
              "  </thead>\n",
              "  <tbody>\n",
              "    <tr>\n",
              "      <th>0</th>\n",
              "      <td>1.0</td>\n",
              "      <td>56.0</td>\n",
              "      <td>70kgs</td>\n",
              "      <td>72</td>\n",
              "      <td>69</td>\n",
              "      <td>71</td>\n",
              "      <td>-</td>\n",
              "      <td>-</td>\n",
              "      <td>-</td>\n",
              "      <td>Mickéy</td>\n",
              "      <td>Mousé</td>\n",
              "    </tr>\n",
              "    <tr>\n",
              "      <th>1</th>\n",
              "      <td>2.0</td>\n",
              "      <td>34.0</td>\n",
              "      <td>154.89lbs</td>\n",
              "      <td>-</td>\n",
              "      <td>-</td>\n",
              "      <td>-</td>\n",
              "      <td>85</td>\n",
              "      <td>84</td>\n",
              "      <td>76</td>\n",
              "      <td>Donald</td>\n",
              "      <td>Duck</td>\n",
              "    </tr>\n",
              "    <tr>\n",
              "      <th>2</th>\n",
              "      <td>3.0</td>\n",
              "      <td>16.0</td>\n",
              "      <td>NaN</td>\n",
              "      <td>-</td>\n",
              "      <td>-</td>\n",
              "      <td>-</td>\n",
              "      <td>65</td>\n",
              "      <td>69</td>\n",
              "      <td>72</td>\n",
              "      <td>Mini</td>\n",
              "      <td>Mouse</td>\n",
              "    </tr>\n",
              "  </tbody>\n",
              "</table>\n",
              "</div>"
            ],
            "text/plain": [
              "    ID   Age     Weight m006 m0612 m1218 f006 f0612 f1218 First Name Last Name\n",
              "0  1.0  56.0      70kgs   72    69    71    -     -     -     Mickéy     Mousé\n",
              "1  2.0  34.0  154.89lbs    -     -     -   85    84    76     Donald      Duck\n",
              "2  3.0  16.0        NaN    -     -     -   65    69    72       Mini     Mouse"
            ]
          },
          "metadata": {},
          "execution_count": 9
        }
      ]
    }
  ]
}