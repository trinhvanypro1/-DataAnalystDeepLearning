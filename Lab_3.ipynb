{
  "nbformat": 4,
  "nbformat_minor": 0,
  "metadata": {
    "colab": {
      "name": "Lab_3.ipynb",
      "provenance": [],
      "authorship_tag": "ABX9TyPYTaZY3WT4tyFebZhp6qXv",
      "include_colab_link": true
    },
    "kernelspec": {
      "name": "python3",
      "display_name": "Python 3"
    },
    "language_info": {
      "name": "python"
    }
  },
  "cells": [
    {
      "cell_type": "markdown",
      "metadata": {
        "id": "view-in-github",
        "colab_type": "text"
      },
      "source": [
        "<a href=\"https://colab.research.google.com/github/trinhvanypro1/-DataAnalystDeepLearning/blob/main/Lab_3.ipynb\" target=\"_parent\"><img src=\"https://colab.research.google.com/assets/colab-badge.svg\" alt=\"Open In Colab\"/></a>"
      ]
    },
    {
      "cell_type": "code",
      "metadata": {
        "colab": {
          "base_uri": "https://localhost:8080/",
          "height": 142
        },
        "id": "j4I76OSMAXu8",
        "outputId": "b5f62422-e26f-4443-b0a4-33bee8ccaaa0"
      },
      "source": [
        "import pandas as pd\n",
        "patient_heart_rate=pd.read_csv('https://raw.githubusercontent.com/huynhhoc/DataAnalystDeepLearning/main/Data/patient_heart_rate.csv')\n",
        "patient_heart_rate.head(3)"
      ],
      "execution_count": 26,
      "outputs": [
        {
          "output_type": "execute_result",
          "data": {
            "text/html": [
              "<div>\n",
              "<style scoped>\n",
              "    .dataframe tbody tr th:only-of-type {\n",
              "        vertical-align: middle;\n",
              "    }\n",
              "\n",
              "    .dataframe tbody tr th {\n",
              "        vertical-align: top;\n",
              "    }\n",
              "\n",
              "    .dataframe thead th {\n",
              "        text-align: right;\n",
              "    }\n",
              "</style>\n",
              "<table border=\"1\" class=\"dataframe\">\n",
              "  <thead>\n",
              "    <tr style=\"text-align: right;\">\n",
              "      <th></th>\n",
              "      <th>1</th>\n",
              "      <th>Mickéy Mousé</th>\n",
              "      <th>56</th>\n",
              "      <th>70kgs</th>\n",
              "      <th>72</th>\n",
              "      <th>69</th>\n",
              "      <th>71</th>\n",
              "      <th>-</th>\n",
              "      <th>-.1</th>\n",
              "      <th>-.2</th>\n",
              "    </tr>\n",
              "  </thead>\n",
              "  <tbody>\n",
              "    <tr>\n",
              "      <th>0</th>\n",
              "      <td>2.0</td>\n",
              "      <td>Donald Duck</td>\n",
              "      <td>34.0</td>\n",
              "      <td>154.89lbs</td>\n",
              "      <td>-</td>\n",
              "      <td>-</td>\n",
              "      <td>-</td>\n",
              "      <td>85</td>\n",
              "      <td>84</td>\n",
              "      <td>76</td>\n",
              "    </tr>\n",
              "    <tr>\n",
              "      <th>1</th>\n",
              "      <td>3.0</td>\n",
              "      <td>Mini Mouse</td>\n",
              "      <td>16.0</td>\n",
              "      <td>NaN</td>\n",
              "      <td>-</td>\n",
              "      <td>-</td>\n",
              "      <td>-</td>\n",
              "      <td>65</td>\n",
              "      <td>69</td>\n",
              "      <td>72</td>\n",
              "    </tr>\n",
              "    <tr>\n",
              "      <th>2</th>\n",
              "      <td>4.0</td>\n",
              "      <td>Scrooge McDuck</td>\n",
              "      <td>NaN</td>\n",
              "      <td>78kgs</td>\n",
              "      <td>78</td>\n",
              "      <td>79</td>\n",
              "      <td>72</td>\n",
              "      <td>-</td>\n",
              "      <td>-</td>\n",
              "      <td>-</td>\n",
              "    </tr>\n",
              "  </tbody>\n",
              "</table>\n",
              "</div>"
            ],
            "text/plain": [
              "     1    Mickéy Mousé    56      70kgs  72  69  71   - -.1 -.2\n",
              "0  2.0     Donald Duck  34.0  154.89lbs   -   -   -  85  84  76\n",
              "1  3.0      Mini Mouse  16.0        NaN   -   -   -  65  69  72\n",
              "2  4.0  Scrooge McDuck   NaN      78kgs  78  79  72   -   -   -"
            ]
          },
          "metadata": {},
          "execution_count": 26
        }
      ]
    },
    {
      "cell_type": "markdown",
      "metadata": {
        "id": "DG_i6E_iBFTT"
      },
      "source": [
        "Comment: patient_heart_rate data missing header"
      ]
    },
    {
      "cell_type": "markdown",
      "metadata": {
        "id": "JSLh5ITdBQy_"
      },
      "source": [
        "a. Add columns name for dataframe with information such as: (ID, Name, Age, Weight, m006,m0612,m1218, f006, f0612,f1218)"
      ]
    },
    {
      "cell_type": "code",
      "metadata": {
        "colab": {
          "base_uri": "https://localhost:8080/",
          "height": 204
        },
        "id": "43EqL9uGBs0B",
        "outputId": "1c9cfcac-6a9c-4e28-ff15-81af9591b6c4"
      },
      "source": [
        "patient_heart_rate=pd.read_csv('https://raw.githubusercontent.com/huynhhoc/DataAnalystDeepLearning/main/Data/patient_heart_rate.csv', names=['ID','Name','Age','Weight','m006','m0612','m1218','f006','f0612','f1218'])\n",
        "patient_heart_rate.head(5)"
      ],
      "execution_count": 27,
      "outputs": [
        {
          "output_type": "execute_result",
          "data": {
            "text/html": [
              "<div>\n",
              "<style scoped>\n",
              "    .dataframe tbody tr th:only-of-type {\n",
              "        vertical-align: middle;\n",
              "    }\n",
              "\n",
              "    .dataframe tbody tr th {\n",
              "        vertical-align: top;\n",
              "    }\n",
              "\n",
              "    .dataframe thead th {\n",
              "        text-align: right;\n",
              "    }\n",
              "</style>\n",
              "<table border=\"1\" class=\"dataframe\">\n",
              "  <thead>\n",
              "    <tr style=\"text-align: right;\">\n",
              "      <th></th>\n",
              "      <th>ID</th>\n",
              "      <th>Name</th>\n",
              "      <th>Age</th>\n",
              "      <th>Weight</th>\n",
              "      <th>m006</th>\n",
              "      <th>m0612</th>\n",
              "      <th>m1218</th>\n",
              "      <th>f006</th>\n",
              "      <th>f0612</th>\n",
              "      <th>f1218</th>\n",
              "    </tr>\n",
              "  </thead>\n",
              "  <tbody>\n",
              "    <tr>\n",
              "      <th>0</th>\n",
              "      <td>1.0</td>\n",
              "      <td>Mickéy Mousé</td>\n",
              "      <td>56.0</td>\n",
              "      <td>70kgs</td>\n",
              "      <td>72</td>\n",
              "      <td>69</td>\n",
              "      <td>71</td>\n",
              "      <td>-</td>\n",
              "      <td>-</td>\n",
              "      <td>-</td>\n",
              "    </tr>\n",
              "    <tr>\n",
              "      <th>1</th>\n",
              "      <td>2.0</td>\n",
              "      <td>Donald Duck</td>\n",
              "      <td>34.0</td>\n",
              "      <td>154.89lbs</td>\n",
              "      <td>-</td>\n",
              "      <td>-</td>\n",
              "      <td>-</td>\n",
              "      <td>85</td>\n",
              "      <td>84</td>\n",
              "      <td>76</td>\n",
              "    </tr>\n",
              "    <tr>\n",
              "      <th>2</th>\n",
              "      <td>3.0</td>\n",
              "      <td>Mini Mouse</td>\n",
              "      <td>16.0</td>\n",
              "      <td>NaN</td>\n",
              "      <td>-</td>\n",
              "      <td>-</td>\n",
              "      <td>-</td>\n",
              "      <td>65</td>\n",
              "      <td>69</td>\n",
              "      <td>72</td>\n",
              "    </tr>\n",
              "    <tr>\n",
              "      <th>3</th>\n",
              "      <td>4.0</td>\n",
              "      <td>Scrooge McDuck</td>\n",
              "      <td>NaN</td>\n",
              "      <td>78kgs</td>\n",
              "      <td>78</td>\n",
              "      <td>79</td>\n",
              "      <td>72</td>\n",
              "      <td>-</td>\n",
              "      <td>-</td>\n",
              "      <td>-</td>\n",
              "    </tr>\n",
              "    <tr>\n",
              "      <th>4</th>\n",
              "      <td>5.0</td>\n",
              "      <td>Pink Panther</td>\n",
              "      <td>54.0</td>\n",
              "      <td>198.658lbs</td>\n",
              "      <td>-</td>\n",
              "      <td>-</td>\n",
              "      <td>-</td>\n",
              "      <td>69</td>\n",
              "      <td>NaN</td>\n",
              "      <td>75</td>\n",
              "    </tr>\n",
              "  </tbody>\n",
              "</table>\n",
              "</div>"
            ],
            "text/plain": [
              "    ID            Name   Age      Weight m006 m0612 m1218 f006 f0612 f1218\n",
              "0  1.0    Mickéy Mousé  56.0       70kgs   72    69    71    -     -     -\n",
              "1  2.0     Donald Duck  34.0   154.89lbs    -     -     -   85    84    76\n",
              "2  3.0      Mini Mouse  16.0         NaN    -     -     -   65    69    72\n",
              "3  4.0  Scrooge McDuck   NaN       78kgs   78    79    72    -     -     -\n",
              "4  5.0    Pink Panther  54.0  198.658lbs    -     -     -   69   NaN    75"
            ]
          },
          "metadata": {},
          "execution_count": 27
        }
      ]
    },
    {
      "cell_type": "markdown",
      "metadata": {
        "id": "i853ntuXQ9LT"
      },
      "source": [
        "2. Multi-variables in one columns"
      ]
    },
    {
      "cell_type": "code",
      "metadata": {
        "id": "rCS6uDRFQ_AG"
      },
      "source": [
        "patient_heart_rate[['First Name','Last Name']]=patient_heart_rate['Name'].str.split(' ',expand=True)"
      ],
      "execution_count": 28,
      "outputs": []
    },
    {
      "cell_type": "code",
      "metadata": {
        "colab": {
          "base_uri": "https://localhost:8080/",
          "height": 204
        },
        "id": "uXCzf85TT59g",
        "outputId": "8af68a25-cda9-4f2e-8fb7-098e8cd79e59"
      },
      "source": [
        "patient_heart_rate.head(5)"
      ],
      "execution_count": 29,
      "outputs": [
        {
          "output_type": "execute_result",
          "data": {
            "text/html": [
              "<div>\n",
              "<style scoped>\n",
              "    .dataframe tbody tr th:only-of-type {\n",
              "        vertical-align: middle;\n",
              "    }\n",
              "\n",
              "    .dataframe tbody tr th {\n",
              "        vertical-align: top;\n",
              "    }\n",
              "\n",
              "    .dataframe thead th {\n",
              "        text-align: right;\n",
              "    }\n",
              "</style>\n",
              "<table border=\"1\" class=\"dataframe\">\n",
              "  <thead>\n",
              "    <tr style=\"text-align: right;\">\n",
              "      <th></th>\n",
              "      <th>ID</th>\n",
              "      <th>Name</th>\n",
              "      <th>Age</th>\n",
              "      <th>Weight</th>\n",
              "      <th>m006</th>\n",
              "      <th>m0612</th>\n",
              "      <th>m1218</th>\n",
              "      <th>f006</th>\n",
              "      <th>f0612</th>\n",
              "      <th>f1218</th>\n",
              "      <th>First Name</th>\n",
              "      <th>Last Name</th>\n",
              "    </tr>\n",
              "  </thead>\n",
              "  <tbody>\n",
              "    <tr>\n",
              "      <th>0</th>\n",
              "      <td>1.0</td>\n",
              "      <td>Mickéy Mousé</td>\n",
              "      <td>56.0</td>\n",
              "      <td>70kgs</td>\n",
              "      <td>72</td>\n",
              "      <td>69</td>\n",
              "      <td>71</td>\n",
              "      <td>-</td>\n",
              "      <td>-</td>\n",
              "      <td>-</td>\n",
              "      <td>Mickéy</td>\n",
              "      <td>Mousé</td>\n",
              "    </tr>\n",
              "    <tr>\n",
              "      <th>1</th>\n",
              "      <td>2.0</td>\n",
              "      <td>Donald Duck</td>\n",
              "      <td>34.0</td>\n",
              "      <td>154.89lbs</td>\n",
              "      <td>-</td>\n",
              "      <td>-</td>\n",
              "      <td>-</td>\n",
              "      <td>85</td>\n",
              "      <td>84</td>\n",
              "      <td>76</td>\n",
              "      <td>Donald</td>\n",
              "      <td>Duck</td>\n",
              "    </tr>\n",
              "    <tr>\n",
              "      <th>2</th>\n",
              "      <td>3.0</td>\n",
              "      <td>Mini Mouse</td>\n",
              "      <td>16.0</td>\n",
              "      <td>NaN</td>\n",
              "      <td>-</td>\n",
              "      <td>-</td>\n",
              "      <td>-</td>\n",
              "      <td>65</td>\n",
              "      <td>69</td>\n",
              "      <td>72</td>\n",
              "      <td>Mini</td>\n",
              "      <td>Mouse</td>\n",
              "    </tr>\n",
              "    <tr>\n",
              "      <th>3</th>\n",
              "      <td>4.0</td>\n",
              "      <td>Scrooge McDuck</td>\n",
              "      <td>NaN</td>\n",
              "      <td>78kgs</td>\n",
              "      <td>78</td>\n",
              "      <td>79</td>\n",
              "      <td>72</td>\n",
              "      <td>-</td>\n",
              "      <td>-</td>\n",
              "      <td>-</td>\n",
              "      <td>Scrooge</td>\n",
              "      <td>McDuck</td>\n",
              "    </tr>\n",
              "    <tr>\n",
              "      <th>4</th>\n",
              "      <td>5.0</td>\n",
              "      <td>Pink Panther</td>\n",
              "      <td>54.0</td>\n",
              "      <td>198.658lbs</td>\n",
              "      <td>-</td>\n",
              "      <td>-</td>\n",
              "      <td>-</td>\n",
              "      <td>69</td>\n",
              "      <td>NaN</td>\n",
              "      <td>75</td>\n",
              "      <td>Pink</td>\n",
              "      <td>Panther</td>\n",
              "    </tr>\n",
              "  </tbody>\n",
              "</table>\n",
              "</div>"
            ],
            "text/plain": [
              "    ID            Name   Age      Weight  ... f0612 f1218 First Name Last Name\n",
              "0  1.0    Mickéy Mousé  56.0       70kgs  ...     -     -     Mickéy     Mousé\n",
              "1  2.0     Donald Duck  34.0   154.89lbs  ...    84    76     Donald      Duck\n",
              "2  3.0      Mini Mouse  16.0         NaN  ...    69    72       Mini     Mouse\n",
              "3  4.0  Scrooge McDuck   NaN       78kgs  ...     -     -    Scrooge    McDuck\n",
              "4  5.0    Pink Panther  54.0  198.658lbs  ...   NaN    75       Pink   Panther\n",
              "\n",
              "[5 rows x 12 columns]"
            ]
          },
          "metadata": {},
          "execution_count": 29
        }
      ]
    },
    {
      "cell_type": "markdown",
      "metadata": {
        "id": "kvRQ-IAh5Wfu"
      },
      "source": [
        "Delete columns 'Name'"
      ]
    },
    {
      "cell_type": "code",
      "metadata": {
        "colab": {
          "base_uri": "https://localhost:8080/",
          "height": 142
        },
        "id": "9ko2QQ-QUDJT",
        "outputId": "2a9f6ef9-f120-40d5-8c2d-0990fa6137b0"
      },
      "source": [
        "del patient_heart_rate['Name']\n",
        "patient_heart_rate.head(3)"
      ],
      "execution_count": 30,
      "outputs": [
        {
          "output_type": "execute_result",
          "data": {
            "text/html": [
              "<div>\n",
              "<style scoped>\n",
              "    .dataframe tbody tr th:only-of-type {\n",
              "        vertical-align: middle;\n",
              "    }\n",
              "\n",
              "    .dataframe tbody tr th {\n",
              "        vertical-align: top;\n",
              "    }\n",
              "\n",
              "    .dataframe thead th {\n",
              "        text-align: right;\n",
              "    }\n",
              "</style>\n",
              "<table border=\"1\" class=\"dataframe\">\n",
              "  <thead>\n",
              "    <tr style=\"text-align: right;\">\n",
              "      <th></th>\n",
              "      <th>ID</th>\n",
              "      <th>Age</th>\n",
              "      <th>Weight</th>\n",
              "      <th>m006</th>\n",
              "      <th>m0612</th>\n",
              "      <th>m1218</th>\n",
              "      <th>f006</th>\n",
              "      <th>f0612</th>\n",
              "      <th>f1218</th>\n",
              "      <th>First Name</th>\n",
              "      <th>Last Name</th>\n",
              "    </tr>\n",
              "  </thead>\n",
              "  <tbody>\n",
              "    <tr>\n",
              "      <th>0</th>\n",
              "      <td>1.0</td>\n",
              "      <td>56.0</td>\n",
              "      <td>70kgs</td>\n",
              "      <td>72</td>\n",
              "      <td>69</td>\n",
              "      <td>71</td>\n",
              "      <td>-</td>\n",
              "      <td>-</td>\n",
              "      <td>-</td>\n",
              "      <td>Mickéy</td>\n",
              "      <td>Mousé</td>\n",
              "    </tr>\n",
              "    <tr>\n",
              "      <th>1</th>\n",
              "      <td>2.0</td>\n",
              "      <td>34.0</td>\n",
              "      <td>154.89lbs</td>\n",
              "      <td>-</td>\n",
              "      <td>-</td>\n",
              "      <td>-</td>\n",
              "      <td>85</td>\n",
              "      <td>84</td>\n",
              "      <td>76</td>\n",
              "      <td>Donald</td>\n",
              "      <td>Duck</td>\n",
              "    </tr>\n",
              "    <tr>\n",
              "      <th>2</th>\n",
              "      <td>3.0</td>\n",
              "      <td>16.0</td>\n",
              "      <td>NaN</td>\n",
              "      <td>-</td>\n",
              "      <td>-</td>\n",
              "      <td>-</td>\n",
              "      <td>65</td>\n",
              "      <td>69</td>\n",
              "      <td>72</td>\n",
              "      <td>Mini</td>\n",
              "      <td>Mouse</td>\n",
              "    </tr>\n",
              "  </tbody>\n",
              "</table>\n",
              "</div>"
            ],
            "text/plain": [
              "    ID   Age     Weight m006 m0612 m1218 f006 f0612 f1218 First Name Last Name\n",
              "0  1.0  56.0      70kgs   72    69    71    -     -     -     Mickéy     Mousé\n",
              "1  2.0  34.0  154.89lbs    -     -     -   85    84    76     Donald      Duck\n",
              "2  3.0  16.0        NaN    -     -     -   65    69    72       Mini     Mouse"
            ]
          },
          "metadata": {},
          "execution_count": 30
        }
      ]
    },
    {
      "cell_type": "markdown",
      "metadata": {
        "id": "1_xRvVgI8pkV"
      },
      "source": [
        "3. Inconsitence values. Convert 'lbs' to kg with columns name 'Weight'"
      ]
    },
    {
      "cell_type": "code",
      "metadata": {
        "id": "x_3CRQUA8y6s",
        "colab": {
          "base_uri": "https://localhost:8080/"
        },
        "outputId": "71d500ab-aefb-4f72-f5f4-09a80b2baf06"
      },
      "source": [
        "weight=patient_heart_rate['Weight']\n",
        "for i in range(len(weight)):\n",
        "  x=str(weight[i])\n",
        "  if 'lbs' in x[-3:]:\n",
        "    x=x[:-3:]\n",
        "    y=int(float(x)/2.2)\n",
        "    y=str(y)+'kgs'\n",
        "    weight[i]=y"
      ],
      "execution_count": 31,
      "outputs": [
        {
          "output_type": "stream",
          "name": "stderr",
          "text": [
            "/usr/local/lib/python3.7/dist-packages/ipykernel_launcher.py:8: SettingWithCopyWarning: \n",
            "A value is trying to be set on a copy of a slice from a DataFrame\n",
            "\n",
            "See the caveats in the documentation: https://pandas.pydata.org/pandas-docs/stable/user_guide/indexing.html#returning-a-view-versus-a-copy\n",
            "  \n"
          ]
        }
      ]
    },
    {
      "cell_type": "code",
      "metadata": {
        "id": "vJ4DsA6mDqui",
        "colab": {
          "base_uri": "https://localhost:8080/",
          "height": 359
        },
        "outputId": "65b578e7-c191-49fb-e528-9444641453fc"
      },
      "source": [
        "patient_heart_rate.head(10)"
      ],
      "execution_count": 32,
      "outputs": [
        {
          "output_type": "execute_result",
          "data": {
            "text/html": [
              "<div>\n",
              "<style scoped>\n",
              "    .dataframe tbody tr th:only-of-type {\n",
              "        vertical-align: middle;\n",
              "    }\n",
              "\n",
              "    .dataframe tbody tr th {\n",
              "        vertical-align: top;\n",
              "    }\n",
              "\n",
              "    .dataframe thead th {\n",
              "        text-align: right;\n",
              "    }\n",
              "</style>\n",
              "<table border=\"1\" class=\"dataframe\">\n",
              "  <thead>\n",
              "    <tr style=\"text-align: right;\">\n",
              "      <th></th>\n",
              "      <th>ID</th>\n",
              "      <th>Age</th>\n",
              "      <th>Weight</th>\n",
              "      <th>m006</th>\n",
              "      <th>m0612</th>\n",
              "      <th>m1218</th>\n",
              "      <th>f006</th>\n",
              "      <th>f0612</th>\n",
              "      <th>f1218</th>\n",
              "      <th>First Name</th>\n",
              "      <th>Last Name</th>\n",
              "    </tr>\n",
              "  </thead>\n",
              "  <tbody>\n",
              "    <tr>\n",
              "      <th>0</th>\n",
              "      <td>1.0</td>\n",
              "      <td>56.0</td>\n",
              "      <td>70kgs</td>\n",
              "      <td>72</td>\n",
              "      <td>69</td>\n",
              "      <td>71</td>\n",
              "      <td>-</td>\n",
              "      <td>-</td>\n",
              "      <td>-</td>\n",
              "      <td>Mickéy</td>\n",
              "      <td>Mousé</td>\n",
              "    </tr>\n",
              "    <tr>\n",
              "      <th>1</th>\n",
              "      <td>2.0</td>\n",
              "      <td>34.0</td>\n",
              "      <td>70kgs</td>\n",
              "      <td>-</td>\n",
              "      <td>-</td>\n",
              "      <td>-</td>\n",
              "      <td>85</td>\n",
              "      <td>84</td>\n",
              "      <td>76</td>\n",
              "      <td>Donald</td>\n",
              "      <td>Duck</td>\n",
              "    </tr>\n",
              "    <tr>\n",
              "      <th>2</th>\n",
              "      <td>3.0</td>\n",
              "      <td>16.0</td>\n",
              "      <td>NaN</td>\n",
              "      <td>-</td>\n",
              "      <td>-</td>\n",
              "      <td>-</td>\n",
              "      <td>65</td>\n",
              "      <td>69</td>\n",
              "      <td>72</td>\n",
              "      <td>Mini</td>\n",
              "      <td>Mouse</td>\n",
              "    </tr>\n",
              "    <tr>\n",
              "      <th>3</th>\n",
              "      <td>4.0</td>\n",
              "      <td>NaN</td>\n",
              "      <td>78kgs</td>\n",
              "      <td>78</td>\n",
              "      <td>79</td>\n",
              "      <td>72</td>\n",
              "      <td>-</td>\n",
              "      <td>-</td>\n",
              "      <td>-</td>\n",
              "      <td>Scrooge</td>\n",
              "      <td>McDuck</td>\n",
              "    </tr>\n",
              "    <tr>\n",
              "      <th>4</th>\n",
              "      <td>5.0</td>\n",
              "      <td>54.0</td>\n",
              "      <td>90kgs</td>\n",
              "      <td>-</td>\n",
              "      <td>-</td>\n",
              "      <td>-</td>\n",
              "      <td>69</td>\n",
              "      <td>NaN</td>\n",
              "      <td>75</td>\n",
              "      <td>Pink</td>\n",
              "      <td>Panther</td>\n",
              "    </tr>\n",
              "    <tr>\n",
              "      <th>5</th>\n",
              "      <td>6.0</td>\n",
              "      <td>52.0</td>\n",
              "      <td>85kgs</td>\n",
              "      <td>-</td>\n",
              "      <td>-</td>\n",
              "      <td>-</td>\n",
              "      <td>68</td>\n",
              "      <td>75</td>\n",
              "      <td>72</td>\n",
              "      <td>Huey</td>\n",
              "      <td>McDuck</td>\n",
              "    </tr>\n",
              "    <tr>\n",
              "      <th>6</th>\n",
              "      <td>7.0</td>\n",
              "      <td>19.0</td>\n",
              "      <td>56kgs</td>\n",
              "      <td>-</td>\n",
              "      <td>-</td>\n",
              "      <td>-</td>\n",
              "      <td>71</td>\n",
              "      <td>78</td>\n",
              "      <td>75</td>\n",
              "      <td>Dewey</td>\n",
              "      <td>McDuck</td>\n",
              "    </tr>\n",
              "    <tr>\n",
              "      <th>7</th>\n",
              "      <td>8.0</td>\n",
              "      <td>32.0</td>\n",
              "      <td>78kgs</td>\n",
              "      <td>78</td>\n",
              "      <td>76</td>\n",
              "      <td>75</td>\n",
              "      <td>-</td>\n",
              "      <td>-</td>\n",
              "      <td>-</td>\n",
              "      <td>Scööpy</td>\n",
              "      <td>Doo</td>\n",
              "    </tr>\n",
              "    <tr>\n",
              "      <th>8</th>\n",
              "      <td>NaN</td>\n",
              "      <td>NaN</td>\n",
              "      <td>NaN</td>\n",
              "      <td>NaN</td>\n",
              "      <td>NaN</td>\n",
              "      <td>NaN</td>\n",
              "      <td>NaN</td>\n",
              "      <td>NaN</td>\n",
              "      <td>NaN</td>\n",
              "      <td>NaN</td>\n",
              "      <td>NaN</td>\n",
              "    </tr>\n",
              "    <tr>\n",
              "      <th>9</th>\n",
              "      <td>NaN</td>\n",
              "      <td>NaN</td>\n",
              "      <td>NaN</td>\n",
              "      <td>NaN</td>\n",
              "      <td>NaN</td>\n",
              "      <td>NaN</td>\n",
              "      <td>NaN</td>\n",
              "      <td>NaN</td>\n",
              "      <td>NaN</td>\n",
              "      <td>NaN</td>\n",
              "      <td>NaN</td>\n",
              "    </tr>\n",
              "  </tbody>\n",
              "</table>\n",
              "</div>"
            ],
            "text/plain": [
              "    ID   Age Weight m006 m0612 m1218 f006 f0612 f1218 First Name Last Name\n",
              "0  1.0  56.0  70kgs   72    69    71    -     -     -     Mickéy     Mousé\n",
              "1  2.0  34.0  70kgs    -     -     -   85    84    76     Donald      Duck\n",
              "2  3.0  16.0    NaN    -     -     -   65    69    72       Mini     Mouse\n",
              "3  4.0   NaN  78kgs   78    79    72    -     -     -    Scrooge    McDuck\n",
              "4  5.0  54.0  90kgs    -     -     -   69   NaN    75       Pink   Panther\n",
              "5  6.0  52.0  85kgs    -     -     -   68    75    72       Huey    McDuck\n",
              "6  7.0  19.0  56kgs    -     -     -   71    78    75      Dewey    McDuck\n",
              "7  8.0  32.0  78kgs   78    76    75    -     -     -     Scööpy       Doo\n",
              "8  NaN   NaN    NaN  NaN   NaN   NaN  NaN   NaN   NaN        NaN       NaN\n",
              "9  NaN   NaN    NaN  NaN   NaN   NaN  NaN   NaN   NaN        NaN       NaN"
            ]
          },
          "metadata": {},
          "execution_count": 32
        }
      ]
    },
    {
      "cell_type": "markdown",
      "metadata": {
        "id": "rUO-L07SEb6A"
      },
      "source": [
        "4. Drop an empty row[8,9] in data"
      ]
    },
    {
      "cell_type": "code",
      "metadata": {
        "id": "PsZ5nwP3ElyI",
        "colab": {
          "base_uri": "https://localhost:8080/"
        },
        "outputId": "7f21064e-bcd0-45e5-8cea-d72b8e0ec316"
      },
      "source": [
        "patient_heart_rate[patient_heart_rate['Age'].isna() & patient_heart_rate['Weight'].isna() & patient_heart_rate['First Name'].isna() & patient_heart_rate['Last Name'].isna()].index"
      ],
      "execution_count": 33,
      "outputs": [
        {
          "output_type": "execute_result",
          "data": {
            "text/plain": [
              "Int64Index([8, 9], dtype='int64')"
            ]
          },
          "metadata": {},
          "execution_count": 33
        }
      ]
    },
    {
      "cell_type": "code",
      "metadata": {
        "id": "ATaDBCOmFzs0",
        "colab": {
          "base_uri": "https://localhost:8080/",
          "height": 514
        },
        "outputId": "97ff0aa3-64a7-49fd-fd0f-ac464093e3a6"
      },
      "source": [
        "patient_heart_rate.dropna(how='all', inplace=True)\n",
        "patient_heart_rate"
      ],
      "execution_count": 34,
      "outputs": [
        {
          "output_type": "execute_result",
          "data": {
            "text/html": [
              "<div>\n",
              "<style scoped>\n",
              "    .dataframe tbody tr th:only-of-type {\n",
              "        vertical-align: middle;\n",
              "    }\n",
              "\n",
              "    .dataframe tbody tr th {\n",
              "        vertical-align: top;\n",
              "    }\n",
              "\n",
              "    .dataframe thead th {\n",
              "        text-align: right;\n",
              "    }\n",
              "</style>\n",
              "<table border=\"1\" class=\"dataframe\">\n",
              "  <thead>\n",
              "    <tr style=\"text-align: right;\">\n",
              "      <th></th>\n",
              "      <th>ID</th>\n",
              "      <th>Age</th>\n",
              "      <th>Weight</th>\n",
              "      <th>m006</th>\n",
              "      <th>m0612</th>\n",
              "      <th>m1218</th>\n",
              "      <th>f006</th>\n",
              "      <th>f0612</th>\n",
              "      <th>f1218</th>\n",
              "      <th>First Name</th>\n",
              "      <th>Last Name</th>\n",
              "    </tr>\n",
              "  </thead>\n",
              "  <tbody>\n",
              "    <tr>\n",
              "      <th>0</th>\n",
              "      <td>1.0</td>\n",
              "      <td>56.0</td>\n",
              "      <td>70kgs</td>\n",
              "      <td>72</td>\n",
              "      <td>69</td>\n",
              "      <td>71</td>\n",
              "      <td>-</td>\n",
              "      <td>-</td>\n",
              "      <td>-</td>\n",
              "      <td>Mickéy</td>\n",
              "      <td>Mousé</td>\n",
              "    </tr>\n",
              "    <tr>\n",
              "      <th>1</th>\n",
              "      <td>2.0</td>\n",
              "      <td>34.0</td>\n",
              "      <td>70kgs</td>\n",
              "      <td>-</td>\n",
              "      <td>-</td>\n",
              "      <td>-</td>\n",
              "      <td>85</td>\n",
              "      <td>84</td>\n",
              "      <td>76</td>\n",
              "      <td>Donald</td>\n",
              "      <td>Duck</td>\n",
              "    </tr>\n",
              "    <tr>\n",
              "      <th>2</th>\n",
              "      <td>3.0</td>\n",
              "      <td>16.0</td>\n",
              "      <td>NaN</td>\n",
              "      <td>-</td>\n",
              "      <td>-</td>\n",
              "      <td>-</td>\n",
              "      <td>65</td>\n",
              "      <td>69</td>\n",
              "      <td>72</td>\n",
              "      <td>Mini</td>\n",
              "      <td>Mouse</td>\n",
              "    </tr>\n",
              "    <tr>\n",
              "      <th>3</th>\n",
              "      <td>4.0</td>\n",
              "      <td>NaN</td>\n",
              "      <td>78kgs</td>\n",
              "      <td>78</td>\n",
              "      <td>79</td>\n",
              "      <td>72</td>\n",
              "      <td>-</td>\n",
              "      <td>-</td>\n",
              "      <td>-</td>\n",
              "      <td>Scrooge</td>\n",
              "      <td>McDuck</td>\n",
              "    </tr>\n",
              "    <tr>\n",
              "      <th>4</th>\n",
              "      <td>5.0</td>\n",
              "      <td>54.0</td>\n",
              "      <td>90kgs</td>\n",
              "      <td>-</td>\n",
              "      <td>-</td>\n",
              "      <td>-</td>\n",
              "      <td>69</td>\n",
              "      <td>NaN</td>\n",
              "      <td>75</td>\n",
              "      <td>Pink</td>\n",
              "      <td>Panther</td>\n",
              "    </tr>\n",
              "    <tr>\n",
              "      <th>5</th>\n",
              "      <td>6.0</td>\n",
              "      <td>52.0</td>\n",
              "      <td>85kgs</td>\n",
              "      <td>-</td>\n",
              "      <td>-</td>\n",
              "      <td>-</td>\n",
              "      <td>68</td>\n",
              "      <td>75</td>\n",
              "      <td>72</td>\n",
              "      <td>Huey</td>\n",
              "      <td>McDuck</td>\n",
              "    </tr>\n",
              "    <tr>\n",
              "      <th>6</th>\n",
              "      <td>7.0</td>\n",
              "      <td>19.0</td>\n",
              "      <td>56kgs</td>\n",
              "      <td>-</td>\n",
              "      <td>-</td>\n",
              "      <td>-</td>\n",
              "      <td>71</td>\n",
              "      <td>78</td>\n",
              "      <td>75</td>\n",
              "      <td>Dewey</td>\n",
              "      <td>McDuck</td>\n",
              "    </tr>\n",
              "    <tr>\n",
              "      <th>7</th>\n",
              "      <td>8.0</td>\n",
              "      <td>32.0</td>\n",
              "      <td>78kgs</td>\n",
              "      <td>78</td>\n",
              "      <td>76</td>\n",
              "      <td>75</td>\n",
              "      <td>-</td>\n",
              "      <td>-</td>\n",
              "      <td>-</td>\n",
              "      <td>Scööpy</td>\n",
              "      <td>Doo</td>\n",
              "    </tr>\n",
              "    <tr>\n",
              "      <th>10</th>\n",
              "      <td>9.0</td>\n",
              "      <td>52.0</td>\n",
              "      <td>85kgs</td>\n",
              "      <td>-</td>\n",
              "      <td>-</td>\n",
              "      <td>-</td>\n",
              "      <td>68</td>\n",
              "      <td>75</td>\n",
              "      <td>72</td>\n",
              "      <td>Huey</td>\n",
              "      <td>McDuck</td>\n",
              "    </tr>\n",
              "    <tr>\n",
              "      <th>11</th>\n",
              "      <td>10.0</td>\n",
              "      <td>12.0</td>\n",
              "      <td>45kgs</td>\n",
              "      <td>-</td>\n",
              "      <td>-</td>\n",
              "      <td>-</td>\n",
              "      <td>92</td>\n",
              "      <td>95</td>\n",
              "      <td>87</td>\n",
              "      <td>Louie</td>\n",
              "      <td>McDuck</td>\n",
              "    </tr>\n",
              "    <tr>\n",
              "      <th>12</th>\n",
              "      <td>11.0</td>\n",
              "      <td>NaN</td>\n",
              "      <td>60kgs</td>\n",
              "      <td>78</td>\n",
              "      <td>75</td>\n",
              "      <td>72</td>\n",
              "      <td>-</td>\n",
              "      <td>-</td>\n",
              "      <td>-</td>\n",
              "      <td>Henry</td>\n",
              "      <td>Nam</td>\n",
              "    </tr>\n",
              "    <tr>\n",
              "      <th>13</th>\n",
              "      <td>12.0</td>\n",
              "      <td>34.0</td>\n",
              "      <td>NaN</td>\n",
              "      <td>65</td>\n",
              "      <td>67</td>\n",
              "      <td>55</td>\n",
              "      <td>-</td>\n",
              "      <td>-</td>\n",
              "      <td>-</td>\n",
              "      <td>Michel</td>\n",
              "      <td>Long</td>\n",
              "    </tr>\n",
              "    <tr>\n",
              "      <th>14</th>\n",
              "      <td>13.0</td>\n",
              "      <td>NaN</td>\n",
              "      <td>NaN</td>\n",
              "      <td>-</td>\n",
              "      <td>-</td>\n",
              "      <td>-</td>\n",
              "      <td>68</td>\n",
              "      <td>72</td>\n",
              "      <td>70</td>\n",
              "      <td>Tana</td>\n",
              "      <td>Ricky</td>\n",
              "    </tr>\n",
              "    <tr>\n",
              "      <th>15</th>\n",
              "      <td>14.0</td>\n",
              "      <td>NaN</td>\n",
              "      <td>NaN</td>\n",
              "      <td>NaN</td>\n",
              "      <td>NaN</td>\n",
              "      <td>NaN</td>\n",
              "      <td>NaN</td>\n",
              "      <td>NaN</td>\n",
              "      <td>NaN</td>\n",
              "      <td>UniLever</td>\n",
              "      <td>None</td>\n",
              "    </tr>\n",
              "    <tr>\n",
              "      <th>16</th>\n",
              "      <td>15.0</td>\n",
              "      <td>52.0</td>\n",
              "      <td>81kgs</td>\n",
              "      <td>-</td>\n",
              "      <td>-</td>\n",
              "      <td>-</td>\n",
              "      <td>68</td>\n",
              "      <td>75</td>\n",
              "      <td>72</td>\n",
              "      <td>NaN</td>\n",
              "      <td>NaN</td>\n",
              "    </tr>\n",
              "  </tbody>\n",
              "</table>\n",
              "</div>"
            ],
            "text/plain": [
              "      ID   Age Weight m006 m0612 m1218 f006 f0612 f1218 First Name Last Name\n",
              "0    1.0  56.0  70kgs   72    69    71    -     -     -     Mickéy     Mousé\n",
              "1    2.0  34.0  70kgs    -     -     -   85    84    76     Donald      Duck\n",
              "2    3.0  16.0    NaN    -     -     -   65    69    72       Mini     Mouse\n",
              "3    4.0   NaN  78kgs   78    79    72    -     -     -    Scrooge    McDuck\n",
              "4    5.0  54.0  90kgs    -     -     -   69   NaN    75       Pink   Panther\n",
              "5    6.0  52.0  85kgs    -     -     -   68    75    72       Huey    McDuck\n",
              "6    7.0  19.0  56kgs    -     -     -   71    78    75      Dewey    McDuck\n",
              "7    8.0  32.0  78kgs   78    76    75    -     -     -     Scööpy       Doo\n",
              "10   9.0  52.0  85kgs    -     -     -   68    75    72       Huey    McDuck\n",
              "11  10.0  12.0  45kgs    -     -     -   92    95    87      Louie    McDuck\n",
              "12  11.0   NaN  60kgs   78    75    72    -     -     -      Henry       Nam\n",
              "13  12.0  34.0    NaN   65    67    55    -     -     -     Michel      Long\n",
              "14  13.0   NaN    NaN    -     -     -   68    72    70       Tana     Ricky\n",
              "15  14.0   NaN    NaN  NaN   NaN   NaN  NaN   NaN   NaN   UniLever      None\n",
              "16  15.0  52.0  81kgs    -     -     -   68    75    72        NaN       NaN"
            ]
          },
          "metadata": {},
          "execution_count": 34
        }
      ]
    },
    {
      "cell_type": "markdown",
      "metadata": {
        "id": "lIv23Ae8GKZS"
      },
      "source": [
        "5.Duplicate records in the data\n",
        "\n",
        "In data, there is repeat in 6 and 9 row."
      ]
    },
    {
      "cell_type": "code",
      "metadata": {
        "id": "WDrnhod8GcCF",
        "colab": {
          "base_uri": "https://localhost:8080/",
          "height": 483
        },
        "outputId": "6cd5ec53-dfdc-40ef-8209-3c0025664269"
      },
      "source": [
        "patient_heart_rate=patient_heart_rate.drop_duplicates(subset=['Age','Weight','First Name','Last Name'])\n",
        "patient_heart_rate"
      ],
      "execution_count": 35,
      "outputs": [
        {
          "output_type": "execute_result",
          "data": {
            "text/html": [
              "<div>\n",
              "<style scoped>\n",
              "    .dataframe tbody tr th:only-of-type {\n",
              "        vertical-align: middle;\n",
              "    }\n",
              "\n",
              "    .dataframe tbody tr th {\n",
              "        vertical-align: top;\n",
              "    }\n",
              "\n",
              "    .dataframe thead th {\n",
              "        text-align: right;\n",
              "    }\n",
              "</style>\n",
              "<table border=\"1\" class=\"dataframe\">\n",
              "  <thead>\n",
              "    <tr style=\"text-align: right;\">\n",
              "      <th></th>\n",
              "      <th>ID</th>\n",
              "      <th>Age</th>\n",
              "      <th>Weight</th>\n",
              "      <th>m006</th>\n",
              "      <th>m0612</th>\n",
              "      <th>m1218</th>\n",
              "      <th>f006</th>\n",
              "      <th>f0612</th>\n",
              "      <th>f1218</th>\n",
              "      <th>First Name</th>\n",
              "      <th>Last Name</th>\n",
              "    </tr>\n",
              "  </thead>\n",
              "  <tbody>\n",
              "    <tr>\n",
              "      <th>0</th>\n",
              "      <td>1.0</td>\n",
              "      <td>56.0</td>\n",
              "      <td>70kgs</td>\n",
              "      <td>72</td>\n",
              "      <td>69</td>\n",
              "      <td>71</td>\n",
              "      <td>-</td>\n",
              "      <td>-</td>\n",
              "      <td>-</td>\n",
              "      <td>Mickéy</td>\n",
              "      <td>Mousé</td>\n",
              "    </tr>\n",
              "    <tr>\n",
              "      <th>1</th>\n",
              "      <td>2.0</td>\n",
              "      <td>34.0</td>\n",
              "      <td>70kgs</td>\n",
              "      <td>-</td>\n",
              "      <td>-</td>\n",
              "      <td>-</td>\n",
              "      <td>85</td>\n",
              "      <td>84</td>\n",
              "      <td>76</td>\n",
              "      <td>Donald</td>\n",
              "      <td>Duck</td>\n",
              "    </tr>\n",
              "    <tr>\n",
              "      <th>2</th>\n",
              "      <td>3.0</td>\n",
              "      <td>16.0</td>\n",
              "      <td>NaN</td>\n",
              "      <td>-</td>\n",
              "      <td>-</td>\n",
              "      <td>-</td>\n",
              "      <td>65</td>\n",
              "      <td>69</td>\n",
              "      <td>72</td>\n",
              "      <td>Mini</td>\n",
              "      <td>Mouse</td>\n",
              "    </tr>\n",
              "    <tr>\n",
              "      <th>3</th>\n",
              "      <td>4.0</td>\n",
              "      <td>NaN</td>\n",
              "      <td>78kgs</td>\n",
              "      <td>78</td>\n",
              "      <td>79</td>\n",
              "      <td>72</td>\n",
              "      <td>-</td>\n",
              "      <td>-</td>\n",
              "      <td>-</td>\n",
              "      <td>Scrooge</td>\n",
              "      <td>McDuck</td>\n",
              "    </tr>\n",
              "    <tr>\n",
              "      <th>4</th>\n",
              "      <td>5.0</td>\n",
              "      <td>54.0</td>\n",
              "      <td>90kgs</td>\n",
              "      <td>-</td>\n",
              "      <td>-</td>\n",
              "      <td>-</td>\n",
              "      <td>69</td>\n",
              "      <td>NaN</td>\n",
              "      <td>75</td>\n",
              "      <td>Pink</td>\n",
              "      <td>Panther</td>\n",
              "    </tr>\n",
              "    <tr>\n",
              "      <th>5</th>\n",
              "      <td>6.0</td>\n",
              "      <td>52.0</td>\n",
              "      <td>85kgs</td>\n",
              "      <td>-</td>\n",
              "      <td>-</td>\n",
              "      <td>-</td>\n",
              "      <td>68</td>\n",
              "      <td>75</td>\n",
              "      <td>72</td>\n",
              "      <td>Huey</td>\n",
              "      <td>McDuck</td>\n",
              "    </tr>\n",
              "    <tr>\n",
              "      <th>6</th>\n",
              "      <td>7.0</td>\n",
              "      <td>19.0</td>\n",
              "      <td>56kgs</td>\n",
              "      <td>-</td>\n",
              "      <td>-</td>\n",
              "      <td>-</td>\n",
              "      <td>71</td>\n",
              "      <td>78</td>\n",
              "      <td>75</td>\n",
              "      <td>Dewey</td>\n",
              "      <td>McDuck</td>\n",
              "    </tr>\n",
              "    <tr>\n",
              "      <th>7</th>\n",
              "      <td>8.0</td>\n",
              "      <td>32.0</td>\n",
              "      <td>78kgs</td>\n",
              "      <td>78</td>\n",
              "      <td>76</td>\n",
              "      <td>75</td>\n",
              "      <td>-</td>\n",
              "      <td>-</td>\n",
              "      <td>-</td>\n",
              "      <td>Scööpy</td>\n",
              "      <td>Doo</td>\n",
              "    </tr>\n",
              "    <tr>\n",
              "      <th>11</th>\n",
              "      <td>10.0</td>\n",
              "      <td>12.0</td>\n",
              "      <td>45kgs</td>\n",
              "      <td>-</td>\n",
              "      <td>-</td>\n",
              "      <td>-</td>\n",
              "      <td>92</td>\n",
              "      <td>95</td>\n",
              "      <td>87</td>\n",
              "      <td>Louie</td>\n",
              "      <td>McDuck</td>\n",
              "    </tr>\n",
              "    <tr>\n",
              "      <th>12</th>\n",
              "      <td>11.0</td>\n",
              "      <td>NaN</td>\n",
              "      <td>60kgs</td>\n",
              "      <td>78</td>\n",
              "      <td>75</td>\n",
              "      <td>72</td>\n",
              "      <td>-</td>\n",
              "      <td>-</td>\n",
              "      <td>-</td>\n",
              "      <td>Henry</td>\n",
              "      <td>Nam</td>\n",
              "    </tr>\n",
              "    <tr>\n",
              "      <th>13</th>\n",
              "      <td>12.0</td>\n",
              "      <td>34.0</td>\n",
              "      <td>NaN</td>\n",
              "      <td>65</td>\n",
              "      <td>67</td>\n",
              "      <td>55</td>\n",
              "      <td>-</td>\n",
              "      <td>-</td>\n",
              "      <td>-</td>\n",
              "      <td>Michel</td>\n",
              "      <td>Long</td>\n",
              "    </tr>\n",
              "    <tr>\n",
              "      <th>14</th>\n",
              "      <td>13.0</td>\n",
              "      <td>NaN</td>\n",
              "      <td>NaN</td>\n",
              "      <td>-</td>\n",
              "      <td>-</td>\n",
              "      <td>-</td>\n",
              "      <td>68</td>\n",
              "      <td>72</td>\n",
              "      <td>70</td>\n",
              "      <td>Tana</td>\n",
              "      <td>Ricky</td>\n",
              "    </tr>\n",
              "    <tr>\n",
              "      <th>15</th>\n",
              "      <td>14.0</td>\n",
              "      <td>NaN</td>\n",
              "      <td>NaN</td>\n",
              "      <td>NaN</td>\n",
              "      <td>NaN</td>\n",
              "      <td>NaN</td>\n",
              "      <td>NaN</td>\n",
              "      <td>NaN</td>\n",
              "      <td>NaN</td>\n",
              "      <td>UniLever</td>\n",
              "      <td>None</td>\n",
              "    </tr>\n",
              "    <tr>\n",
              "      <th>16</th>\n",
              "      <td>15.0</td>\n",
              "      <td>52.0</td>\n",
              "      <td>81kgs</td>\n",
              "      <td>-</td>\n",
              "      <td>-</td>\n",
              "      <td>-</td>\n",
              "      <td>68</td>\n",
              "      <td>75</td>\n",
              "      <td>72</td>\n",
              "      <td>NaN</td>\n",
              "      <td>NaN</td>\n",
              "    </tr>\n",
              "  </tbody>\n",
              "</table>\n",
              "</div>"
            ],
            "text/plain": [
              "      ID   Age Weight m006 m0612 m1218 f006 f0612 f1218 First Name Last Name\n",
              "0    1.0  56.0  70kgs   72    69    71    -     -     -     Mickéy     Mousé\n",
              "1    2.0  34.0  70kgs    -     -     -   85    84    76     Donald      Duck\n",
              "2    3.0  16.0    NaN    -     -     -   65    69    72       Mini     Mouse\n",
              "3    4.0   NaN  78kgs   78    79    72    -     -     -    Scrooge    McDuck\n",
              "4    5.0  54.0  90kgs    -     -     -   69   NaN    75       Pink   Panther\n",
              "5    6.0  52.0  85kgs    -     -     -   68    75    72       Huey    McDuck\n",
              "6    7.0  19.0  56kgs    -     -     -   71    78    75      Dewey    McDuck\n",
              "7    8.0  32.0  78kgs   78    76    75    -     -     -     Scööpy       Doo\n",
              "11  10.0  12.0  45kgs    -     -     -   92    95    87      Louie    McDuck\n",
              "12  11.0   NaN  60kgs   78    75    72    -     -     -      Henry       Nam\n",
              "13  12.0  34.0    NaN   65    67    55    -     -     -     Michel      Long\n",
              "14  13.0   NaN    NaN    -     -     -   68    72    70       Tana     Ricky\n",
              "15  14.0   NaN    NaN  NaN   NaN   NaN  NaN   NaN   NaN   UniLever      None\n",
              "16  15.0  52.0  81kgs    -     -     -   68    75    72        NaN       NaN"
            ]
          },
          "metadata": {},
          "execution_count": 35
        }
      ]
    },
    {
      "cell_type": "markdown",
      "metadata": {
        "id": "RNYGhaknGxGp"
      },
      "source": [
        "6. Inconsitence characters (error ASCII-based format).\n",
        "\n",
        "Error ASCII-based format in the Fisrt_Name and Last_Name columns in the data."
      ]
    },
    {
      "cell_type": "code",
      "metadata": {
        "id": "1PnrvminG6iZ",
        "colab": {
          "base_uri": "https://localhost:8080/",
          "height": 289
        },
        "outputId": "9fbc88bf-57ee-4a5c-9dce-81632f17f9ea"
      },
      "source": [
        "patient_heart_rate['First Name'].replace({r'[^\\x00-\\x7F]+':''},regex=True,inplace=True)\n",
        "patient_heart_rate['Last Name'].replace({r'[^\\x00-\\x7F]+':''},regex=True,inplace=True)\n",
        "patient_heart_rate.head(5)"
      ],
      "execution_count": 36,
      "outputs": [
        {
          "output_type": "stream",
          "name": "stderr",
          "text": [
            "/usr/local/lib/python3.7/dist-packages/pandas/core/series.py:4582: SettingWithCopyWarning: \n",
            "A value is trying to be set on a copy of a slice from a DataFrame\n",
            "\n",
            "See the caveats in the documentation: https://pandas.pydata.org/pandas-docs/stable/user_guide/indexing.html#returning-a-view-versus-a-copy\n",
            "  method=method,\n"
          ]
        },
        {
          "output_type": "execute_result",
          "data": {
            "text/html": [
              "<div>\n",
              "<style scoped>\n",
              "    .dataframe tbody tr th:only-of-type {\n",
              "        vertical-align: middle;\n",
              "    }\n",
              "\n",
              "    .dataframe tbody tr th {\n",
              "        vertical-align: top;\n",
              "    }\n",
              "\n",
              "    .dataframe thead th {\n",
              "        text-align: right;\n",
              "    }\n",
              "</style>\n",
              "<table border=\"1\" class=\"dataframe\">\n",
              "  <thead>\n",
              "    <tr style=\"text-align: right;\">\n",
              "      <th></th>\n",
              "      <th>ID</th>\n",
              "      <th>Age</th>\n",
              "      <th>Weight</th>\n",
              "      <th>m006</th>\n",
              "      <th>m0612</th>\n",
              "      <th>m1218</th>\n",
              "      <th>f006</th>\n",
              "      <th>f0612</th>\n",
              "      <th>f1218</th>\n",
              "      <th>First Name</th>\n",
              "      <th>Last Name</th>\n",
              "    </tr>\n",
              "  </thead>\n",
              "  <tbody>\n",
              "    <tr>\n",
              "      <th>0</th>\n",
              "      <td>1.0</td>\n",
              "      <td>56.0</td>\n",
              "      <td>70kgs</td>\n",
              "      <td>72</td>\n",
              "      <td>69</td>\n",
              "      <td>71</td>\n",
              "      <td>-</td>\n",
              "      <td>-</td>\n",
              "      <td>-</td>\n",
              "      <td>Micky</td>\n",
              "      <td>Mous</td>\n",
              "    </tr>\n",
              "    <tr>\n",
              "      <th>1</th>\n",
              "      <td>2.0</td>\n",
              "      <td>34.0</td>\n",
              "      <td>70kgs</td>\n",
              "      <td>-</td>\n",
              "      <td>-</td>\n",
              "      <td>-</td>\n",
              "      <td>85</td>\n",
              "      <td>84</td>\n",
              "      <td>76</td>\n",
              "      <td>Donald</td>\n",
              "      <td>Duck</td>\n",
              "    </tr>\n",
              "    <tr>\n",
              "      <th>2</th>\n",
              "      <td>3.0</td>\n",
              "      <td>16.0</td>\n",
              "      <td>NaN</td>\n",
              "      <td>-</td>\n",
              "      <td>-</td>\n",
              "      <td>-</td>\n",
              "      <td>65</td>\n",
              "      <td>69</td>\n",
              "      <td>72</td>\n",
              "      <td>Mini</td>\n",
              "      <td>Mouse</td>\n",
              "    </tr>\n",
              "    <tr>\n",
              "      <th>3</th>\n",
              "      <td>4.0</td>\n",
              "      <td>NaN</td>\n",
              "      <td>78kgs</td>\n",
              "      <td>78</td>\n",
              "      <td>79</td>\n",
              "      <td>72</td>\n",
              "      <td>-</td>\n",
              "      <td>-</td>\n",
              "      <td>-</td>\n",
              "      <td>Scrooge</td>\n",
              "      <td>McDuck</td>\n",
              "    </tr>\n",
              "    <tr>\n",
              "      <th>4</th>\n",
              "      <td>5.0</td>\n",
              "      <td>54.0</td>\n",
              "      <td>90kgs</td>\n",
              "      <td>-</td>\n",
              "      <td>-</td>\n",
              "      <td>-</td>\n",
              "      <td>69</td>\n",
              "      <td>NaN</td>\n",
              "      <td>75</td>\n",
              "      <td>Pink</td>\n",
              "      <td>Panther</td>\n",
              "    </tr>\n",
              "  </tbody>\n",
              "</table>\n",
              "</div>"
            ],
            "text/plain": [
              "    ID   Age Weight m006 m0612 m1218 f006 f0612 f1218 First Name Last Name\n",
              "0  1.0  56.0  70kgs   72    69    71    -     -     -      Micky      Mous\n",
              "1  2.0  34.0  70kgs    -     -     -   85    84    76     Donald      Duck\n",
              "2  3.0  16.0    NaN    -     -     -   65    69    72       Mini     Mouse\n",
              "3  4.0   NaN  78kgs   78    79    72    -     -     -    Scrooge    McDuck\n",
              "4  5.0  54.0  90kgs    -     -     -   69   NaN    75       Pink   Panther"
            ]
          },
          "metadata": {},
          "execution_count": 36
        }
      ]
    },
    {
      "cell_type": "markdown",
      "metadata": {
        "id": "RBCyKMdxHyIX"
      },
      "source": [
        "7. Missing values\n",
        "\n",
        "a.Check for empty data"
      ]
    },
    {
      "cell_type": "code",
      "metadata": {
        "id": "FynfOTqBH2d2",
        "colab": {
          "base_uri": "https://localhost:8080/",
          "height": 433
        },
        "outputId": "71f08eee-a43a-4ba3-bb4b-a279f1a34e6a"
      },
      "source": [
        "import seaborn as sns\n",
        "%matplotlib inline\n",
        "%config InlineBackend.figure_format='svg'\n",
        "sns.heatmap(patient_heart_rate.isna(),\n",
        "            yticklabels=False,\n",
        "            cmap='cool')"
      ],
      "execution_count": 37,
      "outputs": [
        {
          "output_type": "execute_result",
          "data": {
            "text/plain": [
              "<matplotlib.axes._subplots.AxesSubplot at 0x7f6ff2aa1410>"
            ]
          },
          "metadata": {},
          "execution_count": 37
        },
        {
          "output_type": "display_data",
          "data": {
            "text/plain": [
              "<Figure size 432x288 with 2 Axes>"
            ],
            "image/svg+xml": "<?xml version=\"1.0\" encoding=\"utf-8\" standalone=\"no\"?>\n<!DOCTYPE svg PUBLIC \"-//W3C//DTD SVG 1.1//EN\"\n  \"http://www.w3.org/Graphics/SVG/1.1/DTD/svg11.dtd\">\n<!-- Created with matplotlib (https://matplotlib.org/) -->\n<svg height=\"296.365781pt\" version=\"1.1\" viewBox=\"0 0 332.755125 296.365781\" width=\"332.755125pt\" xmlns=\"http://www.w3.org/2000/svg\" xmlns:xlink=\"http://www.w3.org/1999/xlink\">\n <defs>\n  <style type=\"text/css\">\n*{stroke-linecap:butt;stroke-linejoin:round;}\n  </style>\n </defs>\n <g id=\"figure_1\">\n  <g id=\"patch_1\">\n   <path d=\"M 0 296.365781 \nL 332.755125 296.365781 \nL 332.755125 0 \nL 0 0 \nz\n\" style=\"fill:none;\"/>\n  </g>\n  <g id=\"axes_1\">\n   <g id=\"patch_2\">\n    <path d=\"M 7.2 228.439219 \nL 275.04 228.439219 \nL 275.04 10.999219 \nL 7.2 10.999219 \nz\n\" style=\"fill:#ffffff;\"/>\n   </g>\n   <g id=\"QuadMesh_1\">\n    <path clip-path=\"url(#p7410c64bac)\" d=\"M 7.2 10.999219 \nL 31.549091 10.999219 \nL 31.549091 26.530647 \nL 7.2 26.530647 \nL 7.2 10.999219 \n\" style=\"fill:#00ffff;\"/>\n    <path clip-path=\"url(#p7410c64bac)\" d=\"M 31.549091 10.999219 \nL 55.898182 10.999219 \nL 55.898182 26.530647 \nL 31.549091 26.530647 \nL 31.549091 10.999219 \n\" style=\"fill:#00ffff;\"/>\n    <path clip-path=\"url(#p7410c64bac)\" d=\"M 55.898182 10.999219 \nL 80.247273 10.999219 \nL 80.247273 26.530647 \nL 55.898182 26.530647 \nL 55.898182 10.999219 \n\" style=\"fill:#00ffff;\"/>\n    <path clip-path=\"url(#p7410c64bac)\" d=\"M 80.247273 10.999219 \nL 104.596364 10.999219 \nL 104.596364 26.530647 \nL 80.247273 26.530647 \nL 80.247273 10.999219 \n\" style=\"fill:#00ffff;\"/>\n    <path clip-path=\"url(#p7410c64bac)\" d=\"M 104.596364 10.999219 \nL 128.945455 10.999219 \nL 128.945455 26.530647 \nL 104.596364 26.530647 \nL 104.596364 10.999219 \n\" style=\"fill:#00ffff;\"/>\n    <path clip-path=\"url(#p7410c64bac)\" d=\"M 128.945455 10.999219 \nL 153.294545 10.999219 \nL 153.294545 26.530647 \nL 128.945455 26.530647 \nL 128.945455 10.999219 \n\" style=\"fill:#00ffff;\"/>\n    <path clip-path=\"url(#p7410c64bac)\" d=\"M 153.294545 10.999219 \nL 177.643636 10.999219 \nL 177.643636 26.530647 \nL 153.294545 26.530647 \nL 153.294545 10.999219 \n\" style=\"fill:#00ffff;\"/>\n    <path clip-path=\"url(#p7410c64bac)\" d=\"M 177.643636 10.999219 \nL 201.992727 10.999219 \nL 201.992727 26.530647 \nL 177.643636 26.530647 \nL 177.643636 10.999219 \n\" style=\"fill:#00ffff;\"/>\n    <path clip-path=\"url(#p7410c64bac)\" d=\"M 201.992727 10.999219 \nL 226.341818 10.999219 \nL 226.341818 26.530647 \nL 201.992727 26.530647 \nL 201.992727 10.999219 \n\" style=\"fill:#00ffff;\"/>\n    <path clip-path=\"url(#p7410c64bac)\" d=\"M 226.341818 10.999219 \nL 250.690909 10.999219 \nL 250.690909 26.530647 \nL 226.341818 26.530647 \nL 226.341818 10.999219 \n\" style=\"fill:#00ffff;\"/>\n    <path clip-path=\"url(#p7410c64bac)\" d=\"M 250.690909 10.999219 \nL 275.04 10.999219 \nL 275.04 26.530647 \nL 250.690909 26.530647 \nL 250.690909 10.999219 \n\" style=\"fill:#00ffff;\"/>\n    <path clip-path=\"url(#p7410c64bac)\" d=\"M 7.2 26.530647 \nL 31.549091 26.530647 \nL 31.549091 42.062076 \nL 7.2 42.062076 \nL 7.2 26.530647 \n\" style=\"fill:#00ffff;\"/>\n    <path clip-path=\"url(#p7410c64bac)\" d=\"M 31.549091 26.530647 \nL 55.898182 26.530647 \nL 55.898182 42.062076 \nL 31.549091 42.062076 \nL 31.549091 26.530647 \n\" style=\"fill:#00ffff;\"/>\n    <path clip-path=\"url(#p7410c64bac)\" d=\"M 55.898182 26.530647 \nL 80.247273 26.530647 \nL 80.247273 42.062076 \nL 55.898182 42.062076 \nL 55.898182 26.530647 \n\" style=\"fill:#00ffff;\"/>\n    <path clip-path=\"url(#p7410c64bac)\" d=\"M 80.247273 26.530647 \nL 104.596364 26.530647 \nL 104.596364 42.062076 \nL 80.247273 42.062076 \nL 80.247273 26.530647 \n\" style=\"fill:#00ffff;\"/>\n    <path clip-path=\"url(#p7410c64bac)\" d=\"M 104.596364 26.530647 \nL 128.945455 26.530647 \nL 128.945455 42.062076 \nL 104.596364 42.062076 \nL 104.596364 26.530647 \n\" style=\"fill:#00ffff;\"/>\n    <path clip-path=\"url(#p7410c64bac)\" d=\"M 128.945455 26.530647 \nL 153.294545 26.530647 \nL 153.294545 42.062076 \nL 128.945455 42.062076 \nL 128.945455 26.530647 \n\" style=\"fill:#00ffff;\"/>\n    <path clip-path=\"url(#p7410c64bac)\" d=\"M 153.294545 26.530647 \nL 177.643636 26.530647 \nL 177.643636 42.062076 \nL 153.294545 42.062076 \nL 153.294545 26.530647 \n\" style=\"fill:#00ffff;\"/>\n    <path clip-path=\"url(#p7410c64bac)\" d=\"M 177.643636 26.530647 \nL 201.992727 26.530647 \nL 201.992727 42.062076 \nL 177.643636 42.062076 \nL 177.643636 26.530647 \n\" style=\"fill:#00ffff;\"/>\n    <path clip-path=\"url(#p7410c64bac)\" d=\"M 201.992727 26.530647 \nL 226.341818 26.530647 \nL 226.341818 42.062076 \nL 201.992727 42.062076 \nL 201.992727 26.530647 \n\" style=\"fill:#00ffff;\"/>\n    <path clip-path=\"url(#p7410c64bac)\" d=\"M 226.341818 26.530647 \nL 250.690909 26.530647 \nL 250.690909 42.062076 \nL 226.341818 42.062076 \nL 226.341818 26.530647 \n\" style=\"fill:#00ffff;\"/>\n    <path clip-path=\"url(#p7410c64bac)\" d=\"M 250.690909 26.530647 \nL 275.04 26.530647 \nL 275.04 42.062076 \nL 250.690909 42.062076 \nL 250.690909 26.530647 \n\" style=\"fill:#00ffff;\"/>\n    <path clip-path=\"url(#p7410c64bac)\" d=\"M 7.2 42.062076 \nL 31.549091 42.062076 \nL 31.549091 57.593504 \nL 7.2 57.593504 \nL 7.2 42.062076 \n\" style=\"fill:#00ffff;\"/>\n    <path clip-path=\"url(#p7410c64bac)\" d=\"M 31.549091 42.062076 \nL 55.898182 42.062076 \nL 55.898182 57.593504 \nL 31.549091 57.593504 \nL 31.549091 42.062076 \n\" style=\"fill:#00ffff;\"/>\n    <path clip-path=\"url(#p7410c64bac)\" d=\"M 55.898182 42.062076 \nL 80.247273 42.062076 \nL 80.247273 57.593504 \nL 55.898182 57.593504 \nL 55.898182 42.062076 \n\" style=\"fill:#ff00ff;\"/>\n    <path clip-path=\"url(#p7410c64bac)\" d=\"M 80.247273 42.062076 \nL 104.596364 42.062076 \nL 104.596364 57.593504 \nL 80.247273 57.593504 \nL 80.247273 42.062076 \n\" style=\"fill:#00ffff;\"/>\n    <path clip-path=\"url(#p7410c64bac)\" d=\"M 104.596364 42.062076 \nL 128.945455 42.062076 \nL 128.945455 57.593504 \nL 104.596364 57.593504 \nL 104.596364 42.062076 \n\" style=\"fill:#00ffff;\"/>\n    <path clip-path=\"url(#p7410c64bac)\" d=\"M 128.945455 42.062076 \nL 153.294545 42.062076 \nL 153.294545 57.593504 \nL 128.945455 57.593504 \nL 128.945455 42.062076 \n\" style=\"fill:#00ffff;\"/>\n    <path clip-path=\"url(#p7410c64bac)\" d=\"M 153.294545 42.062076 \nL 177.643636 42.062076 \nL 177.643636 57.593504 \nL 153.294545 57.593504 \nL 153.294545 42.062076 \n\" style=\"fill:#00ffff;\"/>\n    <path clip-path=\"url(#p7410c64bac)\" d=\"M 177.643636 42.062076 \nL 201.992727 42.062076 \nL 201.992727 57.593504 \nL 177.643636 57.593504 \nL 177.643636 42.062076 \n\" style=\"fill:#00ffff;\"/>\n    <path clip-path=\"url(#p7410c64bac)\" d=\"M 201.992727 42.062076 \nL 226.341818 42.062076 \nL 226.341818 57.593504 \nL 201.992727 57.593504 \nL 201.992727 42.062076 \n\" style=\"fill:#00ffff;\"/>\n    <path clip-path=\"url(#p7410c64bac)\" d=\"M 226.341818 42.062076 \nL 250.690909 42.062076 \nL 250.690909 57.593504 \nL 226.341818 57.593504 \nL 226.341818 42.062076 \n\" style=\"fill:#00ffff;\"/>\n    <path clip-path=\"url(#p7410c64bac)\" d=\"M 250.690909 42.062076 \nL 275.04 42.062076 \nL 275.04 57.593504 \nL 250.690909 57.593504 \nL 250.690909 42.062076 \n\" style=\"fill:#00ffff;\"/>\n    <path clip-path=\"url(#p7410c64bac)\" d=\"M 7.2 57.593504 \nL 31.549091 57.593504 \nL 31.549091 73.124933 \nL 7.2 73.124933 \nL 7.2 57.593504 \n\" style=\"fill:#00ffff;\"/>\n    <path clip-path=\"url(#p7410c64bac)\" d=\"M 31.549091 57.593504 \nL 55.898182 57.593504 \nL 55.898182 73.124933 \nL 31.549091 73.124933 \nL 31.549091 57.593504 \n\" style=\"fill:#ff00ff;\"/>\n    <path clip-path=\"url(#p7410c64bac)\" d=\"M 55.898182 57.593504 \nL 80.247273 57.593504 \nL 80.247273 73.124933 \nL 55.898182 73.124933 \nL 55.898182 57.593504 \n\" style=\"fill:#00ffff;\"/>\n    <path clip-path=\"url(#p7410c64bac)\" d=\"M 80.247273 57.593504 \nL 104.596364 57.593504 \nL 104.596364 73.124933 \nL 80.247273 73.124933 \nL 80.247273 57.593504 \n\" style=\"fill:#00ffff;\"/>\n    <path clip-path=\"url(#p7410c64bac)\" d=\"M 104.596364 57.593504 \nL 128.945455 57.593504 \nL 128.945455 73.124933 \nL 104.596364 73.124933 \nL 104.596364 57.593504 \n\" style=\"fill:#00ffff;\"/>\n    <path clip-path=\"url(#p7410c64bac)\" d=\"M 128.945455 57.593504 \nL 153.294545 57.593504 \nL 153.294545 73.124933 \nL 128.945455 73.124933 \nL 128.945455 57.593504 \n\" style=\"fill:#00ffff;\"/>\n    <path clip-path=\"url(#p7410c64bac)\" d=\"M 153.294545 57.593504 \nL 177.643636 57.593504 \nL 177.643636 73.124933 \nL 153.294545 73.124933 \nL 153.294545 57.593504 \n\" style=\"fill:#00ffff;\"/>\n    <path clip-path=\"url(#p7410c64bac)\" d=\"M 177.643636 57.593504 \nL 201.992727 57.593504 \nL 201.992727 73.124933 \nL 177.643636 73.124933 \nL 177.643636 57.593504 \n\" style=\"fill:#00ffff;\"/>\n    <path clip-path=\"url(#p7410c64bac)\" d=\"M 201.992727 57.593504 \nL 226.341818 57.593504 \nL 226.341818 73.124933 \nL 201.992727 73.124933 \nL 201.992727 57.593504 \n\" style=\"fill:#00ffff;\"/>\n    <path clip-path=\"url(#p7410c64bac)\" d=\"M 226.341818 57.593504 \nL 250.690909 57.593504 \nL 250.690909 73.124933 \nL 226.341818 73.124933 \nL 226.341818 57.593504 \n\" style=\"fill:#00ffff;\"/>\n    <path clip-path=\"url(#p7410c64bac)\" d=\"M 250.690909 57.593504 \nL 275.04 57.593504 \nL 275.04 73.124933 \nL 250.690909 73.124933 \nL 250.690909 57.593504 \n\" style=\"fill:#00ffff;\"/>\n    <path clip-path=\"url(#p7410c64bac)\" d=\"M 7.2 73.124933 \nL 31.549091 73.124933 \nL 31.549091 88.656362 \nL 7.2 88.656362 \nL 7.2 73.124933 \n\" style=\"fill:#00ffff;\"/>\n    <path clip-path=\"url(#p7410c64bac)\" d=\"M 31.549091 73.124933 \nL 55.898182 73.124933 \nL 55.898182 88.656362 \nL 31.549091 88.656362 \nL 31.549091 73.124933 \n\" style=\"fill:#00ffff;\"/>\n    <path clip-path=\"url(#p7410c64bac)\" d=\"M 55.898182 73.124933 \nL 80.247273 73.124933 \nL 80.247273 88.656362 \nL 55.898182 88.656362 \nL 55.898182 73.124933 \n\" style=\"fill:#00ffff;\"/>\n    <path clip-path=\"url(#p7410c64bac)\" d=\"M 80.247273 73.124933 \nL 104.596364 73.124933 \nL 104.596364 88.656362 \nL 80.247273 88.656362 \nL 80.247273 73.124933 \n\" style=\"fill:#00ffff;\"/>\n    <path clip-path=\"url(#p7410c64bac)\" d=\"M 104.596364 73.124933 \nL 128.945455 73.124933 \nL 128.945455 88.656362 \nL 104.596364 88.656362 \nL 104.596364 73.124933 \n\" style=\"fill:#00ffff;\"/>\n    <path clip-path=\"url(#p7410c64bac)\" d=\"M 128.945455 73.124933 \nL 153.294545 73.124933 \nL 153.294545 88.656362 \nL 128.945455 88.656362 \nL 128.945455 73.124933 \n\" style=\"fill:#00ffff;\"/>\n    <path clip-path=\"url(#p7410c64bac)\" d=\"M 153.294545 73.124933 \nL 177.643636 73.124933 \nL 177.643636 88.656362 \nL 153.294545 88.656362 \nL 153.294545 73.124933 \n\" style=\"fill:#00ffff;\"/>\n    <path clip-path=\"url(#p7410c64bac)\" d=\"M 177.643636 73.124933 \nL 201.992727 73.124933 \nL 201.992727 88.656362 \nL 177.643636 88.656362 \nL 177.643636 73.124933 \n\" style=\"fill:#ff00ff;\"/>\n    <path clip-path=\"url(#p7410c64bac)\" d=\"M 201.992727 73.124933 \nL 226.341818 73.124933 \nL 226.341818 88.656362 \nL 201.992727 88.656362 \nL 201.992727 73.124933 \n\" style=\"fill:#00ffff;\"/>\n    <path clip-path=\"url(#p7410c64bac)\" d=\"M 226.341818 73.124933 \nL 250.690909 73.124933 \nL 250.690909 88.656362 \nL 226.341818 88.656362 \nL 226.341818 73.124933 \n\" style=\"fill:#00ffff;\"/>\n    <path clip-path=\"url(#p7410c64bac)\" d=\"M 250.690909 73.124933 \nL 275.04 73.124933 \nL 275.04 88.656362 \nL 250.690909 88.656362 \nL 250.690909 73.124933 \n\" style=\"fill:#00ffff;\"/>\n    <path clip-path=\"url(#p7410c64bac)\" d=\"M 7.2 88.656362 \nL 31.549091 88.656362 \nL 31.549091 104.18779 \nL 7.2 104.18779 \nL 7.2 88.656362 \n\" style=\"fill:#00ffff;\"/>\n    <path clip-path=\"url(#p7410c64bac)\" d=\"M 31.549091 88.656362 \nL 55.898182 88.656362 \nL 55.898182 104.18779 \nL 31.549091 104.18779 \nL 31.549091 88.656362 \n\" style=\"fill:#00ffff;\"/>\n    <path clip-path=\"url(#p7410c64bac)\" d=\"M 55.898182 88.656362 \nL 80.247273 88.656362 \nL 80.247273 104.18779 \nL 55.898182 104.18779 \nL 55.898182 88.656362 \n\" style=\"fill:#00ffff;\"/>\n    <path clip-path=\"url(#p7410c64bac)\" d=\"M 80.247273 88.656362 \nL 104.596364 88.656362 \nL 104.596364 104.18779 \nL 80.247273 104.18779 \nL 80.247273 88.656362 \n\" style=\"fill:#00ffff;\"/>\n    <path clip-path=\"url(#p7410c64bac)\" d=\"M 104.596364 88.656362 \nL 128.945455 88.656362 \nL 128.945455 104.18779 \nL 104.596364 104.18779 \nL 104.596364 88.656362 \n\" style=\"fill:#00ffff;\"/>\n    <path clip-path=\"url(#p7410c64bac)\" d=\"M 128.945455 88.656362 \nL 153.294545 88.656362 \nL 153.294545 104.18779 \nL 128.945455 104.18779 \nL 128.945455 88.656362 \n\" style=\"fill:#00ffff;\"/>\n    <path clip-path=\"url(#p7410c64bac)\" d=\"M 153.294545 88.656362 \nL 177.643636 88.656362 \nL 177.643636 104.18779 \nL 153.294545 104.18779 \nL 153.294545 88.656362 \n\" style=\"fill:#00ffff;\"/>\n    <path clip-path=\"url(#p7410c64bac)\" d=\"M 177.643636 88.656362 \nL 201.992727 88.656362 \nL 201.992727 104.18779 \nL 177.643636 104.18779 \nL 177.643636 88.656362 \n\" style=\"fill:#00ffff;\"/>\n    <path clip-path=\"url(#p7410c64bac)\" d=\"M 201.992727 88.656362 \nL 226.341818 88.656362 \nL 226.341818 104.18779 \nL 201.992727 104.18779 \nL 201.992727 88.656362 \n\" style=\"fill:#00ffff;\"/>\n    <path clip-path=\"url(#p7410c64bac)\" d=\"M 226.341818 88.656362 \nL 250.690909 88.656362 \nL 250.690909 104.18779 \nL 226.341818 104.18779 \nL 226.341818 88.656362 \n\" style=\"fill:#00ffff;\"/>\n    <path clip-path=\"url(#p7410c64bac)\" d=\"M 250.690909 88.656362 \nL 275.04 88.656362 \nL 275.04 104.18779 \nL 250.690909 104.18779 \nL 250.690909 88.656362 \n\" style=\"fill:#00ffff;\"/>\n    <path clip-path=\"url(#p7410c64bac)\" d=\"M 7.2 104.18779 \nL 31.549091 104.18779 \nL 31.549091 119.719219 \nL 7.2 119.719219 \nL 7.2 104.18779 \n\" style=\"fill:#00ffff;\"/>\n    <path clip-path=\"url(#p7410c64bac)\" d=\"M 31.549091 104.18779 \nL 55.898182 104.18779 \nL 55.898182 119.719219 \nL 31.549091 119.719219 \nL 31.549091 104.18779 \n\" style=\"fill:#00ffff;\"/>\n    <path clip-path=\"url(#p7410c64bac)\" d=\"M 55.898182 104.18779 \nL 80.247273 104.18779 \nL 80.247273 119.719219 \nL 55.898182 119.719219 \nL 55.898182 104.18779 \n\" style=\"fill:#00ffff;\"/>\n    <path clip-path=\"url(#p7410c64bac)\" d=\"M 80.247273 104.18779 \nL 104.596364 104.18779 \nL 104.596364 119.719219 \nL 80.247273 119.719219 \nL 80.247273 104.18779 \n\" style=\"fill:#00ffff;\"/>\n    <path clip-path=\"url(#p7410c64bac)\" d=\"M 104.596364 104.18779 \nL 128.945455 104.18779 \nL 128.945455 119.719219 \nL 104.596364 119.719219 \nL 104.596364 104.18779 \n\" style=\"fill:#00ffff;\"/>\n    <path clip-path=\"url(#p7410c64bac)\" d=\"M 128.945455 104.18779 \nL 153.294545 104.18779 \nL 153.294545 119.719219 \nL 128.945455 119.719219 \nL 128.945455 104.18779 \n\" style=\"fill:#00ffff;\"/>\n    <path clip-path=\"url(#p7410c64bac)\" d=\"M 153.294545 104.18779 \nL 177.643636 104.18779 \nL 177.643636 119.719219 \nL 153.294545 119.719219 \nL 153.294545 104.18779 \n\" style=\"fill:#00ffff;\"/>\n    <path clip-path=\"url(#p7410c64bac)\" d=\"M 177.643636 104.18779 \nL 201.992727 104.18779 \nL 201.992727 119.719219 \nL 177.643636 119.719219 \nL 177.643636 104.18779 \n\" style=\"fill:#00ffff;\"/>\n    <path clip-path=\"url(#p7410c64bac)\" d=\"M 201.992727 104.18779 \nL 226.341818 104.18779 \nL 226.341818 119.719219 \nL 201.992727 119.719219 \nL 201.992727 104.18779 \n\" style=\"fill:#00ffff;\"/>\n    <path clip-path=\"url(#p7410c64bac)\" d=\"M 226.341818 104.18779 \nL 250.690909 104.18779 \nL 250.690909 119.719219 \nL 226.341818 119.719219 \nL 226.341818 104.18779 \n\" style=\"fill:#00ffff;\"/>\n    <path clip-path=\"url(#p7410c64bac)\" d=\"M 250.690909 104.18779 \nL 275.04 104.18779 \nL 275.04 119.719219 \nL 250.690909 119.719219 \nL 250.690909 104.18779 \n\" style=\"fill:#00ffff;\"/>\n    <path clip-path=\"url(#p7410c64bac)\" d=\"M 7.2 119.719219 \nL 31.549091 119.719219 \nL 31.549091 135.250647 \nL 7.2 135.250647 \nL 7.2 119.719219 \n\" style=\"fill:#00ffff;\"/>\n    <path clip-path=\"url(#p7410c64bac)\" d=\"M 31.549091 119.719219 \nL 55.898182 119.719219 \nL 55.898182 135.250647 \nL 31.549091 135.250647 \nL 31.549091 119.719219 \n\" style=\"fill:#00ffff;\"/>\n    <path clip-path=\"url(#p7410c64bac)\" d=\"M 55.898182 119.719219 \nL 80.247273 119.719219 \nL 80.247273 135.250647 \nL 55.898182 135.250647 \nL 55.898182 119.719219 \n\" style=\"fill:#00ffff;\"/>\n    <path clip-path=\"url(#p7410c64bac)\" d=\"M 80.247273 119.719219 \nL 104.596364 119.719219 \nL 104.596364 135.250647 \nL 80.247273 135.250647 \nL 80.247273 119.719219 \n\" style=\"fill:#00ffff;\"/>\n    <path clip-path=\"url(#p7410c64bac)\" d=\"M 104.596364 119.719219 \nL 128.945455 119.719219 \nL 128.945455 135.250647 \nL 104.596364 135.250647 \nL 104.596364 119.719219 \n\" style=\"fill:#00ffff;\"/>\n    <path clip-path=\"url(#p7410c64bac)\" d=\"M 128.945455 119.719219 \nL 153.294545 119.719219 \nL 153.294545 135.250647 \nL 128.945455 135.250647 \nL 128.945455 119.719219 \n\" style=\"fill:#00ffff;\"/>\n    <path clip-path=\"url(#p7410c64bac)\" d=\"M 153.294545 119.719219 \nL 177.643636 119.719219 \nL 177.643636 135.250647 \nL 153.294545 135.250647 \nL 153.294545 119.719219 \n\" style=\"fill:#00ffff;\"/>\n    <path clip-path=\"url(#p7410c64bac)\" d=\"M 177.643636 119.719219 \nL 201.992727 119.719219 \nL 201.992727 135.250647 \nL 177.643636 135.250647 \nL 177.643636 119.719219 \n\" style=\"fill:#00ffff;\"/>\n    <path clip-path=\"url(#p7410c64bac)\" d=\"M 201.992727 119.719219 \nL 226.341818 119.719219 \nL 226.341818 135.250647 \nL 201.992727 135.250647 \nL 201.992727 119.719219 \n\" style=\"fill:#00ffff;\"/>\n    <path clip-path=\"url(#p7410c64bac)\" d=\"M 226.341818 119.719219 \nL 250.690909 119.719219 \nL 250.690909 135.250647 \nL 226.341818 135.250647 \nL 226.341818 119.719219 \n\" style=\"fill:#00ffff;\"/>\n    <path clip-path=\"url(#p7410c64bac)\" d=\"M 250.690909 119.719219 \nL 275.04 119.719219 \nL 275.04 135.250647 \nL 250.690909 135.250647 \nL 250.690909 119.719219 \n\" style=\"fill:#00ffff;\"/>\n    <path clip-path=\"url(#p7410c64bac)\" d=\"M 7.2 135.250647 \nL 31.549091 135.250647 \nL 31.549091 150.782076 \nL 7.2 150.782076 \nL 7.2 135.250647 \n\" style=\"fill:#00ffff;\"/>\n    <path clip-path=\"url(#p7410c64bac)\" d=\"M 31.549091 135.250647 \nL 55.898182 135.250647 \nL 55.898182 150.782076 \nL 31.549091 150.782076 \nL 31.549091 135.250647 \n\" style=\"fill:#00ffff;\"/>\n    <path clip-path=\"url(#p7410c64bac)\" d=\"M 55.898182 135.250647 \nL 80.247273 135.250647 \nL 80.247273 150.782076 \nL 55.898182 150.782076 \nL 55.898182 135.250647 \n\" style=\"fill:#00ffff;\"/>\n    <path clip-path=\"url(#p7410c64bac)\" d=\"M 80.247273 135.250647 \nL 104.596364 135.250647 \nL 104.596364 150.782076 \nL 80.247273 150.782076 \nL 80.247273 135.250647 \n\" style=\"fill:#00ffff;\"/>\n    <path clip-path=\"url(#p7410c64bac)\" d=\"M 104.596364 135.250647 \nL 128.945455 135.250647 \nL 128.945455 150.782076 \nL 104.596364 150.782076 \nL 104.596364 135.250647 \n\" style=\"fill:#00ffff;\"/>\n    <path clip-path=\"url(#p7410c64bac)\" d=\"M 128.945455 135.250647 \nL 153.294545 135.250647 \nL 153.294545 150.782076 \nL 128.945455 150.782076 \nL 128.945455 135.250647 \n\" style=\"fill:#00ffff;\"/>\n    <path clip-path=\"url(#p7410c64bac)\" d=\"M 153.294545 135.250647 \nL 177.643636 135.250647 \nL 177.643636 150.782076 \nL 153.294545 150.782076 \nL 153.294545 135.250647 \n\" style=\"fill:#00ffff;\"/>\n    <path clip-path=\"url(#p7410c64bac)\" d=\"M 177.643636 135.250647 \nL 201.992727 135.250647 \nL 201.992727 150.782076 \nL 177.643636 150.782076 \nL 177.643636 135.250647 \n\" style=\"fill:#00ffff;\"/>\n    <path clip-path=\"url(#p7410c64bac)\" d=\"M 201.992727 135.250647 \nL 226.341818 135.250647 \nL 226.341818 150.782076 \nL 201.992727 150.782076 \nL 201.992727 135.250647 \n\" style=\"fill:#00ffff;\"/>\n    <path clip-path=\"url(#p7410c64bac)\" d=\"M 226.341818 135.250647 \nL 250.690909 135.250647 \nL 250.690909 150.782076 \nL 226.341818 150.782076 \nL 226.341818 135.250647 \n\" style=\"fill:#00ffff;\"/>\n    <path clip-path=\"url(#p7410c64bac)\" d=\"M 250.690909 135.250647 \nL 275.04 135.250647 \nL 275.04 150.782076 \nL 250.690909 150.782076 \nL 250.690909 135.250647 \n\" style=\"fill:#00ffff;\"/>\n    <path clip-path=\"url(#p7410c64bac)\" d=\"M 7.2 150.782076 \nL 31.549091 150.782076 \nL 31.549091 166.313504 \nL 7.2 166.313504 \nL 7.2 150.782076 \n\" style=\"fill:#00ffff;\"/>\n    <path clip-path=\"url(#p7410c64bac)\" d=\"M 31.549091 150.782076 \nL 55.898182 150.782076 \nL 55.898182 166.313504 \nL 31.549091 166.313504 \nL 31.549091 150.782076 \n\" style=\"fill:#ff00ff;\"/>\n    <path clip-path=\"url(#p7410c64bac)\" d=\"M 55.898182 150.782076 \nL 80.247273 150.782076 \nL 80.247273 166.313504 \nL 55.898182 166.313504 \nL 55.898182 150.782076 \n\" style=\"fill:#00ffff;\"/>\n    <path clip-path=\"url(#p7410c64bac)\" d=\"M 80.247273 150.782076 \nL 104.596364 150.782076 \nL 104.596364 166.313504 \nL 80.247273 166.313504 \nL 80.247273 150.782076 \n\" style=\"fill:#00ffff;\"/>\n    <path clip-path=\"url(#p7410c64bac)\" d=\"M 104.596364 150.782076 \nL 128.945455 150.782076 \nL 128.945455 166.313504 \nL 104.596364 166.313504 \nL 104.596364 150.782076 \n\" style=\"fill:#00ffff;\"/>\n    <path clip-path=\"url(#p7410c64bac)\" d=\"M 128.945455 150.782076 \nL 153.294545 150.782076 \nL 153.294545 166.313504 \nL 128.945455 166.313504 \nL 128.945455 150.782076 \n\" style=\"fill:#00ffff;\"/>\n    <path clip-path=\"url(#p7410c64bac)\" d=\"M 153.294545 150.782076 \nL 177.643636 150.782076 \nL 177.643636 166.313504 \nL 153.294545 166.313504 \nL 153.294545 150.782076 \n\" style=\"fill:#00ffff;\"/>\n    <path clip-path=\"url(#p7410c64bac)\" d=\"M 177.643636 150.782076 \nL 201.992727 150.782076 \nL 201.992727 166.313504 \nL 177.643636 166.313504 \nL 177.643636 150.782076 \n\" style=\"fill:#00ffff;\"/>\n    <path clip-path=\"url(#p7410c64bac)\" d=\"M 201.992727 150.782076 \nL 226.341818 150.782076 \nL 226.341818 166.313504 \nL 201.992727 166.313504 \nL 201.992727 150.782076 \n\" style=\"fill:#00ffff;\"/>\n    <path clip-path=\"url(#p7410c64bac)\" d=\"M 226.341818 150.782076 \nL 250.690909 150.782076 \nL 250.690909 166.313504 \nL 226.341818 166.313504 \nL 226.341818 150.782076 \n\" style=\"fill:#00ffff;\"/>\n    <path clip-path=\"url(#p7410c64bac)\" d=\"M 250.690909 150.782076 \nL 275.04 150.782076 \nL 275.04 166.313504 \nL 250.690909 166.313504 \nL 250.690909 150.782076 \n\" style=\"fill:#00ffff;\"/>\n    <path clip-path=\"url(#p7410c64bac)\" d=\"M 7.2 166.313504 \nL 31.549091 166.313504 \nL 31.549091 181.844933 \nL 7.2 181.844933 \nL 7.2 166.313504 \n\" style=\"fill:#00ffff;\"/>\n    <path clip-path=\"url(#p7410c64bac)\" d=\"M 31.549091 166.313504 \nL 55.898182 166.313504 \nL 55.898182 181.844933 \nL 31.549091 181.844933 \nL 31.549091 166.313504 \n\" style=\"fill:#00ffff;\"/>\n    <path clip-path=\"url(#p7410c64bac)\" d=\"M 55.898182 166.313504 \nL 80.247273 166.313504 \nL 80.247273 181.844933 \nL 55.898182 181.844933 \nL 55.898182 166.313504 \n\" style=\"fill:#ff00ff;\"/>\n    <path clip-path=\"url(#p7410c64bac)\" d=\"M 80.247273 166.313504 \nL 104.596364 166.313504 \nL 104.596364 181.844933 \nL 80.247273 181.844933 \nL 80.247273 166.313504 \n\" style=\"fill:#00ffff;\"/>\n    <path clip-path=\"url(#p7410c64bac)\" d=\"M 104.596364 166.313504 \nL 128.945455 166.313504 \nL 128.945455 181.844933 \nL 104.596364 181.844933 \nL 104.596364 166.313504 \n\" style=\"fill:#00ffff;\"/>\n    <path clip-path=\"url(#p7410c64bac)\" d=\"M 128.945455 166.313504 \nL 153.294545 166.313504 \nL 153.294545 181.844933 \nL 128.945455 181.844933 \nL 128.945455 166.313504 \n\" style=\"fill:#00ffff;\"/>\n    <path clip-path=\"url(#p7410c64bac)\" d=\"M 153.294545 166.313504 \nL 177.643636 166.313504 \nL 177.643636 181.844933 \nL 153.294545 181.844933 \nL 153.294545 166.313504 \n\" style=\"fill:#00ffff;\"/>\n    <path clip-path=\"url(#p7410c64bac)\" d=\"M 177.643636 166.313504 \nL 201.992727 166.313504 \nL 201.992727 181.844933 \nL 177.643636 181.844933 \nL 177.643636 166.313504 \n\" style=\"fill:#00ffff;\"/>\n    <path clip-path=\"url(#p7410c64bac)\" d=\"M 201.992727 166.313504 \nL 226.341818 166.313504 \nL 226.341818 181.844933 \nL 201.992727 181.844933 \nL 201.992727 166.313504 \n\" style=\"fill:#00ffff;\"/>\n    <path clip-path=\"url(#p7410c64bac)\" d=\"M 226.341818 166.313504 \nL 250.690909 166.313504 \nL 250.690909 181.844933 \nL 226.341818 181.844933 \nL 226.341818 166.313504 \n\" style=\"fill:#00ffff;\"/>\n    <path clip-path=\"url(#p7410c64bac)\" d=\"M 250.690909 166.313504 \nL 275.04 166.313504 \nL 275.04 181.844933 \nL 250.690909 181.844933 \nL 250.690909 166.313504 \n\" style=\"fill:#00ffff;\"/>\n    <path clip-path=\"url(#p7410c64bac)\" d=\"M 7.2 181.844933 \nL 31.549091 181.844933 \nL 31.549091 197.376362 \nL 7.2 197.376362 \nL 7.2 181.844933 \n\" style=\"fill:#00ffff;\"/>\n    <path clip-path=\"url(#p7410c64bac)\" d=\"M 31.549091 181.844933 \nL 55.898182 181.844933 \nL 55.898182 197.376362 \nL 31.549091 197.376362 \nL 31.549091 181.844933 \n\" style=\"fill:#ff00ff;\"/>\n    <path clip-path=\"url(#p7410c64bac)\" d=\"M 55.898182 181.844933 \nL 80.247273 181.844933 \nL 80.247273 197.376362 \nL 55.898182 197.376362 \nL 55.898182 181.844933 \n\" style=\"fill:#ff00ff;\"/>\n    <path clip-path=\"url(#p7410c64bac)\" d=\"M 80.247273 181.844933 \nL 104.596364 181.844933 \nL 104.596364 197.376362 \nL 80.247273 197.376362 \nL 80.247273 181.844933 \n\" style=\"fill:#00ffff;\"/>\n    <path clip-path=\"url(#p7410c64bac)\" d=\"M 104.596364 181.844933 \nL 128.945455 181.844933 \nL 128.945455 197.376362 \nL 104.596364 197.376362 \nL 104.596364 181.844933 \n\" style=\"fill:#00ffff;\"/>\n    <path clip-path=\"url(#p7410c64bac)\" d=\"M 128.945455 181.844933 \nL 153.294545 181.844933 \nL 153.294545 197.376362 \nL 128.945455 197.376362 \nL 128.945455 181.844933 \n\" style=\"fill:#00ffff;\"/>\n    <path clip-path=\"url(#p7410c64bac)\" d=\"M 153.294545 181.844933 \nL 177.643636 181.844933 \nL 177.643636 197.376362 \nL 153.294545 197.376362 \nL 153.294545 181.844933 \n\" style=\"fill:#00ffff;\"/>\n    <path clip-path=\"url(#p7410c64bac)\" d=\"M 177.643636 181.844933 \nL 201.992727 181.844933 \nL 201.992727 197.376362 \nL 177.643636 197.376362 \nL 177.643636 181.844933 \n\" style=\"fill:#00ffff;\"/>\n    <path clip-path=\"url(#p7410c64bac)\" d=\"M 201.992727 181.844933 \nL 226.341818 181.844933 \nL 226.341818 197.376362 \nL 201.992727 197.376362 \nL 201.992727 181.844933 \n\" style=\"fill:#00ffff;\"/>\n    <path clip-path=\"url(#p7410c64bac)\" d=\"M 226.341818 181.844933 \nL 250.690909 181.844933 \nL 250.690909 197.376362 \nL 226.341818 197.376362 \nL 226.341818 181.844933 \n\" style=\"fill:#00ffff;\"/>\n    <path clip-path=\"url(#p7410c64bac)\" d=\"M 250.690909 181.844933 \nL 275.04 181.844933 \nL 275.04 197.376362 \nL 250.690909 197.376362 \nL 250.690909 181.844933 \n\" style=\"fill:#00ffff;\"/>\n    <path clip-path=\"url(#p7410c64bac)\" d=\"M 7.2 197.376362 \nL 31.549091 197.376362 \nL 31.549091 212.90779 \nL 7.2 212.90779 \nL 7.2 197.376362 \n\" style=\"fill:#00ffff;\"/>\n    <path clip-path=\"url(#p7410c64bac)\" d=\"M 31.549091 197.376362 \nL 55.898182 197.376362 \nL 55.898182 212.90779 \nL 31.549091 212.90779 \nL 31.549091 197.376362 \n\" style=\"fill:#ff00ff;\"/>\n    <path clip-path=\"url(#p7410c64bac)\" d=\"M 55.898182 197.376362 \nL 80.247273 197.376362 \nL 80.247273 212.90779 \nL 55.898182 212.90779 \nL 55.898182 197.376362 \n\" style=\"fill:#ff00ff;\"/>\n    <path clip-path=\"url(#p7410c64bac)\" d=\"M 80.247273 197.376362 \nL 104.596364 197.376362 \nL 104.596364 212.90779 \nL 80.247273 212.90779 \nL 80.247273 197.376362 \n\" style=\"fill:#ff00ff;\"/>\n    <path clip-path=\"url(#p7410c64bac)\" d=\"M 104.596364 197.376362 \nL 128.945455 197.376362 \nL 128.945455 212.90779 \nL 104.596364 212.90779 \nL 104.596364 197.376362 \n\" style=\"fill:#ff00ff;\"/>\n    <path clip-path=\"url(#p7410c64bac)\" d=\"M 128.945455 197.376362 \nL 153.294545 197.376362 \nL 153.294545 212.90779 \nL 128.945455 212.90779 \nL 128.945455 197.376362 \n\" style=\"fill:#ff00ff;\"/>\n    <path clip-path=\"url(#p7410c64bac)\" d=\"M 153.294545 197.376362 \nL 177.643636 197.376362 \nL 177.643636 212.90779 \nL 153.294545 212.90779 \nL 153.294545 197.376362 \n\" style=\"fill:#ff00ff;\"/>\n    <path clip-path=\"url(#p7410c64bac)\" d=\"M 177.643636 197.376362 \nL 201.992727 197.376362 \nL 201.992727 212.90779 \nL 177.643636 212.90779 \nL 177.643636 197.376362 \n\" style=\"fill:#ff00ff;\"/>\n    <path clip-path=\"url(#p7410c64bac)\" d=\"M 201.992727 197.376362 \nL 226.341818 197.376362 \nL 226.341818 212.90779 \nL 201.992727 212.90779 \nL 201.992727 197.376362 \n\" style=\"fill:#ff00ff;\"/>\n    <path clip-path=\"url(#p7410c64bac)\" d=\"M 226.341818 197.376362 \nL 250.690909 197.376362 \nL 250.690909 212.90779 \nL 226.341818 212.90779 \nL 226.341818 197.376362 \n\" style=\"fill:#00ffff;\"/>\n    <path clip-path=\"url(#p7410c64bac)\" d=\"M 250.690909 197.376362 \nL 275.04 197.376362 \nL 275.04 212.90779 \nL 250.690909 212.90779 \nL 250.690909 197.376362 \n\" style=\"fill:#ff00ff;\"/>\n    <path clip-path=\"url(#p7410c64bac)\" d=\"M 7.2 212.90779 \nL 31.549091 212.90779 \nL 31.549091 228.439219 \nL 7.2 228.439219 \nL 7.2 212.90779 \n\" style=\"fill:#00ffff;\"/>\n    <path clip-path=\"url(#p7410c64bac)\" d=\"M 31.549091 212.90779 \nL 55.898182 212.90779 \nL 55.898182 228.439219 \nL 31.549091 228.439219 \nL 31.549091 212.90779 \n\" style=\"fill:#00ffff;\"/>\n    <path clip-path=\"url(#p7410c64bac)\" d=\"M 55.898182 212.90779 \nL 80.247273 212.90779 \nL 80.247273 228.439219 \nL 55.898182 228.439219 \nL 55.898182 212.90779 \n\" style=\"fill:#00ffff;\"/>\n    <path clip-path=\"url(#p7410c64bac)\" d=\"M 80.247273 212.90779 \nL 104.596364 212.90779 \nL 104.596364 228.439219 \nL 80.247273 228.439219 \nL 80.247273 212.90779 \n\" style=\"fill:#00ffff;\"/>\n    <path clip-path=\"url(#p7410c64bac)\" d=\"M 104.596364 212.90779 \nL 128.945455 212.90779 \nL 128.945455 228.439219 \nL 104.596364 228.439219 \nL 104.596364 212.90779 \n\" style=\"fill:#00ffff;\"/>\n    <path clip-path=\"url(#p7410c64bac)\" d=\"M 128.945455 212.90779 \nL 153.294545 212.90779 \nL 153.294545 228.439219 \nL 128.945455 228.439219 \nL 128.945455 212.90779 \n\" style=\"fill:#00ffff;\"/>\n    <path clip-path=\"url(#p7410c64bac)\" d=\"M 153.294545 212.90779 \nL 177.643636 212.90779 \nL 177.643636 228.439219 \nL 153.294545 228.439219 \nL 153.294545 212.90779 \n\" style=\"fill:#00ffff;\"/>\n    <path clip-path=\"url(#p7410c64bac)\" d=\"M 177.643636 212.90779 \nL 201.992727 212.90779 \nL 201.992727 228.439219 \nL 177.643636 228.439219 \nL 177.643636 212.90779 \n\" style=\"fill:#00ffff;\"/>\n    <path clip-path=\"url(#p7410c64bac)\" d=\"M 201.992727 212.90779 \nL 226.341818 212.90779 \nL 226.341818 228.439219 \nL 201.992727 228.439219 \nL 201.992727 212.90779 \n\" style=\"fill:#00ffff;\"/>\n    <path clip-path=\"url(#p7410c64bac)\" d=\"M 226.341818 212.90779 \nL 250.690909 212.90779 \nL 250.690909 228.439219 \nL 226.341818 228.439219 \nL 226.341818 212.90779 \n\" style=\"fill:#ff00ff;\"/>\n    <path clip-path=\"url(#p7410c64bac)\" d=\"M 250.690909 212.90779 \nL 275.04 212.90779 \nL 275.04 228.439219 \nL 250.690909 228.439219 \nL 250.690909 212.90779 \n\" style=\"fill:#ff00ff;\"/>\n   </g>\n   <g id=\"matplotlib.axis_1\">\n    <g id=\"xtick_1\">\n     <g id=\"line2d_1\">\n      <defs>\n       <path d=\"M 0 0 \nL 0 3.5 \n\" id=\"m72cde5f3c4\" style=\"stroke:#000000;stroke-width:0.8;\"/>\n      </defs>\n      <g>\n       <use style=\"stroke:#000000;stroke-width:0.8;\" x=\"19.374545\" xlink:href=\"#m72cde5f3c4\" y=\"228.439219\"/>\n      </g>\n     </g>\n     <g id=\"text_1\">\n      <!-- ID -->\n      <defs>\n       <path d=\"M 9.8125 72.90625 \nL 19.671875 72.90625 \nL 19.671875 0 \nL 9.8125 0 \nz\n\" id=\"DejaVuSans-73\"/>\n       <path d=\"M 19.671875 64.796875 \nL 19.671875 8.109375 \nL 31.59375 8.109375 \nQ 46.6875 8.109375 53.6875 14.9375 \nQ 60.6875 21.78125 60.6875 36.53125 \nQ 60.6875 51.171875 53.6875 57.984375 \nQ 46.6875 64.796875 31.59375 64.796875 \nz\nM 9.8125 72.90625 \nL 30.078125 72.90625 \nQ 51.265625 72.90625 61.171875 64.09375 \nQ 71.09375 55.28125 71.09375 36.53125 \nQ 71.09375 17.671875 61.125 8.828125 \nQ 51.171875 0 30.078125 0 \nL 9.8125 0 \nz\n\" id=\"DejaVuSans-68\"/>\n      </defs>\n      <g transform=\"translate(22.13392 246.089219)rotate(-90)scale(0.1 -0.1)\">\n       <use xlink:href=\"#DejaVuSans-73\"/>\n       <use x=\"29.492188\" xlink:href=\"#DejaVuSans-68\"/>\n      </g>\n     </g>\n    </g>\n    <g id=\"xtick_2\">\n     <g id=\"line2d_2\">\n      <g>\n       <use style=\"stroke:#000000;stroke-width:0.8;\" x=\"43.723636\" xlink:href=\"#m72cde5f3c4\" y=\"228.439219\"/>\n      </g>\n     </g>\n     <g id=\"text_2\">\n      <!-- Age -->\n      <defs>\n       <path d=\"M 34.1875 63.1875 \nL 20.796875 26.90625 \nL 47.609375 26.90625 \nz\nM 28.609375 72.90625 \nL 39.796875 72.90625 \nL 67.578125 0 \nL 57.328125 0 \nL 50.6875 18.703125 \nL 17.828125 18.703125 \nL 11.1875 0 \nL 0.78125 0 \nz\n\" id=\"DejaVuSans-65\"/>\n       <path d=\"M 45.40625 27.984375 \nQ 45.40625 37.75 41.375 43.109375 \nQ 37.359375 48.484375 30.078125 48.484375 \nQ 22.859375 48.484375 18.828125 43.109375 \nQ 14.796875 37.75 14.796875 27.984375 \nQ 14.796875 18.265625 18.828125 12.890625 \nQ 22.859375 7.515625 30.078125 7.515625 \nQ 37.359375 7.515625 41.375 12.890625 \nQ 45.40625 18.265625 45.40625 27.984375 \nz\nM 54.390625 6.78125 \nQ 54.390625 -7.171875 48.1875 -13.984375 \nQ 42 -20.796875 29.203125 -20.796875 \nQ 24.46875 -20.796875 20.265625 -20.09375 \nQ 16.0625 -19.390625 12.109375 -17.921875 \nL 12.109375 -9.1875 \nQ 16.0625 -11.328125 19.921875 -12.34375 \nQ 23.78125 -13.375 27.78125 -13.375 \nQ 36.625 -13.375 41.015625 -8.765625 \nQ 45.40625 -4.15625 45.40625 5.171875 \nL 45.40625 9.625 \nQ 42.625 4.78125 38.28125 2.390625 \nQ 33.9375 0 27.875 0 \nQ 17.828125 0 11.671875 7.65625 \nQ 5.515625 15.328125 5.515625 27.984375 \nQ 5.515625 40.671875 11.671875 48.328125 \nQ 17.828125 56 27.875 56 \nQ 33.9375 56 38.28125 53.609375 \nQ 42.625 51.21875 45.40625 46.390625 \nL 45.40625 54.6875 \nL 54.390625 54.6875 \nz\n\" id=\"DejaVuSans-103\"/>\n       <path d=\"M 56.203125 29.59375 \nL 56.203125 25.203125 \nL 14.890625 25.203125 \nQ 15.484375 15.921875 20.484375 11.0625 \nQ 25.484375 6.203125 34.421875 6.203125 \nQ 39.59375 6.203125 44.453125 7.46875 \nQ 49.3125 8.734375 54.109375 11.28125 \nL 54.109375 2.78125 \nQ 49.265625 0.734375 44.1875 -0.34375 \nQ 39.109375 -1.421875 33.890625 -1.421875 \nQ 20.796875 -1.421875 13.15625 6.1875 \nQ 5.515625 13.8125 5.515625 26.8125 \nQ 5.515625 40.234375 12.765625 48.109375 \nQ 20.015625 56 32.328125 56 \nQ 43.359375 56 49.78125 48.890625 \nQ 56.203125 41.796875 56.203125 29.59375 \nz\nM 47.21875 32.234375 \nQ 47.125 39.59375 43.09375 43.984375 \nQ 39.0625 48.390625 32.421875 48.390625 \nQ 24.90625 48.390625 20.390625 44.140625 \nQ 15.875 39.890625 15.1875 32.171875 \nz\n\" id=\"DejaVuSans-101\"/>\n      </defs>\n      <g transform=\"translate(46.483011 254.781406)rotate(-90)scale(0.1 -0.1)\">\n       <use xlink:href=\"#DejaVuSans-65\"/>\n       <use x=\"68.408203\" xlink:href=\"#DejaVuSans-103\"/>\n       <use x=\"131.884766\" xlink:href=\"#DejaVuSans-101\"/>\n      </g>\n     </g>\n    </g>\n    <g id=\"xtick_3\">\n     <g id=\"line2d_3\">\n      <g>\n       <use style=\"stroke:#000000;stroke-width:0.8;\" x=\"68.072727\" xlink:href=\"#m72cde5f3c4\" y=\"228.439219\"/>\n      </g>\n     </g>\n     <g id=\"text_3\">\n      <!-- Weight -->\n      <defs>\n       <path d=\"M 3.328125 72.90625 \nL 13.28125 72.90625 \nL 28.609375 11.28125 \nL 43.890625 72.90625 \nL 54.984375 72.90625 \nL 70.3125 11.28125 \nL 85.59375 72.90625 \nL 95.609375 72.90625 \nL 77.296875 0 \nL 64.890625 0 \nL 49.515625 63.28125 \nL 33.984375 0 \nL 21.578125 0 \nz\n\" id=\"DejaVuSans-87\"/>\n       <path d=\"M 9.421875 54.6875 \nL 18.40625 54.6875 \nL 18.40625 0 \nL 9.421875 0 \nz\nM 9.421875 75.984375 \nL 18.40625 75.984375 \nL 18.40625 64.59375 \nL 9.421875 64.59375 \nz\n\" id=\"DejaVuSans-105\"/>\n       <path d=\"M 54.890625 33.015625 \nL 54.890625 0 \nL 45.90625 0 \nL 45.90625 32.71875 \nQ 45.90625 40.484375 42.875 44.328125 \nQ 39.84375 48.1875 33.796875 48.1875 \nQ 26.515625 48.1875 22.3125 43.546875 \nQ 18.109375 38.921875 18.109375 30.90625 \nL 18.109375 0 \nL 9.078125 0 \nL 9.078125 75.984375 \nL 18.109375 75.984375 \nL 18.109375 46.1875 \nQ 21.34375 51.125 25.703125 53.5625 \nQ 30.078125 56 35.796875 56 \nQ 45.21875 56 50.046875 50.171875 \nQ 54.890625 44.34375 54.890625 33.015625 \nz\n\" id=\"DejaVuSans-104\"/>\n       <path d=\"M 18.3125 70.21875 \nL 18.3125 54.6875 \nL 36.8125 54.6875 \nL 36.8125 47.703125 \nL 18.3125 47.703125 \nL 18.3125 18.015625 \nQ 18.3125 11.328125 20.140625 9.421875 \nQ 21.96875 7.515625 27.59375 7.515625 \nL 36.8125 7.515625 \nL 36.8125 0 \nL 27.59375 0 \nQ 17.1875 0 13.234375 3.875 \nQ 9.28125 7.765625 9.28125 18.015625 \nL 9.28125 47.703125 \nL 2.6875 47.703125 \nL 2.6875 54.6875 \nL 9.28125 54.6875 \nL 9.28125 70.21875 \nz\n\" id=\"DejaVuSans-116\"/>\n      </defs>\n      <g transform=\"translate(70.832102 270.276719)rotate(-90)scale(0.1 -0.1)\">\n       <use xlink:href=\"#DejaVuSans-87\"/>\n       <use x=\"93.001953\" xlink:href=\"#DejaVuSans-101\"/>\n       <use x=\"154.525391\" xlink:href=\"#DejaVuSans-105\"/>\n       <use x=\"182.308594\" xlink:href=\"#DejaVuSans-103\"/>\n       <use x=\"245.785156\" xlink:href=\"#DejaVuSans-104\"/>\n       <use x=\"309.164062\" xlink:href=\"#DejaVuSans-116\"/>\n      </g>\n     </g>\n    </g>\n    <g id=\"xtick_4\">\n     <g id=\"line2d_4\">\n      <g>\n       <use style=\"stroke:#000000;stroke-width:0.8;\" x=\"92.421818\" xlink:href=\"#m72cde5f3c4\" y=\"228.439219\"/>\n      </g>\n     </g>\n     <g id=\"text_4\">\n      <!-- m006 -->\n      <defs>\n       <path d=\"M 52 44.1875 \nQ 55.375 50.25 60.0625 53.125 \nQ 64.75 56 71.09375 56 \nQ 79.640625 56 84.28125 50.015625 \nQ 88.921875 44.046875 88.921875 33.015625 \nL 88.921875 0 \nL 79.890625 0 \nL 79.890625 32.71875 \nQ 79.890625 40.578125 77.09375 44.375 \nQ 74.3125 48.1875 68.609375 48.1875 \nQ 61.625 48.1875 57.5625 43.546875 \nQ 53.515625 38.921875 53.515625 30.90625 \nL 53.515625 0 \nL 44.484375 0 \nL 44.484375 32.71875 \nQ 44.484375 40.625 41.703125 44.40625 \nQ 38.921875 48.1875 33.109375 48.1875 \nQ 26.21875 48.1875 22.15625 43.53125 \nQ 18.109375 38.875 18.109375 30.90625 \nL 18.109375 0 \nL 9.078125 0 \nL 9.078125 54.6875 \nL 18.109375 54.6875 \nL 18.109375 46.1875 \nQ 21.1875 51.21875 25.484375 53.609375 \nQ 29.78125 56 35.6875 56 \nQ 41.65625 56 45.828125 52.96875 \nQ 50 49.953125 52 44.1875 \nz\n\" id=\"DejaVuSans-109\"/>\n       <path d=\"M 31.78125 66.40625 \nQ 24.171875 66.40625 20.328125 58.90625 \nQ 16.5 51.421875 16.5 36.375 \nQ 16.5 21.390625 20.328125 13.890625 \nQ 24.171875 6.390625 31.78125 6.390625 \nQ 39.453125 6.390625 43.28125 13.890625 \nQ 47.125 21.390625 47.125 36.375 \nQ 47.125 51.421875 43.28125 58.90625 \nQ 39.453125 66.40625 31.78125 66.40625 \nz\nM 31.78125 74.21875 \nQ 44.046875 74.21875 50.515625 64.515625 \nQ 56.984375 54.828125 56.984375 36.375 \nQ 56.984375 17.96875 50.515625 8.265625 \nQ 44.046875 -1.421875 31.78125 -1.421875 \nQ 19.53125 -1.421875 13.0625 8.265625 \nQ 6.59375 17.96875 6.59375 36.375 \nQ 6.59375 54.828125 13.0625 64.515625 \nQ 19.53125 74.21875 31.78125 74.21875 \nz\n\" id=\"DejaVuSans-48\"/>\n       <path d=\"M 33.015625 40.375 \nQ 26.375 40.375 22.484375 35.828125 \nQ 18.609375 31.296875 18.609375 23.390625 \nQ 18.609375 15.53125 22.484375 10.953125 \nQ 26.375 6.390625 33.015625 6.390625 \nQ 39.65625 6.390625 43.53125 10.953125 \nQ 47.40625 15.53125 47.40625 23.390625 \nQ 47.40625 31.296875 43.53125 35.828125 \nQ 39.65625 40.375 33.015625 40.375 \nz\nM 52.59375 71.296875 \nL 52.59375 62.3125 \nQ 48.875 64.0625 45.09375 64.984375 \nQ 41.3125 65.921875 37.59375 65.921875 \nQ 27.828125 65.921875 22.671875 59.328125 \nQ 17.53125 52.734375 16.796875 39.40625 \nQ 19.671875 43.65625 24.015625 45.921875 \nQ 28.375 48.1875 33.59375 48.1875 \nQ 44.578125 48.1875 50.953125 41.515625 \nQ 57.328125 34.859375 57.328125 23.390625 \nQ 57.328125 12.15625 50.6875 5.359375 \nQ 44.046875 -1.421875 33.015625 -1.421875 \nQ 20.359375 -1.421875 13.671875 8.265625 \nQ 6.984375 17.96875 6.984375 36.375 \nQ 6.984375 53.65625 15.1875 63.9375 \nQ 23.390625 74.21875 37.203125 74.21875 \nQ 40.921875 74.21875 44.703125 73.484375 \nQ 48.484375 72.75 52.59375 71.296875 \nz\n\" id=\"DejaVuSans-54\"/>\n      </defs>\n      <g transform=\"translate(95.181193 264.267344)rotate(-90)scale(0.1 -0.1)\">\n       <use xlink:href=\"#DejaVuSans-109\"/>\n       <use x=\"97.412109\" xlink:href=\"#DejaVuSans-48\"/>\n       <use x=\"161.035156\" xlink:href=\"#DejaVuSans-48\"/>\n       <use x=\"224.658203\" xlink:href=\"#DejaVuSans-54\"/>\n      </g>\n     </g>\n    </g>\n    <g id=\"xtick_5\">\n     <g id=\"line2d_5\">\n      <g>\n       <use style=\"stroke:#000000;stroke-width:0.8;\" x=\"116.770909\" xlink:href=\"#m72cde5f3c4\" y=\"228.439219\"/>\n      </g>\n     </g>\n     <g id=\"text_5\">\n      <!-- m0612 -->\n      <defs>\n       <path d=\"M 12.40625 8.296875 \nL 28.515625 8.296875 \nL 28.515625 63.921875 \nL 10.984375 60.40625 \nL 10.984375 69.390625 \nL 28.421875 72.90625 \nL 38.28125 72.90625 \nL 38.28125 8.296875 \nL 54.390625 8.296875 \nL 54.390625 0 \nL 12.40625 0 \nz\n\" id=\"DejaVuSans-49\"/>\n       <path d=\"M 19.1875 8.296875 \nL 53.609375 8.296875 \nL 53.609375 0 \nL 7.328125 0 \nL 7.328125 8.296875 \nQ 12.9375 14.109375 22.625 23.890625 \nQ 32.328125 33.6875 34.8125 36.53125 \nQ 39.546875 41.84375 41.421875 45.53125 \nQ 43.3125 49.21875 43.3125 52.78125 \nQ 43.3125 58.59375 39.234375 62.25 \nQ 35.15625 65.921875 28.609375 65.921875 \nQ 23.96875 65.921875 18.8125 64.3125 \nQ 13.671875 62.703125 7.8125 59.421875 \nL 7.8125 69.390625 \nQ 13.765625 71.78125 18.9375 73 \nQ 24.125 74.21875 28.421875 74.21875 \nQ 39.75 74.21875 46.484375 68.546875 \nQ 53.21875 62.890625 53.21875 53.421875 \nQ 53.21875 48.921875 51.53125 44.890625 \nQ 49.859375 40.875 45.40625 35.40625 \nQ 44.1875 33.984375 37.640625 27.21875 \nQ 31.109375 20.453125 19.1875 8.296875 \nz\n\" id=\"DejaVuSans-50\"/>\n      </defs>\n      <g transform=\"translate(119.530284 270.629844)rotate(-90)scale(0.1 -0.1)\">\n       <use xlink:href=\"#DejaVuSans-109\"/>\n       <use x=\"97.412109\" xlink:href=\"#DejaVuSans-48\"/>\n       <use x=\"161.035156\" xlink:href=\"#DejaVuSans-54\"/>\n       <use x=\"224.658203\" xlink:href=\"#DejaVuSans-49\"/>\n       <use x=\"288.28125\" xlink:href=\"#DejaVuSans-50\"/>\n      </g>\n     </g>\n    </g>\n    <g id=\"xtick_6\">\n     <g id=\"line2d_6\">\n      <g>\n       <use style=\"stroke:#000000;stroke-width:0.8;\" x=\"141.12\" xlink:href=\"#m72cde5f3c4\" y=\"228.439219\"/>\n      </g>\n     </g>\n     <g id=\"text_6\">\n      <!-- m1218 -->\n      <defs>\n       <path d=\"M 31.78125 34.625 \nQ 24.75 34.625 20.71875 30.859375 \nQ 16.703125 27.09375 16.703125 20.515625 \nQ 16.703125 13.921875 20.71875 10.15625 \nQ 24.75 6.390625 31.78125 6.390625 \nQ 38.8125 6.390625 42.859375 10.171875 \nQ 46.921875 13.96875 46.921875 20.515625 \nQ 46.921875 27.09375 42.890625 30.859375 \nQ 38.875 34.625 31.78125 34.625 \nz\nM 21.921875 38.8125 \nQ 15.578125 40.375 12.03125 44.71875 \nQ 8.5 49.078125 8.5 55.328125 \nQ 8.5 64.0625 14.71875 69.140625 \nQ 20.953125 74.21875 31.78125 74.21875 \nQ 42.671875 74.21875 48.875 69.140625 \nQ 55.078125 64.0625 55.078125 55.328125 \nQ 55.078125 49.078125 51.53125 44.71875 \nQ 48 40.375 41.703125 38.8125 \nQ 48.828125 37.15625 52.796875 32.3125 \nQ 56.78125 27.484375 56.78125 20.515625 \nQ 56.78125 9.90625 50.3125 4.234375 \nQ 43.84375 -1.421875 31.78125 -1.421875 \nQ 19.734375 -1.421875 13.25 4.234375 \nQ 6.78125 9.90625 6.78125 20.515625 \nQ 6.78125 27.484375 10.78125 32.3125 \nQ 14.796875 37.15625 21.921875 38.8125 \nz\nM 18.3125 54.390625 \nQ 18.3125 48.734375 21.84375 45.5625 \nQ 25.390625 42.390625 31.78125 42.390625 \nQ 38.140625 42.390625 41.71875 45.5625 \nQ 45.3125 48.734375 45.3125 54.390625 \nQ 45.3125 60.0625 41.71875 63.234375 \nQ 38.140625 66.40625 31.78125 66.40625 \nQ 25.390625 66.40625 21.84375 63.234375 \nQ 18.3125 60.0625 18.3125 54.390625 \nz\n\" id=\"DejaVuSans-56\"/>\n      </defs>\n      <g transform=\"translate(143.879375 270.629844)rotate(-90)scale(0.1 -0.1)\">\n       <use xlink:href=\"#DejaVuSans-109\"/>\n       <use x=\"97.412109\" xlink:href=\"#DejaVuSans-49\"/>\n       <use x=\"161.035156\" xlink:href=\"#DejaVuSans-50\"/>\n       <use x=\"224.658203\" xlink:href=\"#DejaVuSans-49\"/>\n       <use x=\"288.28125\" xlink:href=\"#DejaVuSans-56\"/>\n      </g>\n     </g>\n    </g>\n    <g id=\"xtick_7\">\n     <g id=\"line2d_7\">\n      <g>\n       <use style=\"stroke:#000000;stroke-width:0.8;\" x=\"165.469091\" xlink:href=\"#m72cde5f3c4\" y=\"228.439219\"/>\n      </g>\n     </g>\n     <g id=\"text_7\">\n      <!-- f006 -->\n      <defs>\n       <path d=\"M 37.109375 75.984375 \nL 37.109375 68.5 \nL 28.515625 68.5 \nQ 23.6875 68.5 21.796875 66.546875 \nQ 19.921875 64.59375 19.921875 59.515625 \nL 19.921875 54.6875 \nL 34.71875 54.6875 \nL 34.71875 47.703125 \nL 19.921875 47.703125 \nL 19.921875 0 \nL 10.890625 0 \nL 10.890625 47.703125 \nL 2.296875 47.703125 \nL 2.296875 54.6875 \nL 10.890625 54.6875 \nL 10.890625 58.5 \nQ 10.890625 67.625 15.140625 71.796875 \nQ 19.390625 75.984375 28.609375 75.984375 \nz\n\" id=\"DejaVuSans-102\"/>\n      </defs>\n      <g transform=\"translate(168.228466 258.047031)rotate(-90)scale(0.1 -0.1)\">\n       <use xlink:href=\"#DejaVuSans-102\"/>\n       <use x=\"35.205078\" xlink:href=\"#DejaVuSans-48\"/>\n       <use x=\"98.828125\" xlink:href=\"#DejaVuSans-48\"/>\n       <use x=\"162.451172\" xlink:href=\"#DejaVuSans-54\"/>\n      </g>\n     </g>\n    </g>\n    <g id=\"xtick_8\">\n     <g id=\"line2d_8\">\n      <g>\n       <use style=\"stroke:#000000;stroke-width:0.8;\" x=\"189.818182\" xlink:href=\"#m72cde5f3c4\" y=\"228.439219\"/>\n      </g>\n     </g>\n     <g id=\"text_8\">\n      <!-- f0612 -->\n      <g transform=\"translate(192.577557 264.409531)rotate(-90)scale(0.1 -0.1)\">\n       <use xlink:href=\"#DejaVuSans-102\"/>\n       <use x=\"35.205078\" xlink:href=\"#DejaVuSans-48\"/>\n       <use x=\"98.828125\" xlink:href=\"#DejaVuSans-54\"/>\n       <use x=\"162.451172\" xlink:href=\"#DejaVuSans-49\"/>\n       <use x=\"226.074219\" xlink:href=\"#DejaVuSans-50\"/>\n      </g>\n     </g>\n    </g>\n    <g id=\"xtick_9\">\n     <g id=\"line2d_9\">\n      <g>\n       <use style=\"stroke:#000000;stroke-width:0.8;\" x=\"214.167273\" xlink:href=\"#m72cde5f3c4\" y=\"228.439219\"/>\n      </g>\n     </g>\n     <g id=\"text_9\">\n      <!-- f1218 -->\n      <g transform=\"translate(216.926648 264.409531)rotate(-90)scale(0.1 -0.1)\">\n       <use xlink:href=\"#DejaVuSans-102\"/>\n       <use x=\"35.205078\" xlink:href=\"#DejaVuSans-49\"/>\n       <use x=\"98.828125\" xlink:href=\"#DejaVuSans-50\"/>\n       <use x=\"162.451172\" xlink:href=\"#DejaVuSans-49\"/>\n       <use x=\"226.074219\" xlink:href=\"#DejaVuSans-56\"/>\n      </g>\n     </g>\n    </g>\n    <g id=\"xtick_10\">\n     <g id=\"line2d_10\">\n      <g>\n       <use style=\"stroke:#000000;stroke-width:0.8;\" x=\"238.516364\" xlink:href=\"#m72cde5f3c4\" y=\"228.439219\"/>\n      </g>\n     </g>\n     <g id=\"text_10\">\n      <!-- First Name -->\n      <defs>\n       <path d=\"M 9.8125 72.90625 \nL 51.703125 72.90625 \nL 51.703125 64.59375 \nL 19.671875 64.59375 \nL 19.671875 43.109375 \nL 48.578125 43.109375 \nL 48.578125 34.8125 \nL 19.671875 34.8125 \nL 19.671875 0 \nL 9.8125 0 \nz\n\" id=\"DejaVuSans-70\"/>\n       <path d=\"M 41.109375 46.296875 \nQ 39.59375 47.171875 37.8125 47.578125 \nQ 36.03125 48 33.890625 48 \nQ 26.265625 48 22.1875 43.046875 \nQ 18.109375 38.09375 18.109375 28.8125 \nL 18.109375 0 \nL 9.078125 0 \nL 9.078125 54.6875 \nL 18.109375 54.6875 \nL 18.109375 46.1875 \nQ 20.953125 51.171875 25.484375 53.578125 \nQ 30.03125 56 36.53125 56 \nQ 37.453125 56 38.578125 55.875 \nQ 39.703125 55.765625 41.0625 55.515625 \nz\n\" id=\"DejaVuSans-114\"/>\n       <path d=\"M 44.28125 53.078125 \nL 44.28125 44.578125 \nQ 40.484375 46.53125 36.375 47.5 \nQ 32.28125 48.484375 27.875 48.484375 \nQ 21.1875 48.484375 17.84375 46.4375 \nQ 14.5 44.390625 14.5 40.28125 \nQ 14.5 37.15625 16.890625 35.375 \nQ 19.28125 33.59375 26.515625 31.984375 \nL 29.59375 31.296875 \nQ 39.15625 29.25 43.1875 25.515625 \nQ 47.21875 21.78125 47.21875 15.09375 \nQ 47.21875 7.46875 41.1875 3.015625 \nQ 35.15625 -1.421875 24.609375 -1.421875 \nQ 20.21875 -1.421875 15.453125 -0.5625 \nQ 10.6875 0.296875 5.421875 2 \nL 5.421875 11.28125 \nQ 10.40625 8.6875 15.234375 7.390625 \nQ 20.0625 6.109375 24.8125 6.109375 \nQ 31.15625 6.109375 34.5625 8.28125 \nQ 37.984375 10.453125 37.984375 14.40625 \nQ 37.984375 18.0625 35.515625 20.015625 \nQ 33.0625 21.96875 24.703125 23.78125 \nL 21.578125 24.515625 \nQ 13.234375 26.265625 9.515625 29.90625 \nQ 5.8125 33.546875 5.8125 39.890625 \nQ 5.8125 47.609375 11.28125 51.796875 \nQ 16.75 56 26.8125 56 \nQ 31.78125 56 36.171875 55.265625 \nQ 40.578125 54.546875 44.28125 53.078125 \nz\n\" id=\"DejaVuSans-115\"/>\n       <path id=\"DejaVuSans-32\"/>\n       <path d=\"M 9.8125 72.90625 \nL 23.09375 72.90625 \nL 55.421875 11.921875 \nL 55.421875 72.90625 \nL 64.984375 72.90625 \nL 64.984375 0 \nL 51.703125 0 \nL 19.390625 60.984375 \nL 19.390625 0 \nL 9.8125 0 \nz\n\" id=\"DejaVuSans-78\"/>\n       <path d=\"M 34.28125 27.484375 \nQ 23.390625 27.484375 19.1875 25 \nQ 14.984375 22.515625 14.984375 16.5 \nQ 14.984375 11.71875 18.140625 8.90625 \nQ 21.296875 6.109375 26.703125 6.109375 \nQ 34.1875 6.109375 38.703125 11.40625 \nQ 43.21875 16.703125 43.21875 25.484375 \nL 43.21875 27.484375 \nz\nM 52.203125 31.203125 \nL 52.203125 0 \nL 43.21875 0 \nL 43.21875 8.296875 \nQ 40.140625 3.328125 35.546875 0.953125 \nQ 30.953125 -1.421875 24.3125 -1.421875 \nQ 15.921875 -1.421875 10.953125 3.296875 \nQ 6 8.015625 6 15.921875 \nQ 6 25.140625 12.171875 29.828125 \nQ 18.359375 34.515625 30.609375 34.515625 \nL 43.21875 34.515625 \nL 43.21875 35.40625 \nQ 43.21875 41.609375 39.140625 45 \nQ 35.0625 48.390625 27.6875 48.390625 \nQ 23 48.390625 18.546875 47.265625 \nQ 14.109375 46.140625 10.015625 43.890625 \nL 10.015625 52.203125 \nQ 14.9375 54.109375 19.578125 55.046875 \nQ 24.21875 56 28.609375 56 \nQ 40.484375 56 46.34375 49.84375 \nQ 52.203125 43.703125 52.203125 31.203125 \nz\n\" id=\"DejaVuSans-97\"/>\n      </defs>\n      <g transform=\"translate(241.275739 289.165781)rotate(-90)scale(0.1 -0.1)\">\n       <use xlink:href=\"#DejaVuSans-70\"/>\n       <use x=\"50.269531\" xlink:href=\"#DejaVuSans-105\"/>\n       <use x=\"78.052734\" xlink:href=\"#DejaVuSans-114\"/>\n       <use x=\"119.166016\" xlink:href=\"#DejaVuSans-115\"/>\n       <use x=\"171.265625\" xlink:href=\"#DejaVuSans-116\"/>\n       <use x=\"210.474609\" xlink:href=\"#DejaVuSans-32\"/>\n       <use x=\"242.261719\" xlink:href=\"#DejaVuSans-78\"/>\n       <use x=\"317.066406\" xlink:href=\"#DejaVuSans-97\"/>\n       <use x=\"378.345703\" xlink:href=\"#DejaVuSans-109\"/>\n       <use x=\"475.757812\" xlink:href=\"#DejaVuSans-101\"/>\n      </g>\n     </g>\n    </g>\n    <g id=\"xtick_11\">\n     <g id=\"line2d_11\">\n      <g>\n       <use style=\"stroke:#000000;stroke-width:0.8;\" x=\"262.865455\" xlink:href=\"#m72cde5f3c4\" y=\"228.439219\"/>\n      </g>\n     </g>\n     <g id=\"text_11\">\n      <!-- Last Name -->\n      <defs>\n       <path d=\"M 9.8125 72.90625 \nL 19.671875 72.90625 \nL 19.671875 8.296875 \nL 55.171875 8.296875 \nL 55.171875 0 \nL 9.8125 0 \nz\n\" id=\"DejaVuSans-76\"/>\n      </defs>\n      <g transform=\"translate(265.62483 288.950156)rotate(-90)scale(0.1 -0.1)\">\n       <use xlink:href=\"#DejaVuSans-76\"/>\n       <use x=\"55.712891\" xlink:href=\"#DejaVuSans-97\"/>\n       <use x=\"116.992188\" xlink:href=\"#DejaVuSans-115\"/>\n       <use x=\"169.091797\" xlink:href=\"#DejaVuSans-116\"/>\n       <use x=\"208.300781\" xlink:href=\"#DejaVuSans-32\"/>\n       <use x=\"240.087891\" xlink:href=\"#DejaVuSans-78\"/>\n       <use x=\"314.892578\" xlink:href=\"#DejaVuSans-97\"/>\n       <use x=\"376.171875\" xlink:href=\"#DejaVuSans-109\"/>\n       <use x=\"473.583984\" xlink:href=\"#DejaVuSans-101\"/>\n      </g>\n     </g>\n    </g>\n   </g>\n   <g id=\"matplotlib.axis_2\"/>\n  </g>\n  <g id=\"axes_2\">\n   <g id=\"patch_3\">\n    <path clip-path=\"url(#p69f0fed580)\" d=\"M 291.78 228.439219 \nL 291.78 227.589844 \nL 291.78 11.848594 \nL 291.78 10.999219 \nL 302.652 10.999219 \nL 302.652 11.848594 \nL 302.652 227.589844 \nL 302.652 228.439219 \nz\n\" style=\"fill:#ffffff;stroke:#ffffff;stroke-linejoin:miter;stroke-width:0.01;\"/>\n   </g>\n   <image height=\"217\" id=\"imagec2742ffc75\" transform=\"scale(1 -1)translate(0 -217)\" width=\"11\" x=\"292\" xlink:href=\"data:image/png;base64,\niVBORw0KGgoAAAANSUhEUgAAAAsAAADZCAYAAAD2WsoCAAAABHNCSVQICAgIfAhkiAAAAIFJREFUaIHt0DEOwCAMBME4yv+fDLQu0RURrNb1Fr6pGnM+m/fVdnpO/I4j3nDgP7EaPcZr4Aeq0WP8QDXiGK+BH6hGHOM18APViGO8Bn6gGnGM18APVKPH+IFqxDFeAz9QjTjGa+AHqhHHeA38QDV6jB+oRhzjNfAD1YhjvMaFAxeHGt5fUXj8qwAAAABJRU5ErkJggg==\" y=\"-11\"/>\n   <g id=\"matplotlib.axis_3\"/>\n   <g id=\"matplotlib.axis_4\">\n    <g id=\"ytick_1\">\n     <g id=\"line2d_12\">\n      <defs>\n       <path d=\"M 0 0 \nL 3.5 0 \n\" id=\"mbcc88ccb28\" style=\"stroke:#000000;stroke-width:0.8;\"/>\n      </defs>\n      <g>\n       <use style=\"stroke:#000000;stroke-width:0.8;\" x=\"302.652\" xlink:href=\"#mbcc88ccb28\" y=\"228.439219\"/>\n      </g>\n     </g>\n     <g id=\"text_12\">\n      <!-- 0.0 -->\n      <defs>\n       <path d=\"M 10.6875 12.40625 \nL 21 12.40625 \nL 21 0 \nL 10.6875 0 \nz\n\" id=\"DejaVuSans-46\"/>\n      </defs>\n      <g transform=\"translate(309.652 232.238437)scale(0.1 -0.1)\">\n       <use xlink:href=\"#DejaVuSans-48\"/>\n       <use x=\"63.623047\" xlink:href=\"#DejaVuSans-46\"/>\n       <use x=\"95.410156\" xlink:href=\"#DejaVuSans-48\"/>\n      </g>\n     </g>\n    </g>\n    <g id=\"ytick_2\">\n     <g id=\"line2d_13\">\n      <g>\n       <use style=\"stroke:#000000;stroke-width:0.8;\" x=\"302.652\" xlink:href=\"#mbcc88ccb28\" y=\"184.951219\"/>\n      </g>\n     </g>\n     <g id=\"text_13\">\n      <!-- 0.2 -->\n      <g transform=\"translate(309.652 188.750437)scale(0.1 -0.1)\">\n       <use xlink:href=\"#DejaVuSans-48\"/>\n       <use x=\"63.623047\" xlink:href=\"#DejaVuSans-46\"/>\n       <use x=\"95.410156\" xlink:href=\"#DejaVuSans-50\"/>\n      </g>\n     </g>\n    </g>\n    <g id=\"ytick_3\">\n     <g id=\"line2d_14\">\n      <g>\n       <use style=\"stroke:#000000;stroke-width:0.8;\" x=\"302.652\" xlink:href=\"#mbcc88ccb28\" y=\"141.463219\"/>\n      </g>\n     </g>\n     <g id=\"text_14\">\n      <!-- 0.4 -->\n      <defs>\n       <path d=\"M 37.796875 64.3125 \nL 12.890625 25.390625 \nL 37.796875 25.390625 \nz\nM 35.203125 72.90625 \nL 47.609375 72.90625 \nL 47.609375 25.390625 \nL 58.015625 25.390625 \nL 58.015625 17.1875 \nL 47.609375 17.1875 \nL 47.609375 0 \nL 37.796875 0 \nL 37.796875 17.1875 \nL 4.890625 17.1875 \nL 4.890625 26.703125 \nz\n\" id=\"DejaVuSans-52\"/>\n      </defs>\n      <g transform=\"translate(309.652 145.262437)scale(0.1 -0.1)\">\n       <use xlink:href=\"#DejaVuSans-48\"/>\n       <use x=\"63.623047\" xlink:href=\"#DejaVuSans-46\"/>\n       <use x=\"95.410156\" xlink:href=\"#DejaVuSans-52\"/>\n      </g>\n     </g>\n    </g>\n    <g id=\"ytick_4\">\n     <g id=\"line2d_15\">\n      <g>\n       <use style=\"stroke:#000000;stroke-width:0.8;\" x=\"302.652\" xlink:href=\"#mbcc88ccb28\" y=\"97.975219\"/>\n      </g>\n     </g>\n     <g id=\"text_15\">\n      <!-- 0.6 -->\n      <g transform=\"translate(309.652 101.774437)scale(0.1 -0.1)\">\n       <use xlink:href=\"#DejaVuSans-48\"/>\n       <use x=\"63.623047\" xlink:href=\"#DejaVuSans-46\"/>\n       <use x=\"95.410156\" xlink:href=\"#DejaVuSans-54\"/>\n      </g>\n     </g>\n    </g>\n    <g id=\"ytick_5\">\n     <g id=\"line2d_16\">\n      <g>\n       <use style=\"stroke:#000000;stroke-width:0.8;\" x=\"302.652\" xlink:href=\"#mbcc88ccb28\" y=\"54.487219\"/>\n      </g>\n     </g>\n     <g id=\"text_16\">\n      <!-- 0.8 -->\n      <g transform=\"translate(309.652 58.286437)scale(0.1 -0.1)\">\n       <use xlink:href=\"#DejaVuSans-48\"/>\n       <use x=\"63.623047\" xlink:href=\"#DejaVuSans-46\"/>\n       <use x=\"95.410156\" xlink:href=\"#DejaVuSans-56\"/>\n      </g>\n     </g>\n    </g>\n    <g id=\"ytick_6\">\n     <g id=\"line2d_17\">\n      <g>\n       <use style=\"stroke:#000000;stroke-width:0.8;\" x=\"302.652\" xlink:href=\"#mbcc88ccb28\" y=\"10.999219\"/>\n      </g>\n     </g>\n     <g id=\"text_17\">\n      <!-- 1.0 -->\n      <g transform=\"translate(309.652 14.798437)scale(0.1 -0.1)\">\n       <use xlink:href=\"#DejaVuSans-49\"/>\n       <use x=\"63.623047\" xlink:href=\"#DejaVuSans-46\"/>\n       <use x=\"95.410156\" xlink:href=\"#DejaVuSans-48\"/>\n      </g>\n     </g>\n    </g>\n   </g>\n   <g id=\"patch_4\">\n    <path d=\"M 291.78 228.439219 \nL 291.78 227.589844 \nL 291.78 11.848594 \nL 291.78 10.999219 \nL 302.652 10.999219 \nL 302.652 11.848594 \nL 302.652 227.589844 \nL 302.652 228.439219 \nz\n\" style=\"fill:none;\"/>\n   </g>\n  </g>\n </g>\n <defs>\n  <clipPath id=\"p7410c64bac\">\n   <rect height=\"217.44\" width=\"267.84\" x=\"7.2\" y=\"10.999219\"/>\n  </clipPath>\n  <clipPath id=\"p69f0fed580\">\n   <rect height=\"217.44\" width=\"10.872\" x=\"291.78\" y=\"10.999219\"/>\n  </clipPath>\n </defs>\n</svg>\n"
          },
          "metadata": {
            "needs_background": "light"
          }
        }
      ]
    },
    {
      "cell_type": "markdown",
      "metadata": {
        "id": "xWJ4snmWIRlC"
      },
      "source": [
        "b. Get index of rows with missing information Age and Weight"
      ]
    },
    {
      "cell_type": "code",
      "metadata": {
        "id": "rpo1Ie1pIahQ",
        "colab": {
          "base_uri": "https://localhost:8080/"
        },
        "outputId": "b0e1948c-e60c-4b32-a79d-4f8f4817ca3d"
      },
      "source": [
        "index_age_weight_null=patient_heart_rate[patient_heart_rate['Age'].isna() & patient_heart_rate['Weight'].isna()].index\n",
        "index_age_weight_null"
      ],
      "execution_count": 38,
      "outputs": [
        {
          "output_type": "execute_result",
          "data": {
            "text/plain": [
              "Int64Index([14, 15], dtype='int64')"
            ]
          },
          "metadata": {},
          "execution_count": 38
        }
      ]
    },
    {
      "cell_type": "markdown",
      "metadata": {
        "id": "wKJ8obyVKrkY"
      },
      "source": [
        "c. Drop index Age & Weight are null"
      ]
    },
    {
      "cell_type": "code",
      "metadata": {
        "id": "oCFver0ILjD4",
        "colab": {
          "base_uri": "https://localhost:8080/"
        },
        "outputId": "aa15cb52-f7cb-4c60-c6b3-80e114a8e6f1"
      },
      "source": [
        "patient_heart_rate.drop(index_age_weight_null,inplace=True)"
      ],
      "execution_count": 39,
      "outputs": [
        {
          "output_type": "stream",
          "name": "stderr",
          "text": [
            "/usr/local/lib/python3.7/dist-packages/pandas/core/frame.py:4174: SettingWithCopyWarning: \n",
            "A value is trying to be set on a copy of a slice from a DataFrame\n",
            "\n",
            "See the caveats in the documentation: https://pandas.pydata.org/pandas-docs/stable/user_guide/indexing.html#returning-a-view-versus-a-copy\n",
            "  errors=errors,\n"
          ]
        }
      ]
    },
    {
      "cell_type": "markdown",
      "metadata": {
        "id": "8JX3XoWsLrZX"
      },
      "source": [
        "d. Check data once again"
      ]
    },
    {
      "cell_type": "code",
      "metadata": {
        "id": "fBcpB1HELssj",
        "colab": {
          "base_uri": "https://localhost:8080/",
          "height": 433
        },
        "outputId": "f5d4d9de-d88c-47e4-fdbf-8837619f311a"
      },
      "source": [
        "import seaborn as sns\n",
        "%matplotlib inline\n",
        "%config InlineBackend.figure_format='svg'\n",
        "sns.heatmap(patient_heart_rate.isna(),\n",
        "            yticklabels=True,\n",
        "            cbar=True,\n",
        "            cmap='cool')"
      ],
      "execution_count": 40,
      "outputs": [
        {
          "output_type": "execute_result",
          "data": {
            "text/plain": [
              "<matplotlib.axes._subplots.AxesSubplot at 0x7f6ff7d65d90>"
            ]
          },
          "metadata": {},
          "execution_count": 40
        },
        {
          "output_type": "display_data",
          "data": {
            "text/plain": [
              "<Figure size 432x288 with 2 Axes>"
            ],
            "image/svg+xml": "<?xml version=\"1.0\" encoding=\"utf-8\" standalone=\"no\"?>\n<!DOCTYPE svg PUBLIC \"-//W3C//DTD SVG 1.1//EN\"\n  \"http://www.w3.org/Graphics/SVG/1.1/DTD/svg11.dtd\">\n<!-- Created with matplotlib (https://matplotlib.org/) -->\n<svg height=\"296.365781pt\" version=\"1.1\" viewBox=\"0 0 349.43325 296.365781\" width=\"349.43325pt\" xmlns=\"http://www.w3.org/2000/svg\" xmlns:xlink=\"http://www.w3.org/1999/xlink\">\n <defs>\n  <style type=\"text/css\">\n*{stroke-linecap:butt;stroke-linejoin:round;}\n  </style>\n </defs>\n <g id=\"figure_1\">\n  <g id=\"patch_1\">\n   <path d=\"M -0 296.365781 \nL 349.43325 296.365781 \nL 349.43325 0 \nL -0 0 \nz\n\" style=\"fill:none;\"/>\n  </g>\n  <g id=\"axes_1\">\n   <g id=\"patch_2\">\n    <path d=\"M 23.878125 228.439219 \nL 291.718125 228.439219 \nL 291.718125 10.999219 \nL 23.878125 10.999219 \nz\n\" style=\"fill:#ffffff;\"/>\n   </g>\n   <g id=\"QuadMesh_1\">\n    <path clip-path=\"url(#pba96f4bedb)\" d=\"M 23.878125 10.999219 \nL 48.227216 10.999219 \nL 48.227216 29.119219 \nL 23.878125 29.119219 \nL 23.878125 10.999219 \n\" style=\"fill:#00ffff;\"/>\n    <path clip-path=\"url(#pba96f4bedb)\" d=\"M 48.227216 10.999219 \nL 72.576307 10.999219 \nL 72.576307 29.119219 \nL 48.227216 29.119219 \nL 48.227216 10.999219 \n\" style=\"fill:#00ffff;\"/>\n    <path clip-path=\"url(#pba96f4bedb)\" d=\"M 72.576307 10.999219 \nL 96.925398 10.999219 \nL 96.925398 29.119219 \nL 72.576307 29.119219 \nL 72.576307 10.999219 \n\" style=\"fill:#00ffff;\"/>\n    <path clip-path=\"url(#pba96f4bedb)\" d=\"M 96.925398 10.999219 \nL 121.274489 10.999219 \nL 121.274489 29.119219 \nL 96.925398 29.119219 \nL 96.925398 10.999219 \n\" style=\"fill:#00ffff;\"/>\n    <path clip-path=\"url(#pba96f4bedb)\" d=\"M 121.274489 10.999219 \nL 145.62358 10.999219 \nL 145.62358 29.119219 \nL 121.274489 29.119219 \nL 121.274489 10.999219 \n\" style=\"fill:#00ffff;\"/>\n    <path clip-path=\"url(#pba96f4bedb)\" d=\"M 145.62358 10.999219 \nL 169.97267 10.999219 \nL 169.97267 29.119219 \nL 145.62358 29.119219 \nL 145.62358 10.999219 \n\" style=\"fill:#00ffff;\"/>\n    <path clip-path=\"url(#pba96f4bedb)\" d=\"M 169.97267 10.999219 \nL 194.321761 10.999219 \nL 194.321761 29.119219 \nL 169.97267 29.119219 \nL 169.97267 10.999219 \n\" style=\"fill:#00ffff;\"/>\n    <path clip-path=\"url(#pba96f4bedb)\" d=\"M 194.321761 10.999219 \nL 218.670852 10.999219 \nL 218.670852 29.119219 \nL 194.321761 29.119219 \nL 194.321761 10.999219 \n\" style=\"fill:#00ffff;\"/>\n    <path clip-path=\"url(#pba96f4bedb)\" d=\"M 218.670852 10.999219 \nL 243.019943 10.999219 \nL 243.019943 29.119219 \nL 218.670852 29.119219 \nL 218.670852 10.999219 \n\" style=\"fill:#00ffff;\"/>\n    <path clip-path=\"url(#pba96f4bedb)\" d=\"M 243.019943 10.999219 \nL 267.369034 10.999219 \nL 267.369034 29.119219 \nL 243.019943 29.119219 \nL 243.019943 10.999219 \n\" style=\"fill:#00ffff;\"/>\n    <path clip-path=\"url(#pba96f4bedb)\" d=\"M 267.369034 10.999219 \nL 291.718125 10.999219 \nL 291.718125 29.119219 \nL 267.369034 29.119219 \nL 267.369034 10.999219 \n\" style=\"fill:#00ffff;\"/>\n    <path clip-path=\"url(#pba96f4bedb)\" d=\"M 23.878125 29.119219 \nL 48.227216 29.119219 \nL 48.227216 47.239219 \nL 23.878125 47.239219 \nL 23.878125 29.119219 \n\" style=\"fill:#00ffff;\"/>\n    <path clip-path=\"url(#pba96f4bedb)\" d=\"M 48.227216 29.119219 \nL 72.576307 29.119219 \nL 72.576307 47.239219 \nL 48.227216 47.239219 \nL 48.227216 29.119219 \n\" style=\"fill:#00ffff;\"/>\n    <path clip-path=\"url(#pba96f4bedb)\" d=\"M 72.576307 29.119219 \nL 96.925398 29.119219 \nL 96.925398 47.239219 \nL 72.576307 47.239219 \nL 72.576307 29.119219 \n\" style=\"fill:#00ffff;\"/>\n    <path clip-path=\"url(#pba96f4bedb)\" d=\"M 96.925398 29.119219 \nL 121.274489 29.119219 \nL 121.274489 47.239219 \nL 96.925398 47.239219 \nL 96.925398 29.119219 \n\" style=\"fill:#00ffff;\"/>\n    <path clip-path=\"url(#pba96f4bedb)\" d=\"M 121.274489 29.119219 \nL 145.62358 29.119219 \nL 145.62358 47.239219 \nL 121.274489 47.239219 \nL 121.274489 29.119219 \n\" style=\"fill:#00ffff;\"/>\n    <path clip-path=\"url(#pba96f4bedb)\" d=\"M 145.62358 29.119219 \nL 169.97267 29.119219 \nL 169.97267 47.239219 \nL 145.62358 47.239219 \nL 145.62358 29.119219 \n\" style=\"fill:#00ffff;\"/>\n    <path clip-path=\"url(#pba96f4bedb)\" d=\"M 169.97267 29.119219 \nL 194.321761 29.119219 \nL 194.321761 47.239219 \nL 169.97267 47.239219 \nL 169.97267 29.119219 \n\" style=\"fill:#00ffff;\"/>\n    <path clip-path=\"url(#pba96f4bedb)\" d=\"M 194.321761 29.119219 \nL 218.670852 29.119219 \nL 218.670852 47.239219 \nL 194.321761 47.239219 \nL 194.321761 29.119219 \n\" style=\"fill:#00ffff;\"/>\n    <path clip-path=\"url(#pba96f4bedb)\" d=\"M 218.670852 29.119219 \nL 243.019943 29.119219 \nL 243.019943 47.239219 \nL 218.670852 47.239219 \nL 218.670852 29.119219 \n\" style=\"fill:#00ffff;\"/>\n    <path clip-path=\"url(#pba96f4bedb)\" d=\"M 243.019943 29.119219 \nL 267.369034 29.119219 \nL 267.369034 47.239219 \nL 243.019943 47.239219 \nL 243.019943 29.119219 \n\" style=\"fill:#00ffff;\"/>\n    <path clip-path=\"url(#pba96f4bedb)\" d=\"M 267.369034 29.119219 \nL 291.718125 29.119219 \nL 291.718125 47.239219 \nL 267.369034 47.239219 \nL 267.369034 29.119219 \n\" style=\"fill:#00ffff;\"/>\n    <path clip-path=\"url(#pba96f4bedb)\" d=\"M 23.878125 47.239219 \nL 48.227216 47.239219 \nL 48.227216 65.359219 \nL 23.878125 65.359219 \nL 23.878125 47.239219 \n\" style=\"fill:#00ffff;\"/>\n    <path clip-path=\"url(#pba96f4bedb)\" d=\"M 48.227216 47.239219 \nL 72.576307 47.239219 \nL 72.576307 65.359219 \nL 48.227216 65.359219 \nL 48.227216 47.239219 \n\" style=\"fill:#00ffff;\"/>\n    <path clip-path=\"url(#pba96f4bedb)\" d=\"M 72.576307 47.239219 \nL 96.925398 47.239219 \nL 96.925398 65.359219 \nL 72.576307 65.359219 \nL 72.576307 47.239219 \n\" style=\"fill:#ff00ff;\"/>\n    <path clip-path=\"url(#pba96f4bedb)\" d=\"M 96.925398 47.239219 \nL 121.274489 47.239219 \nL 121.274489 65.359219 \nL 96.925398 65.359219 \nL 96.925398 47.239219 \n\" style=\"fill:#00ffff;\"/>\n    <path clip-path=\"url(#pba96f4bedb)\" d=\"M 121.274489 47.239219 \nL 145.62358 47.239219 \nL 145.62358 65.359219 \nL 121.274489 65.359219 \nL 121.274489 47.239219 \n\" style=\"fill:#00ffff;\"/>\n    <path clip-path=\"url(#pba96f4bedb)\" d=\"M 145.62358 47.239219 \nL 169.97267 47.239219 \nL 169.97267 65.359219 \nL 145.62358 65.359219 \nL 145.62358 47.239219 \n\" style=\"fill:#00ffff;\"/>\n    <path clip-path=\"url(#pba96f4bedb)\" d=\"M 169.97267 47.239219 \nL 194.321761 47.239219 \nL 194.321761 65.359219 \nL 169.97267 65.359219 \nL 169.97267 47.239219 \n\" style=\"fill:#00ffff;\"/>\n    <path clip-path=\"url(#pba96f4bedb)\" d=\"M 194.321761 47.239219 \nL 218.670852 47.239219 \nL 218.670852 65.359219 \nL 194.321761 65.359219 \nL 194.321761 47.239219 \n\" style=\"fill:#00ffff;\"/>\n    <path clip-path=\"url(#pba96f4bedb)\" d=\"M 218.670852 47.239219 \nL 243.019943 47.239219 \nL 243.019943 65.359219 \nL 218.670852 65.359219 \nL 218.670852 47.239219 \n\" style=\"fill:#00ffff;\"/>\n    <path clip-path=\"url(#pba96f4bedb)\" d=\"M 243.019943 47.239219 \nL 267.369034 47.239219 \nL 267.369034 65.359219 \nL 243.019943 65.359219 \nL 243.019943 47.239219 \n\" style=\"fill:#00ffff;\"/>\n    <path clip-path=\"url(#pba96f4bedb)\" d=\"M 267.369034 47.239219 \nL 291.718125 47.239219 \nL 291.718125 65.359219 \nL 267.369034 65.359219 \nL 267.369034 47.239219 \n\" style=\"fill:#00ffff;\"/>\n    <path clip-path=\"url(#pba96f4bedb)\" d=\"M 23.878125 65.359219 \nL 48.227216 65.359219 \nL 48.227216 83.479219 \nL 23.878125 83.479219 \nL 23.878125 65.359219 \n\" style=\"fill:#00ffff;\"/>\n    <path clip-path=\"url(#pba96f4bedb)\" d=\"M 48.227216 65.359219 \nL 72.576307 65.359219 \nL 72.576307 83.479219 \nL 48.227216 83.479219 \nL 48.227216 65.359219 \n\" style=\"fill:#ff00ff;\"/>\n    <path clip-path=\"url(#pba96f4bedb)\" d=\"M 72.576307 65.359219 \nL 96.925398 65.359219 \nL 96.925398 83.479219 \nL 72.576307 83.479219 \nL 72.576307 65.359219 \n\" style=\"fill:#00ffff;\"/>\n    <path clip-path=\"url(#pba96f4bedb)\" d=\"M 96.925398 65.359219 \nL 121.274489 65.359219 \nL 121.274489 83.479219 \nL 96.925398 83.479219 \nL 96.925398 65.359219 \n\" style=\"fill:#00ffff;\"/>\n    <path clip-path=\"url(#pba96f4bedb)\" d=\"M 121.274489 65.359219 \nL 145.62358 65.359219 \nL 145.62358 83.479219 \nL 121.274489 83.479219 \nL 121.274489 65.359219 \n\" style=\"fill:#00ffff;\"/>\n    <path clip-path=\"url(#pba96f4bedb)\" d=\"M 145.62358 65.359219 \nL 169.97267 65.359219 \nL 169.97267 83.479219 \nL 145.62358 83.479219 \nL 145.62358 65.359219 \n\" style=\"fill:#00ffff;\"/>\n    <path clip-path=\"url(#pba96f4bedb)\" d=\"M 169.97267 65.359219 \nL 194.321761 65.359219 \nL 194.321761 83.479219 \nL 169.97267 83.479219 \nL 169.97267 65.359219 \n\" style=\"fill:#00ffff;\"/>\n    <path clip-path=\"url(#pba96f4bedb)\" d=\"M 194.321761 65.359219 \nL 218.670852 65.359219 \nL 218.670852 83.479219 \nL 194.321761 83.479219 \nL 194.321761 65.359219 \n\" style=\"fill:#00ffff;\"/>\n    <path clip-path=\"url(#pba96f4bedb)\" d=\"M 218.670852 65.359219 \nL 243.019943 65.359219 \nL 243.019943 83.479219 \nL 218.670852 83.479219 \nL 218.670852 65.359219 \n\" style=\"fill:#00ffff;\"/>\n    <path clip-path=\"url(#pba96f4bedb)\" d=\"M 243.019943 65.359219 \nL 267.369034 65.359219 \nL 267.369034 83.479219 \nL 243.019943 83.479219 \nL 243.019943 65.359219 \n\" style=\"fill:#00ffff;\"/>\n    <path clip-path=\"url(#pba96f4bedb)\" d=\"M 267.369034 65.359219 \nL 291.718125 65.359219 \nL 291.718125 83.479219 \nL 267.369034 83.479219 \nL 267.369034 65.359219 \n\" style=\"fill:#00ffff;\"/>\n    <path clip-path=\"url(#pba96f4bedb)\" d=\"M 23.878125 83.479219 \nL 48.227216 83.479219 \nL 48.227216 101.599219 \nL 23.878125 101.599219 \nL 23.878125 83.479219 \n\" style=\"fill:#00ffff;\"/>\n    <path clip-path=\"url(#pba96f4bedb)\" d=\"M 48.227216 83.479219 \nL 72.576307 83.479219 \nL 72.576307 101.599219 \nL 48.227216 101.599219 \nL 48.227216 83.479219 \n\" style=\"fill:#00ffff;\"/>\n    <path clip-path=\"url(#pba96f4bedb)\" d=\"M 72.576307 83.479219 \nL 96.925398 83.479219 \nL 96.925398 101.599219 \nL 72.576307 101.599219 \nL 72.576307 83.479219 \n\" style=\"fill:#00ffff;\"/>\n    <path clip-path=\"url(#pba96f4bedb)\" d=\"M 96.925398 83.479219 \nL 121.274489 83.479219 \nL 121.274489 101.599219 \nL 96.925398 101.599219 \nL 96.925398 83.479219 \n\" style=\"fill:#00ffff;\"/>\n    <path clip-path=\"url(#pba96f4bedb)\" d=\"M 121.274489 83.479219 \nL 145.62358 83.479219 \nL 145.62358 101.599219 \nL 121.274489 101.599219 \nL 121.274489 83.479219 \n\" style=\"fill:#00ffff;\"/>\n    <path clip-path=\"url(#pba96f4bedb)\" d=\"M 145.62358 83.479219 \nL 169.97267 83.479219 \nL 169.97267 101.599219 \nL 145.62358 101.599219 \nL 145.62358 83.479219 \n\" style=\"fill:#00ffff;\"/>\n    <path clip-path=\"url(#pba96f4bedb)\" d=\"M 169.97267 83.479219 \nL 194.321761 83.479219 \nL 194.321761 101.599219 \nL 169.97267 101.599219 \nL 169.97267 83.479219 \n\" style=\"fill:#00ffff;\"/>\n    <path clip-path=\"url(#pba96f4bedb)\" d=\"M 194.321761 83.479219 \nL 218.670852 83.479219 \nL 218.670852 101.599219 \nL 194.321761 101.599219 \nL 194.321761 83.479219 \n\" style=\"fill:#ff00ff;\"/>\n    <path clip-path=\"url(#pba96f4bedb)\" d=\"M 218.670852 83.479219 \nL 243.019943 83.479219 \nL 243.019943 101.599219 \nL 218.670852 101.599219 \nL 218.670852 83.479219 \n\" style=\"fill:#00ffff;\"/>\n    <path clip-path=\"url(#pba96f4bedb)\" d=\"M 243.019943 83.479219 \nL 267.369034 83.479219 \nL 267.369034 101.599219 \nL 243.019943 101.599219 \nL 243.019943 83.479219 \n\" style=\"fill:#00ffff;\"/>\n    <path clip-path=\"url(#pba96f4bedb)\" d=\"M 267.369034 83.479219 \nL 291.718125 83.479219 \nL 291.718125 101.599219 \nL 267.369034 101.599219 \nL 267.369034 83.479219 \n\" style=\"fill:#00ffff;\"/>\n    <path clip-path=\"url(#pba96f4bedb)\" d=\"M 23.878125 101.599219 \nL 48.227216 101.599219 \nL 48.227216 119.719219 \nL 23.878125 119.719219 \nL 23.878125 101.599219 \n\" style=\"fill:#00ffff;\"/>\n    <path clip-path=\"url(#pba96f4bedb)\" d=\"M 48.227216 101.599219 \nL 72.576307 101.599219 \nL 72.576307 119.719219 \nL 48.227216 119.719219 \nL 48.227216 101.599219 \n\" style=\"fill:#00ffff;\"/>\n    <path clip-path=\"url(#pba96f4bedb)\" d=\"M 72.576307 101.599219 \nL 96.925398 101.599219 \nL 96.925398 119.719219 \nL 72.576307 119.719219 \nL 72.576307 101.599219 \n\" style=\"fill:#00ffff;\"/>\n    <path clip-path=\"url(#pba96f4bedb)\" d=\"M 96.925398 101.599219 \nL 121.274489 101.599219 \nL 121.274489 119.719219 \nL 96.925398 119.719219 \nL 96.925398 101.599219 \n\" style=\"fill:#00ffff;\"/>\n    <path clip-path=\"url(#pba96f4bedb)\" d=\"M 121.274489 101.599219 \nL 145.62358 101.599219 \nL 145.62358 119.719219 \nL 121.274489 119.719219 \nL 121.274489 101.599219 \n\" style=\"fill:#00ffff;\"/>\n    <path clip-path=\"url(#pba96f4bedb)\" d=\"M 145.62358 101.599219 \nL 169.97267 101.599219 \nL 169.97267 119.719219 \nL 145.62358 119.719219 \nL 145.62358 101.599219 \n\" style=\"fill:#00ffff;\"/>\n    <path clip-path=\"url(#pba96f4bedb)\" d=\"M 169.97267 101.599219 \nL 194.321761 101.599219 \nL 194.321761 119.719219 \nL 169.97267 119.719219 \nL 169.97267 101.599219 \n\" style=\"fill:#00ffff;\"/>\n    <path clip-path=\"url(#pba96f4bedb)\" d=\"M 194.321761 101.599219 \nL 218.670852 101.599219 \nL 218.670852 119.719219 \nL 194.321761 119.719219 \nL 194.321761 101.599219 \n\" style=\"fill:#00ffff;\"/>\n    <path clip-path=\"url(#pba96f4bedb)\" d=\"M 218.670852 101.599219 \nL 243.019943 101.599219 \nL 243.019943 119.719219 \nL 218.670852 119.719219 \nL 218.670852 101.599219 \n\" style=\"fill:#00ffff;\"/>\n    <path clip-path=\"url(#pba96f4bedb)\" d=\"M 243.019943 101.599219 \nL 267.369034 101.599219 \nL 267.369034 119.719219 \nL 243.019943 119.719219 \nL 243.019943 101.599219 \n\" style=\"fill:#00ffff;\"/>\n    <path clip-path=\"url(#pba96f4bedb)\" d=\"M 267.369034 101.599219 \nL 291.718125 101.599219 \nL 291.718125 119.719219 \nL 267.369034 119.719219 \nL 267.369034 101.599219 \n\" style=\"fill:#00ffff;\"/>\n    <path clip-path=\"url(#pba96f4bedb)\" d=\"M 23.878125 119.719219 \nL 48.227216 119.719219 \nL 48.227216 137.839219 \nL 23.878125 137.839219 \nL 23.878125 119.719219 \n\" style=\"fill:#00ffff;\"/>\n    <path clip-path=\"url(#pba96f4bedb)\" d=\"M 48.227216 119.719219 \nL 72.576307 119.719219 \nL 72.576307 137.839219 \nL 48.227216 137.839219 \nL 48.227216 119.719219 \n\" style=\"fill:#00ffff;\"/>\n    <path clip-path=\"url(#pba96f4bedb)\" d=\"M 72.576307 119.719219 \nL 96.925398 119.719219 \nL 96.925398 137.839219 \nL 72.576307 137.839219 \nL 72.576307 119.719219 \n\" style=\"fill:#00ffff;\"/>\n    <path clip-path=\"url(#pba96f4bedb)\" d=\"M 96.925398 119.719219 \nL 121.274489 119.719219 \nL 121.274489 137.839219 \nL 96.925398 137.839219 \nL 96.925398 119.719219 \n\" style=\"fill:#00ffff;\"/>\n    <path clip-path=\"url(#pba96f4bedb)\" d=\"M 121.274489 119.719219 \nL 145.62358 119.719219 \nL 145.62358 137.839219 \nL 121.274489 137.839219 \nL 121.274489 119.719219 \n\" style=\"fill:#00ffff;\"/>\n    <path clip-path=\"url(#pba96f4bedb)\" d=\"M 145.62358 119.719219 \nL 169.97267 119.719219 \nL 169.97267 137.839219 \nL 145.62358 137.839219 \nL 145.62358 119.719219 \n\" style=\"fill:#00ffff;\"/>\n    <path clip-path=\"url(#pba96f4bedb)\" d=\"M 169.97267 119.719219 \nL 194.321761 119.719219 \nL 194.321761 137.839219 \nL 169.97267 137.839219 \nL 169.97267 119.719219 \n\" style=\"fill:#00ffff;\"/>\n    <path clip-path=\"url(#pba96f4bedb)\" d=\"M 194.321761 119.719219 \nL 218.670852 119.719219 \nL 218.670852 137.839219 \nL 194.321761 137.839219 \nL 194.321761 119.719219 \n\" style=\"fill:#00ffff;\"/>\n    <path clip-path=\"url(#pba96f4bedb)\" d=\"M 218.670852 119.719219 \nL 243.019943 119.719219 \nL 243.019943 137.839219 \nL 218.670852 137.839219 \nL 218.670852 119.719219 \n\" style=\"fill:#00ffff;\"/>\n    <path clip-path=\"url(#pba96f4bedb)\" d=\"M 243.019943 119.719219 \nL 267.369034 119.719219 \nL 267.369034 137.839219 \nL 243.019943 137.839219 \nL 243.019943 119.719219 \n\" style=\"fill:#00ffff;\"/>\n    <path clip-path=\"url(#pba96f4bedb)\" d=\"M 267.369034 119.719219 \nL 291.718125 119.719219 \nL 291.718125 137.839219 \nL 267.369034 137.839219 \nL 267.369034 119.719219 \n\" style=\"fill:#00ffff;\"/>\n    <path clip-path=\"url(#pba96f4bedb)\" d=\"M 23.878125 137.839219 \nL 48.227216 137.839219 \nL 48.227216 155.959219 \nL 23.878125 155.959219 \nL 23.878125 137.839219 \n\" style=\"fill:#00ffff;\"/>\n    <path clip-path=\"url(#pba96f4bedb)\" d=\"M 48.227216 137.839219 \nL 72.576307 137.839219 \nL 72.576307 155.959219 \nL 48.227216 155.959219 \nL 48.227216 137.839219 \n\" style=\"fill:#00ffff;\"/>\n    <path clip-path=\"url(#pba96f4bedb)\" d=\"M 72.576307 137.839219 \nL 96.925398 137.839219 \nL 96.925398 155.959219 \nL 72.576307 155.959219 \nL 72.576307 137.839219 \n\" style=\"fill:#00ffff;\"/>\n    <path clip-path=\"url(#pba96f4bedb)\" d=\"M 96.925398 137.839219 \nL 121.274489 137.839219 \nL 121.274489 155.959219 \nL 96.925398 155.959219 \nL 96.925398 137.839219 \n\" style=\"fill:#00ffff;\"/>\n    <path clip-path=\"url(#pba96f4bedb)\" d=\"M 121.274489 137.839219 \nL 145.62358 137.839219 \nL 145.62358 155.959219 \nL 121.274489 155.959219 \nL 121.274489 137.839219 \n\" style=\"fill:#00ffff;\"/>\n    <path clip-path=\"url(#pba96f4bedb)\" d=\"M 145.62358 137.839219 \nL 169.97267 137.839219 \nL 169.97267 155.959219 \nL 145.62358 155.959219 \nL 145.62358 137.839219 \n\" style=\"fill:#00ffff;\"/>\n    <path clip-path=\"url(#pba96f4bedb)\" d=\"M 169.97267 137.839219 \nL 194.321761 137.839219 \nL 194.321761 155.959219 \nL 169.97267 155.959219 \nL 169.97267 137.839219 \n\" style=\"fill:#00ffff;\"/>\n    <path clip-path=\"url(#pba96f4bedb)\" d=\"M 194.321761 137.839219 \nL 218.670852 137.839219 \nL 218.670852 155.959219 \nL 194.321761 155.959219 \nL 194.321761 137.839219 \n\" style=\"fill:#00ffff;\"/>\n    <path clip-path=\"url(#pba96f4bedb)\" d=\"M 218.670852 137.839219 \nL 243.019943 137.839219 \nL 243.019943 155.959219 \nL 218.670852 155.959219 \nL 218.670852 137.839219 \n\" style=\"fill:#00ffff;\"/>\n    <path clip-path=\"url(#pba96f4bedb)\" d=\"M 243.019943 137.839219 \nL 267.369034 137.839219 \nL 267.369034 155.959219 \nL 243.019943 155.959219 \nL 243.019943 137.839219 \n\" style=\"fill:#00ffff;\"/>\n    <path clip-path=\"url(#pba96f4bedb)\" d=\"M 267.369034 137.839219 \nL 291.718125 137.839219 \nL 291.718125 155.959219 \nL 267.369034 155.959219 \nL 267.369034 137.839219 \n\" style=\"fill:#00ffff;\"/>\n    <path clip-path=\"url(#pba96f4bedb)\" d=\"M 23.878125 155.959219 \nL 48.227216 155.959219 \nL 48.227216 174.079219 \nL 23.878125 174.079219 \nL 23.878125 155.959219 \n\" style=\"fill:#00ffff;\"/>\n    <path clip-path=\"url(#pba96f4bedb)\" d=\"M 48.227216 155.959219 \nL 72.576307 155.959219 \nL 72.576307 174.079219 \nL 48.227216 174.079219 \nL 48.227216 155.959219 \n\" style=\"fill:#00ffff;\"/>\n    <path clip-path=\"url(#pba96f4bedb)\" d=\"M 72.576307 155.959219 \nL 96.925398 155.959219 \nL 96.925398 174.079219 \nL 72.576307 174.079219 \nL 72.576307 155.959219 \n\" style=\"fill:#00ffff;\"/>\n    <path clip-path=\"url(#pba96f4bedb)\" d=\"M 96.925398 155.959219 \nL 121.274489 155.959219 \nL 121.274489 174.079219 \nL 96.925398 174.079219 \nL 96.925398 155.959219 \n\" style=\"fill:#00ffff;\"/>\n    <path clip-path=\"url(#pba96f4bedb)\" d=\"M 121.274489 155.959219 \nL 145.62358 155.959219 \nL 145.62358 174.079219 \nL 121.274489 174.079219 \nL 121.274489 155.959219 \n\" style=\"fill:#00ffff;\"/>\n    <path clip-path=\"url(#pba96f4bedb)\" d=\"M 145.62358 155.959219 \nL 169.97267 155.959219 \nL 169.97267 174.079219 \nL 145.62358 174.079219 \nL 145.62358 155.959219 \n\" style=\"fill:#00ffff;\"/>\n    <path clip-path=\"url(#pba96f4bedb)\" d=\"M 169.97267 155.959219 \nL 194.321761 155.959219 \nL 194.321761 174.079219 \nL 169.97267 174.079219 \nL 169.97267 155.959219 \n\" style=\"fill:#00ffff;\"/>\n    <path clip-path=\"url(#pba96f4bedb)\" d=\"M 194.321761 155.959219 \nL 218.670852 155.959219 \nL 218.670852 174.079219 \nL 194.321761 174.079219 \nL 194.321761 155.959219 \n\" style=\"fill:#00ffff;\"/>\n    <path clip-path=\"url(#pba96f4bedb)\" d=\"M 218.670852 155.959219 \nL 243.019943 155.959219 \nL 243.019943 174.079219 \nL 218.670852 174.079219 \nL 218.670852 155.959219 \n\" style=\"fill:#00ffff;\"/>\n    <path clip-path=\"url(#pba96f4bedb)\" d=\"M 243.019943 155.959219 \nL 267.369034 155.959219 \nL 267.369034 174.079219 \nL 243.019943 174.079219 \nL 243.019943 155.959219 \n\" style=\"fill:#00ffff;\"/>\n    <path clip-path=\"url(#pba96f4bedb)\" d=\"M 267.369034 155.959219 \nL 291.718125 155.959219 \nL 291.718125 174.079219 \nL 267.369034 174.079219 \nL 267.369034 155.959219 \n\" style=\"fill:#00ffff;\"/>\n    <path clip-path=\"url(#pba96f4bedb)\" d=\"M 23.878125 174.079219 \nL 48.227216 174.079219 \nL 48.227216 192.199219 \nL 23.878125 192.199219 \nL 23.878125 174.079219 \n\" style=\"fill:#00ffff;\"/>\n    <path clip-path=\"url(#pba96f4bedb)\" d=\"M 48.227216 174.079219 \nL 72.576307 174.079219 \nL 72.576307 192.199219 \nL 48.227216 192.199219 \nL 48.227216 174.079219 \n\" style=\"fill:#ff00ff;\"/>\n    <path clip-path=\"url(#pba96f4bedb)\" d=\"M 72.576307 174.079219 \nL 96.925398 174.079219 \nL 96.925398 192.199219 \nL 72.576307 192.199219 \nL 72.576307 174.079219 \n\" style=\"fill:#00ffff;\"/>\n    <path clip-path=\"url(#pba96f4bedb)\" d=\"M 96.925398 174.079219 \nL 121.274489 174.079219 \nL 121.274489 192.199219 \nL 96.925398 192.199219 \nL 96.925398 174.079219 \n\" style=\"fill:#00ffff;\"/>\n    <path clip-path=\"url(#pba96f4bedb)\" d=\"M 121.274489 174.079219 \nL 145.62358 174.079219 \nL 145.62358 192.199219 \nL 121.274489 192.199219 \nL 121.274489 174.079219 \n\" style=\"fill:#00ffff;\"/>\n    <path clip-path=\"url(#pba96f4bedb)\" d=\"M 145.62358 174.079219 \nL 169.97267 174.079219 \nL 169.97267 192.199219 \nL 145.62358 192.199219 \nL 145.62358 174.079219 \n\" style=\"fill:#00ffff;\"/>\n    <path clip-path=\"url(#pba96f4bedb)\" d=\"M 169.97267 174.079219 \nL 194.321761 174.079219 \nL 194.321761 192.199219 \nL 169.97267 192.199219 \nL 169.97267 174.079219 \n\" style=\"fill:#00ffff;\"/>\n    <path clip-path=\"url(#pba96f4bedb)\" d=\"M 194.321761 174.079219 \nL 218.670852 174.079219 \nL 218.670852 192.199219 \nL 194.321761 192.199219 \nL 194.321761 174.079219 \n\" style=\"fill:#00ffff;\"/>\n    <path clip-path=\"url(#pba96f4bedb)\" d=\"M 218.670852 174.079219 \nL 243.019943 174.079219 \nL 243.019943 192.199219 \nL 218.670852 192.199219 \nL 218.670852 174.079219 \n\" style=\"fill:#00ffff;\"/>\n    <path clip-path=\"url(#pba96f4bedb)\" d=\"M 243.019943 174.079219 \nL 267.369034 174.079219 \nL 267.369034 192.199219 \nL 243.019943 192.199219 \nL 243.019943 174.079219 \n\" style=\"fill:#00ffff;\"/>\n    <path clip-path=\"url(#pba96f4bedb)\" d=\"M 267.369034 174.079219 \nL 291.718125 174.079219 \nL 291.718125 192.199219 \nL 267.369034 192.199219 \nL 267.369034 174.079219 \n\" style=\"fill:#00ffff;\"/>\n    <path clip-path=\"url(#pba96f4bedb)\" d=\"M 23.878125 192.199219 \nL 48.227216 192.199219 \nL 48.227216 210.319219 \nL 23.878125 210.319219 \nL 23.878125 192.199219 \n\" style=\"fill:#00ffff;\"/>\n    <path clip-path=\"url(#pba96f4bedb)\" d=\"M 48.227216 192.199219 \nL 72.576307 192.199219 \nL 72.576307 210.319219 \nL 48.227216 210.319219 \nL 48.227216 192.199219 \n\" style=\"fill:#00ffff;\"/>\n    <path clip-path=\"url(#pba96f4bedb)\" d=\"M 72.576307 192.199219 \nL 96.925398 192.199219 \nL 96.925398 210.319219 \nL 72.576307 210.319219 \nL 72.576307 192.199219 \n\" style=\"fill:#ff00ff;\"/>\n    <path clip-path=\"url(#pba96f4bedb)\" d=\"M 96.925398 192.199219 \nL 121.274489 192.199219 \nL 121.274489 210.319219 \nL 96.925398 210.319219 \nL 96.925398 192.199219 \n\" style=\"fill:#00ffff;\"/>\n    <path clip-path=\"url(#pba96f4bedb)\" d=\"M 121.274489 192.199219 \nL 145.62358 192.199219 \nL 145.62358 210.319219 \nL 121.274489 210.319219 \nL 121.274489 192.199219 \n\" style=\"fill:#00ffff;\"/>\n    <path clip-path=\"url(#pba96f4bedb)\" d=\"M 145.62358 192.199219 \nL 169.97267 192.199219 \nL 169.97267 210.319219 \nL 145.62358 210.319219 \nL 145.62358 192.199219 \n\" style=\"fill:#00ffff;\"/>\n    <path clip-path=\"url(#pba96f4bedb)\" d=\"M 169.97267 192.199219 \nL 194.321761 192.199219 \nL 194.321761 210.319219 \nL 169.97267 210.319219 \nL 169.97267 192.199219 \n\" style=\"fill:#00ffff;\"/>\n    <path clip-path=\"url(#pba96f4bedb)\" d=\"M 194.321761 192.199219 \nL 218.670852 192.199219 \nL 218.670852 210.319219 \nL 194.321761 210.319219 \nL 194.321761 192.199219 \n\" style=\"fill:#00ffff;\"/>\n    <path clip-path=\"url(#pba96f4bedb)\" d=\"M 218.670852 192.199219 \nL 243.019943 192.199219 \nL 243.019943 210.319219 \nL 218.670852 210.319219 \nL 218.670852 192.199219 \n\" style=\"fill:#00ffff;\"/>\n    <path clip-path=\"url(#pba96f4bedb)\" d=\"M 243.019943 192.199219 \nL 267.369034 192.199219 \nL 267.369034 210.319219 \nL 243.019943 210.319219 \nL 243.019943 192.199219 \n\" style=\"fill:#00ffff;\"/>\n    <path clip-path=\"url(#pba96f4bedb)\" d=\"M 267.369034 192.199219 \nL 291.718125 192.199219 \nL 291.718125 210.319219 \nL 267.369034 210.319219 \nL 267.369034 192.199219 \n\" style=\"fill:#00ffff;\"/>\n    <path clip-path=\"url(#pba96f4bedb)\" d=\"M 23.878125 210.319219 \nL 48.227216 210.319219 \nL 48.227216 228.439219 \nL 23.878125 228.439219 \nL 23.878125 210.319219 \n\" style=\"fill:#00ffff;\"/>\n    <path clip-path=\"url(#pba96f4bedb)\" d=\"M 48.227216 210.319219 \nL 72.576307 210.319219 \nL 72.576307 228.439219 \nL 48.227216 228.439219 \nL 48.227216 210.319219 \n\" style=\"fill:#00ffff;\"/>\n    <path clip-path=\"url(#pba96f4bedb)\" d=\"M 72.576307 210.319219 \nL 96.925398 210.319219 \nL 96.925398 228.439219 \nL 72.576307 228.439219 \nL 72.576307 210.319219 \n\" style=\"fill:#00ffff;\"/>\n    <path clip-path=\"url(#pba96f4bedb)\" d=\"M 96.925398 210.319219 \nL 121.274489 210.319219 \nL 121.274489 228.439219 \nL 96.925398 228.439219 \nL 96.925398 210.319219 \n\" style=\"fill:#00ffff;\"/>\n    <path clip-path=\"url(#pba96f4bedb)\" d=\"M 121.274489 210.319219 \nL 145.62358 210.319219 \nL 145.62358 228.439219 \nL 121.274489 228.439219 \nL 121.274489 210.319219 \n\" style=\"fill:#00ffff;\"/>\n    <path clip-path=\"url(#pba96f4bedb)\" d=\"M 145.62358 210.319219 \nL 169.97267 210.319219 \nL 169.97267 228.439219 \nL 145.62358 228.439219 \nL 145.62358 210.319219 \n\" style=\"fill:#00ffff;\"/>\n    <path clip-path=\"url(#pba96f4bedb)\" d=\"M 169.97267 210.319219 \nL 194.321761 210.319219 \nL 194.321761 228.439219 \nL 169.97267 228.439219 \nL 169.97267 210.319219 \n\" style=\"fill:#00ffff;\"/>\n    <path clip-path=\"url(#pba96f4bedb)\" d=\"M 194.321761 210.319219 \nL 218.670852 210.319219 \nL 218.670852 228.439219 \nL 194.321761 228.439219 \nL 194.321761 210.319219 \n\" style=\"fill:#00ffff;\"/>\n    <path clip-path=\"url(#pba96f4bedb)\" d=\"M 218.670852 210.319219 \nL 243.019943 210.319219 \nL 243.019943 228.439219 \nL 218.670852 228.439219 \nL 218.670852 210.319219 \n\" style=\"fill:#00ffff;\"/>\n    <path clip-path=\"url(#pba96f4bedb)\" d=\"M 243.019943 210.319219 \nL 267.369034 210.319219 \nL 267.369034 228.439219 \nL 243.019943 228.439219 \nL 243.019943 210.319219 \n\" style=\"fill:#ff00ff;\"/>\n    <path clip-path=\"url(#pba96f4bedb)\" d=\"M 267.369034 210.319219 \nL 291.718125 210.319219 \nL 291.718125 228.439219 \nL 267.369034 228.439219 \nL 267.369034 210.319219 \n\" style=\"fill:#ff00ff;\"/>\n   </g>\n   <g id=\"matplotlib.axis_1\">\n    <g id=\"xtick_1\">\n     <g id=\"line2d_1\">\n      <defs>\n       <path d=\"M 0 0 \nL 0 3.5 \n\" id=\"m9a3d8e3ff4\" style=\"stroke:#000000;stroke-width:0.8;\"/>\n      </defs>\n      <g>\n       <use style=\"stroke:#000000;stroke-width:0.8;\" x=\"36.05267\" xlink:href=\"#m9a3d8e3ff4\" y=\"228.439219\"/>\n      </g>\n     </g>\n     <g id=\"text_1\">\n      <!-- ID -->\n      <defs>\n       <path d=\"M 9.8125 72.90625 \nL 19.671875 72.90625 \nL 19.671875 0 \nL 9.8125 0 \nz\n\" id=\"DejaVuSans-73\"/>\n       <path d=\"M 19.671875 64.796875 \nL 19.671875 8.109375 \nL 31.59375 8.109375 \nQ 46.6875 8.109375 53.6875 14.9375 \nQ 60.6875 21.78125 60.6875 36.53125 \nQ 60.6875 51.171875 53.6875 57.984375 \nQ 46.6875 64.796875 31.59375 64.796875 \nz\nM 9.8125 72.90625 \nL 30.078125 72.90625 \nQ 51.265625 72.90625 61.171875 64.09375 \nQ 71.09375 55.28125 71.09375 36.53125 \nQ 71.09375 17.671875 61.125 8.828125 \nQ 51.171875 0 30.078125 0 \nL 9.8125 0 \nz\n\" id=\"DejaVuSans-68\"/>\n      </defs>\n      <g transform=\"translate(38.812045 246.089219)rotate(-90)scale(0.1 -0.1)\">\n       <use xlink:href=\"#DejaVuSans-73\"/>\n       <use x=\"29.492188\" xlink:href=\"#DejaVuSans-68\"/>\n      </g>\n     </g>\n    </g>\n    <g id=\"xtick_2\">\n     <g id=\"line2d_2\">\n      <g>\n       <use style=\"stroke:#000000;stroke-width:0.8;\" x=\"60.401761\" xlink:href=\"#m9a3d8e3ff4\" y=\"228.439219\"/>\n      </g>\n     </g>\n     <g id=\"text_2\">\n      <!-- Age -->\n      <defs>\n       <path d=\"M 34.1875 63.1875 \nL 20.796875 26.90625 \nL 47.609375 26.90625 \nz\nM 28.609375 72.90625 \nL 39.796875 72.90625 \nL 67.578125 0 \nL 57.328125 0 \nL 50.6875 18.703125 \nL 17.828125 18.703125 \nL 11.1875 0 \nL 0.78125 0 \nz\n\" id=\"DejaVuSans-65\"/>\n       <path d=\"M 45.40625 27.984375 \nQ 45.40625 37.75 41.375 43.109375 \nQ 37.359375 48.484375 30.078125 48.484375 \nQ 22.859375 48.484375 18.828125 43.109375 \nQ 14.796875 37.75 14.796875 27.984375 \nQ 14.796875 18.265625 18.828125 12.890625 \nQ 22.859375 7.515625 30.078125 7.515625 \nQ 37.359375 7.515625 41.375 12.890625 \nQ 45.40625 18.265625 45.40625 27.984375 \nz\nM 54.390625 6.78125 \nQ 54.390625 -7.171875 48.1875 -13.984375 \nQ 42 -20.796875 29.203125 -20.796875 \nQ 24.46875 -20.796875 20.265625 -20.09375 \nQ 16.0625 -19.390625 12.109375 -17.921875 \nL 12.109375 -9.1875 \nQ 16.0625 -11.328125 19.921875 -12.34375 \nQ 23.78125 -13.375 27.78125 -13.375 \nQ 36.625 -13.375 41.015625 -8.765625 \nQ 45.40625 -4.15625 45.40625 5.171875 \nL 45.40625 9.625 \nQ 42.625 4.78125 38.28125 2.390625 \nQ 33.9375 0 27.875 0 \nQ 17.828125 0 11.671875 7.65625 \nQ 5.515625 15.328125 5.515625 27.984375 \nQ 5.515625 40.671875 11.671875 48.328125 \nQ 17.828125 56 27.875 56 \nQ 33.9375 56 38.28125 53.609375 \nQ 42.625 51.21875 45.40625 46.390625 \nL 45.40625 54.6875 \nL 54.390625 54.6875 \nz\n\" id=\"DejaVuSans-103\"/>\n       <path d=\"M 56.203125 29.59375 \nL 56.203125 25.203125 \nL 14.890625 25.203125 \nQ 15.484375 15.921875 20.484375 11.0625 \nQ 25.484375 6.203125 34.421875 6.203125 \nQ 39.59375 6.203125 44.453125 7.46875 \nQ 49.3125 8.734375 54.109375 11.28125 \nL 54.109375 2.78125 \nQ 49.265625 0.734375 44.1875 -0.34375 \nQ 39.109375 -1.421875 33.890625 -1.421875 \nQ 20.796875 -1.421875 13.15625 6.1875 \nQ 5.515625 13.8125 5.515625 26.8125 \nQ 5.515625 40.234375 12.765625 48.109375 \nQ 20.015625 56 32.328125 56 \nQ 43.359375 56 49.78125 48.890625 \nQ 56.203125 41.796875 56.203125 29.59375 \nz\nM 47.21875 32.234375 \nQ 47.125 39.59375 43.09375 43.984375 \nQ 39.0625 48.390625 32.421875 48.390625 \nQ 24.90625 48.390625 20.390625 44.140625 \nQ 15.875 39.890625 15.1875 32.171875 \nz\n\" id=\"DejaVuSans-101\"/>\n      </defs>\n      <g transform=\"translate(63.161136 254.781406)rotate(-90)scale(0.1 -0.1)\">\n       <use xlink:href=\"#DejaVuSans-65\"/>\n       <use x=\"68.408203\" xlink:href=\"#DejaVuSans-103\"/>\n       <use x=\"131.884766\" xlink:href=\"#DejaVuSans-101\"/>\n      </g>\n     </g>\n    </g>\n    <g id=\"xtick_3\">\n     <g id=\"line2d_3\">\n      <g>\n       <use style=\"stroke:#000000;stroke-width:0.8;\" x=\"84.750852\" xlink:href=\"#m9a3d8e3ff4\" y=\"228.439219\"/>\n      </g>\n     </g>\n     <g id=\"text_3\">\n      <!-- Weight -->\n      <defs>\n       <path d=\"M 3.328125 72.90625 \nL 13.28125 72.90625 \nL 28.609375 11.28125 \nL 43.890625 72.90625 \nL 54.984375 72.90625 \nL 70.3125 11.28125 \nL 85.59375 72.90625 \nL 95.609375 72.90625 \nL 77.296875 0 \nL 64.890625 0 \nL 49.515625 63.28125 \nL 33.984375 0 \nL 21.578125 0 \nz\n\" id=\"DejaVuSans-87\"/>\n       <path d=\"M 9.421875 54.6875 \nL 18.40625 54.6875 \nL 18.40625 0 \nL 9.421875 0 \nz\nM 9.421875 75.984375 \nL 18.40625 75.984375 \nL 18.40625 64.59375 \nL 9.421875 64.59375 \nz\n\" id=\"DejaVuSans-105\"/>\n       <path d=\"M 54.890625 33.015625 \nL 54.890625 0 \nL 45.90625 0 \nL 45.90625 32.71875 \nQ 45.90625 40.484375 42.875 44.328125 \nQ 39.84375 48.1875 33.796875 48.1875 \nQ 26.515625 48.1875 22.3125 43.546875 \nQ 18.109375 38.921875 18.109375 30.90625 \nL 18.109375 0 \nL 9.078125 0 \nL 9.078125 75.984375 \nL 18.109375 75.984375 \nL 18.109375 46.1875 \nQ 21.34375 51.125 25.703125 53.5625 \nQ 30.078125 56 35.796875 56 \nQ 45.21875 56 50.046875 50.171875 \nQ 54.890625 44.34375 54.890625 33.015625 \nz\n\" id=\"DejaVuSans-104\"/>\n       <path d=\"M 18.3125 70.21875 \nL 18.3125 54.6875 \nL 36.8125 54.6875 \nL 36.8125 47.703125 \nL 18.3125 47.703125 \nL 18.3125 18.015625 \nQ 18.3125 11.328125 20.140625 9.421875 \nQ 21.96875 7.515625 27.59375 7.515625 \nL 36.8125 7.515625 \nL 36.8125 0 \nL 27.59375 0 \nQ 17.1875 0 13.234375 3.875 \nQ 9.28125 7.765625 9.28125 18.015625 \nL 9.28125 47.703125 \nL 2.6875 47.703125 \nL 2.6875 54.6875 \nL 9.28125 54.6875 \nL 9.28125 70.21875 \nz\n\" id=\"DejaVuSans-116\"/>\n      </defs>\n      <g transform=\"translate(87.510227 270.276719)rotate(-90)scale(0.1 -0.1)\">\n       <use xlink:href=\"#DejaVuSans-87\"/>\n       <use x=\"93.001953\" xlink:href=\"#DejaVuSans-101\"/>\n       <use x=\"154.525391\" xlink:href=\"#DejaVuSans-105\"/>\n       <use x=\"182.308594\" xlink:href=\"#DejaVuSans-103\"/>\n       <use x=\"245.785156\" xlink:href=\"#DejaVuSans-104\"/>\n       <use x=\"309.164062\" xlink:href=\"#DejaVuSans-116\"/>\n      </g>\n     </g>\n    </g>\n    <g id=\"xtick_4\">\n     <g id=\"line2d_4\">\n      <g>\n       <use style=\"stroke:#000000;stroke-width:0.8;\" x=\"109.099943\" xlink:href=\"#m9a3d8e3ff4\" y=\"228.439219\"/>\n      </g>\n     </g>\n     <g id=\"text_4\">\n      <!-- m006 -->\n      <defs>\n       <path d=\"M 52 44.1875 \nQ 55.375 50.25 60.0625 53.125 \nQ 64.75 56 71.09375 56 \nQ 79.640625 56 84.28125 50.015625 \nQ 88.921875 44.046875 88.921875 33.015625 \nL 88.921875 0 \nL 79.890625 0 \nL 79.890625 32.71875 \nQ 79.890625 40.578125 77.09375 44.375 \nQ 74.3125 48.1875 68.609375 48.1875 \nQ 61.625 48.1875 57.5625 43.546875 \nQ 53.515625 38.921875 53.515625 30.90625 \nL 53.515625 0 \nL 44.484375 0 \nL 44.484375 32.71875 \nQ 44.484375 40.625 41.703125 44.40625 \nQ 38.921875 48.1875 33.109375 48.1875 \nQ 26.21875 48.1875 22.15625 43.53125 \nQ 18.109375 38.875 18.109375 30.90625 \nL 18.109375 0 \nL 9.078125 0 \nL 9.078125 54.6875 \nL 18.109375 54.6875 \nL 18.109375 46.1875 \nQ 21.1875 51.21875 25.484375 53.609375 \nQ 29.78125 56 35.6875 56 \nQ 41.65625 56 45.828125 52.96875 \nQ 50 49.953125 52 44.1875 \nz\n\" id=\"DejaVuSans-109\"/>\n       <path d=\"M 31.78125 66.40625 \nQ 24.171875 66.40625 20.328125 58.90625 \nQ 16.5 51.421875 16.5 36.375 \nQ 16.5 21.390625 20.328125 13.890625 \nQ 24.171875 6.390625 31.78125 6.390625 \nQ 39.453125 6.390625 43.28125 13.890625 \nQ 47.125 21.390625 47.125 36.375 \nQ 47.125 51.421875 43.28125 58.90625 \nQ 39.453125 66.40625 31.78125 66.40625 \nz\nM 31.78125 74.21875 \nQ 44.046875 74.21875 50.515625 64.515625 \nQ 56.984375 54.828125 56.984375 36.375 \nQ 56.984375 17.96875 50.515625 8.265625 \nQ 44.046875 -1.421875 31.78125 -1.421875 \nQ 19.53125 -1.421875 13.0625 8.265625 \nQ 6.59375 17.96875 6.59375 36.375 \nQ 6.59375 54.828125 13.0625 64.515625 \nQ 19.53125 74.21875 31.78125 74.21875 \nz\n\" id=\"DejaVuSans-48\"/>\n       <path d=\"M 33.015625 40.375 \nQ 26.375 40.375 22.484375 35.828125 \nQ 18.609375 31.296875 18.609375 23.390625 \nQ 18.609375 15.53125 22.484375 10.953125 \nQ 26.375 6.390625 33.015625 6.390625 \nQ 39.65625 6.390625 43.53125 10.953125 \nQ 47.40625 15.53125 47.40625 23.390625 \nQ 47.40625 31.296875 43.53125 35.828125 \nQ 39.65625 40.375 33.015625 40.375 \nz\nM 52.59375 71.296875 \nL 52.59375 62.3125 \nQ 48.875 64.0625 45.09375 64.984375 \nQ 41.3125 65.921875 37.59375 65.921875 \nQ 27.828125 65.921875 22.671875 59.328125 \nQ 17.53125 52.734375 16.796875 39.40625 \nQ 19.671875 43.65625 24.015625 45.921875 \nQ 28.375 48.1875 33.59375 48.1875 \nQ 44.578125 48.1875 50.953125 41.515625 \nQ 57.328125 34.859375 57.328125 23.390625 \nQ 57.328125 12.15625 50.6875 5.359375 \nQ 44.046875 -1.421875 33.015625 -1.421875 \nQ 20.359375 -1.421875 13.671875 8.265625 \nQ 6.984375 17.96875 6.984375 36.375 \nQ 6.984375 53.65625 15.1875 63.9375 \nQ 23.390625 74.21875 37.203125 74.21875 \nQ 40.921875 74.21875 44.703125 73.484375 \nQ 48.484375 72.75 52.59375 71.296875 \nz\n\" id=\"DejaVuSans-54\"/>\n      </defs>\n      <g transform=\"translate(111.859318 264.267344)rotate(-90)scale(0.1 -0.1)\">\n       <use xlink:href=\"#DejaVuSans-109\"/>\n       <use x=\"97.412109\" xlink:href=\"#DejaVuSans-48\"/>\n       <use x=\"161.035156\" xlink:href=\"#DejaVuSans-48\"/>\n       <use x=\"224.658203\" xlink:href=\"#DejaVuSans-54\"/>\n      </g>\n     </g>\n    </g>\n    <g id=\"xtick_5\">\n     <g id=\"line2d_5\">\n      <g>\n       <use style=\"stroke:#000000;stroke-width:0.8;\" x=\"133.449034\" xlink:href=\"#m9a3d8e3ff4\" y=\"228.439219\"/>\n      </g>\n     </g>\n     <g id=\"text_5\">\n      <!-- m0612 -->\n      <defs>\n       <path d=\"M 12.40625 8.296875 \nL 28.515625 8.296875 \nL 28.515625 63.921875 \nL 10.984375 60.40625 \nL 10.984375 69.390625 \nL 28.421875 72.90625 \nL 38.28125 72.90625 \nL 38.28125 8.296875 \nL 54.390625 8.296875 \nL 54.390625 0 \nL 12.40625 0 \nz\n\" id=\"DejaVuSans-49\"/>\n       <path d=\"M 19.1875 8.296875 \nL 53.609375 8.296875 \nL 53.609375 0 \nL 7.328125 0 \nL 7.328125 8.296875 \nQ 12.9375 14.109375 22.625 23.890625 \nQ 32.328125 33.6875 34.8125 36.53125 \nQ 39.546875 41.84375 41.421875 45.53125 \nQ 43.3125 49.21875 43.3125 52.78125 \nQ 43.3125 58.59375 39.234375 62.25 \nQ 35.15625 65.921875 28.609375 65.921875 \nQ 23.96875 65.921875 18.8125 64.3125 \nQ 13.671875 62.703125 7.8125 59.421875 \nL 7.8125 69.390625 \nQ 13.765625 71.78125 18.9375 73 \nQ 24.125 74.21875 28.421875 74.21875 \nQ 39.75 74.21875 46.484375 68.546875 \nQ 53.21875 62.890625 53.21875 53.421875 \nQ 53.21875 48.921875 51.53125 44.890625 \nQ 49.859375 40.875 45.40625 35.40625 \nQ 44.1875 33.984375 37.640625 27.21875 \nQ 31.109375 20.453125 19.1875 8.296875 \nz\n\" id=\"DejaVuSans-50\"/>\n      </defs>\n      <g transform=\"translate(136.208409 270.629844)rotate(-90)scale(0.1 -0.1)\">\n       <use xlink:href=\"#DejaVuSans-109\"/>\n       <use x=\"97.412109\" xlink:href=\"#DejaVuSans-48\"/>\n       <use x=\"161.035156\" xlink:href=\"#DejaVuSans-54\"/>\n       <use x=\"224.658203\" xlink:href=\"#DejaVuSans-49\"/>\n       <use x=\"288.28125\" xlink:href=\"#DejaVuSans-50\"/>\n      </g>\n     </g>\n    </g>\n    <g id=\"xtick_6\">\n     <g id=\"line2d_6\">\n      <g>\n       <use style=\"stroke:#000000;stroke-width:0.8;\" x=\"157.798125\" xlink:href=\"#m9a3d8e3ff4\" y=\"228.439219\"/>\n      </g>\n     </g>\n     <g id=\"text_6\">\n      <!-- m1218 -->\n      <defs>\n       <path d=\"M 31.78125 34.625 \nQ 24.75 34.625 20.71875 30.859375 \nQ 16.703125 27.09375 16.703125 20.515625 \nQ 16.703125 13.921875 20.71875 10.15625 \nQ 24.75 6.390625 31.78125 6.390625 \nQ 38.8125 6.390625 42.859375 10.171875 \nQ 46.921875 13.96875 46.921875 20.515625 \nQ 46.921875 27.09375 42.890625 30.859375 \nQ 38.875 34.625 31.78125 34.625 \nz\nM 21.921875 38.8125 \nQ 15.578125 40.375 12.03125 44.71875 \nQ 8.5 49.078125 8.5 55.328125 \nQ 8.5 64.0625 14.71875 69.140625 \nQ 20.953125 74.21875 31.78125 74.21875 \nQ 42.671875 74.21875 48.875 69.140625 \nQ 55.078125 64.0625 55.078125 55.328125 \nQ 55.078125 49.078125 51.53125 44.71875 \nQ 48 40.375 41.703125 38.8125 \nQ 48.828125 37.15625 52.796875 32.3125 \nQ 56.78125 27.484375 56.78125 20.515625 \nQ 56.78125 9.90625 50.3125 4.234375 \nQ 43.84375 -1.421875 31.78125 -1.421875 \nQ 19.734375 -1.421875 13.25 4.234375 \nQ 6.78125 9.90625 6.78125 20.515625 \nQ 6.78125 27.484375 10.78125 32.3125 \nQ 14.796875 37.15625 21.921875 38.8125 \nz\nM 18.3125 54.390625 \nQ 18.3125 48.734375 21.84375 45.5625 \nQ 25.390625 42.390625 31.78125 42.390625 \nQ 38.140625 42.390625 41.71875 45.5625 \nQ 45.3125 48.734375 45.3125 54.390625 \nQ 45.3125 60.0625 41.71875 63.234375 \nQ 38.140625 66.40625 31.78125 66.40625 \nQ 25.390625 66.40625 21.84375 63.234375 \nQ 18.3125 60.0625 18.3125 54.390625 \nz\n\" id=\"DejaVuSans-56\"/>\n      </defs>\n      <g transform=\"translate(160.5575 270.629844)rotate(-90)scale(0.1 -0.1)\">\n       <use xlink:href=\"#DejaVuSans-109\"/>\n       <use x=\"97.412109\" xlink:href=\"#DejaVuSans-49\"/>\n       <use x=\"161.035156\" xlink:href=\"#DejaVuSans-50\"/>\n       <use x=\"224.658203\" xlink:href=\"#DejaVuSans-49\"/>\n       <use x=\"288.28125\" xlink:href=\"#DejaVuSans-56\"/>\n      </g>\n     </g>\n    </g>\n    <g id=\"xtick_7\">\n     <g id=\"line2d_7\">\n      <g>\n       <use style=\"stroke:#000000;stroke-width:0.8;\" x=\"182.147216\" xlink:href=\"#m9a3d8e3ff4\" y=\"228.439219\"/>\n      </g>\n     </g>\n     <g id=\"text_7\">\n      <!-- f006 -->\n      <defs>\n       <path d=\"M 37.109375 75.984375 \nL 37.109375 68.5 \nL 28.515625 68.5 \nQ 23.6875 68.5 21.796875 66.546875 \nQ 19.921875 64.59375 19.921875 59.515625 \nL 19.921875 54.6875 \nL 34.71875 54.6875 \nL 34.71875 47.703125 \nL 19.921875 47.703125 \nL 19.921875 0 \nL 10.890625 0 \nL 10.890625 47.703125 \nL 2.296875 47.703125 \nL 2.296875 54.6875 \nL 10.890625 54.6875 \nL 10.890625 58.5 \nQ 10.890625 67.625 15.140625 71.796875 \nQ 19.390625 75.984375 28.609375 75.984375 \nz\n\" id=\"DejaVuSans-102\"/>\n      </defs>\n      <g transform=\"translate(184.906591 258.047031)rotate(-90)scale(0.1 -0.1)\">\n       <use xlink:href=\"#DejaVuSans-102\"/>\n       <use x=\"35.205078\" xlink:href=\"#DejaVuSans-48\"/>\n       <use x=\"98.828125\" xlink:href=\"#DejaVuSans-48\"/>\n       <use x=\"162.451172\" xlink:href=\"#DejaVuSans-54\"/>\n      </g>\n     </g>\n    </g>\n    <g id=\"xtick_8\">\n     <g id=\"line2d_8\">\n      <g>\n       <use style=\"stroke:#000000;stroke-width:0.8;\" x=\"206.496307\" xlink:href=\"#m9a3d8e3ff4\" y=\"228.439219\"/>\n      </g>\n     </g>\n     <g id=\"text_8\">\n      <!-- f0612 -->\n      <g transform=\"translate(209.255682 264.409531)rotate(-90)scale(0.1 -0.1)\">\n       <use xlink:href=\"#DejaVuSans-102\"/>\n       <use x=\"35.205078\" xlink:href=\"#DejaVuSans-48\"/>\n       <use x=\"98.828125\" xlink:href=\"#DejaVuSans-54\"/>\n       <use x=\"162.451172\" xlink:href=\"#DejaVuSans-49\"/>\n       <use x=\"226.074219\" xlink:href=\"#DejaVuSans-50\"/>\n      </g>\n     </g>\n    </g>\n    <g id=\"xtick_9\">\n     <g id=\"line2d_9\">\n      <g>\n       <use style=\"stroke:#000000;stroke-width:0.8;\" x=\"230.845398\" xlink:href=\"#m9a3d8e3ff4\" y=\"228.439219\"/>\n      </g>\n     </g>\n     <g id=\"text_9\">\n      <!-- f1218 -->\n      <g transform=\"translate(233.604773 264.409531)rotate(-90)scale(0.1 -0.1)\">\n       <use xlink:href=\"#DejaVuSans-102\"/>\n       <use x=\"35.205078\" xlink:href=\"#DejaVuSans-49\"/>\n       <use x=\"98.828125\" xlink:href=\"#DejaVuSans-50\"/>\n       <use x=\"162.451172\" xlink:href=\"#DejaVuSans-49\"/>\n       <use x=\"226.074219\" xlink:href=\"#DejaVuSans-56\"/>\n      </g>\n     </g>\n    </g>\n    <g id=\"xtick_10\">\n     <g id=\"line2d_10\">\n      <g>\n       <use style=\"stroke:#000000;stroke-width:0.8;\" x=\"255.194489\" xlink:href=\"#m9a3d8e3ff4\" y=\"228.439219\"/>\n      </g>\n     </g>\n     <g id=\"text_10\">\n      <!-- First Name -->\n      <defs>\n       <path d=\"M 9.8125 72.90625 \nL 51.703125 72.90625 \nL 51.703125 64.59375 \nL 19.671875 64.59375 \nL 19.671875 43.109375 \nL 48.578125 43.109375 \nL 48.578125 34.8125 \nL 19.671875 34.8125 \nL 19.671875 0 \nL 9.8125 0 \nz\n\" id=\"DejaVuSans-70\"/>\n       <path d=\"M 41.109375 46.296875 \nQ 39.59375 47.171875 37.8125 47.578125 \nQ 36.03125 48 33.890625 48 \nQ 26.265625 48 22.1875 43.046875 \nQ 18.109375 38.09375 18.109375 28.8125 \nL 18.109375 0 \nL 9.078125 0 \nL 9.078125 54.6875 \nL 18.109375 54.6875 \nL 18.109375 46.1875 \nQ 20.953125 51.171875 25.484375 53.578125 \nQ 30.03125 56 36.53125 56 \nQ 37.453125 56 38.578125 55.875 \nQ 39.703125 55.765625 41.0625 55.515625 \nz\n\" id=\"DejaVuSans-114\"/>\n       <path d=\"M 44.28125 53.078125 \nL 44.28125 44.578125 \nQ 40.484375 46.53125 36.375 47.5 \nQ 32.28125 48.484375 27.875 48.484375 \nQ 21.1875 48.484375 17.84375 46.4375 \nQ 14.5 44.390625 14.5 40.28125 \nQ 14.5 37.15625 16.890625 35.375 \nQ 19.28125 33.59375 26.515625 31.984375 \nL 29.59375 31.296875 \nQ 39.15625 29.25 43.1875 25.515625 \nQ 47.21875 21.78125 47.21875 15.09375 \nQ 47.21875 7.46875 41.1875 3.015625 \nQ 35.15625 -1.421875 24.609375 -1.421875 \nQ 20.21875 -1.421875 15.453125 -0.5625 \nQ 10.6875 0.296875 5.421875 2 \nL 5.421875 11.28125 \nQ 10.40625 8.6875 15.234375 7.390625 \nQ 20.0625 6.109375 24.8125 6.109375 \nQ 31.15625 6.109375 34.5625 8.28125 \nQ 37.984375 10.453125 37.984375 14.40625 \nQ 37.984375 18.0625 35.515625 20.015625 \nQ 33.0625 21.96875 24.703125 23.78125 \nL 21.578125 24.515625 \nQ 13.234375 26.265625 9.515625 29.90625 \nQ 5.8125 33.546875 5.8125 39.890625 \nQ 5.8125 47.609375 11.28125 51.796875 \nQ 16.75 56 26.8125 56 \nQ 31.78125 56 36.171875 55.265625 \nQ 40.578125 54.546875 44.28125 53.078125 \nz\n\" id=\"DejaVuSans-115\"/>\n       <path id=\"DejaVuSans-32\"/>\n       <path d=\"M 9.8125 72.90625 \nL 23.09375 72.90625 \nL 55.421875 11.921875 \nL 55.421875 72.90625 \nL 64.984375 72.90625 \nL 64.984375 0 \nL 51.703125 0 \nL 19.390625 60.984375 \nL 19.390625 0 \nL 9.8125 0 \nz\n\" id=\"DejaVuSans-78\"/>\n       <path d=\"M 34.28125 27.484375 \nQ 23.390625 27.484375 19.1875 25 \nQ 14.984375 22.515625 14.984375 16.5 \nQ 14.984375 11.71875 18.140625 8.90625 \nQ 21.296875 6.109375 26.703125 6.109375 \nQ 34.1875 6.109375 38.703125 11.40625 \nQ 43.21875 16.703125 43.21875 25.484375 \nL 43.21875 27.484375 \nz\nM 52.203125 31.203125 \nL 52.203125 0 \nL 43.21875 0 \nL 43.21875 8.296875 \nQ 40.140625 3.328125 35.546875 0.953125 \nQ 30.953125 -1.421875 24.3125 -1.421875 \nQ 15.921875 -1.421875 10.953125 3.296875 \nQ 6 8.015625 6 15.921875 \nQ 6 25.140625 12.171875 29.828125 \nQ 18.359375 34.515625 30.609375 34.515625 \nL 43.21875 34.515625 \nL 43.21875 35.40625 \nQ 43.21875 41.609375 39.140625 45 \nQ 35.0625 48.390625 27.6875 48.390625 \nQ 23 48.390625 18.546875 47.265625 \nQ 14.109375 46.140625 10.015625 43.890625 \nL 10.015625 52.203125 \nQ 14.9375 54.109375 19.578125 55.046875 \nQ 24.21875 56 28.609375 56 \nQ 40.484375 56 46.34375 49.84375 \nQ 52.203125 43.703125 52.203125 31.203125 \nz\n\" id=\"DejaVuSans-97\"/>\n      </defs>\n      <g transform=\"translate(257.953864 289.165781)rotate(-90)scale(0.1 -0.1)\">\n       <use xlink:href=\"#DejaVuSans-70\"/>\n       <use x=\"50.269531\" xlink:href=\"#DejaVuSans-105\"/>\n       <use x=\"78.052734\" xlink:href=\"#DejaVuSans-114\"/>\n       <use x=\"119.166016\" xlink:href=\"#DejaVuSans-115\"/>\n       <use x=\"171.265625\" xlink:href=\"#DejaVuSans-116\"/>\n       <use x=\"210.474609\" xlink:href=\"#DejaVuSans-32\"/>\n       <use x=\"242.261719\" xlink:href=\"#DejaVuSans-78\"/>\n       <use x=\"317.066406\" xlink:href=\"#DejaVuSans-97\"/>\n       <use x=\"378.345703\" xlink:href=\"#DejaVuSans-109\"/>\n       <use x=\"475.757812\" xlink:href=\"#DejaVuSans-101\"/>\n      </g>\n     </g>\n    </g>\n    <g id=\"xtick_11\">\n     <g id=\"line2d_11\">\n      <g>\n       <use style=\"stroke:#000000;stroke-width:0.8;\" x=\"279.54358\" xlink:href=\"#m9a3d8e3ff4\" y=\"228.439219\"/>\n      </g>\n     </g>\n     <g id=\"text_11\">\n      <!-- Last Name -->\n      <defs>\n       <path d=\"M 9.8125 72.90625 \nL 19.671875 72.90625 \nL 19.671875 8.296875 \nL 55.171875 8.296875 \nL 55.171875 0 \nL 9.8125 0 \nz\n\" id=\"DejaVuSans-76\"/>\n      </defs>\n      <g transform=\"translate(282.302955 288.950156)rotate(-90)scale(0.1 -0.1)\">\n       <use xlink:href=\"#DejaVuSans-76\"/>\n       <use x=\"55.712891\" xlink:href=\"#DejaVuSans-97\"/>\n       <use x=\"116.992188\" xlink:href=\"#DejaVuSans-115\"/>\n       <use x=\"169.091797\" xlink:href=\"#DejaVuSans-116\"/>\n       <use x=\"208.300781\" xlink:href=\"#DejaVuSans-32\"/>\n       <use x=\"240.087891\" xlink:href=\"#DejaVuSans-78\"/>\n       <use x=\"314.892578\" xlink:href=\"#DejaVuSans-97\"/>\n       <use x=\"376.171875\" xlink:href=\"#DejaVuSans-109\"/>\n       <use x=\"473.583984\" xlink:href=\"#DejaVuSans-101\"/>\n      </g>\n     </g>\n    </g>\n   </g>\n   <g id=\"matplotlib.axis_2\">\n    <g id=\"ytick_1\">\n     <g id=\"line2d_12\">\n      <defs>\n       <path d=\"M 0 0 \nL -3.5 0 \n\" id=\"mb2f7e70dc1\" style=\"stroke:#000000;stroke-width:0.8;\"/>\n      </defs>\n      <g>\n       <use style=\"stroke:#000000;stroke-width:0.8;\" x=\"23.878125\" xlink:href=\"#mb2f7e70dc1\" y=\"20.059219\"/>\n      </g>\n     </g>\n     <g id=\"text_12\">\n      <!-- 0 -->\n      <g transform=\"translate(14.798438 23.240469)rotate(-90)scale(0.1 -0.1)\">\n       <use xlink:href=\"#DejaVuSans-48\"/>\n      </g>\n     </g>\n    </g>\n    <g id=\"ytick_2\">\n     <g id=\"line2d_13\">\n      <g>\n       <use style=\"stroke:#000000;stroke-width:0.8;\" x=\"23.878125\" xlink:href=\"#mb2f7e70dc1\" y=\"38.179219\"/>\n      </g>\n     </g>\n     <g id=\"text_13\">\n      <!-- 1 -->\n      <g transform=\"translate(14.798438 41.360469)rotate(-90)scale(0.1 -0.1)\">\n       <use xlink:href=\"#DejaVuSans-49\"/>\n      </g>\n     </g>\n    </g>\n    <g id=\"ytick_3\">\n     <g id=\"line2d_14\">\n      <g>\n       <use style=\"stroke:#000000;stroke-width:0.8;\" x=\"23.878125\" xlink:href=\"#mb2f7e70dc1\" y=\"56.299219\"/>\n      </g>\n     </g>\n     <g id=\"text_14\">\n      <!-- 2 -->\n      <g transform=\"translate(14.798438 59.480469)rotate(-90)scale(0.1 -0.1)\">\n       <use xlink:href=\"#DejaVuSans-50\"/>\n      </g>\n     </g>\n    </g>\n    <g id=\"ytick_4\">\n     <g id=\"line2d_15\">\n      <g>\n       <use style=\"stroke:#000000;stroke-width:0.8;\" x=\"23.878125\" xlink:href=\"#mb2f7e70dc1\" y=\"74.419219\"/>\n      </g>\n     </g>\n     <g id=\"text_15\">\n      <!-- 3 -->\n      <defs>\n       <path d=\"M 40.578125 39.3125 \nQ 47.65625 37.796875 51.625 33 \nQ 55.609375 28.21875 55.609375 21.1875 \nQ 55.609375 10.40625 48.1875 4.484375 \nQ 40.765625 -1.421875 27.09375 -1.421875 \nQ 22.515625 -1.421875 17.65625 -0.515625 \nQ 12.796875 0.390625 7.625 2.203125 \nL 7.625 11.71875 \nQ 11.71875 9.328125 16.59375 8.109375 \nQ 21.484375 6.890625 26.8125 6.890625 \nQ 36.078125 6.890625 40.9375 10.546875 \nQ 45.796875 14.203125 45.796875 21.1875 \nQ 45.796875 27.640625 41.28125 31.265625 \nQ 36.765625 34.90625 28.71875 34.90625 \nL 20.21875 34.90625 \nL 20.21875 43.015625 \nL 29.109375 43.015625 \nQ 36.375 43.015625 40.234375 45.921875 \nQ 44.09375 48.828125 44.09375 54.296875 \nQ 44.09375 59.90625 40.109375 62.90625 \nQ 36.140625 65.921875 28.71875 65.921875 \nQ 24.65625 65.921875 20.015625 65.03125 \nQ 15.375 64.15625 9.8125 62.3125 \nL 9.8125 71.09375 \nQ 15.4375 72.65625 20.34375 73.4375 \nQ 25.25 74.21875 29.59375 74.21875 \nQ 40.828125 74.21875 47.359375 69.109375 \nQ 53.90625 64.015625 53.90625 55.328125 \nQ 53.90625 49.265625 50.4375 45.09375 \nQ 46.96875 40.921875 40.578125 39.3125 \nz\n\" id=\"DejaVuSans-51\"/>\n      </defs>\n      <g transform=\"translate(14.798438 77.600469)rotate(-90)scale(0.1 -0.1)\">\n       <use xlink:href=\"#DejaVuSans-51\"/>\n      </g>\n     </g>\n    </g>\n    <g id=\"ytick_5\">\n     <g id=\"line2d_16\">\n      <g>\n       <use style=\"stroke:#000000;stroke-width:0.8;\" x=\"23.878125\" xlink:href=\"#mb2f7e70dc1\" y=\"92.539219\"/>\n      </g>\n     </g>\n     <g id=\"text_16\">\n      <!-- 4 -->\n      <defs>\n       <path d=\"M 37.796875 64.3125 \nL 12.890625 25.390625 \nL 37.796875 25.390625 \nz\nM 35.203125 72.90625 \nL 47.609375 72.90625 \nL 47.609375 25.390625 \nL 58.015625 25.390625 \nL 58.015625 17.1875 \nL 47.609375 17.1875 \nL 47.609375 0 \nL 37.796875 0 \nL 37.796875 17.1875 \nL 4.890625 17.1875 \nL 4.890625 26.703125 \nz\n\" id=\"DejaVuSans-52\"/>\n      </defs>\n      <g transform=\"translate(14.798438 95.720469)rotate(-90)scale(0.1 -0.1)\">\n       <use xlink:href=\"#DejaVuSans-52\"/>\n      </g>\n     </g>\n    </g>\n    <g id=\"ytick_6\">\n     <g id=\"line2d_17\">\n      <g>\n       <use style=\"stroke:#000000;stroke-width:0.8;\" x=\"23.878125\" xlink:href=\"#mb2f7e70dc1\" y=\"110.659219\"/>\n      </g>\n     </g>\n     <g id=\"text_17\">\n      <!-- 5 -->\n      <defs>\n       <path d=\"M 10.796875 72.90625 \nL 49.515625 72.90625 \nL 49.515625 64.59375 \nL 19.828125 64.59375 \nL 19.828125 46.734375 \nQ 21.96875 47.46875 24.109375 47.828125 \nQ 26.265625 48.1875 28.421875 48.1875 \nQ 40.625 48.1875 47.75 41.5 \nQ 54.890625 34.8125 54.890625 23.390625 \nQ 54.890625 11.625 47.5625 5.09375 \nQ 40.234375 -1.421875 26.90625 -1.421875 \nQ 22.3125 -1.421875 17.546875 -0.640625 \nQ 12.796875 0.140625 7.71875 1.703125 \nL 7.71875 11.625 \nQ 12.109375 9.234375 16.796875 8.0625 \nQ 21.484375 6.890625 26.703125 6.890625 \nQ 35.15625 6.890625 40.078125 11.328125 \nQ 45.015625 15.765625 45.015625 23.390625 \nQ 45.015625 31 40.078125 35.4375 \nQ 35.15625 39.890625 26.703125 39.890625 \nQ 22.75 39.890625 18.8125 39.015625 \nQ 14.890625 38.140625 10.796875 36.28125 \nz\n\" id=\"DejaVuSans-53\"/>\n      </defs>\n      <g transform=\"translate(14.798438 113.840469)rotate(-90)scale(0.1 -0.1)\">\n       <use xlink:href=\"#DejaVuSans-53\"/>\n      </g>\n     </g>\n    </g>\n    <g id=\"ytick_7\">\n     <g id=\"line2d_18\">\n      <g>\n       <use style=\"stroke:#000000;stroke-width:0.8;\" x=\"23.878125\" xlink:href=\"#mb2f7e70dc1\" y=\"128.779219\"/>\n      </g>\n     </g>\n     <g id=\"text_18\">\n      <!-- 6 -->\n      <g transform=\"translate(14.798438 131.960469)rotate(-90)scale(0.1 -0.1)\">\n       <use xlink:href=\"#DejaVuSans-54\"/>\n      </g>\n     </g>\n    </g>\n    <g id=\"ytick_8\">\n     <g id=\"line2d_19\">\n      <g>\n       <use style=\"stroke:#000000;stroke-width:0.8;\" x=\"23.878125\" xlink:href=\"#mb2f7e70dc1\" y=\"146.899219\"/>\n      </g>\n     </g>\n     <g id=\"text_19\">\n      <!-- 7 -->\n      <defs>\n       <path d=\"M 8.203125 72.90625 \nL 55.078125 72.90625 \nL 55.078125 68.703125 \nL 28.609375 0 \nL 18.3125 0 \nL 43.21875 64.59375 \nL 8.203125 64.59375 \nz\n\" id=\"DejaVuSans-55\"/>\n      </defs>\n      <g transform=\"translate(14.798438 150.080469)rotate(-90)scale(0.1 -0.1)\">\n       <use xlink:href=\"#DejaVuSans-55\"/>\n      </g>\n     </g>\n    </g>\n    <g id=\"ytick_9\">\n     <g id=\"line2d_20\">\n      <g>\n       <use style=\"stroke:#000000;stroke-width:0.8;\" x=\"23.878125\" xlink:href=\"#mb2f7e70dc1\" y=\"165.019219\"/>\n      </g>\n     </g>\n     <g id=\"text_20\">\n      <!-- 11 -->\n      <g transform=\"translate(14.798438 171.381719)rotate(-90)scale(0.1 -0.1)\">\n       <use xlink:href=\"#DejaVuSans-49\"/>\n       <use x=\"63.623047\" xlink:href=\"#DejaVuSans-49\"/>\n      </g>\n     </g>\n    </g>\n    <g id=\"ytick_10\">\n     <g id=\"line2d_21\">\n      <g>\n       <use style=\"stroke:#000000;stroke-width:0.8;\" x=\"23.878125\" xlink:href=\"#mb2f7e70dc1\" y=\"183.139219\"/>\n      </g>\n     </g>\n     <g id=\"text_21\">\n      <!-- 12 -->\n      <g transform=\"translate(14.798438 189.501719)rotate(-90)scale(0.1 -0.1)\">\n       <use xlink:href=\"#DejaVuSans-49\"/>\n       <use x=\"63.623047\" xlink:href=\"#DejaVuSans-50\"/>\n      </g>\n     </g>\n    </g>\n    <g id=\"ytick_11\">\n     <g id=\"line2d_22\">\n      <g>\n       <use style=\"stroke:#000000;stroke-width:0.8;\" x=\"23.878125\" xlink:href=\"#mb2f7e70dc1\" y=\"201.259219\"/>\n      </g>\n     </g>\n     <g id=\"text_22\">\n      <!-- 13 -->\n      <g transform=\"translate(14.798438 207.621719)rotate(-90)scale(0.1 -0.1)\">\n       <use xlink:href=\"#DejaVuSans-49\"/>\n       <use x=\"63.623047\" xlink:href=\"#DejaVuSans-51\"/>\n      </g>\n     </g>\n    </g>\n    <g id=\"ytick_12\">\n     <g id=\"line2d_23\">\n      <g>\n       <use style=\"stroke:#000000;stroke-width:0.8;\" x=\"23.878125\" xlink:href=\"#mb2f7e70dc1\" y=\"219.379219\"/>\n      </g>\n     </g>\n     <g id=\"text_23\">\n      <!-- 16 -->\n      <g transform=\"translate(14.798438 225.741719)rotate(-90)scale(0.1 -0.1)\">\n       <use xlink:href=\"#DejaVuSans-49\"/>\n       <use x=\"63.623047\" xlink:href=\"#DejaVuSans-54\"/>\n      </g>\n     </g>\n    </g>\n   </g>\n  </g>\n  <g id=\"axes_2\">\n   <g id=\"patch_3\">\n    <path clip-path=\"url(#pa56c4d853a)\" d=\"M 308.458125 228.439219 \nL 308.458125 227.589844 \nL 308.458125 11.848594 \nL 308.458125 10.999219 \nL 319.330125 10.999219 \nL 319.330125 11.848594 \nL 319.330125 227.589844 \nL 319.330125 228.439219 \nz\n\" style=\"fill:#ffffff;stroke:#ffffff;stroke-linejoin:miter;stroke-width:0.01;\"/>\n   </g>\n   <image height=\"217\" id=\"imagea04205a6d6\" transform=\"scale(1 -1)translate(0 -217)\" width=\"11\" x=\"308\" xlink:href=\"data:image/png;base64,\niVBORw0KGgoAAAANSUhEUgAAAAsAAADZCAYAAAD2WsoCAAAABHNCSVQICAgIfAhkiAAAAIFJREFUaIHt0DEOwCAMBME4yv+fDLQu0RURrNb1Fr6pGnM+m/fVdnpO/I4j3nDgP7EaPcZr4Aeq0WP8QDXiGK+BH6hGHOM18APViGO8Bn6gGnGM18APVKPH+IFqxDFeAz9QjTjGa+AHqhHHeA38QDV6jB+oRhzjNfAD1YhjvMaFAxeHGt5fUXj8qwAAAABJRU5ErkJggg==\" y=\"-11\"/>\n   <g id=\"matplotlib.axis_3\"/>\n   <g id=\"matplotlib.axis_4\">\n    <g id=\"ytick_13\">\n     <g id=\"line2d_24\">\n      <defs>\n       <path d=\"M 0 0 \nL 3.5 0 \n\" id=\"m4254e4f9b9\" style=\"stroke:#000000;stroke-width:0.8;\"/>\n      </defs>\n      <g>\n       <use style=\"stroke:#000000;stroke-width:0.8;\" x=\"319.330125\" xlink:href=\"#m4254e4f9b9\" y=\"228.439219\"/>\n      </g>\n     </g>\n     <g id=\"text_24\">\n      <!-- 0.0 -->\n      <defs>\n       <path d=\"M 10.6875 12.40625 \nL 21 12.40625 \nL 21 0 \nL 10.6875 0 \nz\n\" id=\"DejaVuSans-46\"/>\n      </defs>\n      <g transform=\"translate(326.330125 232.238437)scale(0.1 -0.1)\">\n       <use xlink:href=\"#DejaVuSans-48\"/>\n       <use x=\"63.623047\" xlink:href=\"#DejaVuSans-46\"/>\n       <use x=\"95.410156\" xlink:href=\"#DejaVuSans-48\"/>\n      </g>\n     </g>\n    </g>\n    <g id=\"ytick_14\">\n     <g id=\"line2d_25\">\n      <g>\n       <use style=\"stroke:#000000;stroke-width:0.8;\" x=\"319.330125\" xlink:href=\"#m4254e4f9b9\" y=\"184.951219\"/>\n      </g>\n     </g>\n     <g id=\"text_25\">\n      <!-- 0.2 -->\n      <g transform=\"translate(326.330125 188.750437)scale(0.1 -0.1)\">\n       <use xlink:href=\"#DejaVuSans-48\"/>\n       <use x=\"63.623047\" xlink:href=\"#DejaVuSans-46\"/>\n       <use x=\"95.410156\" xlink:href=\"#DejaVuSans-50\"/>\n      </g>\n     </g>\n    </g>\n    <g id=\"ytick_15\">\n     <g id=\"line2d_26\">\n      <g>\n       <use style=\"stroke:#000000;stroke-width:0.8;\" x=\"319.330125\" xlink:href=\"#m4254e4f9b9\" y=\"141.463219\"/>\n      </g>\n     </g>\n     <g id=\"text_26\">\n      <!-- 0.4 -->\n      <g transform=\"translate(326.330125 145.262437)scale(0.1 -0.1)\">\n       <use xlink:href=\"#DejaVuSans-48\"/>\n       <use x=\"63.623047\" xlink:href=\"#DejaVuSans-46\"/>\n       <use x=\"95.410156\" xlink:href=\"#DejaVuSans-52\"/>\n      </g>\n     </g>\n    </g>\n    <g id=\"ytick_16\">\n     <g id=\"line2d_27\">\n      <g>\n       <use style=\"stroke:#000000;stroke-width:0.8;\" x=\"319.330125\" xlink:href=\"#m4254e4f9b9\" y=\"97.975219\"/>\n      </g>\n     </g>\n     <g id=\"text_27\">\n      <!-- 0.6 -->\n      <g transform=\"translate(326.330125 101.774437)scale(0.1 -0.1)\">\n       <use xlink:href=\"#DejaVuSans-48\"/>\n       <use x=\"63.623047\" xlink:href=\"#DejaVuSans-46\"/>\n       <use x=\"95.410156\" xlink:href=\"#DejaVuSans-54\"/>\n      </g>\n     </g>\n    </g>\n    <g id=\"ytick_17\">\n     <g id=\"line2d_28\">\n      <g>\n       <use style=\"stroke:#000000;stroke-width:0.8;\" x=\"319.330125\" xlink:href=\"#m4254e4f9b9\" y=\"54.487219\"/>\n      </g>\n     </g>\n     <g id=\"text_28\">\n      <!-- 0.8 -->\n      <g transform=\"translate(326.330125 58.286437)scale(0.1 -0.1)\">\n       <use xlink:href=\"#DejaVuSans-48\"/>\n       <use x=\"63.623047\" xlink:href=\"#DejaVuSans-46\"/>\n       <use x=\"95.410156\" xlink:href=\"#DejaVuSans-56\"/>\n      </g>\n     </g>\n    </g>\n    <g id=\"ytick_18\">\n     <g id=\"line2d_29\">\n      <g>\n       <use style=\"stroke:#000000;stroke-width:0.8;\" x=\"319.330125\" xlink:href=\"#m4254e4f9b9\" y=\"10.999219\"/>\n      </g>\n     </g>\n     <g id=\"text_29\">\n      <!-- 1.0 -->\n      <g transform=\"translate(326.330125 14.798437)scale(0.1 -0.1)\">\n       <use xlink:href=\"#DejaVuSans-49\"/>\n       <use x=\"63.623047\" xlink:href=\"#DejaVuSans-46\"/>\n       <use x=\"95.410156\" xlink:href=\"#DejaVuSans-48\"/>\n      </g>\n     </g>\n    </g>\n   </g>\n   <g id=\"patch_4\">\n    <path d=\"M 308.458125 228.439219 \nL 308.458125 227.589844 \nL 308.458125 11.848594 \nL 308.458125 10.999219 \nL 319.330125 10.999219 \nL 319.330125 11.848594 \nL 319.330125 227.589844 \nL 319.330125 228.439219 \nz\n\" style=\"fill:none;\"/>\n   </g>\n  </g>\n </g>\n <defs>\n  <clipPath id=\"pba96f4bedb\">\n   <rect height=\"217.44\" width=\"267.84\" x=\"23.878125\" y=\"10.999219\"/>\n  </clipPath>\n  <clipPath id=\"pa56c4d853a\">\n   <rect height=\"217.44\" width=\"10.872\" x=\"308.458125\" y=\"10.999219\"/>\n  </clipPath>\n </defs>\n</svg>\n"
          },
          "metadata": {
            "needs_background": "light"
          }
        }
      ]
    },
    {
      "cell_type": "code",
      "metadata": {
        "id": "Y9SvEwYQMRrS",
        "colab": {
          "base_uri": "https://localhost:8080/"
        },
        "outputId": "d0efffff-f3ff-4670-e946-9c42c8fcea19"
      },
      "source": [
        "patient_heart_rate['Age'].fillna(patient_heart_rate['Age'].mean(),inplace=False)"
      ],
      "execution_count": 41,
      "outputs": [
        {
          "output_type": "execute_result",
          "data": {
            "text/plain": [
              "0     56.0\n",
              "1     34.0\n",
              "2     16.0\n",
              "3     36.1\n",
              "4     54.0\n",
              "5     52.0\n",
              "6     19.0\n",
              "7     32.0\n",
              "11    12.0\n",
              "12    36.1\n",
              "13    34.0\n",
              "16    52.0\n",
              "Name: Age, dtype: float64"
            ]
          },
          "metadata": {},
          "execution_count": 41
        }
      ]
    },
    {
      "cell_type": "markdown",
      "metadata": {
        "id": "hs6setM5M1cb"
      },
      "source": [
        "8.Missing headers\n",
        "\n",
        "a. Melt the Sex + time range columns in single column"
      ]
    },
    {
      "cell_type": "code",
      "metadata": {
        "id": "HenNA1F2M5yu"
      },
      "source": [
        "patient_heart_rate=pd.melt(patient_heart_rate,id_vars=['ID','Age','Weight','First Name','Last Name'],value_name='PulseRate',var_name='Sex and Time').sort_values(['ID','Age','Weight','First Name','Last Name'])"
      ],
      "execution_count": 42,
      "outputs": []
    },
    {
      "cell_type": "code",
      "metadata": {
        "id": "h51ZEzaiUCxv",
        "colab": {
          "base_uri": "https://localhost:8080/",
          "height": 204
        },
        "outputId": "4dbf3627-af05-484e-b407-526d2fac32a9"
      },
      "source": [
        "patient_heart_rate.head(5)"
      ],
      "execution_count": 43,
      "outputs": [
        {
          "output_type": "execute_result",
          "data": {
            "text/html": [
              "<div>\n",
              "<style scoped>\n",
              "    .dataframe tbody tr th:only-of-type {\n",
              "        vertical-align: middle;\n",
              "    }\n",
              "\n",
              "    .dataframe tbody tr th {\n",
              "        vertical-align: top;\n",
              "    }\n",
              "\n",
              "    .dataframe thead th {\n",
              "        text-align: right;\n",
              "    }\n",
              "</style>\n",
              "<table border=\"1\" class=\"dataframe\">\n",
              "  <thead>\n",
              "    <tr style=\"text-align: right;\">\n",
              "      <th></th>\n",
              "      <th>ID</th>\n",
              "      <th>Age</th>\n",
              "      <th>Weight</th>\n",
              "      <th>First Name</th>\n",
              "      <th>Last Name</th>\n",
              "      <th>Sex and Time</th>\n",
              "      <th>PulseRate</th>\n",
              "    </tr>\n",
              "  </thead>\n",
              "  <tbody>\n",
              "    <tr>\n",
              "      <th>0</th>\n",
              "      <td>1.0</td>\n",
              "      <td>56.0</td>\n",
              "      <td>70kgs</td>\n",
              "      <td>Micky</td>\n",
              "      <td>Mous</td>\n",
              "      <td>m006</td>\n",
              "      <td>72</td>\n",
              "    </tr>\n",
              "    <tr>\n",
              "      <th>12</th>\n",
              "      <td>1.0</td>\n",
              "      <td>56.0</td>\n",
              "      <td>70kgs</td>\n",
              "      <td>Micky</td>\n",
              "      <td>Mous</td>\n",
              "      <td>m0612</td>\n",
              "      <td>69</td>\n",
              "    </tr>\n",
              "    <tr>\n",
              "      <th>24</th>\n",
              "      <td>1.0</td>\n",
              "      <td>56.0</td>\n",
              "      <td>70kgs</td>\n",
              "      <td>Micky</td>\n",
              "      <td>Mous</td>\n",
              "      <td>m1218</td>\n",
              "      <td>71</td>\n",
              "    </tr>\n",
              "    <tr>\n",
              "      <th>36</th>\n",
              "      <td>1.0</td>\n",
              "      <td>56.0</td>\n",
              "      <td>70kgs</td>\n",
              "      <td>Micky</td>\n",
              "      <td>Mous</td>\n",
              "      <td>f006</td>\n",
              "      <td>-</td>\n",
              "    </tr>\n",
              "    <tr>\n",
              "      <th>48</th>\n",
              "      <td>1.0</td>\n",
              "      <td>56.0</td>\n",
              "      <td>70kgs</td>\n",
              "      <td>Micky</td>\n",
              "      <td>Mous</td>\n",
              "      <td>f0612</td>\n",
              "      <td>-</td>\n",
              "    </tr>\n",
              "  </tbody>\n",
              "</table>\n",
              "</div>"
            ],
            "text/plain": [
              "     ID   Age Weight First Name Last Name Sex and Time PulseRate\n",
              "0   1.0  56.0  70kgs      Micky      Mous         m006        72\n",
              "12  1.0  56.0  70kgs      Micky      Mous        m0612        69\n",
              "24  1.0  56.0  70kgs      Micky      Mous        m1218        71\n",
              "36  1.0  56.0  70kgs      Micky      Mous         f006         -\n",
              "48  1.0  56.0  70kgs      Micky      Mous        f0612         -"
            ]
          },
          "metadata": {},
          "execution_count": 43
        }
      ]
    },
    {
      "cell_type": "markdown",
      "metadata": {
        "id": "OMCb5KzmUvYq"
      },
      "source": [
        "b.Extract to 'Sex,Hour_Lower,Hour_Upper\" from sex_and_time columns:"
      ]
    },
    {
      "cell_type": "code",
      "metadata": {
        "id": "rJmGjeMXU1n3"
      },
      "source": [
        "tmp=patient_heart_rate['Sex and Time'].str.extract('(\\D)(\\d+)(\\d{2})',expand=True)"
      ],
      "execution_count": 44,
      "outputs": []
    },
    {
      "cell_type": "markdown",
      "metadata": {
        "id": "_0w7EdyIVLez"
      },
      "source": [
        "c. Create \"Sex, Hour_Lower, Hour_Upper\" columns"
      ]
    },
    {
      "cell_type": "code",
      "metadata": {
        "id": "VsDZtZzUVOi_"
      },
      "source": [
        "tmp.columns=['Sex', 'Hour Lower', 'Hour Upper']"
      ],
      "execution_count": 45,
      "outputs": []
    },
    {
      "cell_type": "markdown",
      "metadata": {
        "id": "u-6qNq9qVX6b"
      },
      "source": [
        "d.Create \"Time\" columns based on \"Hour_Lower, Hour_Upper\" columns"
      ]
    },
    {
      "cell_type": "code",
      "metadata": {
        "id": "VUyxFOTMVa3h"
      },
      "source": [
        "tmp['Time']=tmp['Hour Lower']+'-'+tmp['Hour Upper']"
      ],
      "execution_count": 46,
      "outputs": []
    },
    {
      "cell_type": "code",
      "metadata": {
        "id": "KzOgp2f3Vpg4",
        "colab": {
          "base_uri": "https://localhost:8080/",
          "height": 204
        },
        "outputId": "9af086f2-c872-4d63-c4c3-86bb3109265c"
      },
      "source": [
        "#Merge 2 dataframe\n",
        "patient_heart_rate=pd.concat([patient_heart_rate,tmp],axis=1)\n",
        "patient_heart_rate.head(5)"
      ],
      "execution_count": 47,
      "outputs": [
        {
          "output_type": "execute_result",
          "data": {
            "text/html": [
              "<div>\n",
              "<style scoped>\n",
              "    .dataframe tbody tr th:only-of-type {\n",
              "        vertical-align: middle;\n",
              "    }\n",
              "\n",
              "    .dataframe tbody tr th {\n",
              "        vertical-align: top;\n",
              "    }\n",
              "\n",
              "    .dataframe thead th {\n",
              "        text-align: right;\n",
              "    }\n",
              "</style>\n",
              "<table border=\"1\" class=\"dataframe\">\n",
              "  <thead>\n",
              "    <tr style=\"text-align: right;\">\n",
              "      <th></th>\n",
              "      <th>ID</th>\n",
              "      <th>Age</th>\n",
              "      <th>Weight</th>\n",
              "      <th>First Name</th>\n",
              "      <th>Last Name</th>\n",
              "      <th>Sex and Time</th>\n",
              "      <th>PulseRate</th>\n",
              "      <th>Sex</th>\n",
              "      <th>Hour Lower</th>\n",
              "      <th>Hour Upper</th>\n",
              "      <th>Time</th>\n",
              "    </tr>\n",
              "  </thead>\n",
              "  <tbody>\n",
              "    <tr>\n",
              "      <th>0</th>\n",
              "      <td>1.0</td>\n",
              "      <td>56.0</td>\n",
              "      <td>70kgs</td>\n",
              "      <td>Micky</td>\n",
              "      <td>Mous</td>\n",
              "      <td>m006</td>\n",
              "      <td>72</td>\n",
              "      <td>m</td>\n",
              "      <td>0</td>\n",
              "      <td>06</td>\n",
              "      <td>0-06</td>\n",
              "    </tr>\n",
              "    <tr>\n",
              "      <th>12</th>\n",
              "      <td>1.0</td>\n",
              "      <td>56.0</td>\n",
              "      <td>70kgs</td>\n",
              "      <td>Micky</td>\n",
              "      <td>Mous</td>\n",
              "      <td>m0612</td>\n",
              "      <td>69</td>\n",
              "      <td>m</td>\n",
              "      <td>06</td>\n",
              "      <td>12</td>\n",
              "      <td>06-12</td>\n",
              "    </tr>\n",
              "    <tr>\n",
              "      <th>24</th>\n",
              "      <td>1.0</td>\n",
              "      <td>56.0</td>\n",
              "      <td>70kgs</td>\n",
              "      <td>Micky</td>\n",
              "      <td>Mous</td>\n",
              "      <td>m1218</td>\n",
              "      <td>71</td>\n",
              "      <td>m</td>\n",
              "      <td>12</td>\n",
              "      <td>18</td>\n",
              "      <td>12-18</td>\n",
              "    </tr>\n",
              "    <tr>\n",
              "      <th>36</th>\n",
              "      <td>1.0</td>\n",
              "      <td>56.0</td>\n",
              "      <td>70kgs</td>\n",
              "      <td>Micky</td>\n",
              "      <td>Mous</td>\n",
              "      <td>f006</td>\n",
              "      <td>-</td>\n",
              "      <td>f</td>\n",
              "      <td>0</td>\n",
              "      <td>06</td>\n",
              "      <td>0-06</td>\n",
              "    </tr>\n",
              "    <tr>\n",
              "      <th>48</th>\n",
              "      <td>1.0</td>\n",
              "      <td>56.0</td>\n",
              "      <td>70kgs</td>\n",
              "      <td>Micky</td>\n",
              "      <td>Mous</td>\n",
              "      <td>f0612</td>\n",
              "      <td>-</td>\n",
              "      <td>f</td>\n",
              "      <td>06</td>\n",
              "      <td>12</td>\n",
              "      <td>06-12</td>\n",
              "    </tr>\n",
              "  </tbody>\n",
              "</table>\n",
              "</div>"
            ],
            "text/plain": [
              "     ID   Age Weight First Name  ... Sex Hour Lower Hour Upper   Time\n",
              "0   1.0  56.0  70kgs      Micky  ...   m          0         06   0-06\n",
              "12  1.0  56.0  70kgs      Micky  ...   m         06         12  06-12\n",
              "24  1.0  56.0  70kgs      Micky  ...   m         12         18  12-18\n",
              "36  1.0  56.0  70kgs      Micky  ...   f          0         06   0-06\n",
              "48  1.0  56.0  70kgs      Micky  ...   f         06         12  06-12\n",
              "\n",
              "[5 rows x 11 columns]"
            ]
          },
          "metadata": {},
          "execution_count": 47
        }
      ]
    },
    {
      "cell_type": "markdown",
      "metadata": {
        "id": "LaXQM-tHWPDh"
      },
      "source": [
        "e.Drop \"sex_and_time,Hour_Lower,Hour_Upper\" columns and row to data simple"
      ]
    },
    {
      "cell_type": "code",
      "metadata": {
        "id": "Y1csW5uxV-dN",
        "colab": {
          "base_uri": "https://localhost:8080/",
          "height": 204
        },
        "outputId": "606efee0-4167-49ee-a1ad-c4574443b4e4"
      },
      "source": [
        "patient_heart_rate=patient_heart_rate.drop(['Sex and Time','Hour Lower','Hour Upper'],axis=1)\n",
        "patient_heart_rate.head(5)"
      ],
      "execution_count": 48,
      "outputs": [
        {
          "output_type": "execute_result",
          "data": {
            "text/html": [
              "<div>\n",
              "<style scoped>\n",
              "    .dataframe tbody tr th:only-of-type {\n",
              "        vertical-align: middle;\n",
              "    }\n",
              "\n",
              "    .dataframe tbody tr th {\n",
              "        vertical-align: top;\n",
              "    }\n",
              "\n",
              "    .dataframe thead th {\n",
              "        text-align: right;\n",
              "    }\n",
              "</style>\n",
              "<table border=\"1\" class=\"dataframe\">\n",
              "  <thead>\n",
              "    <tr style=\"text-align: right;\">\n",
              "      <th></th>\n",
              "      <th>ID</th>\n",
              "      <th>Age</th>\n",
              "      <th>Weight</th>\n",
              "      <th>First Name</th>\n",
              "      <th>Last Name</th>\n",
              "      <th>PulseRate</th>\n",
              "      <th>Sex</th>\n",
              "      <th>Time</th>\n",
              "    </tr>\n",
              "  </thead>\n",
              "  <tbody>\n",
              "    <tr>\n",
              "      <th>0</th>\n",
              "      <td>1.0</td>\n",
              "      <td>56.0</td>\n",
              "      <td>70kgs</td>\n",
              "      <td>Micky</td>\n",
              "      <td>Mous</td>\n",
              "      <td>72</td>\n",
              "      <td>m</td>\n",
              "      <td>0-06</td>\n",
              "    </tr>\n",
              "    <tr>\n",
              "      <th>12</th>\n",
              "      <td>1.0</td>\n",
              "      <td>56.0</td>\n",
              "      <td>70kgs</td>\n",
              "      <td>Micky</td>\n",
              "      <td>Mous</td>\n",
              "      <td>69</td>\n",
              "      <td>m</td>\n",
              "      <td>06-12</td>\n",
              "    </tr>\n",
              "    <tr>\n",
              "      <th>24</th>\n",
              "      <td>1.0</td>\n",
              "      <td>56.0</td>\n",
              "      <td>70kgs</td>\n",
              "      <td>Micky</td>\n",
              "      <td>Mous</td>\n",
              "      <td>71</td>\n",
              "      <td>m</td>\n",
              "      <td>12-18</td>\n",
              "    </tr>\n",
              "    <tr>\n",
              "      <th>36</th>\n",
              "      <td>1.0</td>\n",
              "      <td>56.0</td>\n",
              "      <td>70kgs</td>\n",
              "      <td>Micky</td>\n",
              "      <td>Mous</td>\n",
              "      <td>-</td>\n",
              "      <td>f</td>\n",
              "      <td>0-06</td>\n",
              "    </tr>\n",
              "    <tr>\n",
              "      <th>48</th>\n",
              "      <td>1.0</td>\n",
              "      <td>56.0</td>\n",
              "      <td>70kgs</td>\n",
              "      <td>Micky</td>\n",
              "      <td>Mous</td>\n",
              "      <td>-</td>\n",
              "      <td>f</td>\n",
              "      <td>06-12</td>\n",
              "    </tr>\n",
              "  </tbody>\n",
              "</table>\n",
              "</div>"
            ],
            "text/plain": [
              "     ID   Age Weight First Name Last Name PulseRate Sex   Time\n",
              "0   1.0  56.0  70kgs      Micky      Mous        72   m   0-06\n",
              "12  1.0  56.0  70kgs      Micky      Mous        69   m  06-12\n",
              "24  1.0  56.0  70kgs      Micky      Mous        71   m  12-18\n",
              "36  1.0  56.0  70kgs      Micky      Mous         -   f   0-06\n",
              "48  1.0  56.0  70kgs      Micky      Mous         -   f  06-12"
            ]
          },
          "metadata": {},
          "execution_count": 48
        }
      ]
    },
    {
      "cell_type": "markdown",
      "metadata": {
        "id": "e13jwx-MbgVd"
      },
      "source": [
        "Hãy khảo sát tỉ lệ dữ liệu thiếu trên biến huyết áp. Dữ liệu bị thiếu thì hãy xử lý bằng phương pháp sau:\n",
        "\n",
        "\n",
        "1.Thay thế bằng giá trị trung bình liền trước và liền sau của người đó. Nếu không được thì dùng 2)\n",
        "\n",
        "2.Thay thế bằng giá trị trung bình 2 giá liền trước của người đó. Nếu không được thì dùng 3)\n",
        "\n",
        "3.Thay thế bằng giá trị trung bình 2 giá liền sau của người đó. Nếu không được thì dùng 4)\n",
        "\n",
        "4.Trung bình của các giá trị huyết áp của người đó. Nếu không được thì dùng 5)\n",
        "\n",
        "5.Trung bình của các giá trị huyết áp của nhóm giới tính. Nếu không được thì dùng 6)\n",
        "\n",
        "6.Trung bình của các giá trị dữ liệu. Nếu không được thì thay bằng mức ổn định trong y học"
      ]
    },
    {
      "cell_type": "code",
      "metadata": {
        "id": "whr-LlyybqqE",
        "outputId": "9c6199f6-3a07-44e8-b67e-dc0abe3ceb39",
        "colab": {
          "base_uri": "https://localhost:8080/",
          "height": 433
        }
      },
      "source": [
        "import seaborn as sns\n",
        "%matplotlib inline\n",
        "%config InlineBackend.figure_format='svg'\n",
        "sns.heatmap(patient_heart_rate.isna(),\n",
        "            yticklabels=False,\n",
        "            cbar=True,\n",
        "            cmap='cool')"
      ],
      "execution_count": 49,
      "outputs": [
        {
          "output_type": "execute_result",
          "data": {
            "text/plain": [
              "<matplotlib.axes._subplots.AxesSubplot at 0x7f6ff3407ad0>"
            ]
          },
          "metadata": {},
          "execution_count": 49
        },
        {
          "output_type": "display_data",
          "data": {
            "text/plain": [
              "<Figure size 432x288 with 2 Axes>"
            ],
            "image/svg+xml": "<?xml version=\"1.0\" encoding=\"utf-8\" standalone=\"no\"?>\n<!DOCTYPE svg PUBLIC \"-//W3C//DTD SVG 1.1//EN\"\n  \"http://www.w3.org/Graphics/SVG/1.1/DTD/svg11.dtd\">\n<!-- Created with matplotlib (https://matplotlib.org/) -->\n<svg height=\"296.365781pt\" version=\"1.1\" viewBox=\"0 0 332.755125 296.365781\" width=\"332.755125pt\" xmlns=\"http://www.w3.org/2000/svg\" xmlns:xlink=\"http://www.w3.org/1999/xlink\">\n <defs>\n  <style type=\"text/css\">\n*{stroke-linecap:butt;stroke-linejoin:round;}\n  </style>\n </defs>\n <g id=\"figure_1\">\n  <g id=\"patch_1\">\n   <path d=\"M 0 296.365781 \nL 332.755125 296.365781 \nL 332.755125 0 \nL 0 0 \nz\n\" style=\"fill:none;\"/>\n  </g>\n  <g id=\"axes_1\">\n   <g id=\"patch_2\">\n    <path d=\"M 7.2 228.439219 \nL 275.04 228.439219 \nL 275.04 10.999219 \nL 7.2 10.999219 \nz\n\" style=\"fill:#ffffff;\"/>\n   </g>\n   <g id=\"QuadMesh_1\">\n    <path clip-path=\"url(#pa58248c643)\" d=\"M 7.2 10.999219 \nL 40.68 10.999219 \nL 40.68 14.019219 \nL 7.2 14.019219 \nL 7.2 10.999219 \n\" style=\"fill:#00ffff;\"/>\n    <path clip-path=\"url(#pa58248c643)\" d=\"M 40.68 10.999219 \nL 74.16 10.999219 \nL 74.16 14.019219 \nL 40.68 14.019219 \nL 40.68 10.999219 \n\" style=\"fill:#00ffff;\"/>\n    <path clip-path=\"url(#pa58248c643)\" d=\"M 74.16 10.999219 \nL 107.64 10.999219 \nL 107.64 14.019219 \nL 74.16 14.019219 \nL 74.16 10.999219 \n\" style=\"fill:#00ffff;\"/>\n    <path clip-path=\"url(#pa58248c643)\" d=\"M 107.64 10.999219 \nL 141.12 10.999219 \nL 141.12 14.019219 \nL 107.64 14.019219 \nL 107.64 10.999219 \n\" style=\"fill:#00ffff;\"/>\n    <path clip-path=\"url(#pa58248c643)\" d=\"M 141.12 10.999219 \nL 174.6 10.999219 \nL 174.6 14.019219 \nL 141.12 14.019219 \nL 141.12 10.999219 \n\" style=\"fill:#00ffff;\"/>\n    <path clip-path=\"url(#pa58248c643)\" d=\"M 174.6 10.999219 \nL 208.08 10.999219 \nL 208.08 14.019219 \nL 174.6 14.019219 \nL 174.6 10.999219 \n\" style=\"fill:#00ffff;\"/>\n    <path clip-path=\"url(#pa58248c643)\" d=\"M 208.08 10.999219 \nL 241.56 10.999219 \nL 241.56 14.019219 \nL 208.08 14.019219 \nL 208.08 10.999219 \n\" style=\"fill:#00ffff;\"/>\n    <path clip-path=\"url(#pa58248c643)\" d=\"M 241.56 10.999219 \nL 275.04 10.999219 \nL 275.04 14.019219 \nL 241.56 14.019219 \nL 241.56 10.999219 \n\" style=\"fill:#00ffff;\"/>\n    <path clip-path=\"url(#pa58248c643)\" d=\"M 7.2 14.019219 \nL 40.68 14.019219 \nL 40.68 17.039219 \nL 7.2 17.039219 \nL 7.2 14.019219 \n\" style=\"fill:#00ffff;\"/>\n    <path clip-path=\"url(#pa58248c643)\" d=\"M 40.68 14.019219 \nL 74.16 14.019219 \nL 74.16 17.039219 \nL 40.68 17.039219 \nL 40.68 14.019219 \n\" style=\"fill:#00ffff;\"/>\n    <path clip-path=\"url(#pa58248c643)\" d=\"M 74.16 14.019219 \nL 107.64 14.019219 \nL 107.64 17.039219 \nL 74.16 17.039219 \nL 74.16 14.019219 \n\" style=\"fill:#00ffff;\"/>\n    <path clip-path=\"url(#pa58248c643)\" d=\"M 107.64 14.019219 \nL 141.12 14.019219 \nL 141.12 17.039219 \nL 107.64 17.039219 \nL 107.64 14.019219 \n\" style=\"fill:#00ffff;\"/>\n    <path clip-path=\"url(#pa58248c643)\" d=\"M 141.12 14.019219 \nL 174.6 14.019219 \nL 174.6 17.039219 \nL 141.12 17.039219 \nL 141.12 14.019219 \n\" style=\"fill:#00ffff;\"/>\n    <path clip-path=\"url(#pa58248c643)\" d=\"M 174.6 14.019219 \nL 208.08 14.019219 \nL 208.08 17.039219 \nL 174.6 17.039219 \nL 174.6 14.019219 \n\" style=\"fill:#00ffff;\"/>\n    <path clip-path=\"url(#pa58248c643)\" d=\"M 208.08 14.019219 \nL 241.56 14.019219 \nL 241.56 17.039219 \nL 208.08 17.039219 \nL 208.08 14.019219 \n\" style=\"fill:#00ffff;\"/>\n    <path clip-path=\"url(#pa58248c643)\" d=\"M 241.56 14.019219 \nL 275.04 14.019219 \nL 275.04 17.039219 \nL 241.56 17.039219 \nL 241.56 14.019219 \n\" style=\"fill:#00ffff;\"/>\n    <path clip-path=\"url(#pa58248c643)\" d=\"M 7.2 17.039219 \nL 40.68 17.039219 \nL 40.68 20.059219 \nL 7.2 20.059219 \nL 7.2 17.039219 \n\" style=\"fill:#00ffff;\"/>\n    <path clip-path=\"url(#pa58248c643)\" d=\"M 40.68 17.039219 \nL 74.16 17.039219 \nL 74.16 20.059219 \nL 40.68 20.059219 \nL 40.68 17.039219 \n\" style=\"fill:#00ffff;\"/>\n    <path clip-path=\"url(#pa58248c643)\" d=\"M 74.16 17.039219 \nL 107.64 17.039219 \nL 107.64 20.059219 \nL 74.16 20.059219 \nL 74.16 17.039219 \n\" style=\"fill:#00ffff;\"/>\n    <path clip-path=\"url(#pa58248c643)\" d=\"M 107.64 17.039219 \nL 141.12 17.039219 \nL 141.12 20.059219 \nL 107.64 20.059219 \nL 107.64 17.039219 \n\" style=\"fill:#00ffff;\"/>\n    <path clip-path=\"url(#pa58248c643)\" d=\"M 141.12 17.039219 \nL 174.6 17.039219 \nL 174.6 20.059219 \nL 141.12 20.059219 \nL 141.12 17.039219 \n\" style=\"fill:#00ffff;\"/>\n    <path clip-path=\"url(#pa58248c643)\" d=\"M 174.6 17.039219 \nL 208.08 17.039219 \nL 208.08 20.059219 \nL 174.6 20.059219 \nL 174.6 17.039219 \n\" style=\"fill:#00ffff;\"/>\n    <path clip-path=\"url(#pa58248c643)\" d=\"M 208.08 17.039219 \nL 241.56 17.039219 \nL 241.56 20.059219 \nL 208.08 20.059219 \nL 208.08 17.039219 \n\" style=\"fill:#00ffff;\"/>\n    <path clip-path=\"url(#pa58248c643)\" d=\"M 241.56 17.039219 \nL 275.04 17.039219 \nL 275.04 20.059219 \nL 241.56 20.059219 \nL 241.56 17.039219 \n\" style=\"fill:#00ffff;\"/>\n    <path clip-path=\"url(#pa58248c643)\" d=\"M 7.2 20.059219 \nL 40.68 20.059219 \nL 40.68 23.079219 \nL 7.2 23.079219 \nL 7.2 20.059219 \n\" style=\"fill:#00ffff;\"/>\n    <path clip-path=\"url(#pa58248c643)\" d=\"M 40.68 20.059219 \nL 74.16 20.059219 \nL 74.16 23.079219 \nL 40.68 23.079219 \nL 40.68 20.059219 \n\" style=\"fill:#00ffff;\"/>\n    <path clip-path=\"url(#pa58248c643)\" d=\"M 74.16 20.059219 \nL 107.64 20.059219 \nL 107.64 23.079219 \nL 74.16 23.079219 \nL 74.16 20.059219 \n\" style=\"fill:#00ffff;\"/>\n    <path clip-path=\"url(#pa58248c643)\" d=\"M 107.64 20.059219 \nL 141.12 20.059219 \nL 141.12 23.079219 \nL 107.64 23.079219 \nL 107.64 20.059219 \n\" style=\"fill:#00ffff;\"/>\n    <path clip-path=\"url(#pa58248c643)\" d=\"M 141.12 20.059219 \nL 174.6 20.059219 \nL 174.6 23.079219 \nL 141.12 23.079219 \nL 141.12 20.059219 \n\" style=\"fill:#00ffff;\"/>\n    <path clip-path=\"url(#pa58248c643)\" d=\"M 174.6 20.059219 \nL 208.08 20.059219 \nL 208.08 23.079219 \nL 174.6 23.079219 \nL 174.6 20.059219 \n\" style=\"fill:#00ffff;\"/>\n    <path clip-path=\"url(#pa58248c643)\" d=\"M 208.08 20.059219 \nL 241.56 20.059219 \nL 241.56 23.079219 \nL 208.08 23.079219 \nL 208.08 20.059219 \n\" style=\"fill:#00ffff;\"/>\n    <path clip-path=\"url(#pa58248c643)\" d=\"M 241.56 20.059219 \nL 275.04 20.059219 \nL 275.04 23.079219 \nL 241.56 23.079219 \nL 241.56 20.059219 \n\" style=\"fill:#00ffff;\"/>\n    <path clip-path=\"url(#pa58248c643)\" d=\"M 7.2 23.079219 \nL 40.68 23.079219 \nL 40.68 26.099219 \nL 7.2 26.099219 \nL 7.2 23.079219 \n\" style=\"fill:#00ffff;\"/>\n    <path clip-path=\"url(#pa58248c643)\" d=\"M 40.68 23.079219 \nL 74.16 23.079219 \nL 74.16 26.099219 \nL 40.68 26.099219 \nL 40.68 23.079219 \n\" style=\"fill:#00ffff;\"/>\n    <path clip-path=\"url(#pa58248c643)\" d=\"M 74.16 23.079219 \nL 107.64 23.079219 \nL 107.64 26.099219 \nL 74.16 26.099219 \nL 74.16 23.079219 \n\" style=\"fill:#00ffff;\"/>\n    <path clip-path=\"url(#pa58248c643)\" d=\"M 107.64 23.079219 \nL 141.12 23.079219 \nL 141.12 26.099219 \nL 107.64 26.099219 \nL 107.64 23.079219 \n\" style=\"fill:#00ffff;\"/>\n    <path clip-path=\"url(#pa58248c643)\" d=\"M 141.12 23.079219 \nL 174.6 23.079219 \nL 174.6 26.099219 \nL 141.12 26.099219 \nL 141.12 23.079219 \n\" style=\"fill:#00ffff;\"/>\n    <path clip-path=\"url(#pa58248c643)\" d=\"M 174.6 23.079219 \nL 208.08 23.079219 \nL 208.08 26.099219 \nL 174.6 26.099219 \nL 174.6 23.079219 \n\" style=\"fill:#00ffff;\"/>\n    <path clip-path=\"url(#pa58248c643)\" d=\"M 208.08 23.079219 \nL 241.56 23.079219 \nL 241.56 26.099219 \nL 208.08 26.099219 \nL 208.08 23.079219 \n\" style=\"fill:#00ffff;\"/>\n    <path clip-path=\"url(#pa58248c643)\" d=\"M 241.56 23.079219 \nL 275.04 23.079219 \nL 275.04 26.099219 \nL 241.56 26.099219 \nL 241.56 23.079219 \n\" style=\"fill:#00ffff;\"/>\n    <path clip-path=\"url(#pa58248c643)\" d=\"M 7.2 26.099219 \nL 40.68 26.099219 \nL 40.68 29.119219 \nL 7.2 29.119219 \nL 7.2 26.099219 \n\" style=\"fill:#00ffff;\"/>\n    <path clip-path=\"url(#pa58248c643)\" d=\"M 40.68 26.099219 \nL 74.16 26.099219 \nL 74.16 29.119219 \nL 40.68 29.119219 \nL 40.68 26.099219 \n\" style=\"fill:#00ffff;\"/>\n    <path clip-path=\"url(#pa58248c643)\" d=\"M 74.16 26.099219 \nL 107.64 26.099219 \nL 107.64 29.119219 \nL 74.16 29.119219 \nL 74.16 26.099219 \n\" style=\"fill:#00ffff;\"/>\n    <path clip-path=\"url(#pa58248c643)\" d=\"M 107.64 26.099219 \nL 141.12 26.099219 \nL 141.12 29.119219 \nL 107.64 29.119219 \nL 107.64 26.099219 \n\" style=\"fill:#00ffff;\"/>\n    <path clip-path=\"url(#pa58248c643)\" d=\"M 141.12 26.099219 \nL 174.6 26.099219 \nL 174.6 29.119219 \nL 141.12 29.119219 \nL 141.12 26.099219 \n\" style=\"fill:#00ffff;\"/>\n    <path clip-path=\"url(#pa58248c643)\" d=\"M 174.6 26.099219 \nL 208.08 26.099219 \nL 208.08 29.119219 \nL 174.6 29.119219 \nL 174.6 26.099219 \n\" style=\"fill:#00ffff;\"/>\n    <path clip-path=\"url(#pa58248c643)\" d=\"M 208.08 26.099219 \nL 241.56 26.099219 \nL 241.56 29.119219 \nL 208.08 29.119219 \nL 208.08 26.099219 \n\" style=\"fill:#00ffff;\"/>\n    <path clip-path=\"url(#pa58248c643)\" d=\"M 241.56 26.099219 \nL 275.04 26.099219 \nL 275.04 29.119219 \nL 241.56 29.119219 \nL 241.56 26.099219 \n\" style=\"fill:#00ffff;\"/>\n    <path clip-path=\"url(#pa58248c643)\" d=\"M 7.2 29.119219 \nL 40.68 29.119219 \nL 40.68 32.139219 \nL 7.2 32.139219 \nL 7.2 29.119219 \n\" style=\"fill:#00ffff;\"/>\n    <path clip-path=\"url(#pa58248c643)\" d=\"M 40.68 29.119219 \nL 74.16 29.119219 \nL 74.16 32.139219 \nL 40.68 32.139219 \nL 40.68 29.119219 \n\" style=\"fill:#00ffff;\"/>\n    <path clip-path=\"url(#pa58248c643)\" d=\"M 74.16 29.119219 \nL 107.64 29.119219 \nL 107.64 32.139219 \nL 74.16 32.139219 \nL 74.16 29.119219 \n\" style=\"fill:#00ffff;\"/>\n    <path clip-path=\"url(#pa58248c643)\" d=\"M 107.64 29.119219 \nL 141.12 29.119219 \nL 141.12 32.139219 \nL 107.64 32.139219 \nL 107.64 29.119219 \n\" style=\"fill:#00ffff;\"/>\n    <path clip-path=\"url(#pa58248c643)\" d=\"M 141.12 29.119219 \nL 174.6 29.119219 \nL 174.6 32.139219 \nL 141.12 32.139219 \nL 141.12 29.119219 \n\" style=\"fill:#00ffff;\"/>\n    <path clip-path=\"url(#pa58248c643)\" d=\"M 174.6 29.119219 \nL 208.08 29.119219 \nL 208.08 32.139219 \nL 174.6 32.139219 \nL 174.6 29.119219 \n\" style=\"fill:#00ffff;\"/>\n    <path clip-path=\"url(#pa58248c643)\" d=\"M 208.08 29.119219 \nL 241.56 29.119219 \nL 241.56 32.139219 \nL 208.08 32.139219 \nL 208.08 29.119219 \n\" style=\"fill:#00ffff;\"/>\n    <path clip-path=\"url(#pa58248c643)\" d=\"M 241.56 29.119219 \nL 275.04 29.119219 \nL 275.04 32.139219 \nL 241.56 32.139219 \nL 241.56 29.119219 \n\" style=\"fill:#00ffff;\"/>\n    <path clip-path=\"url(#pa58248c643)\" d=\"M 7.2 32.139219 \nL 40.68 32.139219 \nL 40.68 35.159219 \nL 7.2 35.159219 \nL 7.2 32.139219 \n\" style=\"fill:#00ffff;\"/>\n    <path clip-path=\"url(#pa58248c643)\" d=\"M 40.68 32.139219 \nL 74.16 32.139219 \nL 74.16 35.159219 \nL 40.68 35.159219 \nL 40.68 32.139219 \n\" style=\"fill:#00ffff;\"/>\n    <path clip-path=\"url(#pa58248c643)\" d=\"M 74.16 32.139219 \nL 107.64 32.139219 \nL 107.64 35.159219 \nL 74.16 35.159219 \nL 74.16 32.139219 \n\" style=\"fill:#00ffff;\"/>\n    <path clip-path=\"url(#pa58248c643)\" d=\"M 107.64 32.139219 \nL 141.12 32.139219 \nL 141.12 35.159219 \nL 107.64 35.159219 \nL 107.64 32.139219 \n\" style=\"fill:#00ffff;\"/>\n    <path clip-path=\"url(#pa58248c643)\" d=\"M 141.12 32.139219 \nL 174.6 32.139219 \nL 174.6 35.159219 \nL 141.12 35.159219 \nL 141.12 32.139219 \n\" style=\"fill:#00ffff;\"/>\n    <path clip-path=\"url(#pa58248c643)\" d=\"M 174.6 32.139219 \nL 208.08 32.139219 \nL 208.08 35.159219 \nL 174.6 35.159219 \nL 174.6 32.139219 \n\" style=\"fill:#00ffff;\"/>\n    <path clip-path=\"url(#pa58248c643)\" d=\"M 208.08 32.139219 \nL 241.56 32.139219 \nL 241.56 35.159219 \nL 208.08 35.159219 \nL 208.08 32.139219 \n\" style=\"fill:#00ffff;\"/>\n    <path clip-path=\"url(#pa58248c643)\" d=\"M 241.56 32.139219 \nL 275.04 32.139219 \nL 275.04 35.159219 \nL 241.56 35.159219 \nL 241.56 32.139219 \n\" style=\"fill:#00ffff;\"/>\n    <path clip-path=\"url(#pa58248c643)\" d=\"M 7.2 35.159219 \nL 40.68 35.159219 \nL 40.68 38.179219 \nL 7.2 38.179219 \nL 7.2 35.159219 \n\" style=\"fill:#00ffff;\"/>\n    <path clip-path=\"url(#pa58248c643)\" d=\"M 40.68 35.159219 \nL 74.16 35.159219 \nL 74.16 38.179219 \nL 40.68 38.179219 \nL 40.68 35.159219 \n\" style=\"fill:#00ffff;\"/>\n    <path clip-path=\"url(#pa58248c643)\" d=\"M 74.16 35.159219 \nL 107.64 35.159219 \nL 107.64 38.179219 \nL 74.16 38.179219 \nL 74.16 35.159219 \n\" style=\"fill:#00ffff;\"/>\n    <path clip-path=\"url(#pa58248c643)\" d=\"M 107.64 35.159219 \nL 141.12 35.159219 \nL 141.12 38.179219 \nL 107.64 38.179219 \nL 107.64 35.159219 \n\" style=\"fill:#00ffff;\"/>\n    <path clip-path=\"url(#pa58248c643)\" d=\"M 141.12 35.159219 \nL 174.6 35.159219 \nL 174.6 38.179219 \nL 141.12 38.179219 \nL 141.12 35.159219 \n\" style=\"fill:#00ffff;\"/>\n    <path clip-path=\"url(#pa58248c643)\" d=\"M 174.6 35.159219 \nL 208.08 35.159219 \nL 208.08 38.179219 \nL 174.6 38.179219 \nL 174.6 35.159219 \n\" style=\"fill:#00ffff;\"/>\n    <path clip-path=\"url(#pa58248c643)\" d=\"M 208.08 35.159219 \nL 241.56 35.159219 \nL 241.56 38.179219 \nL 208.08 38.179219 \nL 208.08 35.159219 \n\" style=\"fill:#00ffff;\"/>\n    <path clip-path=\"url(#pa58248c643)\" d=\"M 241.56 35.159219 \nL 275.04 35.159219 \nL 275.04 38.179219 \nL 241.56 38.179219 \nL 241.56 35.159219 \n\" style=\"fill:#00ffff;\"/>\n    <path clip-path=\"url(#pa58248c643)\" d=\"M 7.2 38.179219 \nL 40.68 38.179219 \nL 40.68 41.199219 \nL 7.2 41.199219 \nL 7.2 38.179219 \n\" style=\"fill:#00ffff;\"/>\n    <path clip-path=\"url(#pa58248c643)\" d=\"M 40.68 38.179219 \nL 74.16 38.179219 \nL 74.16 41.199219 \nL 40.68 41.199219 \nL 40.68 38.179219 \n\" style=\"fill:#00ffff;\"/>\n    <path clip-path=\"url(#pa58248c643)\" d=\"M 74.16 38.179219 \nL 107.64 38.179219 \nL 107.64 41.199219 \nL 74.16 41.199219 \nL 74.16 38.179219 \n\" style=\"fill:#00ffff;\"/>\n    <path clip-path=\"url(#pa58248c643)\" d=\"M 107.64 38.179219 \nL 141.12 38.179219 \nL 141.12 41.199219 \nL 107.64 41.199219 \nL 107.64 38.179219 \n\" style=\"fill:#00ffff;\"/>\n    <path clip-path=\"url(#pa58248c643)\" d=\"M 141.12 38.179219 \nL 174.6 38.179219 \nL 174.6 41.199219 \nL 141.12 41.199219 \nL 141.12 38.179219 \n\" style=\"fill:#00ffff;\"/>\n    <path clip-path=\"url(#pa58248c643)\" d=\"M 174.6 38.179219 \nL 208.08 38.179219 \nL 208.08 41.199219 \nL 174.6 41.199219 \nL 174.6 38.179219 \n\" style=\"fill:#00ffff;\"/>\n    <path clip-path=\"url(#pa58248c643)\" d=\"M 208.08 38.179219 \nL 241.56 38.179219 \nL 241.56 41.199219 \nL 208.08 41.199219 \nL 208.08 38.179219 \n\" style=\"fill:#00ffff;\"/>\n    <path clip-path=\"url(#pa58248c643)\" d=\"M 241.56 38.179219 \nL 275.04 38.179219 \nL 275.04 41.199219 \nL 241.56 41.199219 \nL 241.56 38.179219 \n\" style=\"fill:#00ffff;\"/>\n    <path clip-path=\"url(#pa58248c643)\" d=\"M 7.2 41.199219 \nL 40.68 41.199219 \nL 40.68 44.219219 \nL 7.2 44.219219 \nL 7.2 41.199219 \n\" style=\"fill:#00ffff;\"/>\n    <path clip-path=\"url(#pa58248c643)\" d=\"M 40.68 41.199219 \nL 74.16 41.199219 \nL 74.16 44.219219 \nL 40.68 44.219219 \nL 40.68 41.199219 \n\" style=\"fill:#00ffff;\"/>\n    <path clip-path=\"url(#pa58248c643)\" d=\"M 74.16 41.199219 \nL 107.64 41.199219 \nL 107.64 44.219219 \nL 74.16 44.219219 \nL 74.16 41.199219 \n\" style=\"fill:#00ffff;\"/>\n    <path clip-path=\"url(#pa58248c643)\" d=\"M 107.64 41.199219 \nL 141.12 41.199219 \nL 141.12 44.219219 \nL 107.64 44.219219 \nL 107.64 41.199219 \n\" style=\"fill:#00ffff;\"/>\n    <path clip-path=\"url(#pa58248c643)\" d=\"M 141.12 41.199219 \nL 174.6 41.199219 \nL 174.6 44.219219 \nL 141.12 44.219219 \nL 141.12 41.199219 \n\" style=\"fill:#00ffff;\"/>\n    <path clip-path=\"url(#pa58248c643)\" d=\"M 174.6 41.199219 \nL 208.08 41.199219 \nL 208.08 44.219219 \nL 174.6 44.219219 \nL 174.6 41.199219 \n\" style=\"fill:#00ffff;\"/>\n    <path clip-path=\"url(#pa58248c643)\" d=\"M 208.08 41.199219 \nL 241.56 41.199219 \nL 241.56 44.219219 \nL 208.08 44.219219 \nL 208.08 41.199219 \n\" style=\"fill:#00ffff;\"/>\n    <path clip-path=\"url(#pa58248c643)\" d=\"M 241.56 41.199219 \nL 275.04 41.199219 \nL 275.04 44.219219 \nL 241.56 44.219219 \nL 241.56 41.199219 \n\" style=\"fill:#00ffff;\"/>\n    <path clip-path=\"url(#pa58248c643)\" d=\"M 7.2 44.219219 \nL 40.68 44.219219 \nL 40.68 47.239219 \nL 7.2 47.239219 \nL 7.2 44.219219 \n\" style=\"fill:#00ffff;\"/>\n    <path clip-path=\"url(#pa58248c643)\" d=\"M 40.68 44.219219 \nL 74.16 44.219219 \nL 74.16 47.239219 \nL 40.68 47.239219 \nL 40.68 44.219219 \n\" style=\"fill:#00ffff;\"/>\n    <path clip-path=\"url(#pa58248c643)\" d=\"M 74.16 44.219219 \nL 107.64 44.219219 \nL 107.64 47.239219 \nL 74.16 47.239219 \nL 74.16 44.219219 \n\" style=\"fill:#00ffff;\"/>\n    <path clip-path=\"url(#pa58248c643)\" d=\"M 107.64 44.219219 \nL 141.12 44.219219 \nL 141.12 47.239219 \nL 107.64 47.239219 \nL 107.64 44.219219 \n\" style=\"fill:#00ffff;\"/>\n    <path clip-path=\"url(#pa58248c643)\" d=\"M 141.12 44.219219 \nL 174.6 44.219219 \nL 174.6 47.239219 \nL 141.12 47.239219 \nL 141.12 44.219219 \n\" style=\"fill:#00ffff;\"/>\n    <path clip-path=\"url(#pa58248c643)\" d=\"M 174.6 44.219219 \nL 208.08 44.219219 \nL 208.08 47.239219 \nL 174.6 47.239219 \nL 174.6 44.219219 \n\" style=\"fill:#00ffff;\"/>\n    <path clip-path=\"url(#pa58248c643)\" d=\"M 208.08 44.219219 \nL 241.56 44.219219 \nL 241.56 47.239219 \nL 208.08 47.239219 \nL 208.08 44.219219 \n\" style=\"fill:#00ffff;\"/>\n    <path clip-path=\"url(#pa58248c643)\" d=\"M 241.56 44.219219 \nL 275.04 44.219219 \nL 275.04 47.239219 \nL 241.56 47.239219 \nL 241.56 44.219219 \n\" style=\"fill:#00ffff;\"/>\n    <path clip-path=\"url(#pa58248c643)\" d=\"M 7.2 47.239219 \nL 40.68 47.239219 \nL 40.68 50.259219 \nL 7.2 50.259219 \nL 7.2 47.239219 \n\" style=\"fill:#00ffff;\"/>\n    <path clip-path=\"url(#pa58248c643)\" d=\"M 40.68 47.239219 \nL 74.16 47.239219 \nL 74.16 50.259219 \nL 40.68 50.259219 \nL 40.68 47.239219 \n\" style=\"fill:#00ffff;\"/>\n    <path clip-path=\"url(#pa58248c643)\" d=\"M 74.16 47.239219 \nL 107.64 47.239219 \nL 107.64 50.259219 \nL 74.16 50.259219 \nL 74.16 47.239219 \n\" style=\"fill:#ff00ff;\"/>\n    <path clip-path=\"url(#pa58248c643)\" d=\"M 107.64 47.239219 \nL 141.12 47.239219 \nL 141.12 50.259219 \nL 107.64 50.259219 \nL 107.64 47.239219 \n\" style=\"fill:#00ffff;\"/>\n    <path clip-path=\"url(#pa58248c643)\" d=\"M 141.12 47.239219 \nL 174.6 47.239219 \nL 174.6 50.259219 \nL 141.12 50.259219 \nL 141.12 47.239219 \n\" style=\"fill:#00ffff;\"/>\n    <path clip-path=\"url(#pa58248c643)\" d=\"M 174.6 47.239219 \nL 208.08 47.239219 \nL 208.08 50.259219 \nL 174.6 50.259219 \nL 174.6 47.239219 \n\" style=\"fill:#00ffff;\"/>\n    <path clip-path=\"url(#pa58248c643)\" d=\"M 208.08 47.239219 \nL 241.56 47.239219 \nL 241.56 50.259219 \nL 208.08 50.259219 \nL 208.08 47.239219 \n\" style=\"fill:#00ffff;\"/>\n    <path clip-path=\"url(#pa58248c643)\" d=\"M 241.56 47.239219 \nL 275.04 47.239219 \nL 275.04 50.259219 \nL 241.56 50.259219 \nL 241.56 47.239219 \n\" style=\"fill:#00ffff;\"/>\n    <path clip-path=\"url(#pa58248c643)\" d=\"M 7.2 50.259219 \nL 40.68 50.259219 \nL 40.68 53.279219 \nL 7.2 53.279219 \nL 7.2 50.259219 \n\" style=\"fill:#00ffff;\"/>\n    <path clip-path=\"url(#pa58248c643)\" d=\"M 40.68 50.259219 \nL 74.16 50.259219 \nL 74.16 53.279219 \nL 40.68 53.279219 \nL 40.68 50.259219 \n\" style=\"fill:#00ffff;\"/>\n    <path clip-path=\"url(#pa58248c643)\" d=\"M 74.16 50.259219 \nL 107.64 50.259219 \nL 107.64 53.279219 \nL 74.16 53.279219 \nL 74.16 50.259219 \n\" style=\"fill:#ff00ff;\"/>\n    <path clip-path=\"url(#pa58248c643)\" d=\"M 107.64 50.259219 \nL 141.12 50.259219 \nL 141.12 53.279219 \nL 107.64 53.279219 \nL 107.64 50.259219 \n\" style=\"fill:#00ffff;\"/>\n    <path clip-path=\"url(#pa58248c643)\" d=\"M 141.12 50.259219 \nL 174.6 50.259219 \nL 174.6 53.279219 \nL 141.12 53.279219 \nL 141.12 50.259219 \n\" style=\"fill:#00ffff;\"/>\n    <path clip-path=\"url(#pa58248c643)\" d=\"M 174.6 50.259219 \nL 208.08 50.259219 \nL 208.08 53.279219 \nL 174.6 53.279219 \nL 174.6 50.259219 \n\" style=\"fill:#00ffff;\"/>\n    <path clip-path=\"url(#pa58248c643)\" d=\"M 208.08 50.259219 \nL 241.56 50.259219 \nL 241.56 53.279219 \nL 208.08 53.279219 \nL 208.08 50.259219 \n\" style=\"fill:#00ffff;\"/>\n    <path clip-path=\"url(#pa58248c643)\" d=\"M 241.56 50.259219 \nL 275.04 50.259219 \nL 275.04 53.279219 \nL 241.56 53.279219 \nL 241.56 50.259219 \n\" style=\"fill:#00ffff;\"/>\n    <path clip-path=\"url(#pa58248c643)\" d=\"M 7.2 53.279219 \nL 40.68 53.279219 \nL 40.68 56.299219 \nL 7.2 56.299219 \nL 7.2 53.279219 \n\" style=\"fill:#00ffff;\"/>\n    <path clip-path=\"url(#pa58248c643)\" d=\"M 40.68 53.279219 \nL 74.16 53.279219 \nL 74.16 56.299219 \nL 40.68 56.299219 \nL 40.68 53.279219 \n\" style=\"fill:#00ffff;\"/>\n    <path clip-path=\"url(#pa58248c643)\" d=\"M 74.16 53.279219 \nL 107.64 53.279219 \nL 107.64 56.299219 \nL 74.16 56.299219 \nL 74.16 53.279219 \n\" style=\"fill:#ff00ff;\"/>\n    <path clip-path=\"url(#pa58248c643)\" d=\"M 107.64 53.279219 \nL 141.12 53.279219 \nL 141.12 56.299219 \nL 107.64 56.299219 \nL 107.64 53.279219 \n\" style=\"fill:#00ffff;\"/>\n    <path clip-path=\"url(#pa58248c643)\" d=\"M 141.12 53.279219 \nL 174.6 53.279219 \nL 174.6 56.299219 \nL 141.12 56.299219 \nL 141.12 53.279219 \n\" style=\"fill:#00ffff;\"/>\n    <path clip-path=\"url(#pa58248c643)\" d=\"M 174.6 53.279219 \nL 208.08 53.279219 \nL 208.08 56.299219 \nL 174.6 56.299219 \nL 174.6 53.279219 \n\" style=\"fill:#00ffff;\"/>\n    <path clip-path=\"url(#pa58248c643)\" d=\"M 208.08 53.279219 \nL 241.56 53.279219 \nL 241.56 56.299219 \nL 208.08 56.299219 \nL 208.08 53.279219 \n\" style=\"fill:#00ffff;\"/>\n    <path clip-path=\"url(#pa58248c643)\" d=\"M 241.56 53.279219 \nL 275.04 53.279219 \nL 275.04 56.299219 \nL 241.56 56.299219 \nL 241.56 53.279219 \n\" style=\"fill:#00ffff;\"/>\n    <path clip-path=\"url(#pa58248c643)\" d=\"M 7.2 56.299219 \nL 40.68 56.299219 \nL 40.68 59.319219 \nL 7.2 59.319219 \nL 7.2 56.299219 \n\" style=\"fill:#00ffff;\"/>\n    <path clip-path=\"url(#pa58248c643)\" d=\"M 40.68 56.299219 \nL 74.16 56.299219 \nL 74.16 59.319219 \nL 40.68 59.319219 \nL 40.68 56.299219 \n\" style=\"fill:#00ffff;\"/>\n    <path clip-path=\"url(#pa58248c643)\" d=\"M 74.16 56.299219 \nL 107.64 56.299219 \nL 107.64 59.319219 \nL 74.16 59.319219 \nL 74.16 56.299219 \n\" style=\"fill:#ff00ff;\"/>\n    <path clip-path=\"url(#pa58248c643)\" d=\"M 107.64 56.299219 \nL 141.12 56.299219 \nL 141.12 59.319219 \nL 107.64 59.319219 \nL 107.64 56.299219 \n\" style=\"fill:#00ffff;\"/>\n    <path clip-path=\"url(#pa58248c643)\" d=\"M 141.12 56.299219 \nL 174.6 56.299219 \nL 174.6 59.319219 \nL 141.12 59.319219 \nL 141.12 56.299219 \n\" style=\"fill:#00ffff;\"/>\n    <path clip-path=\"url(#pa58248c643)\" d=\"M 174.6 56.299219 \nL 208.08 56.299219 \nL 208.08 59.319219 \nL 174.6 59.319219 \nL 174.6 56.299219 \n\" style=\"fill:#00ffff;\"/>\n    <path clip-path=\"url(#pa58248c643)\" d=\"M 208.08 56.299219 \nL 241.56 56.299219 \nL 241.56 59.319219 \nL 208.08 59.319219 \nL 208.08 56.299219 \n\" style=\"fill:#00ffff;\"/>\n    <path clip-path=\"url(#pa58248c643)\" d=\"M 241.56 56.299219 \nL 275.04 56.299219 \nL 275.04 59.319219 \nL 241.56 59.319219 \nL 241.56 56.299219 \n\" style=\"fill:#00ffff;\"/>\n    <path clip-path=\"url(#pa58248c643)\" d=\"M 7.2 59.319219 \nL 40.68 59.319219 \nL 40.68 62.339219 \nL 7.2 62.339219 \nL 7.2 59.319219 \n\" style=\"fill:#00ffff;\"/>\n    <path clip-path=\"url(#pa58248c643)\" d=\"M 40.68 59.319219 \nL 74.16 59.319219 \nL 74.16 62.339219 \nL 40.68 62.339219 \nL 40.68 59.319219 \n\" style=\"fill:#00ffff;\"/>\n    <path clip-path=\"url(#pa58248c643)\" d=\"M 74.16 59.319219 \nL 107.64 59.319219 \nL 107.64 62.339219 \nL 74.16 62.339219 \nL 74.16 59.319219 \n\" style=\"fill:#ff00ff;\"/>\n    <path clip-path=\"url(#pa58248c643)\" d=\"M 107.64 59.319219 \nL 141.12 59.319219 \nL 141.12 62.339219 \nL 107.64 62.339219 \nL 107.64 59.319219 \n\" style=\"fill:#00ffff;\"/>\n    <path clip-path=\"url(#pa58248c643)\" d=\"M 141.12 59.319219 \nL 174.6 59.319219 \nL 174.6 62.339219 \nL 141.12 62.339219 \nL 141.12 59.319219 \n\" style=\"fill:#00ffff;\"/>\n    <path clip-path=\"url(#pa58248c643)\" d=\"M 174.6 59.319219 \nL 208.08 59.319219 \nL 208.08 62.339219 \nL 174.6 62.339219 \nL 174.6 59.319219 \n\" style=\"fill:#00ffff;\"/>\n    <path clip-path=\"url(#pa58248c643)\" d=\"M 208.08 59.319219 \nL 241.56 59.319219 \nL 241.56 62.339219 \nL 208.08 62.339219 \nL 208.08 59.319219 \n\" style=\"fill:#00ffff;\"/>\n    <path clip-path=\"url(#pa58248c643)\" d=\"M 241.56 59.319219 \nL 275.04 59.319219 \nL 275.04 62.339219 \nL 241.56 62.339219 \nL 241.56 59.319219 \n\" style=\"fill:#00ffff;\"/>\n    <path clip-path=\"url(#pa58248c643)\" d=\"M 7.2 62.339219 \nL 40.68 62.339219 \nL 40.68 65.359219 \nL 7.2 65.359219 \nL 7.2 62.339219 \n\" style=\"fill:#00ffff;\"/>\n    <path clip-path=\"url(#pa58248c643)\" d=\"M 40.68 62.339219 \nL 74.16 62.339219 \nL 74.16 65.359219 \nL 40.68 65.359219 \nL 40.68 62.339219 \n\" style=\"fill:#00ffff;\"/>\n    <path clip-path=\"url(#pa58248c643)\" d=\"M 74.16 62.339219 \nL 107.64 62.339219 \nL 107.64 65.359219 \nL 74.16 65.359219 \nL 74.16 62.339219 \n\" style=\"fill:#ff00ff;\"/>\n    <path clip-path=\"url(#pa58248c643)\" d=\"M 107.64 62.339219 \nL 141.12 62.339219 \nL 141.12 65.359219 \nL 107.64 65.359219 \nL 107.64 62.339219 \n\" style=\"fill:#00ffff;\"/>\n    <path clip-path=\"url(#pa58248c643)\" d=\"M 141.12 62.339219 \nL 174.6 62.339219 \nL 174.6 65.359219 \nL 141.12 65.359219 \nL 141.12 62.339219 \n\" style=\"fill:#00ffff;\"/>\n    <path clip-path=\"url(#pa58248c643)\" d=\"M 174.6 62.339219 \nL 208.08 62.339219 \nL 208.08 65.359219 \nL 174.6 65.359219 \nL 174.6 62.339219 \n\" style=\"fill:#00ffff;\"/>\n    <path clip-path=\"url(#pa58248c643)\" d=\"M 208.08 62.339219 \nL 241.56 62.339219 \nL 241.56 65.359219 \nL 208.08 65.359219 \nL 208.08 62.339219 \n\" style=\"fill:#00ffff;\"/>\n    <path clip-path=\"url(#pa58248c643)\" d=\"M 241.56 62.339219 \nL 275.04 62.339219 \nL 275.04 65.359219 \nL 241.56 65.359219 \nL 241.56 62.339219 \n\" style=\"fill:#00ffff;\"/>\n    <path clip-path=\"url(#pa58248c643)\" d=\"M 7.2 65.359219 \nL 40.68 65.359219 \nL 40.68 68.379219 \nL 7.2 68.379219 \nL 7.2 65.359219 \n\" style=\"fill:#00ffff;\"/>\n    <path clip-path=\"url(#pa58248c643)\" d=\"M 40.68 65.359219 \nL 74.16 65.359219 \nL 74.16 68.379219 \nL 40.68 68.379219 \nL 40.68 65.359219 \n\" style=\"fill:#ff00ff;\"/>\n    <path clip-path=\"url(#pa58248c643)\" d=\"M 74.16 65.359219 \nL 107.64 65.359219 \nL 107.64 68.379219 \nL 74.16 68.379219 \nL 74.16 65.359219 \n\" style=\"fill:#00ffff;\"/>\n    <path clip-path=\"url(#pa58248c643)\" d=\"M 107.64 65.359219 \nL 141.12 65.359219 \nL 141.12 68.379219 \nL 107.64 68.379219 \nL 107.64 65.359219 \n\" style=\"fill:#00ffff;\"/>\n    <path clip-path=\"url(#pa58248c643)\" d=\"M 141.12 65.359219 \nL 174.6 65.359219 \nL 174.6 68.379219 \nL 141.12 68.379219 \nL 141.12 65.359219 \n\" style=\"fill:#00ffff;\"/>\n    <path clip-path=\"url(#pa58248c643)\" d=\"M 174.6 65.359219 \nL 208.08 65.359219 \nL 208.08 68.379219 \nL 174.6 68.379219 \nL 174.6 65.359219 \n\" style=\"fill:#00ffff;\"/>\n    <path clip-path=\"url(#pa58248c643)\" d=\"M 208.08 65.359219 \nL 241.56 65.359219 \nL 241.56 68.379219 \nL 208.08 68.379219 \nL 208.08 65.359219 \n\" style=\"fill:#00ffff;\"/>\n    <path clip-path=\"url(#pa58248c643)\" d=\"M 241.56 65.359219 \nL 275.04 65.359219 \nL 275.04 68.379219 \nL 241.56 68.379219 \nL 241.56 65.359219 \n\" style=\"fill:#00ffff;\"/>\n    <path clip-path=\"url(#pa58248c643)\" d=\"M 7.2 68.379219 \nL 40.68 68.379219 \nL 40.68 71.399219 \nL 7.2 71.399219 \nL 7.2 68.379219 \n\" style=\"fill:#00ffff;\"/>\n    <path clip-path=\"url(#pa58248c643)\" d=\"M 40.68 68.379219 \nL 74.16 68.379219 \nL 74.16 71.399219 \nL 40.68 71.399219 \nL 40.68 68.379219 \n\" style=\"fill:#ff00ff;\"/>\n    <path clip-path=\"url(#pa58248c643)\" d=\"M 74.16 68.379219 \nL 107.64 68.379219 \nL 107.64 71.399219 \nL 74.16 71.399219 \nL 74.16 68.379219 \n\" style=\"fill:#00ffff;\"/>\n    <path clip-path=\"url(#pa58248c643)\" d=\"M 107.64 68.379219 \nL 141.12 68.379219 \nL 141.12 71.399219 \nL 107.64 71.399219 \nL 107.64 68.379219 \n\" style=\"fill:#00ffff;\"/>\n    <path clip-path=\"url(#pa58248c643)\" d=\"M 141.12 68.379219 \nL 174.6 68.379219 \nL 174.6 71.399219 \nL 141.12 71.399219 \nL 141.12 68.379219 \n\" style=\"fill:#00ffff;\"/>\n    <path clip-path=\"url(#pa58248c643)\" d=\"M 174.6 68.379219 \nL 208.08 68.379219 \nL 208.08 71.399219 \nL 174.6 71.399219 \nL 174.6 68.379219 \n\" style=\"fill:#00ffff;\"/>\n    <path clip-path=\"url(#pa58248c643)\" d=\"M 208.08 68.379219 \nL 241.56 68.379219 \nL 241.56 71.399219 \nL 208.08 71.399219 \nL 208.08 68.379219 \n\" style=\"fill:#00ffff;\"/>\n    <path clip-path=\"url(#pa58248c643)\" d=\"M 241.56 68.379219 \nL 275.04 68.379219 \nL 275.04 71.399219 \nL 241.56 71.399219 \nL 241.56 68.379219 \n\" style=\"fill:#00ffff;\"/>\n    <path clip-path=\"url(#pa58248c643)\" d=\"M 7.2 71.399219 \nL 40.68 71.399219 \nL 40.68 74.419219 \nL 7.2 74.419219 \nL 7.2 71.399219 \n\" style=\"fill:#00ffff;\"/>\n    <path clip-path=\"url(#pa58248c643)\" d=\"M 40.68 71.399219 \nL 74.16 71.399219 \nL 74.16 74.419219 \nL 40.68 74.419219 \nL 40.68 71.399219 \n\" style=\"fill:#ff00ff;\"/>\n    <path clip-path=\"url(#pa58248c643)\" d=\"M 74.16 71.399219 \nL 107.64 71.399219 \nL 107.64 74.419219 \nL 74.16 74.419219 \nL 74.16 71.399219 \n\" style=\"fill:#00ffff;\"/>\n    <path clip-path=\"url(#pa58248c643)\" d=\"M 107.64 71.399219 \nL 141.12 71.399219 \nL 141.12 74.419219 \nL 107.64 74.419219 \nL 107.64 71.399219 \n\" style=\"fill:#00ffff;\"/>\n    <path clip-path=\"url(#pa58248c643)\" d=\"M 141.12 71.399219 \nL 174.6 71.399219 \nL 174.6 74.419219 \nL 141.12 74.419219 \nL 141.12 71.399219 \n\" style=\"fill:#00ffff;\"/>\n    <path clip-path=\"url(#pa58248c643)\" d=\"M 174.6 71.399219 \nL 208.08 71.399219 \nL 208.08 74.419219 \nL 174.6 74.419219 \nL 174.6 71.399219 \n\" style=\"fill:#00ffff;\"/>\n    <path clip-path=\"url(#pa58248c643)\" d=\"M 208.08 71.399219 \nL 241.56 71.399219 \nL 241.56 74.419219 \nL 208.08 74.419219 \nL 208.08 71.399219 \n\" style=\"fill:#00ffff;\"/>\n    <path clip-path=\"url(#pa58248c643)\" d=\"M 241.56 71.399219 \nL 275.04 71.399219 \nL 275.04 74.419219 \nL 241.56 74.419219 \nL 241.56 71.399219 \n\" style=\"fill:#00ffff;\"/>\n    <path clip-path=\"url(#pa58248c643)\" d=\"M 7.2 74.419219 \nL 40.68 74.419219 \nL 40.68 77.439219 \nL 7.2 77.439219 \nL 7.2 74.419219 \n\" style=\"fill:#00ffff;\"/>\n    <path clip-path=\"url(#pa58248c643)\" d=\"M 40.68 74.419219 \nL 74.16 74.419219 \nL 74.16 77.439219 \nL 40.68 77.439219 \nL 40.68 74.419219 \n\" style=\"fill:#ff00ff;\"/>\n    <path clip-path=\"url(#pa58248c643)\" d=\"M 74.16 74.419219 \nL 107.64 74.419219 \nL 107.64 77.439219 \nL 74.16 77.439219 \nL 74.16 74.419219 \n\" style=\"fill:#00ffff;\"/>\n    <path clip-path=\"url(#pa58248c643)\" d=\"M 107.64 74.419219 \nL 141.12 74.419219 \nL 141.12 77.439219 \nL 107.64 77.439219 \nL 107.64 74.419219 \n\" style=\"fill:#00ffff;\"/>\n    <path clip-path=\"url(#pa58248c643)\" d=\"M 141.12 74.419219 \nL 174.6 74.419219 \nL 174.6 77.439219 \nL 141.12 77.439219 \nL 141.12 74.419219 \n\" style=\"fill:#00ffff;\"/>\n    <path clip-path=\"url(#pa58248c643)\" d=\"M 174.6 74.419219 \nL 208.08 74.419219 \nL 208.08 77.439219 \nL 174.6 77.439219 \nL 174.6 74.419219 \n\" style=\"fill:#00ffff;\"/>\n    <path clip-path=\"url(#pa58248c643)\" d=\"M 208.08 74.419219 \nL 241.56 74.419219 \nL 241.56 77.439219 \nL 208.08 77.439219 \nL 208.08 74.419219 \n\" style=\"fill:#00ffff;\"/>\n    <path clip-path=\"url(#pa58248c643)\" d=\"M 241.56 74.419219 \nL 275.04 74.419219 \nL 275.04 77.439219 \nL 241.56 77.439219 \nL 241.56 74.419219 \n\" style=\"fill:#00ffff;\"/>\n    <path clip-path=\"url(#pa58248c643)\" d=\"M 7.2 77.439219 \nL 40.68 77.439219 \nL 40.68 80.459219 \nL 7.2 80.459219 \nL 7.2 77.439219 \n\" style=\"fill:#00ffff;\"/>\n    <path clip-path=\"url(#pa58248c643)\" d=\"M 40.68 77.439219 \nL 74.16 77.439219 \nL 74.16 80.459219 \nL 40.68 80.459219 \nL 40.68 77.439219 \n\" style=\"fill:#ff00ff;\"/>\n    <path clip-path=\"url(#pa58248c643)\" d=\"M 74.16 77.439219 \nL 107.64 77.439219 \nL 107.64 80.459219 \nL 74.16 80.459219 \nL 74.16 77.439219 \n\" style=\"fill:#00ffff;\"/>\n    <path clip-path=\"url(#pa58248c643)\" d=\"M 107.64 77.439219 \nL 141.12 77.439219 \nL 141.12 80.459219 \nL 107.64 80.459219 \nL 107.64 77.439219 \n\" style=\"fill:#00ffff;\"/>\n    <path clip-path=\"url(#pa58248c643)\" d=\"M 141.12 77.439219 \nL 174.6 77.439219 \nL 174.6 80.459219 \nL 141.12 80.459219 \nL 141.12 77.439219 \n\" style=\"fill:#00ffff;\"/>\n    <path clip-path=\"url(#pa58248c643)\" d=\"M 174.6 77.439219 \nL 208.08 77.439219 \nL 208.08 80.459219 \nL 174.6 80.459219 \nL 174.6 77.439219 \n\" style=\"fill:#00ffff;\"/>\n    <path clip-path=\"url(#pa58248c643)\" d=\"M 208.08 77.439219 \nL 241.56 77.439219 \nL 241.56 80.459219 \nL 208.08 80.459219 \nL 208.08 77.439219 \n\" style=\"fill:#00ffff;\"/>\n    <path clip-path=\"url(#pa58248c643)\" d=\"M 241.56 77.439219 \nL 275.04 77.439219 \nL 275.04 80.459219 \nL 241.56 80.459219 \nL 241.56 77.439219 \n\" style=\"fill:#00ffff;\"/>\n    <path clip-path=\"url(#pa58248c643)\" d=\"M 7.2 80.459219 \nL 40.68 80.459219 \nL 40.68 83.479219 \nL 7.2 83.479219 \nL 7.2 80.459219 \n\" style=\"fill:#00ffff;\"/>\n    <path clip-path=\"url(#pa58248c643)\" d=\"M 40.68 80.459219 \nL 74.16 80.459219 \nL 74.16 83.479219 \nL 40.68 83.479219 \nL 40.68 80.459219 \n\" style=\"fill:#ff00ff;\"/>\n    <path clip-path=\"url(#pa58248c643)\" d=\"M 74.16 80.459219 \nL 107.64 80.459219 \nL 107.64 83.479219 \nL 74.16 83.479219 \nL 74.16 80.459219 \n\" style=\"fill:#00ffff;\"/>\n    <path clip-path=\"url(#pa58248c643)\" d=\"M 107.64 80.459219 \nL 141.12 80.459219 \nL 141.12 83.479219 \nL 107.64 83.479219 \nL 107.64 80.459219 \n\" style=\"fill:#00ffff;\"/>\n    <path clip-path=\"url(#pa58248c643)\" d=\"M 141.12 80.459219 \nL 174.6 80.459219 \nL 174.6 83.479219 \nL 141.12 83.479219 \nL 141.12 80.459219 \n\" style=\"fill:#00ffff;\"/>\n    <path clip-path=\"url(#pa58248c643)\" d=\"M 174.6 80.459219 \nL 208.08 80.459219 \nL 208.08 83.479219 \nL 174.6 83.479219 \nL 174.6 80.459219 \n\" style=\"fill:#00ffff;\"/>\n    <path clip-path=\"url(#pa58248c643)\" d=\"M 208.08 80.459219 \nL 241.56 80.459219 \nL 241.56 83.479219 \nL 208.08 83.479219 \nL 208.08 80.459219 \n\" style=\"fill:#00ffff;\"/>\n    <path clip-path=\"url(#pa58248c643)\" d=\"M 241.56 80.459219 \nL 275.04 80.459219 \nL 275.04 83.479219 \nL 241.56 83.479219 \nL 241.56 80.459219 \n\" style=\"fill:#00ffff;\"/>\n    <path clip-path=\"url(#pa58248c643)\" d=\"M 7.2 83.479219 \nL 40.68 83.479219 \nL 40.68 86.499219 \nL 7.2 86.499219 \nL 7.2 83.479219 \n\" style=\"fill:#00ffff;\"/>\n    <path clip-path=\"url(#pa58248c643)\" d=\"M 40.68 83.479219 \nL 74.16 83.479219 \nL 74.16 86.499219 \nL 40.68 86.499219 \nL 40.68 83.479219 \n\" style=\"fill:#00ffff;\"/>\n    <path clip-path=\"url(#pa58248c643)\" d=\"M 74.16 83.479219 \nL 107.64 83.479219 \nL 107.64 86.499219 \nL 74.16 86.499219 \nL 74.16 83.479219 \n\" style=\"fill:#00ffff;\"/>\n    <path clip-path=\"url(#pa58248c643)\" d=\"M 107.64 83.479219 \nL 141.12 83.479219 \nL 141.12 86.499219 \nL 107.64 86.499219 \nL 107.64 83.479219 \n\" style=\"fill:#00ffff;\"/>\n    <path clip-path=\"url(#pa58248c643)\" d=\"M 141.12 83.479219 \nL 174.6 83.479219 \nL 174.6 86.499219 \nL 141.12 86.499219 \nL 141.12 83.479219 \n\" style=\"fill:#00ffff;\"/>\n    <path clip-path=\"url(#pa58248c643)\" d=\"M 174.6 83.479219 \nL 208.08 83.479219 \nL 208.08 86.499219 \nL 174.6 86.499219 \nL 174.6 83.479219 \n\" style=\"fill:#00ffff;\"/>\n    <path clip-path=\"url(#pa58248c643)\" d=\"M 208.08 83.479219 \nL 241.56 83.479219 \nL 241.56 86.499219 \nL 208.08 86.499219 \nL 208.08 83.479219 \n\" style=\"fill:#00ffff;\"/>\n    <path clip-path=\"url(#pa58248c643)\" d=\"M 241.56 83.479219 \nL 275.04 83.479219 \nL 275.04 86.499219 \nL 241.56 86.499219 \nL 241.56 83.479219 \n\" style=\"fill:#00ffff;\"/>\n    <path clip-path=\"url(#pa58248c643)\" d=\"M 7.2 86.499219 \nL 40.68 86.499219 \nL 40.68 89.519219 \nL 7.2 89.519219 \nL 7.2 86.499219 \n\" style=\"fill:#00ffff;\"/>\n    <path clip-path=\"url(#pa58248c643)\" d=\"M 40.68 86.499219 \nL 74.16 86.499219 \nL 74.16 89.519219 \nL 40.68 89.519219 \nL 40.68 86.499219 \n\" style=\"fill:#00ffff;\"/>\n    <path clip-path=\"url(#pa58248c643)\" d=\"M 74.16 86.499219 \nL 107.64 86.499219 \nL 107.64 89.519219 \nL 74.16 89.519219 \nL 74.16 86.499219 \n\" style=\"fill:#00ffff;\"/>\n    <path clip-path=\"url(#pa58248c643)\" d=\"M 107.64 86.499219 \nL 141.12 86.499219 \nL 141.12 89.519219 \nL 107.64 89.519219 \nL 107.64 86.499219 \n\" style=\"fill:#00ffff;\"/>\n    <path clip-path=\"url(#pa58248c643)\" d=\"M 141.12 86.499219 \nL 174.6 86.499219 \nL 174.6 89.519219 \nL 141.12 89.519219 \nL 141.12 86.499219 \n\" style=\"fill:#00ffff;\"/>\n    <path clip-path=\"url(#pa58248c643)\" d=\"M 174.6 86.499219 \nL 208.08 86.499219 \nL 208.08 89.519219 \nL 174.6 89.519219 \nL 174.6 86.499219 \n\" style=\"fill:#00ffff;\"/>\n    <path clip-path=\"url(#pa58248c643)\" d=\"M 208.08 86.499219 \nL 241.56 86.499219 \nL 241.56 89.519219 \nL 208.08 89.519219 \nL 208.08 86.499219 \n\" style=\"fill:#00ffff;\"/>\n    <path clip-path=\"url(#pa58248c643)\" d=\"M 241.56 86.499219 \nL 275.04 86.499219 \nL 275.04 89.519219 \nL 241.56 89.519219 \nL 241.56 86.499219 \n\" style=\"fill:#00ffff;\"/>\n    <path clip-path=\"url(#pa58248c643)\" d=\"M 7.2 89.519219 \nL 40.68 89.519219 \nL 40.68 92.539219 \nL 7.2 92.539219 \nL 7.2 89.519219 \n\" style=\"fill:#00ffff;\"/>\n    <path clip-path=\"url(#pa58248c643)\" d=\"M 40.68 89.519219 \nL 74.16 89.519219 \nL 74.16 92.539219 \nL 40.68 92.539219 \nL 40.68 89.519219 \n\" style=\"fill:#00ffff;\"/>\n    <path clip-path=\"url(#pa58248c643)\" d=\"M 74.16 89.519219 \nL 107.64 89.519219 \nL 107.64 92.539219 \nL 74.16 92.539219 \nL 74.16 89.519219 \n\" style=\"fill:#00ffff;\"/>\n    <path clip-path=\"url(#pa58248c643)\" d=\"M 107.64 89.519219 \nL 141.12 89.519219 \nL 141.12 92.539219 \nL 107.64 92.539219 \nL 107.64 89.519219 \n\" style=\"fill:#00ffff;\"/>\n    <path clip-path=\"url(#pa58248c643)\" d=\"M 141.12 89.519219 \nL 174.6 89.519219 \nL 174.6 92.539219 \nL 141.12 92.539219 \nL 141.12 89.519219 \n\" style=\"fill:#00ffff;\"/>\n    <path clip-path=\"url(#pa58248c643)\" d=\"M 174.6 89.519219 \nL 208.08 89.519219 \nL 208.08 92.539219 \nL 174.6 92.539219 \nL 174.6 89.519219 \n\" style=\"fill:#00ffff;\"/>\n    <path clip-path=\"url(#pa58248c643)\" d=\"M 208.08 89.519219 \nL 241.56 89.519219 \nL 241.56 92.539219 \nL 208.08 92.539219 \nL 208.08 89.519219 \n\" style=\"fill:#00ffff;\"/>\n    <path clip-path=\"url(#pa58248c643)\" d=\"M 241.56 89.519219 \nL 275.04 89.519219 \nL 275.04 92.539219 \nL 241.56 92.539219 \nL 241.56 89.519219 \n\" style=\"fill:#00ffff;\"/>\n    <path clip-path=\"url(#pa58248c643)\" d=\"M 7.2 92.539219 \nL 40.68 92.539219 \nL 40.68 95.559219 \nL 7.2 95.559219 \nL 7.2 92.539219 \n\" style=\"fill:#00ffff;\"/>\n    <path clip-path=\"url(#pa58248c643)\" d=\"M 40.68 92.539219 \nL 74.16 92.539219 \nL 74.16 95.559219 \nL 40.68 95.559219 \nL 40.68 92.539219 \n\" style=\"fill:#00ffff;\"/>\n    <path clip-path=\"url(#pa58248c643)\" d=\"M 74.16 92.539219 \nL 107.64 92.539219 \nL 107.64 95.559219 \nL 74.16 95.559219 \nL 74.16 92.539219 \n\" style=\"fill:#00ffff;\"/>\n    <path clip-path=\"url(#pa58248c643)\" d=\"M 107.64 92.539219 \nL 141.12 92.539219 \nL 141.12 95.559219 \nL 107.64 95.559219 \nL 107.64 92.539219 \n\" style=\"fill:#00ffff;\"/>\n    <path clip-path=\"url(#pa58248c643)\" d=\"M 141.12 92.539219 \nL 174.6 92.539219 \nL 174.6 95.559219 \nL 141.12 95.559219 \nL 141.12 92.539219 \n\" style=\"fill:#00ffff;\"/>\n    <path clip-path=\"url(#pa58248c643)\" d=\"M 174.6 92.539219 \nL 208.08 92.539219 \nL 208.08 95.559219 \nL 174.6 95.559219 \nL 174.6 92.539219 \n\" style=\"fill:#00ffff;\"/>\n    <path clip-path=\"url(#pa58248c643)\" d=\"M 208.08 92.539219 \nL 241.56 92.539219 \nL 241.56 95.559219 \nL 208.08 95.559219 \nL 208.08 92.539219 \n\" style=\"fill:#00ffff;\"/>\n    <path clip-path=\"url(#pa58248c643)\" d=\"M 241.56 92.539219 \nL 275.04 92.539219 \nL 275.04 95.559219 \nL 241.56 95.559219 \nL 241.56 92.539219 \n\" style=\"fill:#00ffff;\"/>\n    <path clip-path=\"url(#pa58248c643)\" d=\"M 7.2 95.559219 \nL 40.68 95.559219 \nL 40.68 98.579219 \nL 7.2 98.579219 \nL 7.2 95.559219 \n\" style=\"fill:#00ffff;\"/>\n    <path clip-path=\"url(#pa58248c643)\" d=\"M 40.68 95.559219 \nL 74.16 95.559219 \nL 74.16 98.579219 \nL 40.68 98.579219 \nL 40.68 95.559219 \n\" style=\"fill:#00ffff;\"/>\n    <path clip-path=\"url(#pa58248c643)\" d=\"M 74.16 95.559219 \nL 107.64 95.559219 \nL 107.64 98.579219 \nL 74.16 98.579219 \nL 74.16 95.559219 \n\" style=\"fill:#00ffff;\"/>\n    <path clip-path=\"url(#pa58248c643)\" d=\"M 107.64 95.559219 \nL 141.12 95.559219 \nL 141.12 98.579219 \nL 107.64 98.579219 \nL 107.64 95.559219 \n\" style=\"fill:#00ffff;\"/>\n    <path clip-path=\"url(#pa58248c643)\" d=\"M 141.12 95.559219 \nL 174.6 95.559219 \nL 174.6 98.579219 \nL 141.12 98.579219 \nL 141.12 95.559219 \n\" style=\"fill:#00ffff;\"/>\n    <path clip-path=\"url(#pa58248c643)\" d=\"M 174.6 95.559219 \nL 208.08 95.559219 \nL 208.08 98.579219 \nL 174.6 98.579219 \nL 174.6 95.559219 \n\" style=\"fill:#ff00ff;\"/>\n    <path clip-path=\"url(#pa58248c643)\" d=\"M 208.08 95.559219 \nL 241.56 95.559219 \nL 241.56 98.579219 \nL 208.08 98.579219 \nL 208.08 95.559219 \n\" style=\"fill:#00ffff;\"/>\n    <path clip-path=\"url(#pa58248c643)\" d=\"M 241.56 95.559219 \nL 275.04 95.559219 \nL 275.04 98.579219 \nL 241.56 98.579219 \nL 241.56 95.559219 \n\" style=\"fill:#00ffff;\"/>\n    <path clip-path=\"url(#pa58248c643)\" d=\"M 7.2 98.579219 \nL 40.68 98.579219 \nL 40.68 101.599219 \nL 7.2 101.599219 \nL 7.2 98.579219 \n\" style=\"fill:#00ffff;\"/>\n    <path clip-path=\"url(#pa58248c643)\" d=\"M 40.68 98.579219 \nL 74.16 98.579219 \nL 74.16 101.599219 \nL 40.68 101.599219 \nL 40.68 98.579219 \n\" style=\"fill:#00ffff;\"/>\n    <path clip-path=\"url(#pa58248c643)\" d=\"M 74.16 98.579219 \nL 107.64 98.579219 \nL 107.64 101.599219 \nL 74.16 101.599219 \nL 74.16 98.579219 \n\" style=\"fill:#00ffff;\"/>\n    <path clip-path=\"url(#pa58248c643)\" d=\"M 107.64 98.579219 \nL 141.12 98.579219 \nL 141.12 101.599219 \nL 107.64 101.599219 \nL 107.64 98.579219 \n\" style=\"fill:#00ffff;\"/>\n    <path clip-path=\"url(#pa58248c643)\" d=\"M 141.12 98.579219 \nL 174.6 98.579219 \nL 174.6 101.599219 \nL 141.12 101.599219 \nL 141.12 98.579219 \n\" style=\"fill:#00ffff;\"/>\n    <path clip-path=\"url(#pa58248c643)\" d=\"M 174.6 98.579219 \nL 208.08 98.579219 \nL 208.08 101.599219 \nL 174.6 101.599219 \nL 174.6 98.579219 \n\" style=\"fill:#00ffff;\"/>\n    <path clip-path=\"url(#pa58248c643)\" d=\"M 208.08 98.579219 \nL 241.56 98.579219 \nL 241.56 101.599219 \nL 208.08 101.599219 \nL 208.08 98.579219 \n\" style=\"fill:#00ffff;\"/>\n    <path clip-path=\"url(#pa58248c643)\" d=\"M 241.56 98.579219 \nL 275.04 98.579219 \nL 275.04 101.599219 \nL 241.56 101.599219 \nL 241.56 98.579219 \n\" style=\"fill:#00ffff;\"/>\n    <path clip-path=\"url(#pa58248c643)\" d=\"M 7.2 101.599219 \nL 40.68 101.599219 \nL 40.68 104.619219 \nL 7.2 104.619219 \nL 7.2 101.599219 \n\" style=\"fill:#00ffff;\"/>\n    <path clip-path=\"url(#pa58248c643)\" d=\"M 40.68 101.599219 \nL 74.16 101.599219 \nL 74.16 104.619219 \nL 40.68 104.619219 \nL 40.68 101.599219 \n\" style=\"fill:#00ffff;\"/>\n    <path clip-path=\"url(#pa58248c643)\" d=\"M 74.16 101.599219 \nL 107.64 101.599219 \nL 107.64 104.619219 \nL 74.16 104.619219 \nL 74.16 101.599219 \n\" style=\"fill:#00ffff;\"/>\n    <path clip-path=\"url(#pa58248c643)\" d=\"M 107.64 101.599219 \nL 141.12 101.599219 \nL 141.12 104.619219 \nL 107.64 104.619219 \nL 107.64 101.599219 \n\" style=\"fill:#00ffff;\"/>\n    <path clip-path=\"url(#pa58248c643)\" d=\"M 141.12 101.599219 \nL 174.6 101.599219 \nL 174.6 104.619219 \nL 141.12 104.619219 \nL 141.12 101.599219 \n\" style=\"fill:#00ffff;\"/>\n    <path clip-path=\"url(#pa58248c643)\" d=\"M 174.6 101.599219 \nL 208.08 101.599219 \nL 208.08 104.619219 \nL 174.6 104.619219 \nL 174.6 101.599219 \n\" style=\"fill:#00ffff;\"/>\n    <path clip-path=\"url(#pa58248c643)\" d=\"M 208.08 101.599219 \nL 241.56 101.599219 \nL 241.56 104.619219 \nL 208.08 104.619219 \nL 208.08 101.599219 \n\" style=\"fill:#00ffff;\"/>\n    <path clip-path=\"url(#pa58248c643)\" d=\"M 241.56 101.599219 \nL 275.04 101.599219 \nL 275.04 104.619219 \nL 241.56 104.619219 \nL 241.56 101.599219 \n\" style=\"fill:#00ffff;\"/>\n    <path clip-path=\"url(#pa58248c643)\" d=\"M 7.2 104.619219 \nL 40.68 104.619219 \nL 40.68 107.639219 \nL 7.2 107.639219 \nL 7.2 104.619219 \n\" style=\"fill:#00ffff;\"/>\n    <path clip-path=\"url(#pa58248c643)\" d=\"M 40.68 104.619219 \nL 74.16 104.619219 \nL 74.16 107.639219 \nL 40.68 107.639219 \nL 40.68 104.619219 \n\" style=\"fill:#00ffff;\"/>\n    <path clip-path=\"url(#pa58248c643)\" d=\"M 74.16 104.619219 \nL 107.64 104.619219 \nL 107.64 107.639219 \nL 74.16 107.639219 \nL 74.16 104.619219 \n\" style=\"fill:#00ffff;\"/>\n    <path clip-path=\"url(#pa58248c643)\" d=\"M 107.64 104.619219 \nL 141.12 104.619219 \nL 141.12 107.639219 \nL 107.64 107.639219 \nL 107.64 104.619219 \n\" style=\"fill:#00ffff;\"/>\n    <path clip-path=\"url(#pa58248c643)\" d=\"M 141.12 104.619219 \nL 174.6 104.619219 \nL 174.6 107.639219 \nL 141.12 107.639219 \nL 141.12 104.619219 \n\" style=\"fill:#00ffff;\"/>\n    <path clip-path=\"url(#pa58248c643)\" d=\"M 174.6 104.619219 \nL 208.08 104.619219 \nL 208.08 107.639219 \nL 174.6 107.639219 \nL 174.6 104.619219 \n\" style=\"fill:#00ffff;\"/>\n    <path clip-path=\"url(#pa58248c643)\" d=\"M 208.08 104.619219 \nL 241.56 104.619219 \nL 241.56 107.639219 \nL 208.08 107.639219 \nL 208.08 104.619219 \n\" style=\"fill:#00ffff;\"/>\n    <path clip-path=\"url(#pa58248c643)\" d=\"M 241.56 104.619219 \nL 275.04 104.619219 \nL 275.04 107.639219 \nL 241.56 107.639219 \nL 241.56 104.619219 \n\" style=\"fill:#00ffff;\"/>\n    <path clip-path=\"url(#pa58248c643)\" d=\"M 7.2 107.639219 \nL 40.68 107.639219 \nL 40.68 110.659219 \nL 7.2 110.659219 \nL 7.2 107.639219 \n\" style=\"fill:#00ffff;\"/>\n    <path clip-path=\"url(#pa58248c643)\" d=\"M 40.68 107.639219 \nL 74.16 107.639219 \nL 74.16 110.659219 \nL 40.68 110.659219 \nL 40.68 107.639219 \n\" style=\"fill:#00ffff;\"/>\n    <path clip-path=\"url(#pa58248c643)\" d=\"M 74.16 107.639219 \nL 107.64 107.639219 \nL 107.64 110.659219 \nL 74.16 110.659219 \nL 74.16 107.639219 \n\" style=\"fill:#00ffff;\"/>\n    <path clip-path=\"url(#pa58248c643)\" d=\"M 107.64 107.639219 \nL 141.12 107.639219 \nL 141.12 110.659219 \nL 107.64 110.659219 \nL 107.64 107.639219 \n\" style=\"fill:#00ffff;\"/>\n    <path clip-path=\"url(#pa58248c643)\" d=\"M 141.12 107.639219 \nL 174.6 107.639219 \nL 174.6 110.659219 \nL 141.12 110.659219 \nL 141.12 107.639219 \n\" style=\"fill:#00ffff;\"/>\n    <path clip-path=\"url(#pa58248c643)\" d=\"M 174.6 107.639219 \nL 208.08 107.639219 \nL 208.08 110.659219 \nL 174.6 110.659219 \nL 174.6 107.639219 \n\" style=\"fill:#00ffff;\"/>\n    <path clip-path=\"url(#pa58248c643)\" d=\"M 208.08 107.639219 \nL 241.56 107.639219 \nL 241.56 110.659219 \nL 208.08 110.659219 \nL 208.08 107.639219 \n\" style=\"fill:#00ffff;\"/>\n    <path clip-path=\"url(#pa58248c643)\" d=\"M 241.56 107.639219 \nL 275.04 107.639219 \nL 275.04 110.659219 \nL 241.56 110.659219 \nL 241.56 107.639219 \n\" style=\"fill:#00ffff;\"/>\n    <path clip-path=\"url(#pa58248c643)\" d=\"M 7.2 110.659219 \nL 40.68 110.659219 \nL 40.68 113.679219 \nL 7.2 113.679219 \nL 7.2 110.659219 \n\" style=\"fill:#00ffff;\"/>\n    <path clip-path=\"url(#pa58248c643)\" d=\"M 40.68 110.659219 \nL 74.16 110.659219 \nL 74.16 113.679219 \nL 40.68 113.679219 \nL 40.68 110.659219 \n\" style=\"fill:#00ffff;\"/>\n    <path clip-path=\"url(#pa58248c643)\" d=\"M 74.16 110.659219 \nL 107.64 110.659219 \nL 107.64 113.679219 \nL 74.16 113.679219 \nL 74.16 110.659219 \n\" style=\"fill:#00ffff;\"/>\n    <path clip-path=\"url(#pa58248c643)\" d=\"M 107.64 110.659219 \nL 141.12 110.659219 \nL 141.12 113.679219 \nL 107.64 113.679219 \nL 107.64 110.659219 \n\" style=\"fill:#00ffff;\"/>\n    <path clip-path=\"url(#pa58248c643)\" d=\"M 141.12 110.659219 \nL 174.6 110.659219 \nL 174.6 113.679219 \nL 141.12 113.679219 \nL 141.12 110.659219 \n\" style=\"fill:#00ffff;\"/>\n    <path clip-path=\"url(#pa58248c643)\" d=\"M 174.6 110.659219 \nL 208.08 110.659219 \nL 208.08 113.679219 \nL 174.6 113.679219 \nL 174.6 110.659219 \n\" style=\"fill:#00ffff;\"/>\n    <path clip-path=\"url(#pa58248c643)\" d=\"M 208.08 110.659219 \nL 241.56 110.659219 \nL 241.56 113.679219 \nL 208.08 113.679219 \nL 208.08 110.659219 \n\" style=\"fill:#00ffff;\"/>\n    <path clip-path=\"url(#pa58248c643)\" d=\"M 241.56 110.659219 \nL 275.04 110.659219 \nL 275.04 113.679219 \nL 241.56 113.679219 \nL 241.56 110.659219 \n\" style=\"fill:#00ffff;\"/>\n    <path clip-path=\"url(#pa58248c643)\" d=\"M 7.2 113.679219 \nL 40.68 113.679219 \nL 40.68 116.699219 \nL 7.2 116.699219 \nL 7.2 113.679219 \n\" style=\"fill:#00ffff;\"/>\n    <path clip-path=\"url(#pa58248c643)\" d=\"M 40.68 113.679219 \nL 74.16 113.679219 \nL 74.16 116.699219 \nL 40.68 116.699219 \nL 40.68 113.679219 \n\" style=\"fill:#00ffff;\"/>\n    <path clip-path=\"url(#pa58248c643)\" d=\"M 74.16 113.679219 \nL 107.64 113.679219 \nL 107.64 116.699219 \nL 74.16 116.699219 \nL 74.16 113.679219 \n\" style=\"fill:#00ffff;\"/>\n    <path clip-path=\"url(#pa58248c643)\" d=\"M 107.64 113.679219 \nL 141.12 113.679219 \nL 141.12 116.699219 \nL 107.64 116.699219 \nL 107.64 113.679219 \n\" style=\"fill:#00ffff;\"/>\n    <path clip-path=\"url(#pa58248c643)\" d=\"M 141.12 113.679219 \nL 174.6 113.679219 \nL 174.6 116.699219 \nL 141.12 116.699219 \nL 141.12 113.679219 \n\" style=\"fill:#00ffff;\"/>\n    <path clip-path=\"url(#pa58248c643)\" d=\"M 174.6 113.679219 \nL 208.08 113.679219 \nL 208.08 116.699219 \nL 174.6 116.699219 \nL 174.6 113.679219 \n\" style=\"fill:#00ffff;\"/>\n    <path clip-path=\"url(#pa58248c643)\" d=\"M 208.08 113.679219 \nL 241.56 113.679219 \nL 241.56 116.699219 \nL 208.08 116.699219 \nL 208.08 113.679219 \n\" style=\"fill:#00ffff;\"/>\n    <path clip-path=\"url(#pa58248c643)\" d=\"M 241.56 113.679219 \nL 275.04 113.679219 \nL 275.04 116.699219 \nL 241.56 116.699219 \nL 241.56 113.679219 \n\" style=\"fill:#00ffff;\"/>\n    <path clip-path=\"url(#pa58248c643)\" d=\"M 7.2 116.699219 \nL 40.68 116.699219 \nL 40.68 119.719219 \nL 7.2 119.719219 \nL 7.2 116.699219 \n\" style=\"fill:#00ffff;\"/>\n    <path clip-path=\"url(#pa58248c643)\" d=\"M 40.68 116.699219 \nL 74.16 116.699219 \nL 74.16 119.719219 \nL 40.68 119.719219 \nL 40.68 116.699219 \n\" style=\"fill:#00ffff;\"/>\n    <path clip-path=\"url(#pa58248c643)\" d=\"M 74.16 116.699219 \nL 107.64 116.699219 \nL 107.64 119.719219 \nL 74.16 119.719219 \nL 74.16 116.699219 \n\" style=\"fill:#00ffff;\"/>\n    <path clip-path=\"url(#pa58248c643)\" d=\"M 107.64 116.699219 \nL 141.12 116.699219 \nL 141.12 119.719219 \nL 107.64 119.719219 \nL 107.64 116.699219 \n\" style=\"fill:#00ffff;\"/>\n    <path clip-path=\"url(#pa58248c643)\" d=\"M 141.12 116.699219 \nL 174.6 116.699219 \nL 174.6 119.719219 \nL 141.12 119.719219 \nL 141.12 116.699219 \n\" style=\"fill:#00ffff;\"/>\n    <path clip-path=\"url(#pa58248c643)\" d=\"M 174.6 116.699219 \nL 208.08 116.699219 \nL 208.08 119.719219 \nL 174.6 119.719219 \nL 174.6 116.699219 \n\" style=\"fill:#00ffff;\"/>\n    <path clip-path=\"url(#pa58248c643)\" d=\"M 208.08 116.699219 \nL 241.56 116.699219 \nL 241.56 119.719219 \nL 208.08 119.719219 \nL 208.08 116.699219 \n\" style=\"fill:#00ffff;\"/>\n    <path clip-path=\"url(#pa58248c643)\" d=\"M 241.56 116.699219 \nL 275.04 116.699219 \nL 275.04 119.719219 \nL 241.56 119.719219 \nL 241.56 116.699219 \n\" style=\"fill:#00ffff;\"/>\n    <path clip-path=\"url(#pa58248c643)\" d=\"M 7.2 119.719219 \nL 40.68 119.719219 \nL 40.68 122.739219 \nL 7.2 122.739219 \nL 7.2 119.719219 \n\" style=\"fill:#00ffff;\"/>\n    <path clip-path=\"url(#pa58248c643)\" d=\"M 40.68 119.719219 \nL 74.16 119.719219 \nL 74.16 122.739219 \nL 40.68 122.739219 \nL 40.68 119.719219 \n\" style=\"fill:#00ffff;\"/>\n    <path clip-path=\"url(#pa58248c643)\" d=\"M 74.16 119.719219 \nL 107.64 119.719219 \nL 107.64 122.739219 \nL 74.16 122.739219 \nL 74.16 119.719219 \n\" style=\"fill:#00ffff;\"/>\n    <path clip-path=\"url(#pa58248c643)\" d=\"M 107.64 119.719219 \nL 141.12 119.719219 \nL 141.12 122.739219 \nL 107.64 122.739219 \nL 107.64 119.719219 \n\" style=\"fill:#00ffff;\"/>\n    <path clip-path=\"url(#pa58248c643)\" d=\"M 141.12 119.719219 \nL 174.6 119.719219 \nL 174.6 122.739219 \nL 141.12 122.739219 \nL 141.12 119.719219 \n\" style=\"fill:#00ffff;\"/>\n    <path clip-path=\"url(#pa58248c643)\" d=\"M 174.6 119.719219 \nL 208.08 119.719219 \nL 208.08 122.739219 \nL 174.6 122.739219 \nL 174.6 119.719219 \n\" style=\"fill:#00ffff;\"/>\n    <path clip-path=\"url(#pa58248c643)\" d=\"M 208.08 119.719219 \nL 241.56 119.719219 \nL 241.56 122.739219 \nL 208.08 122.739219 \nL 208.08 119.719219 \n\" style=\"fill:#00ffff;\"/>\n    <path clip-path=\"url(#pa58248c643)\" d=\"M 241.56 119.719219 \nL 275.04 119.719219 \nL 275.04 122.739219 \nL 241.56 122.739219 \nL 241.56 119.719219 \n\" style=\"fill:#00ffff;\"/>\n    <path clip-path=\"url(#pa58248c643)\" d=\"M 7.2 122.739219 \nL 40.68 122.739219 \nL 40.68 125.759219 \nL 7.2 125.759219 \nL 7.2 122.739219 \n\" style=\"fill:#00ffff;\"/>\n    <path clip-path=\"url(#pa58248c643)\" d=\"M 40.68 122.739219 \nL 74.16 122.739219 \nL 74.16 125.759219 \nL 40.68 125.759219 \nL 40.68 122.739219 \n\" style=\"fill:#00ffff;\"/>\n    <path clip-path=\"url(#pa58248c643)\" d=\"M 74.16 122.739219 \nL 107.64 122.739219 \nL 107.64 125.759219 \nL 74.16 125.759219 \nL 74.16 122.739219 \n\" style=\"fill:#00ffff;\"/>\n    <path clip-path=\"url(#pa58248c643)\" d=\"M 107.64 122.739219 \nL 141.12 122.739219 \nL 141.12 125.759219 \nL 107.64 125.759219 \nL 107.64 122.739219 \n\" style=\"fill:#00ffff;\"/>\n    <path clip-path=\"url(#pa58248c643)\" d=\"M 141.12 122.739219 \nL 174.6 122.739219 \nL 174.6 125.759219 \nL 141.12 125.759219 \nL 141.12 122.739219 \n\" style=\"fill:#00ffff;\"/>\n    <path clip-path=\"url(#pa58248c643)\" d=\"M 174.6 122.739219 \nL 208.08 122.739219 \nL 208.08 125.759219 \nL 174.6 125.759219 \nL 174.6 122.739219 \n\" style=\"fill:#00ffff;\"/>\n    <path clip-path=\"url(#pa58248c643)\" d=\"M 208.08 122.739219 \nL 241.56 122.739219 \nL 241.56 125.759219 \nL 208.08 125.759219 \nL 208.08 122.739219 \n\" style=\"fill:#00ffff;\"/>\n    <path clip-path=\"url(#pa58248c643)\" d=\"M 241.56 122.739219 \nL 275.04 122.739219 \nL 275.04 125.759219 \nL 241.56 125.759219 \nL 241.56 122.739219 \n\" style=\"fill:#00ffff;\"/>\n    <path clip-path=\"url(#pa58248c643)\" d=\"M 7.2 125.759219 \nL 40.68 125.759219 \nL 40.68 128.779219 \nL 7.2 128.779219 \nL 7.2 125.759219 \n\" style=\"fill:#00ffff;\"/>\n    <path clip-path=\"url(#pa58248c643)\" d=\"M 40.68 125.759219 \nL 74.16 125.759219 \nL 74.16 128.779219 \nL 40.68 128.779219 \nL 40.68 125.759219 \n\" style=\"fill:#00ffff;\"/>\n    <path clip-path=\"url(#pa58248c643)\" d=\"M 74.16 125.759219 \nL 107.64 125.759219 \nL 107.64 128.779219 \nL 74.16 128.779219 \nL 74.16 125.759219 \n\" style=\"fill:#00ffff;\"/>\n    <path clip-path=\"url(#pa58248c643)\" d=\"M 107.64 125.759219 \nL 141.12 125.759219 \nL 141.12 128.779219 \nL 107.64 128.779219 \nL 107.64 125.759219 \n\" style=\"fill:#00ffff;\"/>\n    <path clip-path=\"url(#pa58248c643)\" d=\"M 141.12 125.759219 \nL 174.6 125.759219 \nL 174.6 128.779219 \nL 141.12 128.779219 \nL 141.12 125.759219 \n\" style=\"fill:#00ffff;\"/>\n    <path clip-path=\"url(#pa58248c643)\" d=\"M 174.6 125.759219 \nL 208.08 125.759219 \nL 208.08 128.779219 \nL 174.6 128.779219 \nL 174.6 125.759219 \n\" style=\"fill:#00ffff;\"/>\n    <path clip-path=\"url(#pa58248c643)\" d=\"M 208.08 125.759219 \nL 241.56 125.759219 \nL 241.56 128.779219 \nL 208.08 128.779219 \nL 208.08 125.759219 \n\" style=\"fill:#00ffff;\"/>\n    <path clip-path=\"url(#pa58248c643)\" d=\"M 241.56 125.759219 \nL 275.04 125.759219 \nL 275.04 128.779219 \nL 241.56 128.779219 \nL 241.56 125.759219 \n\" style=\"fill:#00ffff;\"/>\n    <path clip-path=\"url(#pa58248c643)\" d=\"M 7.2 128.779219 \nL 40.68 128.779219 \nL 40.68 131.799219 \nL 7.2 131.799219 \nL 7.2 128.779219 \n\" style=\"fill:#00ffff;\"/>\n    <path clip-path=\"url(#pa58248c643)\" d=\"M 40.68 128.779219 \nL 74.16 128.779219 \nL 74.16 131.799219 \nL 40.68 131.799219 \nL 40.68 128.779219 \n\" style=\"fill:#00ffff;\"/>\n    <path clip-path=\"url(#pa58248c643)\" d=\"M 74.16 128.779219 \nL 107.64 128.779219 \nL 107.64 131.799219 \nL 74.16 131.799219 \nL 74.16 128.779219 \n\" style=\"fill:#00ffff;\"/>\n    <path clip-path=\"url(#pa58248c643)\" d=\"M 107.64 128.779219 \nL 141.12 128.779219 \nL 141.12 131.799219 \nL 107.64 131.799219 \nL 107.64 128.779219 \n\" style=\"fill:#00ffff;\"/>\n    <path clip-path=\"url(#pa58248c643)\" d=\"M 141.12 128.779219 \nL 174.6 128.779219 \nL 174.6 131.799219 \nL 141.12 131.799219 \nL 141.12 128.779219 \n\" style=\"fill:#00ffff;\"/>\n    <path clip-path=\"url(#pa58248c643)\" d=\"M 174.6 128.779219 \nL 208.08 128.779219 \nL 208.08 131.799219 \nL 174.6 131.799219 \nL 174.6 128.779219 \n\" style=\"fill:#00ffff;\"/>\n    <path clip-path=\"url(#pa58248c643)\" d=\"M 208.08 128.779219 \nL 241.56 128.779219 \nL 241.56 131.799219 \nL 208.08 131.799219 \nL 208.08 128.779219 \n\" style=\"fill:#00ffff;\"/>\n    <path clip-path=\"url(#pa58248c643)\" d=\"M 241.56 128.779219 \nL 275.04 128.779219 \nL 275.04 131.799219 \nL 241.56 131.799219 \nL 241.56 128.779219 \n\" style=\"fill:#00ffff;\"/>\n    <path clip-path=\"url(#pa58248c643)\" d=\"M 7.2 131.799219 \nL 40.68 131.799219 \nL 40.68 134.819219 \nL 7.2 134.819219 \nL 7.2 131.799219 \n\" style=\"fill:#00ffff;\"/>\n    <path clip-path=\"url(#pa58248c643)\" d=\"M 40.68 131.799219 \nL 74.16 131.799219 \nL 74.16 134.819219 \nL 40.68 134.819219 \nL 40.68 131.799219 \n\" style=\"fill:#00ffff;\"/>\n    <path clip-path=\"url(#pa58248c643)\" d=\"M 74.16 131.799219 \nL 107.64 131.799219 \nL 107.64 134.819219 \nL 74.16 134.819219 \nL 74.16 131.799219 \n\" style=\"fill:#00ffff;\"/>\n    <path clip-path=\"url(#pa58248c643)\" d=\"M 107.64 131.799219 \nL 141.12 131.799219 \nL 141.12 134.819219 \nL 107.64 134.819219 \nL 107.64 131.799219 \n\" style=\"fill:#00ffff;\"/>\n    <path clip-path=\"url(#pa58248c643)\" d=\"M 141.12 131.799219 \nL 174.6 131.799219 \nL 174.6 134.819219 \nL 141.12 134.819219 \nL 141.12 131.799219 \n\" style=\"fill:#00ffff;\"/>\n    <path clip-path=\"url(#pa58248c643)\" d=\"M 174.6 131.799219 \nL 208.08 131.799219 \nL 208.08 134.819219 \nL 174.6 134.819219 \nL 174.6 131.799219 \n\" style=\"fill:#00ffff;\"/>\n    <path clip-path=\"url(#pa58248c643)\" d=\"M 208.08 131.799219 \nL 241.56 131.799219 \nL 241.56 134.819219 \nL 208.08 134.819219 \nL 208.08 131.799219 \n\" style=\"fill:#00ffff;\"/>\n    <path clip-path=\"url(#pa58248c643)\" d=\"M 241.56 131.799219 \nL 275.04 131.799219 \nL 275.04 134.819219 \nL 241.56 134.819219 \nL 241.56 131.799219 \n\" style=\"fill:#00ffff;\"/>\n    <path clip-path=\"url(#pa58248c643)\" d=\"M 7.2 134.819219 \nL 40.68 134.819219 \nL 40.68 137.839219 \nL 7.2 137.839219 \nL 7.2 134.819219 \n\" style=\"fill:#00ffff;\"/>\n    <path clip-path=\"url(#pa58248c643)\" d=\"M 40.68 134.819219 \nL 74.16 134.819219 \nL 74.16 137.839219 \nL 40.68 137.839219 \nL 40.68 134.819219 \n\" style=\"fill:#00ffff;\"/>\n    <path clip-path=\"url(#pa58248c643)\" d=\"M 74.16 134.819219 \nL 107.64 134.819219 \nL 107.64 137.839219 \nL 74.16 137.839219 \nL 74.16 134.819219 \n\" style=\"fill:#00ffff;\"/>\n    <path clip-path=\"url(#pa58248c643)\" d=\"M 107.64 134.819219 \nL 141.12 134.819219 \nL 141.12 137.839219 \nL 107.64 137.839219 \nL 107.64 134.819219 \n\" style=\"fill:#00ffff;\"/>\n    <path clip-path=\"url(#pa58248c643)\" d=\"M 141.12 134.819219 \nL 174.6 134.819219 \nL 174.6 137.839219 \nL 141.12 137.839219 \nL 141.12 134.819219 \n\" style=\"fill:#00ffff;\"/>\n    <path clip-path=\"url(#pa58248c643)\" d=\"M 174.6 134.819219 \nL 208.08 134.819219 \nL 208.08 137.839219 \nL 174.6 137.839219 \nL 174.6 134.819219 \n\" style=\"fill:#00ffff;\"/>\n    <path clip-path=\"url(#pa58248c643)\" d=\"M 208.08 134.819219 \nL 241.56 134.819219 \nL 241.56 137.839219 \nL 208.08 137.839219 \nL 208.08 134.819219 \n\" style=\"fill:#00ffff;\"/>\n    <path clip-path=\"url(#pa58248c643)\" d=\"M 241.56 134.819219 \nL 275.04 134.819219 \nL 275.04 137.839219 \nL 241.56 137.839219 \nL 241.56 134.819219 \n\" style=\"fill:#00ffff;\"/>\n    <path clip-path=\"url(#pa58248c643)\" d=\"M 7.2 137.839219 \nL 40.68 137.839219 \nL 40.68 140.859219 \nL 7.2 140.859219 \nL 7.2 137.839219 \n\" style=\"fill:#00ffff;\"/>\n    <path clip-path=\"url(#pa58248c643)\" d=\"M 40.68 137.839219 \nL 74.16 137.839219 \nL 74.16 140.859219 \nL 40.68 140.859219 \nL 40.68 137.839219 \n\" style=\"fill:#00ffff;\"/>\n    <path clip-path=\"url(#pa58248c643)\" d=\"M 74.16 137.839219 \nL 107.64 137.839219 \nL 107.64 140.859219 \nL 74.16 140.859219 \nL 74.16 137.839219 \n\" style=\"fill:#00ffff;\"/>\n    <path clip-path=\"url(#pa58248c643)\" d=\"M 107.64 137.839219 \nL 141.12 137.839219 \nL 141.12 140.859219 \nL 107.64 140.859219 \nL 107.64 137.839219 \n\" style=\"fill:#00ffff;\"/>\n    <path clip-path=\"url(#pa58248c643)\" d=\"M 141.12 137.839219 \nL 174.6 137.839219 \nL 174.6 140.859219 \nL 141.12 140.859219 \nL 141.12 137.839219 \n\" style=\"fill:#00ffff;\"/>\n    <path clip-path=\"url(#pa58248c643)\" d=\"M 174.6 137.839219 \nL 208.08 137.839219 \nL 208.08 140.859219 \nL 174.6 140.859219 \nL 174.6 137.839219 \n\" style=\"fill:#00ffff;\"/>\n    <path clip-path=\"url(#pa58248c643)\" d=\"M 208.08 137.839219 \nL 241.56 137.839219 \nL 241.56 140.859219 \nL 208.08 140.859219 \nL 208.08 137.839219 \n\" style=\"fill:#00ffff;\"/>\n    <path clip-path=\"url(#pa58248c643)\" d=\"M 241.56 137.839219 \nL 275.04 137.839219 \nL 275.04 140.859219 \nL 241.56 140.859219 \nL 241.56 137.839219 \n\" style=\"fill:#00ffff;\"/>\n    <path clip-path=\"url(#pa58248c643)\" d=\"M 7.2 140.859219 \nL 40.68 140.859219 \nL 40.68 143.879219 \nL 7.2 143.879219 \nL 7.2 140.859219 \n\" style=\"fill:#00ffff;\"/>\n    <path clip-path=\"url(#pa58248c643)\" d=\"M 40.68 140.859219 \nL 74.16 140.859219 \nL 74.16 143.879219 \nL 40.68 143.879219 \nL 40.68 140.859219 \n\" style=\"fill:#00ffff;\"/>\n    <path clip-path=\"url(#pa58248c643)\" d=\"M 74.16 140.859219 \nL 107.64 140.859219 \nL 107.64 143.879219 \nL 74.16 143.879219 \nL 74.16 140.859219 \n\" style=\"fill:#00ffff;\"/>\n    <path clip-path=\"url(#pa58248c643)\" d=\"M 107.64 140.859219 \nL 141.12 140.859219 \nL 141.12 143.879219 \nL 107.64 143.879219 \nL 107.64 140.859219 \n\" style=\"fill:#00ffff;\"/>\n    <path clip-path=\"url(#pa58248c643)\" d=\"M 141.12 140.859219 \nL 174.6 140.859219 \nL 174.6 143.879219 \nL 141.12 143.879219 \nL 141.12 140.859219 \n\" style=\"fill:#00ffff;\"/>\n    <path clip-path=\"url(#pa58248c643)\" d=\"M 174.6 140.859219 \nL 208.08 140.859219 \nL 208.08 143.879219 \nL 174.6 143.879219 \nL 174.6 140.859219 \n\" style=\"fill:#00ffff;\"/>\n    <path clip-path=\"url(#pa58248c643)\" d=\"M 208.08 140.859219 \nL 241.56 140.859219 \nL 241.56 143.879219 \nL 208.08 143.879219 \nL 208.08 140.859219 \n\" style=\"fill:#00ffff;\"/>\n    <path clip-path=\"url(#pa58248c643)\" d=\"M 241.56 140.859219 \nL 275.04 140.859219 \nL 275.04 143.879219 \nL 241.56 143.879219 \nL 241.56 140.859219 \n\" style=\"fill:#00ffff;\"/>\n    <path clip-path=\"url(#pa58248c643)\" d=\"M 7.2 143.879219 \nL 40.68 143.879219 \nL 40.68 146.899219 \nL 7.2 146.899219 \nL 7.2 143.879219 \n\" style=\"fill:#00ffff;\"/>\n    <path clip-path=\"url(#pa58248c643)\" d=\"M 40.68 143.879219 \nL 74.16 143.879219 \nL 74.16 146.899219 \nL 40.68 146.899219 \nL 40.68 143.879219 \n\" style=\"fill:#00ffff;\"/>\n    <path clip-path=\"url(#pa58248c643)\" d=\"M 74.16 143.879219 \nL 107.64 143.879219 \nL 107.64 146.899219 \nL 74.16 146.899219 \nL 74.16 143.879219 \n\" style=\"fill:#00ffff;\"/>\n    <path clip-path=\"url(#pa58248c643)\" d=\"M 107.64 143.879219 \nL 141.12 143.879219 \nL 141.12 146.899219 \nL 107.64 146.899219 \nL 107.64 143.879219 \n\" style=\"fill:#00ffff;\"/>\n    <path clip-path=\"url(#pa58248c643)\" d=\"M 141.12 143.879219 \nL 174.6 143.879219 \nL 174.6 146.899219 \nL 141.12 146.899219 \nL 141.12 143.879219 \n\" style=\"fill:#00ffff;\"/>\n    <path clip-path=\"url(#pa58248c643)\" d=\"M 174.6 143.879219 \nL 208.08 143.879219 \nL 208.08 146.899219 \nL 174.6 146.899219 \nL 174.6 143.879219 \n\" style=\"fill:#00ffff;\"/>\n    <path clip-path=\"url(#pa58248c643)\" d=\"M 208.08 143.879219 \nL 241.56 143.879219 \nL 241.56 146.899219 \nL 208.08 146.899219 \nL 208.08 143.879219 \n\" style=\"fill:#00ffff;\"/>\n    <path clip-path=\"url(#pa58248c643)\" d=\"M 241.56 143.879219 \nL 275.04 143.879219 \nL 275.04 146.899219 \nL 241.56 146.899219 \nL 241.56 143.879219 \n\" style=\"fill:#00ffff;\"/>\n    <path clip-path=\"url(#pa58248c643)\" d=\"M 7.2 146.899219 \nL 40.68 146.899219 \nL 40.68 149.919219 \nL 7.2 149.919219 \nL 7.2 146.899219 \n\" style=\"fill:#00ffff;\"/>\n    <path clip-path=\"url(#pa58248c643)\" d=\"M 40.68 146.899219 \nL 74.16 146.899219 \nL 74.16 149.919219 \nL 40.68 149.919219 \nL 40.68 146.899219 \n\" style=\"fill:#00ffff;\"/>\n    <path clip-path=\"url(#pa58248c643)\" d=\"M 74.16 146.899219 \nL 107.64 146.899219 \nL 107.64 149.919219 \nL 74.16 149.919219 \nL 74.16 146.899219 \n\" style=\"fill:#00ffff;\"/>\n    <path clip-path=\"url(#pa58248c643)\" d=\"M 107.64 146.899219 \nL 141.12 146.899219 \nL 141.12 149.919219 \nL 107.64 149.919219 \nL 107.64 146.899219 \n\" style=\"fill:#00ffff;\"/>\n    <path clip-path=\"url(#pa58248c643)\" d=\"M 141.12 146.899219 \nL 174.6 146.899219 \nL 174.6 149.919219 \nL 141.12 149.919219 \nL 141.12 146.899219 \n\" style=\"fill:#00ffff;\"/>\n    <path clip-path=\"url(#pa58248c643)\" d=\"M 174.6 146.899219 \nL 208.08 146.899219 \nL 208.08 149.919219 \nL 174.6 149.919219 \nL 174.6 146.899219 \n\" style=\"fill:#00ffff;\"/>\n    <path clip-path=\"url(#pa58248c643)\" d=\"M 208.08 146.899219 \nL 241.56 146.899219 \nL 241.56 149.919219 \nL 208.08 149.919219 \nL 208.08 146.899219 \n\" style=\"fill:#00ffff;\"/>\n    <path clip-path=\"url(#pa58248c643)\" d=\"M 241.56 146.899219 \nL 275.04 146.899219 \nL 275.04 149.919219 \nL 241.56 149.919219 \nL 241.56 146.899219 \n\" style=\"fill:#00ffff;\"/>\n    <path clip-path=\"url(#pa58248c643)\" d=\"M 7.2 149.919219 \nL 40.68 149.919219 \nL 40.68 152.939219 \nL 7.2 152.939219 \nL 7.2 149.919219 \n\" style=\"fill:#00ffff;\"/>\n    <path clip-path=\"url(#pa58248c643)\" d=\"M 40.68 149.919219 \nL 74.16 149.919219 \nL 74.16 152.939219 \nL 40.68 152.939219 \nL 40.68 149.919219 \n\" style=\"fill:#00ffff;\"/>\n    <path clip-path=\"url(#pa58248c643)\" d=\"M 74.16 149.919219 \nL 107.64 149.919219 \nL 107.64 152.939219 \nL 74.16 152.939219 \nL 74.16 149.919219 \n\" style=\"fill:#00ffff;\"/>\n    <path clip-path=\"url(#pa58248c643)\" d=\"M 107.64 149.919219 \nL 141.12 149.919219 \nL 141.12 152.939219 \nL 107.64 152.939219 \nL 107.64 149.919219 \n\" style=\"fill:#00ffff;\"/>\n    <path clip-path=\"url(#pa58248c643)\" d=\"M 141.12 149.919219 \nL 174.6 149.919219 \nL 174.6 152.939219 \nL 141.12 152.939219 \nL 141.12 149.919219 \n\" style=\"fill:#00ffff;\"/>\n    <path clip-path=\"url(#pa58248c643)\" d=\"M 174.6 149.919219 \nL 208.08 149.919219 \nL 208.08 152.939219 \nL 174.6 152.939219 \nL 174.6 149.919219 \n\" style=\"fill:#00ffff;\"/>\n    <path clip-path=\"url(#pa58248c643)\" d=\"M 208.08 149.919219 \nL 241.56 149.919219 \nL 241.56 152.939219 \nL 208.08 152.939219 \nL 208.08 149.919219 \n\" style=\"fill:#00ffff;\"/>\n    <path clip-path=\"url(#pa58248c643)\" d=\"M 241.56 149.919219 \nL 275.04 149.919219 \nL 275.04 152.939219 \nL 241.56 152.939219 \nL 241.56 149.919219 \n\" style=\"fill:#00ffff;\"/>\n    <path clip-path=\"url(#pa58248c643)\" d=\"M 7.2 152.939219 \nL 40.68 152.939219 \nL 40.68 155.959219 \nL 7.2 155.959219 \nL 7.2 152.939219 \n\" style=\"fill:#00ffff;\"/>\n    <path clip-path=\"url(#pa58248c643)\" d=\"M 40.68 152.939219 \nL 74.16 152.939219 \nL 74.16 155.959219 \nL 40.68 155.959219 \nL 40.68 152.939219 \n\" style=\"fill:#00ffff;\"/>\n    <path clip-path=\"url(#pa58248c643)\" d=\"M 74.16 152.939219 \nL 107.64 152.939219 \nL 107.64 155.959219 \nL 74.16 155.959219 \nL 74.16 152.939219 \n\" style=\"fill:#00ffff;\"/>\n    <path clip-path=\"url(#pa58248c643)\" d=\"M 107.64 152.939219 \nL 141.12 152.939219 \nL 141.12 155.959219 \nL 107.64 155.959219 \nL 107.64 152.939219 \n\" style=\"fill:#00ffff;\"/>\n    <path clip-path=\"url(#pa58248c643)\" d=\"M 141.12 152.939219 \nL 174.6 152.939219 \nL 174.6 155.959219 \nL 141.12 155.959219 \nL 141.12 152.939219 \n\" style=\"fill:#00ffff;\"/>\n    <path clip-path=\"url(#pa58248c643)\" d=\"M 174.6 152.939219 \nL 208.08 152.939219 \nL 208.08 155.959219 \nL 174.6 155.959219 \nL 174.6 152.939219 \n\" style=\"fill:#00ffff;\"/>\n    <path clip-path=\"url(#pa58248c643)\" d=\"M 208.08 152.939219 \nL 241.56 152.939219 \nL 241.56 155.959219 \nL 208.08 155.959219 \nL 208.08 152.939219 \n\" style=\"fill:#00ffff;\"/>\n    <path clip-path=\"url(#pa58248c643)\" d=\"M 241.56 152.939219 \nL 275.04 152.939219 \nL 275.04 155.959219 \nL 241.56 155.959219 \nL 241.56 152.939219 \n\" style=\"fill:#00ffff;\"/>\n    <path clip-path=\"url(#pa58248c643)\" d=\"M 7.2 155.959219 \nL 40.68 155.959219 \nL 40.68 158.979219 \nL 7.2 158.979219 \nL 7.2 155.959219 \n\" style=\"fill:#00ffff;\"/>\n    <path clip-path=\"url(#pa58248c643)\" d=\"M 40.68 155.959219 \nL 74.16 155.959219 \nL 74.16 158.979219 \nL 40.68 158.979219 \nL 40.68 155.959219 \n\" style=\"fill:#00ffff;\"/>\n    <path clip-path=\"url(#pa58248c643)\" d=\"M 74.16 155.959219 \nL 107.64 155.959219 \nL 107.64 158.979219 \nL 74.16 158.979219 \nL 74.16 155.959219 \n\" style=\"fill:#00ffff;\"/>\n    <path clip-path=\"url(#pa58248c643)\" d=\"M 107.64 155.959219 \nL 141.12 155.959219 \nL 141.12 158.979219 \nL 107.64 158.979219 \nL 107.64 155.959219 \n\" style=\"fill:#00ffff;\"/>\n    <path clip-path=\"url(#pa58248c643)\" d=\"M 141.12 155.959219 \nL 174.6 155.959219 \nL 174.6 158.979219 \nL 141.12 158.979219 \nL 141.12 155.959219 \n\" style=\"fill:#00ffff;\"/>\n    <path clip-path=\"url(#pa58248c643)\" d=\"M 174.6 155.959219 \nL 208.08 155.959219 \nL 208.08 158.979219 \nL 174.6 158.979219 \nL 174.6 155.959219 \n\" style=\"fill:#00ffff;\"/>\n    <path clip-path=\"url(#pa58248c643)\" d=\"M 208.08 155.959219 \nL 241.56 155.959219 \nL 241.56 158.979219 \nL 208.08 158.979219 \nL 208.08 155.959219 \n\" style=\"fill:#00ffff;\"/>\n    <path clip-path=\"url(#pa58248c643)\" d=\"M 241.56 155.959219 \nL 275.04 155.959219 \nL 275.04 158.979219 \nL 241.56 158.979219 \nL 241.56 155.959219 \n\" style=\"fill:#00ffff;\"/>\n    <path clip-path=\"url(#pa58248c643)\" d=\"M 7.2 158.979219 \nL 40.68 158.979219 \nL 40.68 161.999219 \nL 7.2 161.999219 \nL 7.2 158.979219 \n\" style=\"fill:#00ffff;\"/>\n    <path clip-path=\"url(#pa58248c643)\" d=\"M 40.68 158.979219 \nL 74.16 158.979219 \nL 74.16 161.999219 \nL 40.68 161.999219 \nL 40.68 158.979219 \n\" style=\"fill:#00ffff;\"/>\n    <path clip-path=\"url(#pa58248c643)\" d=\"M 74.16 158.979219 \nL 107.64 158.979219 \nL 107.64 161.999219 \nL 74.16 161.999219 \nL 74.16 158.979219 \n\" style=\"fill:#00ffff;\"/>\n    <path clip-path=\"url(#pa58248c643)\" d=\"M 107.64 158.979219 \nL 141.12 158.979219 \nL 141.12 161.999219 \nL 107.64 161.999219 \nL 107.64 158.979219 \n\" style=\"fill:#00ffff;\"/>\n    <path clip-path=\"url(#pa58248c643)\" d=\"M 141.12 158.979219 \nL 174.6 158.979219 \nL 174.6 161.999219 \nL 141.12 161.999219 \nL 141.12 158.979219 \n\" style=\"fill:#00ffff;\"/>\n    <path clip-path=\"url(#pa58248c643)\" d=\"M 174.6 158.979219 \nL 208.08 158.979219 \nL 208.08 161.999219 \nL 174.6 161.999219 \nL 174.6 158.979219 \n\" style=\"fill:#00ffff;\"/>\n    <path clip-path=\"url(#pa58248c643)\" d=\"M 208.08 158.979219 \nL 241.56 158.979219 \nL 241.56 161.999219 \nL 208.08 161.999219 \nL 208.08 158.979219 \n\" style=\"fill:#00ffff;\"/>\n    <path clip-path=\"url(#pa58248c643)\" d=\"M 241.56 158.979219 \nL 275.04 158.979219 \nL 275.04 161.999219 \nL 241.56 161.999219 \nL 241.56 158.979219 \n\" style=\"fill:#00ffff;\"/>\n    <path clip-path=\"url(#pa58248c643)\" d=\"M 7.2 161.999219 \nL 40.68 161.999219 \nL 40.68 165.019219 \nL 7.2 165.019219 \nL 7.2 161.999219 \n\" style=\"fill:#00ffff;\"/>\n    <path clip-path=\"url(#pa58248c643)\" d=\"M 40.68 161.999219 \nL 74.16 161.999219 \nL 74.16 165.019219 \nL 40.68 165.019219 \nL 40.68 161.999219 \n\" style=\"fill:#00ffff;\"/>\n    <path clip-path=\"url(#pa58248c643)\" d=\"M 74.16 161.999219 \nL 107.64 161.999219 \nL 107.64 165.019219 \nL 74.16 165.019219 \nL 74.16 161.999219 \n\" style=\"fill:#00ffff;\"/>\n    <path clip-path=\"url(#pa58248c643)\" d=\"M 107.64 161.999219 \nL 141.12 161.999219 \nL 141.12 165.019219 \nL 107.64 165.019219 \nL 107.64 161.999219 \n\" style=\"fill:#00ffff;\"/>\n    <path clip-path=\"url(#pa58248c643)\" d=\"M 141.12 161.999219 \nL 174.6 161.999219 \nL 174.6 165.019219 \nL 141.12 165.019219 \nL 141.12 161.999219 \n\" style=\"fill:#00ffff;\"/>\n    <path clip-path=\"url(#pa58248c643)\" d=\"M 174.6 161.999219 \nL 208.08 161.999219 \nL 208.08 165.019219 \nL 174.6 165.019219 \nL 174.6 161.999219 \n\" style=\"fill:#00ffff;\"/>\n    <path clip-path=\"url(#pa58248c643)\" d=\"M 208.08 161.999219 \nL 241.56 161.999219 \nL 241.56 165.019219 \nL 208.08 165.019219 \nL 208.08 161.999219 \n\" style=\"fill:#00ffff;\"/>\n    <path clip-path=\"url(#pa58248c643)\" d=\"M 241.56 161.999219 \nL 275.04 161.999219 \nL 275.04 165.019219 \nL 241.56 165.019219 \nL 241.56 161.999219 \n\" style=\"fill:#00ffff;\"/>\n    <path clip-path=\"url(#pa58248c643)\" d=\"M 7.2 165.019219 \nL 40.68 165.019219 \nL 40.68 168.039219 \nL 7.2 168.039219 \nL 7.2 165.019219 \n\" style=\"fill:#00ffff;\"/>\n    <path clip-path=\"url(#pa58248c643)\" d=\"M 40.68 165.019219 \nL 74.16 165.019219 \nL 74.16 168.039219 \nL 40.68 168.039219 \nL 40.68 165.019219 \n\" style=\"fill:#00ffff;\"/>\n    <path clip-path=\"url(#pa58248c643)\" d=\"M 74.16 165.019219 \nL 107.64 165.019219 \nL 107.64 168.039219 \nL 74.16 168.039219 \nL 74.16 165.019219 \n\" style=\"fill:#00ffff;\"/>\n    <path clip-path=\"url(#pa58248c643)\" d=\"M 107.64 165.019219 \nL 141.12 165.019219 \nL 141.12 168.039219 \nL 107.64 168.039219 \nL 107.64 165.019219 \n\" style=\"fill:#00ffff;\"/>\n    <path clip-path=\"url(#pa58248c643)\" d=\"M 141.12 165.019219 \nL 174.6 165.019219 \nL 174.6 168.039219 \nL 141.12 168.039219 \nL 141.12 165.019219 \n\" style=\"fill:#00ffff;\"/>\n    <path clip-path=\"url(#pa58248c643)\" d=\"M 174.6 165.019219 \nL 208.08 165.019219 \nL 208.08 168.039219 \nL 174.6 168.039219 \nL 174.6 165.019219 \n\" style=\"fill:#00ffff;\"/>\n    <path clip-path=\"url(#pa58248c643)\" d=\"M 208.08 165.019219 \nL 241.56 165.019219 \nL 241.56 168.039219 \nL 208.08 168.039219 \nL 208.08 165.019219 \n\" style=\"fill:#00ffff;\"/>\n    <path clip-path=\"url(#pa58248c643)\" d=\"M 241.56 165.019219 \nL 275.04 165.019219 \nL 275.04 168.039219 \nL 241.56 168.039219 \nL 241.56 165.019219 \n\" style=\"fill:#00ffff;\"/>\n    <path clip-path=\"url(#pa58248c643)\" d=\"M 7.2 168.039219 \nL 40.68 168.039219 \nL 40.68 171.059219 \nL 7.2 171.059219 \nL 7.2 168.039219 \n\" style=\"fill:#00ffff;\"/>\n    <path clip-path=\"url(#pa58248c643)\" d=\"M 40.68 168.039219 \nL 74.16 168.039219 \nL 74.16 171.059219 \nL 40.68 171.059219 \nL 40.68 168.039219 \n\" style=\"fill:#00ffff;\"/>\n    <path clip-path=\"url(#pa58248c643)\" d=\"M 74.16 168.039219 \nL 107.64 168.039219 \nL 107.64 171.059219 \nL 74.16 171.059219 \nL 74.16 168.039219 \n\" style=\"fill:#00ffff;\"/>\n    <path clip-path=\"url(#pa58248c643)\" d=\"M 107.64 168.039219 \nL 141.12 168.039219 \nL 141.12 171.059219 \nL 107.64 171.059219 \nL 107.64 168.039219 \n\" style=\"fill:#00ffff;\"/>\n    <path clip-path=\"url(#pa58248c643)\" d=\"M 141.12 168.039219 \nL 174.6 168.039219 \nL 174.6 171.059219 \nL 141.12 171.059219 \nL 141.12 168.039219 \n\" style=\"fill:#00ffff;\"/>\n    <path clip-path=\"url(#pa58248c643)\" d=\"M 174.6 168.039219 \nL 208.08 168.039219 \nL 208.08 171.059219 \nL 174.6 171.059219 \nL 174.6 168.039219 \n\" style=\"fill:#00ffff;\"/>\n    <path clip-path=\"url(#pa58248c643)\" d=\"M 208.08 168.039219 \nL 241.56 168.039219 \nL 241.56 171.059219 \nL 208.08 171.059219 \nL 208.08 168.039219 \n\" style=\"fill:#00ffff;\"/>\n    <path clip-path=\"url(#pa58248c643)\" d=\"M 241.56 168.039219 \nL 275.04 168.039219 \nL 275.04 171.059219 \nL 241.56 171.059219 \nL 241.56 168.039219 \n\" style=\"fill:#00ffff;\"/>\n    <path clip-path=\"url(#pa58248c643)\" d=\"M 7.2 171.059219 \nL 40.68 171.059219 \nL 40.68 174.079219 \nL 7.2 174.079219 \nL 7.2 171.059219 \n\" style=\"fill:#00ffff;\"/>\n    <path clip-path=\"url(#pa58248c643)\" d=\"M 40.68 171.059219 \nL 74.16 171.059219 \nL 74.16 174.079219 \nL 40.68 174.079219 \nL 40.68 171.059219 \n\" style=\"fill:#00ffff;\"/>\n    <path clip-path=\"url(#pa58248c643)\" d=\"M 74.16 171.059219 \nL 107.64 171.059219 \nL 107.64 174.079219 \nL 74.16 174.079219 \nL 74.16 171.059219 \n\" style=\"fill:#00ffff;\"/>\n    <path clip-path=\"url(#pa58248c643)\" d=\"M 107.64 171.059219 \nL 141.12 171.059219 \nL 141.12 174.079219 \nL 107.64 174.079219 \nL 107.64 171.059219 \n\" style=\"fill:#00ffff;\"/>\n    <path clip-path=\"url(#pa58248c643)\" d=\"M 141.12 171.059219 \nL 174.6 171.059219 \nL 174.6 174.079219 \nL 141.12 174.079219 \nL 141.12 171.059219 \n\" style=\"fill:#00ffff;\"/>\n    <path clip-path=\"url(#pa58248c643)\" d=\"M 174.6 171.059219 \nL 208.08 171.059219 \nL 208.08 174.079219 \nL 174.6 174.079219 \nL 174.6 171.059219 \n\" style=\"fill:#00ffff;\"/>\n    <path clip-path=\"url(#pa58248c643)\" d=\"M 208.08 171.059219 \nL 241.56 171.059219 \nL 241.56 174.079219 \nL 208.08 174.079219 \nL 208.08 171.059219 \n\" style=\"fill:#00ffff;\"/>\n    <path clip-path=\"url(#pa58248c643)\" d=\"M 241.56 171.059219 \nL 275.04 171.059219 \nL 275.04 174.079219 \nL 241.56 174.079219 \nL 241.56 171.059219 \n\" style=\"fill:#00ffff;\"/>\n    <path clip-path=\"url(#pa58248c643)\" d=\"M 7.2 174.079219 \nL 40.68 174.079219 \nL 40.68 177.099219 \nL 7.2 177.099219 \nL 7.2 174.079219 \n\" style=\"fill:#00ffff;\"/>\n    <path clip-path=\"url(#pa58248c643)\" d=\"M 40.68 174.079219 \nL 74.16 174.079219 \nL 74.16 177.099219 \nL 40.68 177.099219 \nL 40.68 174.079219 \n\" style=\"fill:#ff00ff;\"/>\n    <path clip-path=\"url(#pa58248c643)\" d=\"M 74.16 174.079219 \nL 107.64 174.079219 \nL 107.64 177.099219 \nL 74.16 177.099219 \nL 74.16 174.079219 \n\" style=\"fill:#00ffff;\"/>\n    <path clip-path=\"url(#pa58248c643)\" d=\"M 107.64 174.079219 \nL 141.12 174.079219 \nL 141.12 177.099219 \nL 107.64 177.099219 \nL 107.64 174.079219 \n\" style=\"fill:#00ffff;\"/>\n    <path clip-path=\"url(#pa58248c643)\" d=\"M 141.12 174.079219 \nL 174.6 174.079219 \nL 174.6 177.099219 \nL 141.12 177.099219 \nL 141.12 174.079219 \n\" style=\"fill:#00ffff;\"/>\n    <path clip-path=\"url(#pa58248c643)\" d=\"M 174.6 174.079219 \nL 208.08 174.079219 \nL 208.08 177.099219 \nL 174.6 177.099219 \nL 174.6 174.079219 \n\" style=\"fill:#00ffff;\"/>\n    <path clip-path=\"url(#pa58248c643)\" d=\"M 208.08 174.079219 \nL 241.56 174.079219 \nL 241.56 177.099219 \nL 208.08 177.099219 \nL 208.08 174.079219 \n\" style=\"fill:#00ffff;\"/>\n    <path clip-path=\"url(#pa58248c643)\" d=\"M 241.56 174.079219 \nL 275.04 174.079219 \nL 275.04 177.099219 \nL 241.56 177.099219 \nL 241.56 174.079219 \n\" style=\"fill:#00ffff;\"/>\n    <path clip-path=\"url(#pa58248c643)\" d=\"M 7.2 177.099219 \nL 40.68 177.099219 \nL 40.68 180.119219 \nL 7.2 180.119219 \nL 7.2 177.099219 \n\" style=\"fill:#00ffff;\"/>\n    <path clip-path=\"url(#pa58248c643)\" d=\"M 40.68 177.099219 \nL 74.16 177.099219 \nL 74.16 180.119219 \nL 40.68 180.119219 \nL 40.68 177.099219 \n\" style=\"fill:#ff00ff;\"/>\n    <path clip-path=\"url(#pa58248c643)\" d=\"M 74.16 177.099219 \nL 107.64 177.099219 \nL 107.64 180.119219 \nL 74.16 180.119219 \nL 74.16 177.099219 \n\" style=\"fill:#00ffff;\"/>\n    <path clip-path=\"url(#pa58248c643)\" d=\"M 107.64 177.099219 \nL 141.12 177.099219 \nL 141.12 180.119219 \nL 107.64 180.119219 \nL 107.64 177.099219 \n\" style=\"fill:#00ffff;\"/>\n    <path clip-path=\"url(#pa58248c643)\" d=\"M 141.12 177.099219 \nL 174.6 177.099219 \nL 174.6 180.119219 \nL 141.12 180.119219 \nL 141.12 177.099219 \n\" style=\"fill:#00ffff;\"/>\n    <path clip-path=\"url(#pa58248c643)\" d=\"M 174.6 177.099219 \nL 208.08 177.099219 \nL 208.08 180.119219 \nL 174.6 180.119219 \nL 174.6 177.099219 \n\" style=\"fill:#00ffff;\"/>\n    <path clip-path=\"url(#pa58248c643)\" d=\"M 208.08 177.099219 \nL 241.56 177.099219 \nL 241.56 180.119219 \nL 208.08 180.119219 \nL 208.08 177.099219 \n\" style=\"fill:#00ffff;\"/>\n    <path clip-path=\"url(#pa58248c643)\" d=\"M 241.56 177.099219 \nL 275.04 177.099219 \nL 275.04 180.119219 \nL 241.56 180.119219 \nL 241.56 177.099219 \n\" style=\"fill:#00ffff;\"/>\n    <path clip-path=\"url(#pa58248c643)\" d=\"M 7.2 180.119219 \nL 40.68 180.119219 \nL 40.68 183.139219 \nL 7.2 183.139219 \nL 7.2 180.119219 \n\" style=\"fill:#00ffff;\"/>\n    <path clip-path=\"url(#pa58248c643)\" d=\"M 40.68 180.119219 \nL 74.16 180.119219 \nL 74.16 183.139219 \nL 40.68 183.139219 \nL 40.68 180.119219 \n\" style=\"fill:#ff00ff;\"/>\n    <path clip-path=\"url(#pa58248c643)\" d=\"M 74.16 180.119219 \nL 107.64 180.119219 \nL 107.64 183.139219 \nL 74.16 183.139219 \nL 74.16 180.119219 \n\" style=\"fill:#00ffff;\"/>\n    <path clip-path=\"url(#pa58248c643)\" d=\"M 107.64 180.119219 \nL 141.12 180.119219 \nL 141.12 183.139219 \nL 107.64 183.139219 \nL 107.64 180.119219 \n\" style=\"fill:#00ffff;\"/>\n    <path clip-path=\"url(#pa58248c643)\" d=\"M 141.12 180.119219 \nL 174.6 180.119219 \nL 174.6 183.139219 \nL 141.12 183.139219 \nL 141.12 180.119219 \n\" style=\"fill:#00ffff;\"/>\n    <path clip-path=\"url(#pa58248c643)\" d=\"M 174.6 180.119219 \nL 208.08 180.119219 \nL 208.08 183.139219 \nL 174.6 183.139219 \nL 174.6 180.119219 \n\" style=\"fill:#00ffff;\"/>\n    <path clip-path=\"url(#pa58248c643)\" d=\"M 208.08 180.119219 \nL 241.56 180.119219 \nL 241.56 183.139219 \nL 208.08 183.139219 \nL 208.08 180.119219 \n\" style=\"fill:#00ffff;\"/>\n    <path clip-path=\"url(#pa58248c643)\" d=\"M 241.56 180.119219 \nL 275.04 180.119219 \nL 275.04 183.139219 \nL 241.56 183.139219 \nL 241.56 180.119219 \n\" style=\"fill:#00ffff;\"/>\n    <path clip-path=\"url(#pa58248c643)\" d=\"M 7.2 183.139219 \nL 40.68 183.139219 \nL 40.68 186.159219 \nL 7.2 186.159219 \nL 7.2 183.139219 \n\" style=\"fill:#00ffff;\"/>\n    <path clip-path=\"url(#pa58248c643)\" d=\"M 40.68 183.139219 \nL 74.16 183.139219 \nL 74.16 186.159219 \nL 40.68 186.159219 \nL 40.68 183.139219 \n\" style=\"fill:#ff00ff;\"/>\n    <path clip-path=\"url(#pa58248c643)\" d=\"M 74.16 183.139219 \nL 107.64 183.139219 \nL 107.64 186.159219 \nL 74.16 186.159219 \nL 74.16 183.139219 \n\" style=\"fill:#00ffff;\"/>\n    <path clip-path=\"url(#pa58248c643)\" d=\"M 107.64 183.139219 \nL 141.12 183.139219 \nL 141.12 186.159219 \nL 107.64 186.159219 \nL 107.64 183.139219 \n\" style=\"fill:#00ffff;\"/>\n    <path clip-path=\"url(#pa58248c643)\" d=\"M 141.12 183.139219 \nL 174.6 183.139219 \nL 174.6 186.159219 \nL 141.12 186.159219 \nL 141.12 183.139219 \n\" style=\"fill:#00ffff;\"/>\n    <path clip-path=\"url(#pa58248c643)\" d=\"M 174.6 183.139219 \nL 208.08 183.139219 \nL 208.08 186.159219 \nL 174.6 186.159219 \nL 174.6 183.139219 \n\" style=\"fill:#00ffff;\"/>\n    <path clip-path=\"url(#pa58248c643)\" d=\"M 208.08 183.139219 \nL 241.56 183.139219 \nL 241.56 186.159219 \nL 208.08 186.159219 \nL 208.08 183.139219 \n\" style=\"fill:#00ffff;\"/>\n    <path clip-path=\"url(#pa58248c643)\" d=\"M 241.56 183.139219 \nL 275.04 183.139219 \nL 275.04 186.159219 \nL 241.56 186.159219 \nL 241.56 183.139219 \n\" style=\"fill:#00ffff;\"/>\n    <path clip-path=\"url(#pa58248c643)\" d=\"M 7.2 186.159219 \nL 40.68 186.159219 \nL 40.68 189.179219 \nL 7.2 189.179219 \nL 7.2 186.159219 \n\" style=\"fill:#00ffff;\"/>\n    <path clip-path=\"url(#pa58248c643)\" d=\"M 40.68 186.159219 \nL 74.16 186.159219 \nL 74.16 189.179219 \nL 40.68 189.179219 \nL 40.68 186.159219 \n\" style=\"fill:#ff00ff;\"/>\n    <path clip-path=\"url(#pa58248c643)\" d=\"M 74.16 186.159219 \nL 107.64 186.159219 \nL 107.64 189.179219 \nL 74.16 189.179219 \nL 74.16 186.159219 \n\" style=\"fill:#00ffff;\"/>\n    <path clip-path=\"url(#pa58248c643)\" d=\"M 107.64 186.159219 \nL 141.12 186.159219 \nL 141.12 189.179219 \nL 107.64 189.179219 \nL 107.64 186.159219 \n\" style=\"fill:#00ffff;\"/>\n    <path clip-path=\"url(#pa58248c643)\" d=\"M 141.12 186.159219 \nL 174.6 186.159219 \nL 174.6 189.179219 \nL 141.12 189.179219 \nL 141.12 186.159219 \n\" style=\"fill:#00ffff;\"/>\n    <path clip-path=\"url(#pa58248c643)\" d=\"M 174.6 186.159219 \nL 208.08 186.159219 \nL 208.08 189.179219 \nL 174.6 189.179219 \nL 174.6 186.159219 \n\" style=\"fill:#00ffff;\"/>\n    <path clip-path=\"url(#pa58248c643)\" d=\"M 208.08 186.159219 \nL 241.56 186.159219 \nL 241.56 189.179219 \nL 208.08 189.179219 \nL 208.08 186.159219 \n\" style=\"fill:#00ffff;\"/>\n    <path clip-path=\"url(#pa58248c643)\" d=\"M 241.56 186.159219 \nL 275.04 186.159219 \nL 275.04 189.179219 \nL 241.56 189.179219 \nL 241.56 186.159219 \n\" style=\"fill:#00ffff;\"/>\n    <path clip-path=\"url(#pa58248c643)\" d=\"M 7.2 189.179219 \nL 40.68 189.179219 \nL 40.68 192.199219 \nL 7.2 192.199219 \nL 7.2 189.179219 \n\" style=\"fill:#00ffff;\"/>\n    <path clip-path=\"url(#pa58248c643)\" d=\"M 40.68 189.179219 \nL 74.16 189.179219 \nL 74.16 192.199219 \nL 40.68 192.199219 \nL 40.68 189.179219 \n\" style=\"fill:#ff00ff;\"/>\n    <path clip-path=\"url(#pa58248c643)\" d=\"M 74.16 189.179219 \nL 107.64 189.179219 \nL 107.64 192.199219 \nL 74.16 192.199219 \nL 74.16 189.179219 \n\" style=\"fill:#00ffff;\"/>\n    <path clip-path=\"url(#pa58248c643)\" d=\"M 107.64 189.179219 \nL 141.12 189.179219 \nL 141.12 192.199219 \nL 107.64 192.199219 \nL 107.64 189.179219 \n\" style=\"fill:#00ffff;\"/>\n    <path clip-path=\"url(#pa58248c643)\" d=\"M 141.12 189.179219 \nL 174.6 189.179219 \nL 174.6 192.199219 \nL 141.12 192.199219 \nL 141.12 189.179219 \n\" style=\"fill:#00ffff;\"/>\n    <path clip-path=\"url(#pa58248c643)\" d=\"M 174.6 189.179219 \nL 208.08 189.179219 \nL 208.08 192.199219 \nL 174.6 192.199219 \nL 174.6 189.179219 \n\" style=\"fill:#00ffff;\"/>\n    <path clip-path=\"url(#pa58248c643)\" d=\"M 208.08 189.179219 \nL 241.56 189.179219 \nL 241.56 192.199219 \nL 208.08 192.199219 \nL 208.08 189.179219 \n\" style=\"fill:#00ffff;\"/>\n    <path clip-path=\"url(#pa58248c643)\" d=\"M 241.56 189.179219 \nL 275.04 189.179219 \nL 275.04 192.199219 \nL 241.56 192.199219 \nL 241.56 189.179219 \n\" style=\"fill:#00ffff;\"/>\n    <path clip-path=\"url(#pa58248c643)\" d=\"M 7.2 192.199219 \nL 40.68 192.199219 \nL 40.68 195.219219 \nL 7.2 195.219219 \nL 7.2 192.199219 \n\" style=\"fill:#00ffff;\"/>\n    <path clip-path=\"url(#pa58248c643)\" d=\"M 40.68 192.199219 \nL 74.16 192.199219 \nL 74.16 195.219219 \nL 40.68 195.219219 \nL 40.68 192.199219 \n\" style=\"fill:#00ffff;\"/>\n    <path clip-path=\"url(#pa58248c643)\" d=\"M 74.16 192.199219 \nL 107.64 192.199219 \nL 107.64 195.219219 \nL 74.16 195.219219 \nL 74.16 192.199219 \n\" style=\"fill:#ff00ff;\"/>\n    <path clip-path=\"url(#pa58248c643)\" d=\"M 107.64 192.199219 \nL 141.12 192.199219 \nL 141.12 195.219219 \nL 107.64 195.219219 \nL 107.64 192.199219 \n\" style=\"fill:#00ffff;\"/>\n    <path clip-path=\"url(#pa58248c643)\" d=\"M 141.12 192.199219 \nL 174.6 192.199219 \nL 174.6 195.219219 \nL 141.12 195.219219 \nL 141.12 192.199219 \n\" style=\"fill:#00ffff;\"/>\n    <path clip-path=\"url(#pa58248c643)\" d=\"M 174.6 192.199219 \nL 208.08 192.199219 \nL 208.08 195.219219 \nL 174.6 195.219219 \nL 174.6 192.199219 \n\" style=\"fill:#00ffff;\"/>\n    <path clip-path=\"url(#pa58248c643)\" d=\"M 208.08 192.199219 \nL 241.56 192.199219 \nL 241.56 195.219219 \nL 208.08 195.219219 \nL 208.08 192.199219 \n\" style=\"fill:#00ffff;\"/>\n    <path clip-path=\"url(#pa58248c643)\" d=\"M 241.56 192.199219 \nL 275.04 192.199219 \nL 275.04 195.219219 \nL 241.56 195.219219 \nL 241.56 192.199219 \n\" style=\"fill:#00ffff;\"/>\n    <path clip-path=\"url(#pa58248c643)\" d=\"M 7.2 195.219219 \nL 40.68 195.219219 \nL 40.68 198.239219 \nL 7.2 198.239219 \nL 7.2 195.219219 \n\" style=\"fill:#00ffff;\"/>\n    <path clip-path=\"url(#pa58248c643)\" d=\"M 40.68 195.219219 \nL 74.16 195.219219 \nL 74.16 198.239219 \nL 40.68 198.239219 \nL 40.68 195.219219 \n\" style=\"fill:#00ffff;\"/>\n    <path clip-path=\"url(#pa58248c643)\" d=\"M 74.16 195.219219 \nL 107.64 195.219219 \nL 107.64 198.239219 \nL 74.16 198.239219 \nL 74.16 195.219219 \n\" style=\"fill:#ff00ff;\"/>\n    <path clip-path=\"url(#pa58248c643)\" d=\"M 107.64 195.219219 \nL 141.12 195.219219 \nL 141.12 198.239219 \nL 107.64 198.239219 \nL 107.64 195.219219 \n\" style=\"fill:#00ffff;\"/>\n    <path clip-path=\"url(#pa58248c643)\" d=\"M 141.12 195.219219 \nL 174.6 195.219219 \nL 174.6 198.239219 \nL 141.12 198.239219 \nL 141.12 195.219219 \n\" style=\"fill:#00ffff;\"/>\n    <path clip-path=\"url(#pa58248c643)\" d=\"M 174.6 195.219219 \nL 208.08 195.219219 \nL 208.08 198.239219 \nL 174.6 198.239219 \nL 174.6 195.219219 \n\" style=\"fill:#00ffff;\"/>\n    <path clip-path=\"url(#pa58248c643)\" d=\"M 208.08 195.219219 \nL 241.56 195.219219 \nL 241.56 198.239219 \nL 208.08 198.239219 \nL 208.08 195.219219 \n\" style=\"fill:#00ffff;\"/>\n    <path clip-path=\"url(#pa58248c643)\" d=\"M 241.56 195.219219 \nL 275.04 195.219219 \nL 275.04 198.239219 \nL 241.56 198.239219 \nL 241.56 195.219219 \n\" style=\"fill:#00ffff;\"/>\n    <path clip-path=\"url(#pa58248c643)\" d=\"M 7.2 198.239219 \nL 40.68 198.239219 \nL 40.68 201.259219 \nL 7.2 201.259219 \nL 7.2 198.239219 \n\" style=\"fill:#00ffff;\"/>\n    <path clip-path=\"url(#pa58248c643)\" d=\"M 40.68 198.239219 \nL 74.16 198.239219 \nL 74.16 201.259219 \nL 40.68 201.259219 \nL 40.68 198.239219 \n\" style=\"fill:#00ffff;\"/>\n    <path clip-path=\"url(#pa58248c643)\" d=\"M 74.16 198.239219 \nL 107.64 198.239219 \nL 107.64 201.259219 \nL 74.16 201.259219 \nL 74.16 198.239219 \n\" style=\"fill:#ff00ff;\"/>\n    <path clip-path=\"url(#pa58248c643)\" d=\"M 107.64 198.239219 \nL 141.12 198.239219 \nL 141.12 201.259219 \nL 107.64 201.259219 \nL 107.64 198.239219 \n\" style=\"fill:#00ffff;\"/>\n    <path clip-path=\"url(#pa58248c643)\" d=\"M 141.12 198.239219 \nL 174.6 198.239219 \nL 174.6 201.259219 \nL 141.12 201.259219 \nL 141.12 198.239219 \n\" style=\"fill:#00ffff;\"/>\n    <path clip-path=\"url(#pa58248c643)\" d=\"M 174.6 198.239219 \nL 208.08 198.239219 \nL 208.08 201.259219 \nL 174.6 201.259219 \nL 174.6 198.239219 \n\" style=\"fill:#00ffff;\"/>\n    <path clip-path=\"url(#pa58248c643)\" d=\"M 208.08 198.239219 \nL 241.56 198.239219 \nL 241.56 201.259219 \nL 208.08 201.259219 \nL 208.08 198.239219 \n\" style=\"fill:#00ffff;\"/>\n    <path clip-path=\"url(#pa58248c643)\" d=\"M 241.56 198.239219 \nL 275.04 198.239219 \nL 275.04 201.259219 \nL 241.56 201.259219 \nL 241.56 198.239219 \n\" style=\"fill:#00ffff;\"/>\n    <path clip-path=\"url(#pa58248c643)\" d=\"M 7.2 201.259219 \nL 40.68 201.259219 \nL 40.68 204.279219 \nL 7.2 204.279219 \nL 7.2 201.259219 \n\" style=\"fill:#00ffff;\"/>\n    <path clip-path=\"url(#pa58248c643)\" d=\"M 40.68 201.259219 \nL 74.16 201.259219 \nL 74.16 204.279219 \nL 40.68 204.279219 \nL 40.68 201.259219 \n\" style=\"fill:#00ffff;\"/>\n    <path clip-path=\"url(#pa58248c643)\" d=\"M 74.16 201.259219 \nL 107.64 201.259219 \nL 107.64 204.279219 \nL 74.16 204.279219 \nL 74.16 201.259219 \n\" style=\"fill:#ff00ff;\"/>\n    <path clip-path=\"url(#pa58248c643)\" d=\"M 107.64 201.259219 \nL 141.12 201.259219 \nL 141.12 204.279219 \nL 107.64 204.279219 \nL 107.64 201.259219 \n\" style=\"fill:#00ffff;\"/>\n    <path clip-path=\"url(#pa58248c643)\" d=\"M 141.12 201.259219 \nL 174.6 201.259219 \nL 174.6 204.279219 \nL 141.12 204.279219 \nL 141.12 201.259219 \n\" style=\"fill:#00ffff;\"/>\n    <path clip-path=\"url(#pa58248c643)\" d=\"M 174.6 201.259219 \nL 208.08 201.259219 \nL 208.08 204.279219 \nL 174.6 204.279219 \nL 174.6 201.259219 \n\" style=\"fill:#00ffff;\"/>\n    <path clip-path=\"url(#pa58248c643)\" d=\"M 208.08 201.259219 \nL 241.56 201.259219 \nL 241.56 204.279219 \nL 208.08 204.279219 \nL 208.08 201.259219 \n\" style=\"fill:#00ffff;\"/>\n    <path clip-path=\"url(#pa58248c643)\" d=\"M 241.56 201.259219 \nL 275.04 201.259219 \nL 275.04 204.279219 \nL 241.56 204.279219 \nL 241.56 201.259219 \n\" style=\"fill:#00ffff;\"/>\n    <path clip-path=\"url(#pa58248c643)\" d=\"M 7.2 204.279219 \nL 40.68 204.279219 \nL 40.68 207.299219 \nL 7.2 207.299219 \nL 7.2 204.279219 \n\" style=\"fill:#00ffff;\"/>\n    <path clip-path=\"url(#pa58248c643)\" d=\"M 40.68 204.279219 \nL 74.16 204.279219 \nL 74.16 207.299219 \nL 40.68 207.299219 \nL 40.68 204.279219 \n\" style=\"fill:#00ffff;\"/>\n    <path clip-path=\"url(#pa58248c643)\" d=\"M 74.16 204.279219 \nL 107.64 204.279219 \nL 107.64 207.299219 \nL 74.16 207.299219 \nL 74.16 204.279219 \n\" style=\"fill:#ff00ff;\"/>\n    <path clip-path=\"url(#pa58248c643)\" d=\"M 107.64 204.279219 \nL 141.12 204.279219 \nL 141.12 207.299219 \nL 107.64 207.299219 \nL 107.64 204.279219 \n\" style=\"fill:#00ffff;\"/>\n    <path clip-path=\"url(#pa58248c643)\" d=\"M 141.12 204.279219 \nL 174.6 204.279219 \nL 174.6 207.299219 \nL 141.12 207.299219 \nL 141.12 204.279219 \n\" style=\"fill:#00ffff;\"/>\n    <path clip-path=\"url(#pa58248c643)\" d=\"M 174.6 204.279219 \nL 208.08 204.279219 \nL 208.08 207.299219 \nL 174.6 207.299219 \nL 174.6 204.279219 \n\" style=\"fill:#00ffff;\"/>\n    <path clip-path=\"url(#pa58248c643)\" d=\"M 208.08 204.279219 \nL 241.56 204.279219 \nL 241.56 207.299219 \nL 208.08 207.299219 \nL 208.08 204.279219 \n\" style=\"fill:#00ffff;\"/>\n    <path clip-path=\"url(#pa58248c643)\" d=\"M 241.56 204.279219 \nL 275.04 204.279219 \nL 275.04 207.299219 \nL 241.56 207.299219 \nL 241.56 204.279219 \n\" style=\"fill:#00ffff;\"/>\n    <path clip-path=\"url(#pa58248c643)\" d=\"M 7.2 207.299219 \nL 40.68 207.299219 \nL 40.68 210.319219 \nL 7.2 210.319219 \nL 7.2 207.299219 \n\" style=\"fill:#00ffff;\"/>\n    <path clip-path=\"url(#pa58248c643)\" d=\"M 40.68 207.299219 \nL 74.16 207.299219 \nL 74.16 210.319219 \nL 40.68 210.319219 \nL 40.68 207.299219 \n\" style=\"fill:#00ffff;\"/>\n    <path clip-path=\"url(#pa58248c643)\" d=\"M 74.16 207.299219 \nL 107.64 207.299219 \nL 107.64 210.319219 \nL 74.16 210.319219 \nL 74.16 207.299219 \n\" style=\"fill:#ff00ff;\"/>\n    <path clip-path=\"url(#pa58248c643)\" d=\"M 107.64 207.299219 \nL 141.12 207.299219 \nL 141.12 210.319219 \nL 107.64 210.319219 \nL 107.64 207.299219 \n\" style=\"fill:#00ffff;\"/>\n    <path clip-path=\"url(#pa58248c643)\" d=\"M 141.12 207.299219 \nL 174.6 207.299219 \nL 174.6 210.319219 \nL 141.12 210.319219 \nL 141.12 207.299219 \n\" style=\"fill:#00ffff;\"/>\n    <path clip-path=\"url(#pa58248c643)\" d=\"M 174.6 207.299219 \nL 208.08 207.299219 \nL 208.08 210.319219 \nL 174.6 210.319219 \nL 174.6 207.299219 \n\" style=\"fill:#00ffff;\"/>\n    <path clip-path=\"url(#pa58248c643)\" d=\"M 208.08 207.299219 \nL 241.56 207.299219 \nL 241.56 210.319219 \nL 208.08 210.319219 \nL 208.08 207.299219 \n\" style=\"fill:#00ffff;\"/>\n    <path clip-path=\"url(#pa58248c643)\" d=\"M 241.56 207.299219 \nL 275.04 207.299219 \nL 275.04 210.319219 \nL 241.56 210.319219 \nL 241.56 207.299219 \n\" style=\"fill:#00ffff;\"/>\n    <path clip-path=\"url(#pa58248c643)\" d=\"M 7.2 210.319219 \nL 40.68 210.319219 \nL 40.68 213.339219 \nL 7.2 213.339219 \nL 7.2 210.319219 \n\" style=\"fill:#00ffff;\"/>\n    <path clip-path=\"url(#pa58248c643)\" d=\"M 40.68 210.319219 \nL 74.16 210.319219 \nL 74.16 213.339219 \nL 40.68 213.339219 \nL 40.68 210.319219 \n\" style=\"fill:#00ffff;\"/>\n    <path clip-path=\"url(#pa58248c643)\" d=\"M 74.16 210.319219 \nL 107.64 210.319219 \nL 107.64 213.339219 \nL 74.16 213.339219 \nL 74.16 210.319219 \n\" style=\"fill:#00ffff;\"/>\n    <path clip-path=\"url(#pa58248c643)\" d=\"M 107.64 210.319219 \nL 141.12 210.319219 \nL 141.12 213.339219 \nL 107.64 213.339219 \nL 107.64 210.319219 \n\" style=\"fill:#ff00ff;\"/>\n    <path clip-path=\"url(#pa58248c643)\" d=\"M 141.12 210.319219 \nL 174.6 210.319219 \nL 174.6 213.339219 \nL 141.12 213.339219 \nL 141.12 210.319219 \n\" style=\"fill:#ff00ff;\"/>\n    <path clip-path=\"url(#pa58248c643)\" d=\"M 174.6 210.319219 \nL 208.08 210.319219 \nL 208.08 213.339219 \nL 174.6 213.339219 \nL 174.6 210.319219 \n\" style=\"fill:#00ffff;\"/>\n    <path clip-path=\"url(#pa58248c643)\" d=\"M 208.08 210.319219 \nL 241.56 210.319219 \nL 241.56 213.339219 \nL 208.08 213.339219 \nL 208.08 210.319219 \n\" style=\"fill:#00ffff;\"/>\n    <path clip-path=\"url(#pa58248c643)\" d=\"M 241.56 210.319219 \nL 275.04 210.319219 \nL 275.04 213.339219 \nL 241.56 213.339219 \nL 241.56 210.319219 \n\" style=\"fill:#00ffff;\"/>\n    <path clip-path=\"url(#pa58248c643)\" d=\"M 7.2 213.339219 \nL 40.68 213.339219 \nL 40.68 216.359219 \nL 7.2 216.359219 \nL 7.2 213.339219 \n\" style=\"fill:#00ffff;\"/>\n    <path clip-path=\"url(#pa58248c643)\" d=\"M 40.68 213.339219 \nL 74.16 213.339219 \nL 74.16 216.359219 \nL 40.68 216.359219 \nL 40.68 213.339219 \n\" style=\"fill:#00ffff;\"/>\n    <path clip-path=\"url(#pa58248c643)\" d=\"M 74.16 213.339219 \nL 107.64 213.339219 \nL 107.64 216.359219 \nL 74.16 216.359219 \nL 74.16 213.339219 \n\" style=\"fill:#00ffff;\"/>\n    <path clip-path=\"url(#pa58248c643)\" d=\"M 107.64 213.339219 \nL 141.12 213.339219 \nL 141.12 216.359219 \nL 107.64 216.359219 \nL 107.64 213.339219 \n\" style=\"fill:#ff00ff;\"/>\n    <path clip-path=\"url(#pa58248c643)\" d=\"M 141.12 213.339219 \nL 174.6 213.339219 \nL 174.6 216.359219 \nL 141.12 216.359219 \nL 141.12 213.339219 \n\" style=\"fill:#ff00ff;\"/>\n    <path clip-path=\"url(#pa58248c643)\" d=\"M 174.6 213.339219 \nL 208.08 213.339219 \nL 208.08 216.359219 \nL 174.6 216.359219 \nL 174.6 213.339219 \n\" style=\"fill:#00ffff;\"/>\n    <path clip-path=\"url(#pa58248c643)\" d=\"M 208.08 213.339219 \nL 241.56 213.339219 \nL 241.56 216.359219 \nL 208.08 216.359219 \nL 208.08 213.339219 \n\" style=\"fill:#00ffff;\"/>\n    <path clip-path=\"url(#pa58248c643)\" d=\"M 241.56 213.339219 \nL 275.04 213.339219 \nL 275.04 216.359219 \nL 241.56 216.359219 \nL 241.56 213.339219 \n\" style=\"fill:#00ffff;\"/>\n    <path clip-path=\"url(#pa58248c643)\" d=\"M 7.2 216.359219 \nL 40.68 216.359219 \nL 40.68 219.379219 \nL 7.2 219.379219 \nL 7.2 216.359219 \n\" style=\"fill:#00ffff;\"/>\n    <path clip-path=\"url(#pa58248c643)\" d=\"M 40.68 216.359219 \nL 74.16 216.359219 \nL 74.16 219.379219 \nL 40.68 219.379219 \nL 40.68 216.359219 \n\" style=\"fill:#00ffff;\"/>\n    <path clip-path=\"url(#pa58248c643)\" d=\"M 74.16 216.359219 \nL 107.64 216.359219 \nL 107.64 219.379219 \nL 74.16 219.379219 \nL 74.16 216.359219 \n\" style=\"fill:#00ffff;\"/>\n    <path clip-path=\"url(#pa58248c643)\" d=\"M 107.64 216.359219 \nL 141.12 216.359219 \nL 141.12 219.379219 \nL 107.64 219.379219 \nL 107.64 216.359219 \n\" style=\"fill:#ff00ff;\"/>\n    <path clip-path=\"url(#pa58248c643)\" d=\"M 141.12 216.359219 \nL 174.6 216.359219 \nL 174.6 219.379219 \nL 141.12 219.379219 \nL 141.12 216.359219 \n\" style=\"fill:#ff00ff;\"/>\n    <path clip-path=\"url(#pa58248c643)\" d=\"M 174.6 216.359219 \nL 208.08 216.359219 \nL 208.08 219.379219 \nL 174.6 219.379219 \nL 174.6 216.359219 \n\" style=\"fill:#00ffff;\"/>\n    <path clip-path=\"url(#pa58248c643)\" d=\"M 208.08 216.359219 \nL 241.56 216.359219 \nL 241.56 219.379219 \nL 208.08 219.379219 \nL 208.08 216.359219 \n\" style=\"fill:#00ffff;\"/>\n    <path clip-path=\"url(#pa58248c643)\" d=\"M 241.56 216.359219 \nL 275.04 216.359219 \nL 275.04 219.379219 \nL 241.56 219.379219 \nL 241.56 216.359219 \n\" style=\"fill:#00ffff;\"/>\n    <path clip-path=\"url(#pa58248c643)\" d=\"M 7.2 219.379219 \nL 40.68 219.379219 \nL 40.68 222.399219 \nL 7.2 222.399219 \nL 7.2 219.379219 \n\" style=\"fill:#00ffff;\"/>\n    <path clip-path=\"url(#pa58248c643)\" d=\"M 40.68 219.379219 \nL 74.16 219.379219 \nL 74.16 222.399219 \nL 40.68 222.399219 \nL 40.68 219.379219 \n\" style=\"fill:#00ffff;\"/>\n    <path clip-path=\"url(#pa58248c643)\" d=\"M 74.16 219.379219 \nL 107.64 219.379219 \nL 107.64 222.399219 \nL 74.16 222.399219 \nL 74.16 219.379219 \n\" style=\"fill:#00ffff;\"/>\n    <path clip-path=\"url(#pa58248c643)\" d=\"M 107.64 219.379219 \nL 141.12 219.379219 \nL 141.12 222.399219 \nL 107.64 222.399219 \nL 107.64 219.379219 \n\" style=\"fill:#ff00ff;\"/>\n    <path clip-path=\"url(#pa58248c643)\" d=\"M 141.12 219.379219 \nL 174.6 219.379219 \nL 174.6 222.399219 \nL 141.12 222.399219 \nL 141.12 219.379219 \n\" style=\"fill:#ff00ff;\"/>\n    <path clip-path=\"url(#pa58248c643)\" d=\"M 174.6 219.379219 \nL 208.08 219.379219 \nL 208.08 222.399219 \nL 174.6 222.399219 \nL 174.6 219.379219 \n\" style=\"fill:#00ffff;\"/>\n    <path clip-path=\"url(#pa58248c643)\" d=\"M 208.08 219.379219 \nL 241.56 219.379219 \nL 241.56 222.399219 \nL 208.08 222.399219 \nL 208.08 219.379219 \n\" style=\"fill:#00ffff;\"/>\n    <path clip-path=\"url(#pa58248c643)\" d=\"M 241.56 219.379219 \nL 275.04 219.379219 \nL 275.04 222.399219 \nL 241.56 222.399219 \nL 241.56 219.379219 \n\" style=\"fill:#00ffff;\"/>\n    <path clip-path=\"url(#pa58248c643)\" d=\"M 7.2 222.399219 \nL 40.68 222.399219 \nL 40.68 225.419219 \nL 7.2 225.419219 \nL 7.2 222.399219 \n\" style=\"fill:#00ffff;\"/>\n    <path clip-path=\"url(#pa58248c643)\" d=\"M 40.68 222.399219 \nL 74.16 222.399219 \nL 74.16 225.419219 \nL 40.68 225.419219 \nL 40.68 222.399219 \n\" style=\"fill:#00ffff;\"/>\n    <path clip-path=\"url(#pa58248c643)\" d=\"M 74.16 222.399219 \nL 107.64 222.399219 \nL 107.64 225.419219 \nL 74.16 225.419219 \nL 74.16 222.399219 \n\" style=\"fill:#00ffff;\"/>\n    <path clip-path=\"url(#pa58248c643)\" d=\"M 107.64 222.399219 \nL 141.12 222.399219 \nL 141.12 225.419219 \nL 107.64 225.419219 \nL 107.64 222.399219 \n\" style=\"fill:#ff00ff;\"/>\n    <path clip-path=\"url(#pa58248c643)\" d=\"M 141.12 222.399219 \nL 174.6 222.399219 \nL 174.6 225.419219 \nL 141.12 225.419219 \nL 141.12 222.399219 \n\" style=\"fill:#ff00ff;\"/>\n    <path clip-path=\"url(#pa58248c643)\" d=\"M 174.6 222.399219 \nL 208.08 222.399219 \nL 208.08 225.419219 \nL 174.6 225.419219 \nL 174.6 222.399219 \n\" style=\"fill:#00ffff;\"/>\n    <path clip-path=\"url(#pa58248c643)\" d=\"M 208.08 222.399219 \nL 241.56 222.399219 \nL 241.56 225.419219 \nL 208.08 225.419219 \nL 208.08 222.399219 \n\" style=\"fill:#00ffff;\"/>\n    <path clip-path=\"url(#pa58248c643)\" d=\"M 241.56 222.399219 \nL 275.04 222.399219 \nL 275.04 225.419219 \nL 241.56 225.419219 \nL 241.56 222.399219 \n\" style=\"fill:#00ffff;\"/>\n    <path clip-path=\"url(#pa58248c643)\" d=\"M 7.2 225.419219 \nL 40.68 225.419219 \nL 40.68 228.439219 \nL 7.2 228.439219 \nL 7.2 225.419219 \n\" style=\"fill:#00ffff;\"/>\n    <path clip-path=\"url(#pa58248c643)\" d=\"M 40.68 225.419219 \nL 74.16 225.419219 \nL 74.16 228.439219 \nL 40.68 228.439219 \nL 40.68 225.419219 \n\" style=\"fill:#00ffff;\"/>\n    <path clip-path=\"url(#pa58248c643)\" d=\"M 74.16 225.419219 \nL 107.64 225.419219 \nL 107.64 228.439219 \nL 74.16 228.439219 \nL 74.16 225.419219 \n\" style=\"fill:#00ffff;\"/>\n    <path clip-path=\"url(#pa58248c643)\" d=\"M 107.64 225.419219 \nL 141.12 225.419219 \nL 141.12 228.439219 \nL 107.64 228.439219 \nL 107.64 225.419219 \n\" style=\"fill:#ff00ff;\"/>\n    <path clip-path=\"url(#pa58248c643)\" d=\"M 141.12 225.419219 \nL 174.6 225.419219 \nL 174.6 228.439219 \nL 141.12 228.439219 \nL 141.12 225.419219 \n\" style=\"fill:#ff00ff;\"/>\n    <path clip-path=\"url(#pa58248c643)\" d=\"M 174.6 225.419219 \nL 208.08 225.419219 \nL 208.08 228.439219 \nL 174.6 228.439219 \nL 174.6 225.419219 \n\" style=\"fill:#00ffff;\"/>\n    <path clip-path=\"url(#pa58248c643)\" d=\"M 208.08 225.419219 \nL 241.56 225.419219 \nL 241.56 228.439219 \nL 208.08 228.439219 \nL 208.08 225.419219 \n\" style=\"fill:#00ffff;\"/>\n    <path clip-path=\"url(#pa58248c643)\" d=\"M 241.56 225.419219 \nL 275.04 225.419219 \nL 275.04 228.439219 \nL 241.56 228.439219 \nL 241.56 225.419219 \n\" style=\"fill:#00ffff;\"/>\n   </g>\n   <g id=\"matplotlib.axis_1\">\n    <g id=\"xtick_1\">\n     <g id=\"line2d_1\">\n      <defs>\n       <path d=\"M 0 0 \nL 0 3.5 \n\" id=\"m5b52310eed\" style=\"stroke:#000000;stroke-width:0.8;\"/>\n      </defs>\n      <g>\n       <use style=\"stroke:#000000;stroke-width:0.8;\" x=\"23.94\" xlink:href=\"#m5b52310eed\" y=\"228.439219\"/>\n      </g>\n     </g>\n     <g id=\"text_1\">\n      <!-- ID -->\n      <defs>\n       <path d=\"M 9.8125 72.90625 \nL 19.671875 72.90625 \nL 19.671875 0 \nL 9.8125 0 \nz\n\" id=\"DejaVuSans-73\"/>\n       <path d=\"M 19.671875 64.796875 \nL 19.671875 8.109375 \nL 31.59375 8.109375 \nQ 46.6875 8.109375 53.6875 14.9375 \nQ 60.6875 21.78125 60.6875 36.53125 \nQ 60.6875 51.171875 53.6875 57.984375 \nQ 46.6875 64.796875 31.59375 64.796875 \nz\nM 9.8125 72.90625 \nL 30.078125 72.90625 \nQ 51.265625 72.90625 61.171875 64.09375 \nQ 71.09375 55.28125 71.09375 36.53125 \nQ 71.09375 17.671875 61.125 8.828125 \nQ 51.171875 0 30.078125 0 \nL 9.8125 0 \nz\n\" id=\"DejaVuSans-68\"/>\n      </defs>\n      <g transform=\"translate(26.699375 246.089219)rotate(-90)scale(0.1 -0.1)\">\n       <use xlink:href=\"#DejaVuSans-73\"/>\n       <use x=\"29.492188\" xlink:href=\"#DejaVuSans-68\"/>\n      </g>\n     </g>\n    </g>\n    <g id=\"xtick_2\">\n     <g id=\"line2d_2\">\n      <g>\n       <use style=\"stroke:#000000;stroke-width:0.8;\" x=\"57.42\" xlink:href=\"#m5b52310eed\" y=\"228.439219\"/>\n      </g>\n     </g>\n     <g id=\"text_2\">\n      <!-- Age -->\n      <defs>\n       <path d=\"M 34.1875 63.1875 \nL 20.796875 26.90625 \nL 47.609375 26.90625 \nz\nM 28.609375 72.90625 \nL 39.796875 72.90625 \nL 67.578125 0 \nL 57.328125 0 \nL 50.6875 18.703125 \nL 17.828125 18.703125 \nL 11.1875 0 \nL 0.78125 0 \nz\n\" id=\"DejaVuSans-65\"/>\n       <path d=\"M 45.40625 27.984375 \nQ 45.40625 37.75 41.375 43.109375 \nQ 37.359375 48.484375 30.078125 48.484375 \nQ 22.859375 48.484375 18.828125 43.109375 \nQ 14.796875 37.75 14.796875 27.984375 \nQ 14.796875 18.265625 18.828125 12.890625 \nQ 22.859375 7.515625 30.078125 7.515625 \nQ 37.359375 7.515625 41.375 12.890625 \nQ 45.40625 18.265625 45.40625 27.984375 \nz\nM 54.390625 6.78125 \nQ 54.390625 -7.171875 48.1875 -13.984375 \nQ 42 -20.796875 29.203125 -20.796875 \nQ 24.46875 -20.796875 20.265625 -20.09375 \nQ 16.0625 -19.390625 12.109375 -17.921875 \nL 12.109375 -9.1875 \nQ 16.0625 -11.328125 19.921875 -12.34375 \nQ 23.78125 -13.375 27.78125 -13.375 \nQ 36.625 -13.375 41.015625 -8.765625 \nQ 45.40625 -4.15625 45.40625 5.171875 \nL 45.40625 9.625 \nQ 42.625 4.78125 38.28125 2.390625 \nQ 33.9375 0 27.875 0 \nQ 17.828125 0 11.671875 7.65625 \nQ 5.515625 15.328125 5.515625 27.984375 \nQ 5.515625 40.671875 11.671875 48.328125 \nQ 17.828125 56 27.875 56 \nQ 33.9375 56 38.28125 53.609375 \nQ 42.625 51.21875 45.40625 46.390625 \nL 45.40625 54.6875 \nL 54.390625 54.6875 \nz\n\" id=\"DejaVuSans-103\"/>\n       <path d=\"M 56.203125 29.59375 \nL 56.203125 25.203125 \nL 14.890625 25.203125 \nQ 15.484375 15.921875 20.484375 11.0625 \nQ 25.484375 6.203125 34.421875 6.203125 \nQ 39.59375 6.203125 44.453125 7.46875 \nQ 49.3125 8.734375 54.109375 11.28125 \nL 54.109375 2.78125 \nQ 49.265625 0.734375 44.1875 -0.34375 \nQ 39.109375 -1.421875 33.890625 -1.421875 \nQ 20.796875 -1.421875 13.15625 6.1875 \nQ 5.515625 13.8125 5.515625 26.8125 \nQ 5.515625 40.234375 12.765625 48.109375 \nQ 20.015625 56 32.328125 56 \nQ 43.359375 56 49.78125 48.890625 \nQ 56.203125 41.796875 56.203125 29.59375 \nz\nM 47.21875 32.234375 \nQ 47.125 39.59375 43.09375 43.984375 \nQ 39.0625 48.390625 32.421875 48.390625 \nQ 24.90625 48.390625 20.390625 44.140625 \nQ 15.875 39.890625 15.1875 32.171875 \nz\n\" id=\"DejaVuSans-101\"/>\n      </defs>\n      <g transform=\"translate(60.179375 254.781406)rotate(-90)scale(0.1 -0.1)\">\n       <use xlink:href=\"#DejaVuSans-65\"/>\n       <use x=\"68.408203\" xlink:href=\"#DejaVuSans-103\"/>\n       <use x=\"131.884766\" xlink:href=\"#DejaVuSans-101\"/>\n      </g>\n     </g>\n    </g>\n    <g id=\"xtick_3\">\n     <g id=\"line2d_3\">\n      <g>\n       <use style=\"stroke:#000000;stroke-width:0.8;\" x=\"90.9\" xlink:href=\"#m5b52310eed\" y=\"228.439219\"/>\n      </g>\n     </g>\n     <g id=\"text_3\">\n      <!-- Weight -->\n      <defs>\n       <path d=\"M 3.328125 72.90625 \nL 13.28125 72.90625 \nL 28.609375 11.28125 \nL 43.890625 72.90625 \nL 54.984375 72.90625 \nL 70.3125 11.28125 \nL 85.59375 72.90625 \nL 95.609375 72.90625 \nL 77.296875 0 \nL 64.890625 0 \nL 49.515625 63.28125 \nL 33.984375 0 \nL 21.578125 0 \nz\n\" id=\"DejaVuSans-87\"/>\n       <path d=\"M 9.421875 54.6875 \nL 18.40625 54.6875 \nL 18.40625 0 \nL 9.421875 0 \nz\nM 9.421875 75.984375 \nL 18.40625 75.984375 \nL 18.40625 64.59375 \nL 9.421875 64.59375 \nz\n\" id=\"DejaVuSans-105\"/>\n       <path d=\"M 54.890625 33.015625 \nL 54.890625 0 \nL 45.90625 0 \nL 45.90625 32.71875 \nQ 45.90625 40.484375 42.875 44.328125 \nQ 39.84375 48.1875 33.796875 48.1875 \nQ 26.515625 48.1875 22.3125 43.546875 \nQ 18.109375 38.921875 18.109375 30.90625 \nL 18.109375 0 \nL 9.078125 0 \nL 9.078125 75.984375 \nL 18.109375 75.984375 \nL 18.109375 46.1875 \nQ 21.34375 51.125 25.703125 53.5625 \nQ 30.078125 56 35.796875 56 \nQ 45.21875 56 50.046875 50.171875 \nQ 54.890625 44.34375 54.890625 33.015625 \nz\n\" id=\"DejaVuSans-104\"/>\n       <path d=\"M 18.3125 70.21875 \nL 18.3125 54.6875 \nL 36.8125 54.6875 \nL 36.8125 47.703125 \nL 18.3125 47.703125 \nL 18.3125 18.015625 \nQ 18.3125 11.328125 20.140625 9.421875 \nQ 21.96875 7.515625 27.59375 7.515625 \nL 36.8125 7.515625 \nL 36.8125 0 \nL 27.59375 0 \nQ 17.1875 0 13.234375 3.875 \nQ 9.28125 7.765625 9.28125 18.015625 \nL 9.28125 47.703125 \nL 2.6875 47.703125 \nL 2.6875 54.6875 \nL 9.28125 54.6875 \nL 9.28125 70.21875 \nz\n\" id=\"DejaVuSans-116\"/>\n      </defs>\n      <g transform=\"translate(93.659375 270.276719)rotate(-90)scale(0.1 -0.1)\">\n       <use xlink:href=\"#DejaVuSans-87\"/>\n       <use x=\"93.001953\" xlink:href=\"#DejaVuSans-101\"/>\n       <use x=\"154.525391\" xlink:href=\"#DejaVuSans-105\"/>\n       <use x=\"182.308594\" xlink:href=\"#DejaVuSans-103\"/>\n       <use x=\"245.785156\" xlink:href=\"#DejaVuSans-104\"/>\n       <use x=\"309.164062\" xlink:href=\"#DejaVuSans-116\"/>\n      </g>\n     </g>\n    </g>\n    <g id=\"xtick_4\">\n     <g id=\"line2d_4\">\n      <g>\n       <use style=\"stroke:#000000;stroke-width:0.8;\" x=\"124.38\" xlink:href=\"#m5b52310eed\" y=\"228.439219\"/>\n      </g>\n     </g>\n     <g id=\"text_4\">\n      <!-- First Name -->\n      <defs>\n       <path d=\"M 9.8125 72.90625 \nL 51.703125 72.90625 \nL 51.703125 64.59375 \nL 19.671875 64.59375 \nL 19.671875 43.109375 \nL 48.578125 43.109375 \nL 48.578125 34.8125 \nL 19.671875 34.8125 \nL 19.671875 0 \nL 9.8125 0 \nz\n\" id=\"DejaVuSans-70\"/>\n       <path d=\"M 41.109375 46.296875 \nQ 39.59375 47.171875 37.8125 47.578125 \nQ 36.03125 48 33.890625 48 \nQ 26.265625 48 22.1875 43.046875 \nQ 18.109375 38.09375 18.109375 28.8125 \nL 18.109375 0 \nL 9.078125 0 \nL 9.078125 54.6875 \nL 18.109375 54.6875 \nL 18.109375 46.1875 \nQ 20.953125 51.171875 25.484375 53.578125 \nQ 30.03125 56 36.53125 56 \nQ 37.453125 56 38.578125 55.875 \nQ 39.703125 55.765625 41.0625 55.515625 \nz\n\" id=\"DejaVuSans-114\"/>\n       <path d=\"M 44.28125 53.078125 \nL 44.28125 44.578125 \nQ 40.484375 46.53125 36.375 47.5 \nQ 32.28125 48.484375 27.875 48.484375 \nQ 21.1875 48.484375 17.84375 46.4375 \nQ 14.5 44.390625 14.5 40.28125 \nQ 14.5 37.15625 16.890625 35.375 \nQ 19.28125 33.59375 26.515625 31.984375 \nL 29.59375 31.296875 \nQ 39.15625 29.25 43.1875 25.515625 \nQ 47.21875 21.78125 47.21875 15.09375 \nQ 47.21875 7.46875 41.1875 3.015625 \nQ 35.15625 -1.421875 24.609375 -1.421875 \nQ 20.21875 -1.421875 15.453125 -0.5625 \nQ 10.6875 0.296875 5.421875 2 \nL 5.421875 11.28125 \nQ 10.40625 8.6875 15.234375 7.390625 \nQ 20.0625 6.109375 24.8125 6.109375 \nQ 31.15625 6.109375 34.5625 8.28125 \nQ 37.984375 10.453125 37.984375 14.40625 \nQ 37.984375 18.0625 35.515625 20.015625 \nQ 33.0625 21.96875 24.703125 23.78125 \nL 21.578125 24.515625 \nQ 13.234375 26.265625 9.515625 29.90625 \nQ 5.8125 33.546875 5.8125 39.890625 \nQ 5.8125 47.609375 11.28125 51.796875 \nQ 16.75 56 26.8125 56 \nQ 31.78125 56 36.171875 55.265625 \nQ 40.578125 54.546875 44.28125 53.078125 \nz\n\" id=\"DejaVuSans-115\"/>\n       <path id=\"DejaVuSans-32\"/>\n       <path d=\"M 9.8125 72.90625 \nL 23.09375 72.90625 \nL 55.421875 11.921875 \nL 55.421875 72.90625 \nL 64.984375 72.90625 \nL 64.984375 0 \nL 51.703125 0 \nL 19.390625 60.984375 \nL 19.390625 0 \nL 9.8125 0 \nz\n\" id=\"DejaVuSans-78\"/>\n       <path d=\"M 34.28125 27.484375 \nQ 23.390625 27.484375 19.1875 25 \nQ 14.984375 22.515625 14.984375 16.5 \nQ 14.984375 11.71875 18.140625 8.90625 \nQ 21.296875 6.109375 26.703125 6.109375 \nQ 34.1875 6.109375 38.703125 11.40625 \nQ 43.21875 16.703125 43.21875 25.484375 \nL 43.21875 27.484375 \nz\nM 52.203125 31.203125 \nL 52.203125 0 \nL 43.21875 0 \nL 43.21875 8.296875 \nQ 40.140625 3.328125 35.546875 0.953125 \nQ 30.953125 -1.421875 24.3125 -1.421875 \nQ 15.921875 -1.421875 10.953125 3.296875 \nQ 6 8.015625 6 15.921875 \nQ 6 25.140625 12.171875 29.828125 \nQ 18.359375 34.515625 30.609375 34.515625 \nL 43.21875 34.515625 \nL 43.21875 35.40625 \nQ 43.21875 41.609375 39.140625 45 \nQ 35.0625 48.390625 27.6875 48.390625 \nQ 23 48.390625 18.546875 47.265625 \nQ 14.109375 46.140625 10.015625 43.890625 \nL 10.015625 52.203125 \nQ 14.9375 54.109375 19.578125 55.046875 \nQ 24.21875 56 28.609375 56 \nQ 40.484375 56 46.34375 49.84375 \nQ 52.203125 43.703125 52.203125 31.203125 \nz\n\" id=\"DejaVuSans-97\"/>\n       <path d=\"M 52 44.1875 \nQ 55.375 50.25 60.0625 53.125 \nQ 64.75 56 71.09375 56 \nQ 79.640625 56 84.28125 50.015625 \nQ 88.921875 44.046875 88.921875 33.015625 \nL 88.921875 0 \nL 79.890625 0 \nL 79.890625 32.71875 \nQ 79.890625 40.578125 77.09375 44.375 \nQ 74.3125 48.1875 68.609375 48.1875 \nQ 61.625 48.1875 57.5625 43.546875 \nQ 53.515625 38.921875 53.515625 30.90625 \nL 53.515625 0 \nL 44.484375 0 \nL 44.484375 32.71875 \nQ 44.484375 40.625 41.703125 44.40625 \nQ 38.921875 48.1875 33.109375 48.1875 \nQ 26.21875 48.1875 22.15625 43.53125 \nQ 18.109375 38.875 18.109375 30.90625 \nL 18.109375 0 \nL 9.078125 0 \nL 9.078125 54.6875 \nL 18.109375 54.6875 \nL 18.109375 46.1875 \nQ 21.1875 51.21875 25.484375 53.609375 \nQ 29.78125 56 35.6875 56 \nQ 41.65625 56 45.828125 52.96875 \nQ 50 49.953125 52 44.1875 \nz\n\" id=\"DejaVuSans-109\"/>\n      </defs>\n      <g transform=\"translate(127.139375 289.165781)rotate(-90)scale(0.1 -0.1)\">\n       <use xlink:href=\"#DejaVuSans-70\"/>\n       <use x=\"50.269531\" xlink:href=\"#DejaVuSans-105\"/>\n       <use x=\"78.052734\" xlink:href=\"#DejaVuSans-114\"/>\n       <use x=\"119.166016\" xlink:href=\"#DejaVuSans-115\"/>\n       <use x=\"171.265625\" xlink:href=\"#DejaVuSans-116\"/>\n       <use x=\"210.474609\" xlink:href=\"#DejaVuSans-32\"/>\n       <use x=\"242.261719\" xlink:href=\"#DejaVuSans-78\"/>\n       <use x=\"317.066406\" xlink:href=\"#DejaVuSans-97\"/>\n       <use x=\"378.345703\" xlink:href=\"#DejaVuSans-109\"/>\n       <use x=\"475.757812\" xlink:href=\"#DejaVuSans-101\"/>\n      </g>\n     </g>\n    </g>\n    <g id=\"xtick_5\">\n     <g id=\"line2d_5\">\n      <g>\n       <use style=\"stroke:#000000;stroke-width:0.8;\" x=\"157.86\" xlink:href=\"#m5b52310eed\" y=\"228.439219\"/>\n      </g>\n     </g>\n     <g id=\"text_5\">\n      <!-- Last Name -->\n      <defs>\n       <path d=\"M 9.8125 72.90625 \nL 19.671875 72.90625 \nL 19.671875 8.296875 \nL 55.171875 8.296875 \nL 55.171875 0 \nL 9.8125 0 \nz\n\" id=\"DejaVuSans-76\"/>\n      </defs>\n      <g transform=\"translate(160.619375 288.950156)rotate(-90)scale(0.1 -0.1)\">\n       <use xlink:href=\"#DejaVuSans-76\"/>\n       <use x=\"55.712891\" xlink:href=\"#DejaVuSans-97\"/>\n       <use x=\"116.992188\" xlink:href=\"#DejaVuSans-115\"/>\n       <use x=\"169.091797\" xlink:href=\"#DejaVuSans-116\"/>\n       <use x=\"208.300781\" xlink:href=\"#DejaVuSans-32\"/>\n       <use x=\"240.087891\" xlink:href=\"#DejaVuSans-78\"/>\n       <use x=\"314.892578\" xlink:href=\"#DejaVuSans-97\"/>\n       <use x=\"376.171875\" xlink:href=\"#DejaVuSans-109\"/>\n       <use x=\"473.583984\" xlink:href=\"#DejaVuSans-101\"/>\n      </g>\n     </g>\n    </g>\n    <g id=\"xtick_6\">\n     <g id=\"line2d_6\">\n      <g>\n       <use style=\"stroke:#000000;stroke-width:0.8;\" x=\"191.34\" xlink:href=\"#m5b52310eed\" y=\"228.439219\"/>\n      </g>\n     </g>\n     <g id=\"text_6\">\n      <!-- PulseRate -->\n      <defs>\n       <path d=\"M 19.671875 64.796875 \nL 19.671875 37.40625 \nL 32.078125 37.40625 \nQ 38.96875 37.40625 42.71875 40.96875 \nQ 46.484375 44.53125 46.484375 51.125 \nQ 46.484375 57.671875 42.71875 61.234375 \nQ 38.96875 64.796875 32.078125 64.796875 \nz\nM 9.8125 72.90625 \nL 32.078125 72.90625 \nQ 44.34375 72.90625 50.609375 67.359375 \nQ 56.890625 61.8125 56.890625 51.125 \nQ 56.890625 40.328125 50.609375 34.8125 \nQ 44.34375 29.296875 32.078125 29.296875 \nL 19.671875 29.296875 \nL 19.671875 0 \nL 9.8125 0 \nz\n\" id=\"DejaVuSans-80\"/>\n       <path d=\"M 8.5 21.578125 \nL 8.5 54.6875 \nL 17.484375 54.6875 \nL 17.484375 21.921875 \nQ 17.484375 14.15625 20.5 10.265625 \nQ 23.53125 6.390625 29.59375 6.390625 \nQ 36.859375 6.390625 41.078125 11.03125 \nQ 45.3125 15.671875 45.3125 23.6875 \nL 45.3125 54.6875 \nL 54.296875 54.6875 \nL 54.296875 0 \nL 45.3125 0 \nL 45.3125 8.40625 \nQ 42.046875 3.421875 37.71875 1 \nQ 33.40625 -1.421875 27.6875 -1.421875 \nQ 18.265625 -1.421875 13.375 4.4375 \nQ 8.5 10.296875 8.5 21.578125 \nz\nM 31.109375 56 \nz\n\" id=\"DejaVuSans-117\"/>\n       <path d=\"M 9.421875 75.984375 \nL 18.40625 75.984375 \nL 18.40625 0 \nL 9.421875 0 \nz\n\" id=\"DejaVuSans-108\"/>\n       <path d=\"M 44.390625 34.1875 \nQ 47.5625 33.109375 50.5625 29.59375 \nQ 53.5625 26.078125 56.59375 19.921875 \nL 66.609375 0 \nL 56 0 \nL 46.6875 18.703125 \nQ 43.0625 26.03125 39.671875 28.421875 \nQ 36.28125 30.8125 30.421875 30.8125 \nL 19.671875 30.8125 \nL 19.671875 0 \nL 9.8125 0 \nL 9.8125 72.90625 \nL 32.078125 72.90625 \nQ 44.578125 72.90625 50.734375 67.671875 \nQ 56.890625 62.453125 56.890625 51.90625 \nQ 56.890625 45.015625 53.6875 40.46875 \nQ 50.484375 35.9375 44.390625 34.1875 \nz\nM 19.671875 64.796875 \nL 19.671875 38.921875 \nL 32.078125 38.921875 \nQ 39.203125 38.921875 42.84375 42.21875 \nQ 46.484375 45.515625 46.484375 51.90625 \nQ 46.484375 58.296875 42.84375 61.546875 \nQ 39.203125 64.796875 32.078125 64.796875 \nz\n\" id=\"DejaVuSans-82\"/>\n      </defs>\n      <g transform=\"translate(194.099375 284.697031)rotate(-90)scale(0.1 -0.1)\">\n       <use xlink:href=\"#DejaVuSans-80\"/>\n       <use x=\"58.552734\" xlink:href=\"#DejaVuSans-117\"/>\n       <use x=\"121.931641\" xlink:href=\"#DejaVuSans-108\"/>\n       <use x=\"149.714844\" xlink:href=\"#DejaVuSans-115\"/>\n       <use x=\"201.814453\" xlink:href=\"#DejaVuSans-101\"/>\n       <use x=\"263.337891\" xlink:href=\"#DejaVuSans-82\"/>\n       <use x=\"330.570312\" xlink:href=\"#DejaVuSans-97\"/>\n       <use x=\"391.849609\" xlink:href=\"#DejaVuSans-116\"/>\n       <use x=\"431.058594\" xlink:href=\"#DejaVuSans-101\"/>\n      </g>\n     </g>\n    </g>\n    <g id=\"xtick_7\">\n     <g id=\"line2d_7\">\n      <g>\n       <use style=\"stroke:#000000;stroke-width:0.8;\" x=\"224.82\" xlink:href=\"#m5b52310eed\" y=\"228.439219\"/>\n      </g>\n     </g>\n     <g id=\"text_7\">\n      <!-- Sex -->\n      <defs>\n       <path d=\"M 53.515625 70.515625 \nL 53.515625 60.890625 \nQ 47.90625 63.578125 42.921875 64.890625 \nQ 37.9375 66.21875 33.296875 66.21875 \nQ 25.25 66.21875 20.875 63.09375 \nQ 16.5 59.96875 16.5 54.203125 \nQ 16.5 49.359375 19.40625 46.890625 \nQ 22.3125 44.4375 30.421875 42.921875 \nL 36.375 41.703125 \nQ 47.40625 39.59375 52.65625 34.296875 \nQ 57.90625 29 57.90625 20.125 \nQ 57.90625 9.515625 50.796875 4.046875 \nQ 43.703125 -1.421875 29.984375 -1.421875 \nQ 24.8125 -1.421875 18.96875 -0.25 \nQ 13.140625 0.921875 6.890625 3.21875 \nL 6.890625 13.375 \nQ 12.890625 10.015625 18.65625 8.296875 \nQ 24.421875 6.59375 29.984375 6.59375 \nQ 38.421875 6.59375 43.015625 9.90625 \nQ 47.609375 13.234375 47.609375 19.390625 \nQ 47.609375 24.75 44.3125 27.78125 \nQ 41.015625 30.8125 33.5 32.328125 \nL 27.484375 33.5 \nQ 16.453125 35.6875 11.515625 40.375 \nQ 6.59375 45.0625 6.59375 53.421875 \nQ 6.59375 63.09375 13.40625 68.65625 \nQ 20.21875 74.21875 32.171875 74.21875 \nQ 37.3125 74.21875 42.625 73.28125 \nQ 47.953125 72.359375 53.515625 70.515625 \nz\n\" id=\"DejaVuSans-83\"/>\n       <path d=\"M 54.890625 54.6875 \nL 35.109375 28.078125 \nL 55.90625 0 \nL 45.3125 0 \nL 29.390625 21.484375 \nL 13.484375 0 \nL 2.875 0 \nL 24.125 28.609375 \nL 4.6875 54.6875 \nL 15.28125 54.6875 \nL 29.78125 35.203125 \nL 44.28125 54.6875 \nz\n\" id=\"DejaVuSans-120\"/>\n      </defs>\n      <g transform=\"translate(227.579375 253.684531)rotate(-90)scale(0.1 -0.1)\">\n       <use xlink:href=\"#DejaVuSans-83\"/>\n       <use x=\"63.476562\" xlink:href=\"#DejaVuSans-101\"/>\n       <use x=\"123.25\" xlink:href=\"#DejaVuSans-120\"/>\n      </g>\n     </g>\n    </g>\n    <g id=\"xtick_8\">\n     <g id=\"line2d_8\">\n      <g>\n       <use style=\"stroke:#000000;stroke-width:0.8;\" x=\"258.3\" xlink:href=\"#m5b52310eed\" y=\"228.439219\"/>\n      </g>\n     </g>\n     <g id=\"text_8\">\n      <!-- Time -->\n      <defs>\n       <path d=\"M -0.296875 72.90625 \nL 61.375 72.90625 \nL 61.375 64.59375 \nL 35.5 64.59375 \nL 35.5 0 \nL 25.59375 0 \nL 25.59375 64.59375 \nL -0.296875 64.59375 \nz\n\" id=\"DejaVuSans-84\"/>\n      </defs>\n      <g transform=\"translate(261.059375 259.906406)rotate(-90)scale(0.1 -0.1)\">\n       <use xlink:href=\"#DejaVuSans-84\"/>\n       <use x=\"57.958984\" xlink:href=\"#DejaVuSans-105\"/>\n       <use x=\"85.742188\" xlink:href=\"#DejaVuSans-109\"/>\n       <use x=\"183.154297\" xlink:href=\"#DejaVuSans-101\"/>\n      </g>\n     </g>\n    </g>\n   </g>\n   <g id=\"matplotlib.axis_2\"/>\n  </g>\n  <g id=\"axes_2\">\n   <g id=\"patch_3\">\n    <path clip-path=\"url(#p42ee9fab45)\" d=\"M 291.78 228.439219 \nL 291.78 227.589844 \nL 291.78 11.848594 \nL 291.78 10.999219 \nL 302.652 10.999219 \nL 302.652 11.848594 \nL 302.652 227.589844 \nL 302.652 228.439219 \nz\n\" style=\"fill:#ffffff;stroke:#ffffff;stroke-linejoin:miter;stroke-width:0.01;\"/>\n   </g>\n   <image height=\"217\" id=\"image55633aec84\" transform=\"scale(1 -1)translate(0 -217)\" width=\"11\" x=\"292\" xlink:href=\"data:image/png;base64,\niVBORw0KGgoAAAANSUhEUgAAAAsAAADZCAYAAAD2WsoCAAAABHNCSVQICAgIfAhkiAAAAIFJREFUaIHt0DEOwCAMBME4yv+fDLQu0RURrNb1Fr6pGnM+m/fVdnpO/I4j3nDgP7EaPcZr4Aeq0WP8QDXiGK+BH6hGHOM18APViGO8Bn6gGnGM18APVKPH+IFqxDFeAz9QjTjGa+AHqhHHeA38QDV6jB+oRhzjNfAD1YhjvMaFAxeHGt5fUXj8qwAAAABJRU5ErkJggg==\" y=\"-11\"/>\n   <g id=\"matplotlib.axis_3\"/>\n   <g id=\"matplotlib.axis_4\">\n    <g id=\"ytick_1\">\n     <g id=\"line2d_9\">\n      <defs>\n       <path d=\"M 0 0 \nL 3.5 0 \n\" id=\"m1350394e7e\" style=\"stroke:#000000;stroke-width:0.8;\"/>\n      </defs>\n      <g>\n       <use style=\"stroke:#000000;stroke-width:0.8;\" x=\"302.652\" xlink:href=\"#m1350394e7e\" y=\"228.439219\"/>\n      </g>\n     </g>\n     <g id=\"text_9\">\n      <!-- 0.0 -->\n      <defs>\n       <path d=\"M 31.78125 66.40625 \nQ 24.171875 66.40625 20.328125 58.90625 \nQ 16.5 51.421875 16.5 36.375 \nQ 16.5 21.390625 20.328125 13.890625 \nQ 24.171875 6.390625 31.78125 6.390625 \nQ 39.453125 6.390625 43.28125 13.890625 \nQ 47.125 21.390625 47.125 36.375 \nQ 47.125 51.421875 43.28125 58.90625 \nQ 39.453125 66.40625 31.78125 66.40625 \nz\nM 31.78125 74.21875 \nQ 44.046875 74.21875 50.515625 64.515625 \nQ 56.984375 54.828125 56.984375 36.375 \nQ 56.984375 17.96875 50.515625 8.265625 \nQ 44.046875 -1.421875 31.78125 -1.421875 \nQ 19.53125 -1.421875 13.0625 8.265625 \nQ 6.59375 17.96875 6.59375 36.375 \nQ 6.59375 54.828125 13.0625 64.515625 \nQ 19.53125 74.21875 31.78125 74.21875 \nz\n\" id=\"DejaVuSans-48\"/>\n       <path d=\"M 10.6875 12.40625 \nL 21 12.40625 \nL 21 0 \nL 10.6875 0 \nz\n\" id=\"DejaVuSans-46\"/>\n      </defs>\n      <g transform=\"translate(309.652 232.238437)scale(0.1 -0.1)\">\n       <use xlink:href=\"#DejaVuSans-48\"/>\n       <use x=\"63.623047\" xlink:href=\"#DejaVuSans-46\"/>\n       <use x=\"95.410156\" xlink:href=\"#DejaVuSans-48\"/>\n      </g>\n     </g>\n    </g>\n    <g id=\"ytick_2\">\n     <g id=\"line2d_10\">\n      <g>\n       <use style=\"stroke:#000000;stroke-width:0.8;\" x=\"302.652\" xlink:href=\"#m1350394e7e\" y=\"184.951219\"/>\n      </g>\n     </g>\n     <g id=\"text_10\">\n      <!-- 0.2 -->\n      <defs>\n       <path d=\"M 19.1875 8.296875 \nL 53.609375 8.296875 \nL 53.609375 0 \nL 7.328125 0 \nL 7.328125 8.296875 \nQ 12.9375 14.109375 22.625 23.890625 \nQ 32.328125 33.6875 34.8125 36.53125 \nQ 39.546875 41.84375 41.421875 45.53125 \nQ 43.3125 49.21875 43.3125 52.78125 \nQ 43.3125 58.59375 39.234375 62.25 \nQ 35.15625 65.921875 28.609375 65.921875 \nQ 23.96875 65.921875 18.8125 64.3125 \nQ 13.671875 62.703125 7.8125 59.421875 \nL 7.8125 69.390625 \nQ 13.765625 71.78125 18.9375 73 \nQ 24.125 74.21875 28.421875 74.21875 \nQ 39.75 74.21875 46.484375 68.546875 \nQ 53.21875 62.890625 53.21875 53.421875 \nQ 53.21875 48.921875 51.53125 44.890625 \nQ 49.859375 40.875 45.40625 35.40625 \nQ 44.1875 33.984375 37.640625 27.21875 \nQ 31.109375 20.453125 19.1875 8.296875 \nz\n\" id=\"DejaVuSans-50\"/>\n      </defs>\n      <g transform=\"translate(309.652 188.750437)scale(0.1 -0.1)\">\n       <use xlink:href=\"#DejaVuSans-48\"/>\n       <use x=\"63.623047\" xlink:href=\"#DejaVuSans-46\"/>\n       <use x=\"95.410156\" xlink:href=\"#DejaVuSans-50\"/>\n      </g>\n     </g>\n    </g>\n    <g id=\"ytick_3\">\n     <g id=\"line2d_11\">\n      <g>\n       <use style=\"stroke:#000000;stroke-width:0.8;\" x=\"302.652\" xlink:href=\"#m1350394e7e\" y=\"141.463219\"/>\n      </g>\n     </g>\n     <g id=\"text_11\">\n      <!-- 0.4 -->\n      <defs>\n       <path d=\"M 37.796875 64.3125 \nL 12.890625 25.390625 \nL 37.796875 25.390625 \nz\nM 35.203125 72.90625 \nL 47.609375 72.90625 \nL 47.609375 25.390625 \nL 58.015625 25.390625 \nL 58.015625 17.1875 \nL 47.609375 17.1875 \nL 47.609375 0 \nL 37.796875 0 \nL 37.796875 17.1875 \nL 4.890625 17.1875 \nL 4.890625 26.703125 \nz\n\" id=\"DejaVuSans-52\"/>\n      </defs>\n      <g transform=\"translate(309.652 145.262437)scale(0.1 -0.1)\">\n       <use xlink:href=\"#DejaVuSans-48\"/>\n       <use x=\"63.623047\" xlink:href=\"#DejaVuSans-46\"/>\n       <use x=\"95.410156\" xlink:href=\"#DejaVuSans-52\"/>\n      </g>\n     </g>\n    </g>\n    <g id=\"ytick_4\">\n     <g id=\"line2d_12\">\n      <g>\n       <use style=\"stroke:#000000;stroke-width:0.8;\" x=\"302.652\" xlink:href=\"#m1350394e7e\" y=\"97.975219\"/>\n      </g>\n     </g>\n     <g id=\"text_12\">\n      <!-- 0.6 -->\n      <defs>\n       <path d=\"M 33.015625 40.375 \nQ 26.375 40.375 22.484375 35.828125 \nQ 18.609375 31.296875 18.609375 23.390625 \nQ 18.609375 15.53125 22.484375 10.953125 \nQ 26.375 6.390625 33.015625 6.390625 \nQ 39.65625 6.390625 43.53125 10.953125 \nQ 47.40625 15.53125 47.40625 23.390625 \nQ 47.40625 31.296875 43.53125 35.828125 \nQ 39.65625 40.375 33.015625 40.375 \nz\nM 52.59375 71.296875 \nL 52.59375 62.3125 \nQ 48.875 64.0625 45.09375 64.984375 \nQ 41.3125 65.921875 37.59375 65.921875 \nQ 27.828125 65.921875 22.671875 59.328125 \nQ 17.53125 52.734375 16.796875 39.40625 \nQ 19.671875 43.65625 24.015625 45.921875 \nQ 28.375 48.1875 33.59375 48.1875 \nQ 44.578125 48.1875 50.953125 41.515625 \nQ 57.328125 34.859375 57.328125 23.390625 \nQ 57.328125 12.15625 50.6875 5.359375 \nQ 44.046875 -1.421875 33.015625 -1.421875 \nQ 20.359375 -1.421875 13.671875 8.265625 \nQ 6.984375 17.96875 6.984375 36.375 \nQ 6.984375 53.65625 15.1875 63.9375 \nQ 23.390625 74.21875 37.203125 74.21875 \nQ 40.921875 74.21875 44.703125 73.484375 \nQ 48.484375 72.75 52.59375 71.296875 \nz\n\" id=\"DejaVuSans-54\"/>\n      </defs>\n      <g transform=\"translate(309.652 101.774437)scale(0.1 -0.1)\">\n       <use xlink:href=\"#DejaVuSans-48\"/>\n       <use x=\"63.623047\" xlink:href=\"#DejaVuSans-46\"/>\n       <use x=\"95.410156\" xlink:href=\"#DejaVuSans-54\"/>\n      </g>\n     </g>\n    </g>\n    <g id=\"ytick_5\">\n     <g id=\"line2d_13\">\n      <g>\n       <use style=\"stroke:#000000;stroke-width:0.8;\" x=\"302.652\" xlink:href=\"#m1350394e7e\" y=\"54.487219\"/>\n      </g>\n     </g>\n     <g id=\"text_13\">\n      <!-- 0.8 -->\n      <defs>\n       <path d=\"M 31.78125 34.625 \nQ 24.75 34.625 20.71875 30.859375 \nQ 16.703125 27.09375 16.703125 20.515625 \nQ 16.703125 13.921875 20.71875 10.15625 \nQ 24.75 6.390625 31.78125 6.390625 \nQ 38.8125 6.390625 42.859375 10.171875 \nQ 46.921875 13.96875 46.921875 20.515625 \nQ 46.921875 27.09375 42.890625 30.859375 \nQ 38.875 34.625 31.78125 34.625 \nz\nM 21.921875 38.8125 \nQ 15.578125 40.375 12.03125 44.71875 \nQ 8.5 49.078125 8.5 55.328125 \nQ 8.5 64.0625 14.71875 69.140625 \nQ 20.953125 74.21875 31.78125 74.21875 \nQ 42.671875 74.21875 48.875 69.140625 \nQ 55.078125 64.0625 55.078125 55.328125 \nQ 55.078125 49.078125 51.53125 44.71875 \nQ 48 40.375 41.703125 38.8125 \nQ 48.828125 37.15625 52.796875 32.3125 \nQ 56.78125 27.484375 56.78125 20.515625 \nQ 56.78125 9.90625 50.3125 4.234375 \nQ 43.84375 -1.421875 31.78125 -1.421875 \nQ 19.734375 -1.421875 13.25 4.234375 \nQ 6.78125 9.90625 6.78125 20.515625 \nQ 6.78125 27.484375 10.78125 32.3125 \nQ 14.796875 37.15625 21.921875 38.8125 \nz\nM 18.3125 54.390625 \nQ 18.3125 48.734375 21.84375 45.5625 \nQ 25.390625 42.390625 31.78125 42.390625 \nQ 38.140625 42.390625 41.71875 45.5625 \nQ 45.3125 48.734375 45.3125 54.390625 \nQ 45.3125 60.0625 41.71875 63.234375 \nQ 38.140625 66.40625 31.78125 66.40625 \nQ 25.390625 66.40625 21.84375 63.234375 \nQ 18.3125 60.0625 18.3125 54.390625 \nz\n\" id=\"DejaVuSans-56\"/>\n      </defs>\n      <g transform=\"translate(309.652 58.286437)scale(0.1 -0.1)\">\n       <use xlink:href=\"#DejaVuSans-48\"/>\n       <use x=\"63.623047\" xlink:href=\"#DejaVuSans-46\"/>\n       <use x=\"95.410156\" xlink:href=\"#DejaVuSans-56\"/>\n      </g>\n     </g>\n    </g>\n    <g id=\"ytick_6\">\n     <g id=\"line2d_14\">\n      <g>\n       <use style=\"stroke:#000000;stroke-width:0.8;\" x=\"302.652\" xlink:href=\"#m1350394e7e\" y=\"10.999219\"/>\n      </g>\n     </g>\n     <g id=\"text_14\">\n      <!-- 1.0 -->\n      <defs>\n       <path d=\"M 12.40625 8.296875 \nL 28.515625 8.296875 \nL 28.515625 63.921875 \nL 10.984375 60.40625 \nL 10.984375 69.390625 \nL 28.421875 72.90625 \nL 38.28125 72.90625 \nL 38.28125 8.296875 \nL 54.390625 8.296875 \nL 54.390625 0 \nL 12.40625 0 \nz\n\" id=\"DejaVuSans-49\"/>\n      </defs>\n      <g transform=\"translate(309.652 14.798437)scale(0.1 -0.1)\">\n       <use xlink:href=\"#DejaVuSans-49\"/>\n       <use x=\"63.623047\" xlink:href=\"#DejaVuSans-46\"/>\n       <use x=\"95.410156\" xlink:href=\"#DejaVuSans-48\"/>\n      </g>\n     </g>\n    </g>\n   </g>\n   <g id=\"patch_4\">\n    <path d=\"M 291.78 228.439219 \nL 291.78 227.589844 \nL 291.78 11.848594 \nL 291.78 10.999219 \nL 302.652 10.999219 \nL 302.652 11.848594 \nL 302.652 227.589844 \nL 302.652 228.439219 \nz\n\" style=\"fill:none;\"/>\n   </g>\n  </g>\n </g>\n <defs>\n  <clipPath id=\"pa58248c643\">\n   <rect height=\"217.44\" width=\"267.84\" x=\"7.2\" y=\"10.999219\"/>\n  </clipPath>\n  <clipPath id=\"p42ee9fab45\">\n   <rect height=\"217.44\" width=\"10.872\" x=\"291.78\" y=\"10.999219\"/>\n  </clipPath>\n </defs>\n</svg>\n"
          },
          "metadata": {
            "needs_background": "light"
          }
        }
      ]
    },
    {
      "cell_type": "code",
      "metadata": {
        "id": "nqPmK8YncZMH",
        "outputId": "583a1588-9542-4b6a-bc28-230fbe139412",
        "colab": {
          "base_uri": "https://localhost:8080/",
          "height": 359
        }
      },
      "source": [
        "patient_heart_rate['PulseRate']=patient_heart_rate['PulseRate'].replace({'-':'0'},regex=True)\n",
        "patient_heart_rate.head(10)"
      ],
      "execution_count": 50,
      "outputs": [
        {
          "output_type": "execute_result",
          "data": {
            "text/html": [
              "<div>\n",
              "<style scoped>\n",
              "    .dataframe tbody tr th:only-of-type {\n",
              "        vertical-align: middle;\n",
              "    }\n",
              "\n",
              "    .dataframe tbody tr th {\n",
              "        vertical-align: top;\n",
              "    }\n",
              "\n",
              "    .dataframe thead th {\n",
              "        text-align: right;\n",
              "    }\n",
              "</style>\n",
              "<table border=\"1\" class=\"dataframe\">\n",
              "  <thead>\n",
              "    <tr style=\"text-align: right;\">\n",
              "      <th></th>\n",
              "      <th>ID</th>\n",
              "      <th>Age</th>\n",
              "      <th>Weight</th>\n",
              "      <th>First Name</th>\n",
              "      <th>Last Name</th>\n",
              "      <th>PulseRate</th>\n",
              "      <th>Sex</th>\n",
              "      <th>Time</th>\n",
              "    </tr>\n",
              "  </thead>\n",
              "  <tbody>\n",
              "    <tr>\n",
              "      <th>0</th>\n",
              "      <td>1.0</td>\n",
              "      <td>56.0</td>\n",
              "      <td>70kgs</td>\n",
              "      <td>Micky</td>\n",
              "      <td>Mous</td>\n",
              "      <td>72</td>\n",
              "      <td>m</td>\n",
              "      <td>0-06</td>\n",
              "    </tr>\n",
              "    <tr>\n",
              "      <th>12</th>\n",
              "      <td>1.0</td>\n",
              "      <td>56.0</td>\n",
              "      <td>70kgs</td>\n",
              "      <td>Micky</td>\n",
              "      <td>Mous</td>\n",
              "      <td>69</td>\n",
              "      <td>m</td>\n",
              "      <td>06-12</td>\n",
              "    </tr>\n",
              "    <tr>\n",
              "      <th>24</th>\n",
              "      <td>1.0</td>\n",
              "      <td>56.0</td>\n",
              "      <td>70kgs</td>\n",
              "      <td>Micky</td>\n",
              "      <td>Mous</td>\n",
              "      <td>71</td>\n",
              "      <td>m</td>\n",
              "      <td>12-18</td>\n",
              "    </tr>\n",
              "    <tr>\n",
              "      <th>36</th>\n",
              "      <td>1.0</td>\n",
              "      <td>56.0</td>\n",
              "      <td>70kgs</td>\n",
              "      <td>Micky</td>\n",
              "      <td>Mous</td>\n",
              "      <td>0</td>\n",
              "      <td>f</td>\n",
              "      <td>0-06</td>\n",
              "    </tr>\n",
              "    <tr>\n",
              "      <th>48</th>\n",
              "      <td>1.0</td>\n",
              "      <td>56.0</td>\n",
              "      <td>70kgs</td>\n",
              "      <td>Micky</td>\n",
              "      <td>Mous</td>\n",
              "      <td>0</td>\n",
              "      <td>f</td>\n",
              "      <td>06-12</td>\n",
              "    </tr>\n",
              "    <tr>\n",
              "      <th>60</th>\n",
              "      <td>1.0</td>\n",
              "      <td>56.0</td>\n",
              "      <td>70kgs</td>\n",
              "      <td>Micky</td>\n",
              "      <td>Mous</td>\n",
              "      <td>0</td>\n",
              "      <td>f</td>\n",
              "      <td>12-18</td>\n",
              "    </tr>\n",
              "    <tr>\n",
              "      <th>1</th>\n",
              "      <td>2.0</td>\n",
              "      <td>34.0</td>\n",
              "      <td>70kgs</td>\n",
              "      <td>Donald</td>\n",
              "      <td>Duck</td>\n",
              "      <td>0</td>\n",
              "      <td>m</td>\n",
              "      <td>0-06</td>\n",
              "    </tr>\n",
              "    <tr>\n",
              "      <th>13</th>\n",
              "      <td>2.0</td>\n",
              "      <td>34.0</td>\n",
              "      <td>70kgs</td>\n",
              "      <td>Donald</td>\n",
              "      <td>Duck</td>\n",
              "      <td>0</td>\n",
              "      <td>m</td>\n",
              "      <td>06-12</td>\n",
              "    </tr>\n",
              "    <tr>\n",
              "      <th>25</th>\n",
              "      <td>2.0</td>\n",
              "      <td>34.0</td>\n",
              "      <td>70kgs</td>\n",
              "      <td>Donald</td>\n",
              "      <td>Duck</td>\n",
              "      <td>0</td>\n",
              "      <td>m</td>\n",
              "      <td>12-18</td>\n",
              "    </tr>\n",
              "    <tr>\n",
              "      <th>37</th>\n",
              "      <td>2.0</td>\n",
              "      <td>34.0</td>\n",
              "      <td>70kgs</td>\n",
              "      <td>Donald</td>\n",
              "      <td>Duck</td>\n",
              "      <td>85</td>\n",
              "      <td>f</td>\n",
              "      <td>0-06</td>\n",
              "    </tr>\n",
              "  </tbody>\n",
              "</table>\n",
              "</div>"
            ],
            "text/plain": [
              "     ID   Age Weight First Name Last Name PulseRate Sex   Time\n",
              "0   1.0  56.0  70kgs      Micky      Mous        72   m   0-06\n",
              "12  1.0  56.0  70kgs      Micky      Mous        69   m  06-12\n",
              "24  1.0  56.0  70kgs      Micky      Mous        71   m  12-18\n",
              "36  1.0  56.0  70kgs      Micky      Mous         0   f   0-06\n",
              "48  1.0  56.0  70kgs      Micky      Mous         0   f  06-12\n",
              "60  1.0  56.0  70kgs      Micky      Mous         0   f  12-18\n",
              "1   2.0  34.0  70kgs     Donald      Duck         0   m   0-06\n",
              "13  2.0  34.0  70kgs     Donald      Duck         0   m  06-12\n",
              "25  2.0  34.0  70kgs     Donald      Duck         0   m  12-18\n",
              "37  2.0  34.0  70kgs     Donald      Duck        85   f   0-06"
            ]
          },
          "metadata": {},
          "execution_count": 50
        }
      ]
    },
    {
      "cell_type": "code",
      "metadata": {
        "id": "BAxw2jkpiuOC"
      },
      "source": [
        "def avgPulserate(patient_heart_rate, firstname):\n",
        "  sumPulserate = 0\n",
        "  nsumPulserate = 0\n",
        "  for i, value in enumerate(patient_heart_rate['First Name']):\n",
        "    if value==firstname:\n",
        "      try:\n",
        "        if patient_heart_rate['PulseRate'][i] != '0':\n",
        "          sumPulserate +=int(patient_heart_rate['PulseRate'].values[i])\n",
        "          nsumPulserate +=1\n",
        "      except:\n",
        "        pass\n",
        "    if nsumPulserate > 0:\n",
        "      return str(sumPulserate/nsumPulserate)\n",
        "    else:\n",
        "      return 0"
      ],
      "execution_count": 52,
      "outputs": []
    }
  ]
}