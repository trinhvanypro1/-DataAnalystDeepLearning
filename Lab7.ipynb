{
  "nbformat": 4,
  "nbformat_minor": 0,
  "metadata": {
    "colab": {
      "name": "Lab7.ipynb",
      "provenance": [],
      "authorship_tag": "ABX9TyNS2SOfdcuHAlh/gzCLZ50v",
      "include_colab_link": true
    },
    "kernelspec": {
      "name": "python3",
      "display_name": "Python 3"
    },
    "language_info": {
      "name": "python"
    }
  },
  "cells": [
    {
      "cell_type": "markdown",
      "metadata": {
        "id": "view-in-github",
        "colab_type": "text"
      },
      "source": [
        "<a href=\"https://colab.research.google.com/github/trinhvanypro1/-DataAnalystDeepLearning/blob/main/Lab7.ipynb\" target=\"_parent\"><img src=\"https://colab.research.google.com/assets/colab-badge.svg\" alt=\"Open In Colab\"/></a>"
      ]
    },
    {
      "cell_type": "code",
      "metadata": {
        "id": "o3pMw39mjTD-"
      },
      "source": [
        "import numpy as np\n",
        "#Hàm để hiển thị các tấm ảnh\n",
        "import matplotlib.pyplot as plt\n",
        "# Chọn ngẫu nhiên các tấm ảnh\n",
        "import random\n",
        "#Load dữ liệu trong tập mẫu\n",
        "from keras.datasets import mnist\n",
        "# các hàm sau để xây dựng mô hình neural\n",
        "#Thêm 1 lớp, thêm hàm kích hoạt \n",
        "from keras.models import Sequential\n",
        "from keras.utils import np_utils\n",
        "from keras.layers.core import Dense,Activation"
      ],
      "execution_count": 2,
      "outputs": []
    },
    {
      "cell_type": "markdown",
      "metadata": {
        "id": "1G4tNv_krjTP"
      },
      "source": [
        "***Loading Training Data:***\n"
      ]
    },
    {
      "cell_type": "code",
      "metadata": {
        "id": "upi8bFqhroKp",
        "colab": {
          "base_uri": "https://localhost:8080/"
        },
        "outputId": "5a67b853-ec9e-4a7b-b16c-8663270d92eb"
      },
      "source": [
        "# Tập dữ liệu huấn luyện và tập test được load từ hàm load_data\n",
        "# x là dữ liệu của bức ảnh, y là kết quả ảnh là chữ số mấy\n",
        "(x_train, y_train),(x_test,y_test)=mnist.load_data()"
      ],
      "execution_count": 3,
      "outputs": [
        {
          "output_type": "stream",
          "name": "stdout",
          "text": [
            "Downloading data from https://storage.googleapis.com/tensorflow/tf-keras-datasets/mnist.npz\n",
            "11493376/11490434 [==============================] - 0s 0us/step\n",
            "11501568/11490434 [==============================] - 0s 0us/step\n"
          ]
        }
      ]
    },
    {
      "cell_type": "code",
      "metadata": {
        "id": "MG93gXvlsXdn",
        "colab": {
          "base_uri": "https://localhost:8080/"
        },
        "outputId": "c841a7dd-0173-4d77-8258-32536a7c61ad"
      },
      "source": [
        "# Dữ liệu trong tập data mnist là 60000 tấm ảnh trắng đen có kích thước 28x28px\n",
        "# Mỗi px có giá trị từ 0-255, 0 là màu đen và 255 là màu sáng\n",
        "#Xem shape của tập train với kết quả ta nhận thấy có 60000 tấm ảnh trong tập train, kích thước 28x28px\n",
        "print('x_train shape: ',x_train.shape)"
      ],
      "execution_count": 4,
      "outputs": [
        {
          "output_type": "stream",
          "name": "stdout",
          "text": [
            "x_train shape:  (60000, 28, 28)\n"
          ]
        }
      ]
    },
    {
      "cell_type": "code",
      "metadata": {
        "id": "2HeiFUvbtLSx"
      },
      "source": [
        "# Vì tập dữ liệu mnist được lưu ở dạng ma trận 2 chiều 28x28px\n",
        "# nên trước khi truyền vào mạng neural cần chuyển sang dạng vector\n",
        "x_train=x_train.reshape(60000,784)\n",
        "x_train=x_train.astype('float32')\n",
        "# Chuẩn hóa dữ liệu nằm trong khoảng 0-1 nên chia cho 255\n",
        "x_train /= 255"
      ],
      "execution_count": 5,
      "outputs": []
    },
    {
      "cell_type": "code",
      "metadata": {
        "id": "RRGr5INMy9Xd"
      },
      "source": [
        "# Vì dữ liệu mnist được lưu ở dạng ma trận 2 chiều 28x28px\n",
        "#nên trước khi truyền vào neural cần chuyển sang dạng vector\n",
        "#tập test chỉ chứa 10000 tấm ảnh\n",
        "x_test=x_test.reshape(10000,784)\n",
        "x_test=x_test.astype('float32')\n",
        "x_test /= 255"
      ],
      "execution_count": 6,
      "outputs": []
    },
    {
      "cell_type": "code",
      "metadata": {
        "id": "gK0PU_Fczm1m"
      },
      "source": [
        "# Vì đầu ra của mạng neural là nhận dạng một tấm ảnh thuộc 1 trong các lớp 0-9\n",
        "# nên ta dùng hàm này để gán các giá trị kết quả cho tập y_test\n",
        "nb_class=10\n",
        "y_train = np_utils.to_categorical(y_train,nb_class)\n",
        "y_test = np_utils.to_categorical(y_test,nb_class)"
      ],
      "execution_count": 7,
      "outputs": []
    },
    {
      "cell_type": "code",
      "metadata": {
        "id": "lmcty4Sy0yor"
      },
      "source": [
        "# Tạo model\n",
        "model = Sequential()\n",
        "# add vào lớp input, 10 neural với mỗi neural có 784 input\n",
        "model.add(Dense(10,input_shape=(784,)))\n",
        "model.add(Activation('relu'))"
      ],
      "execution_count": 8,
      "outputs": []
    },
    {
      "cell_type": "code",
      "metadata": {
        "id": "6zuuc8IxjtPh"
      },
      "source": [
        "# add vào lớp hiden sẽ tự động lấy đầu vào của lớp đầu, giá trị hiden có thể thay đổi\n",
        "model.add(Dense(40))\n",
        "model.add(Activation('relu'))"
      ],
      "execution_count": 9,
      "outputs": []
    },
    {
      "cell_type": "code",
      "metadata": {
        "id": "gtJ0I6R8ZUQv",
        "outputId": "0cd247c1-b920-43ba-d3b1-cf0f910f0c43",
        "colab": {
          "base_uri": "https://localhost:8080/"
        }
      },
      "source": [
        "#add vào lớp ouput bắt buộc là 10 vì 0-9 là 10 số\n",
        "model.add(Dense(10))\n",
        "#dùng hàm softmax vì đầu ra là 10 lớp\n",
        "model.add(Activation('softmax'))\n",
        "model.summary()"
      ],
      "execution_count": 10,
      "outputs": [
        {
          "output_type": "stream",
          "name": "stdout",
          "text": [
            "Model: \"sequential\"\n",
            "_________________________________________________________________\n",
            "Layer (type)                 Output Shape              Param #   \n",
            "=================================================================\n",
            "dense (Dense)                (None, 10)                7850      \n",
            "_________________________________________________________________\n",
            "activation (Activation)      (None, 10)                0         \n",
            "_________________________________________________________________\n",
            "dense_1 (Dense)              (None, 40)                440       \n",
            "_________________________________________________________________\n",
            "activation_1 (Activation)    (None, 40)                0         \n",
            "_________________________________________________________________\n",
            "dense_2 (Dense)              (None, 10)                410       \n",
            "_________________________________________________________________\n",
            "activation_2 (Activation)    (None, 10)                0         \n",
            "=================================================================\n",
            "Total params: 8,700\n",
            "Trainable params: 8,700\n",
            "Non-trainable params: 0\n",
            "_________________________________________________________________\n"
          ]
        }
      ]
    },
    {
      "cell_type": "code",
      "metadata": {
        "id": "zaZ-uGUdagw0"
      },
      "source": [
        "model.compile(loss='categorical_crossentropy', optimizer='rmsprop',metrics=['accuracy'])"
      ],
      "execution_count": 11,
      "outputs": []
    },
    {
      "cell_type": "code",
      "metadata": {
        "id": "LsDiQQf1cidj",
        "outputId": "a3571561-78e0-4c51-91b0-d5c008416e8d",
        "colab": {
          "base_uri": "https://localhost:8080/"
        }
      },
      "source": [
        "# Mỗi lần lấy 128 tấm ảnh để train\n",
        "model.fit(x_train,y_train,batch_size=128,epochs=5)"
      ],
      "execution_count": 12,
      "outputs": [
        {
          "output_type": "stream",
          "name": "stdout",
          "text": [
            "Epoch 1/5\n",
            "469/469 [==============================] - 2s 2ms/step - loss: 0.6318 - accuracy: 0.8201\n",
            "Epoch 2/5\n",
            "469/469 [==============================] - 1s 2ms/step - loss: 0.3022 - accuracy: 0.9128\n",
            "Epoch 3/5\n",
            "469/469 [==============================] - 1s 2ms/step - loss: 0.2652 - accuracy: 0.9244\n",
            "Epoch 4/5\n",
            "469/469 [==============================] - 1s 2ms/step - loss: 0.2440 - accuracy: 0.9305\n",
            "Epoch 5/5\n",
            "469/469 [==============================] - 1s 2ms/step - loss: 0.2269 - accuracy: 0.9349\n"
          ]
        },
        {
          "output_type": "execute_result",
          "data": {
            "text/plain": [
              "<keras.callbacks.History at 0x7fe78d36a990>"
            ]
          },
          "metadata": {},
          "execution_count": 12
        }
      ]
    },
    {
      "cell_type": "code",
      "metadata": {
        "id": "2XaCilBodqy2"
      },
      "source": [
        "#Dự báo mô hình, giá trị dự báo được lưu vào biến predicted_class\n",
        "#Giá trị thực tế được lưu ở tập t_test\n",
        "predicted_classes=model.predict(x_test)"
      ],
      "execution_count": 15,
      "outputs": []
    },
    {
      "cell_type": "code",
      "metadata": {
        "id": "fIm3kGXJhbwc",
        "outputId": "f703e9d6-cebf-4227-bf41-a40c7bd280b4",
        "colab": {
          "base_uri": "https://localhost:8080/",
          "height": 657
        }
      },
      "source": [
        "#Hiển thị 9 tấm ảnh ngẫu nhiên trong tập test\n",
        "#Hiển thị kết quả dự báo của 9 tấm ảnh này theo mô hình neural vừa xây dựng\n",
        "plt.rcParams['figure.figsize']=(9,9)\n",
        "for i in range(9):\n",
        "  plt.subplot(3,3,i+1)\n",
        "  num=random.randint(0,len(x_test))\n",
        "  plt.imshow(x_test[num].reshape(28,28),cmap='gray',interpolation=None)\n",
        "  plt.title('Class {}'.format(predicted_classes[num].argmax()))\n",
        "plt.tight_layout()"
      ],
      "execution_count": 19,
      "outputs": [
        {
          "output_type": "display_data",
          "data": {
            "image/png": "[encoded data removed]",
            "text/plain": [
              "<Figure size 648x648 with 9 Axes>"
            ]
          },
          "metadata": {
            "needs_background": "light"
          }
        }
      ]
    }
  ]
}