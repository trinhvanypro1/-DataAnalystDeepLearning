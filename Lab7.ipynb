{
  "nbformat": 4,
  "nbformat_minor": 0,
  "metadata": {
    "colab": {
      "name": "Lab7.ipynb",
      "provenance": [],
      "authorship_tag": "ABX9TyOswI8cTUNe6uhE0u8lW0zJ",
      "include_colab_link": true
    },
    "kernelspec": {
      "name": "python3",
      "display_name": "Python 3"
    },
    "language_info": {
      "name": "python"
    }
  },
  "cells": [
    {
      "cell_type": "markdown",
      "metadata": {
        "id": "view-in-github",
        "colab_type": "text"
      },
      "source": [
        "<a href=\"https://colab.research.google.com/github/trinhvanypro1/-DataAnalystDeepLearning/blob/main/Lab7.ipynb\" target=\"_parent\"><img src=\"https://colab.research.google.com/assets/colab-badge.svg\" alt=\"Open In Colab\"/></a>"
      ]
    },
    {
      "cell_type": "code",
      "metadata": {
        "id": "o3pMw39mjTD-"
      },
      "source": [
        "import numpy as np\n",
        "#Hàm để hiển thị các tấm ảnh\n",
        "import matplotlib.pyplot as plt\n",
        "# Chọn ngẫu nhiên các tấm ảnh\n",
        "import random\n",
        "#Load dữ liệu trong tập mẫu\n",
        "from keras.datasets import mnist\n",
        "# các hàm sau để xây dựng mô hình neural\n",
        "#Thêm 1 lớp, thêm hàm kích hoạt \n",
        "from keras.models import Sequential\n",
        "from keras.utils import np_utils\n",
        "from keras.layers.core import Dense,Activation"
      ],
      "execution_count": 16,
      "outputs": []
    },
    {
      "cell_type": "markdown",
      "metadata": {
        "id": "1G4tNv_krjTP"
      },
      "source": [
        "***Loading Training Data:***\n"
      ]
    },
    {
      "cell_type": "code",
      "metadata": {
        "id": "upi8bFqhroKp"
      },
      "source": [
        "# Tập dữ liệu huấn luyện và tập test được load từ hàm load_data\n",
        "# x là dữ liệu của bức ảnh, y là kết quả ảnh là chữ số mấy\n",
        "(x_train, y_train),(x_test,y_test)=mnist.load_data()"
      ],
      "execution_count": 17,
      "outputs": []
    },
    {
      "cell_type": "code",
      "metadata": {
        "id": "MG93gXvlsXdn",
        "outputId": "18fd56f4-bd78-46f9-eacc-3ff00ddee4d2",
        "colab": {
          "base_uri": "https://localhost:8080/"
        }
      },
      "source": [
        "# Dữ liệu trong tập data mnist là 60000 tấm ảnh trắng đen có kích thước 28x28px\n",
        "# Mỗi px có giá trị từ 0-255, 0 là màu đen và 255 là màu sáng\n",
        "#Xem shape của tập train với kết quả ta nhận thấy có 60000 tấm ảnh trong tập train, kích thước 28x28px\n",
        "print('x_train shape: ',x_train.shape)"
      ],
      "execution_count": 18,
      "outputs": [
        {
          "output_type": "stream",
          "name": "stdout",
          "text": [
            "x_train shape:  (60000, 28, 28)\n"
          ]
        }
      ]
    },
    {
      "cell_type": "code",
      "metadata": {
        "id": "2HeiFUvbtLSx"
      },
      "source": [
        "# Vì tập dữ liệu mnist được lưu ở dạng ma trận 2 chiều 28x28px\n",
        "# nên trước khi truyền vào mạng neural cần chuyển sang dạng vector\n",
        "x_train=x_train.reshape(60000,784)\n",
        "x_train=x_train.astype('float32')\n",
        "# Chuẩn hóa dữ liệu nằm trong khoảng 0-1 nên chia cho 255\n",
        "x_train /= 255"
      ],
      "execution_count": 19,
      "outputs": []
    },
    {
      "cell_type": "code",
      "metadata": {
        "id": "RRGr5INMy9Xd"
      },
      "source": [
        "# Vì dữ liệu mnist được lưu ở dạng ma trận 2 chiều 28x28px\n",
        "#nên trước khi truyền vào neural cần chuyển sang dạng vector\n",
        "#tập test chỉ chứa 10000 tấm ảnh\n",
        "x_test=x_test.reshape(10000,784)\n",
        "x_test=x_test.astype('float32')\n",
        "x_test /= 255"
      ],
      "execution_count": 20,
      "outputs": []
    },
    {
      "cell_type": "code",
      "metadata": {
        "id": "gK0PU_Fczm1m"
      },
      "source": [
        "# Vì đầu ra của mạng neural là nhận dạng một tấm ảnh thuộc 1 trong các lớp 0-9\n",
        "# nên ta dùng hàm này để gán các giá trị kết quả cho tập y_test\n",
        "nb_class=10\n",
        "y_train = np_utils.to_categorical(y_train,nb_class)\n",
        "y_test = np_utils.to_categorical(y_test,nb_class)"
      ],
      "execution_count": 21,
      "outputs": []
    },
    {
      "cell_type": "code",
      "metadata": {
        "id": "lmcty4Sy0yor"
      },
      "source": [
        ""
      ],
      "execution_count": null,
      "outputs": []
    }
  ]
}