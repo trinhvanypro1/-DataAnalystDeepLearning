{
  "nbformat": 4,
  "nbformat_minor": 0,
  "metadata": {
    "colab": {
      "name": "Lab7.ipynb",
      "provenance": [],
      "authorship_tag": "ABX9TyOJfm8g4+azLQd7BkOx+Y37",
      "include_colab_link": true
    },
    "kernelspec": {
      "name": "python3",
      "display_name": "Python 3"
    },
    "language_info": {
      "name": "python"
    }
  },
  "cells": [
    {
      "cell_type": "markdown",
      "metadata": {
        "id": "view-in-github",
        "colab_type": "text"
      },
      "source": [
        "<a href=\"https://colab.research.google.com/github/trinhvanypro1/-DataAnalystDeepLearning/blob/main/Lab7.ipynb\" target=\"_parent\"><img src=\"https://colab.research.google.com/assets/colab-badge.svg\" alt=\"Open In Colab\"/></a>"
      ]
    },
    {
      "cell_type": "code",
      "metadata": {
        "id": "VCUnE4wQ1U_D"
      },
      "source": [
        "import numpy as np\n",
        "import matplotlib.pyplot as plt\n",
        "import random\n",
        "from keras.datasets import mnist\n",
        "from keras.models import Sequential\n",
        "from keras.layers.core import Dense, Activation\n",
        "from tensorflow.keras.utils import to_categorical"
      ],
      "execution_count": 50,
      "outputs": []
    },
    {
      "cell_type": "code",
      "metadata": {
        "colab": {
          "base_uri": "https://localhost:8080/"
        },
        "id": "3mSlDOzO8cS1",
        "outputId": "35de5331-312f-48b6-b97f-6b4d1ab04904"
      },
      "source": [
        "# đưa tập dữ liệu huấn luyện và tập dữ liệu test load vào hàm load_data\n",
        "(x_train,y_train),(x_test,y_test)= mnist.load_data()\n",
        "#in ra dữ liệu trong tập data mnist 60000 tấm ảnh trắng đen có kích thước 28x28 px\n",
        "print('x_train shape: ',x_train.shape)"
      ],
      "execution_count": 51,
      "outputs": [
        {
          "output_type": "stream",
          "name": "stdout",
          "text": [
            "x_train shape:  (60000, 28, 28)\n"
          ]
        }
      ]
    },
    {
      "cell_type": "code",
      "metadata": {
        "colab": {
          "base_uri": "https://localhost:8080/",
          "height": 657
        },
        "id": "0qev1Jqh9tCw",
        "outputId": "a30ad2f2-cd70-41fd-9cb4-5c46681cccf9"
      },
      "source": [
        "#Hiển thị ngẫu nhiên các tấm ảnh trong tập train:\n",
        "plt.rcParams['figure.figsize']=(9,9)\n",
        "for i in range(9):\n",
        "  #hiển thị ma trận 9x9\n",
        "  plt.subplot(3,3,i+1)\n",
        "  #lấy ngẫu nhiên số bức ảnh từ 0 đến độ dài (x_train)\n",
        "  num=random.randint(0,len(x_train))\n",
        "  #in ra số trong bức ảnh với kích thước 28x28px\n",
        "  plt.imshow(x_train[num].reshape(28,28),cmap='gray',interpolation=None)\n",
        "  #Hiển thị title của bức ảnh với giá trị tương ứng\n",
        "  plt.title('Class {}'.format(y_train[num]))\n",
        "plt.tight_layout()"
      ],
      "execution_count": 52,
      "outputs": [
        {
          "output_type": "display_data",
          "data": {
            "image/png": "[encoded data removed]",
            "text/plain": [
              "<Figure size 648x648 with 9 Axes>"
            ]
          },
          "metadata": {
            "needs_background": "light"
          }
        }
      ]
    },
    {
      "cell_type": "markdown",
      "metadata": {
        "id": "F1AH0HJ6_7vU"
      },
      "source": [
        "***Formatting the input data layer***"
      ]
    },
    {
      "cell_type": "code",
      "metadata": {
        "id": "ZROs9_orACZs"
      },
      "source": [
        "#Đổi kích thước đầu vào bức ảnh dạng vector để truyền vào mạng neural:\n",
        "#Kích thước bức ảnh là 28x28=784\n",
        "x_train=x_train.reshape(60000,784)\n",
        "x_train=x_train.astype('float32')\n",
        "#Chuẩn hóa dữ liệu nằm trong khoảng 0-1 nên chia cho 255:\n",
        "x_train/=255"
      ],
      "execution_count": 53,
      "outputs": []
    },
    {
      "cell_type": "code",
      "metadata": {
        "id": "kVlW2Iu4FPKv"
      },
      "source": [
        "x_test=x_test.reshape(10000,784)\n",
        "x_test=x_test.astype('float32')\n",
        "x_test/=255"
      ],
      "execution_count": 54,
      "outputs": []
    },
    {
      "cell_type": "code",
      "metadata": {
        "id": "MPYtqcrfHjJ-",
        "outputId": "aeba56ca-dc49-4872-8e90-3e92cca73d12",
        "colab": {
          "base_uri": "https://localhost:8080/",
          "height": 197
        }
      },
      "source": [
        "nb_class=10\n",
        "y_train=np_utils.to_categorical(y_train,nb_class)\n",
        "y_test=np_utils.to_categorical(y_test,nb_class)"
      ],
      "execution_count": 57,
      "outputs": [
        {
          "output_type": "error",
          "ename": "NameError",
          "evalue": "ignored",
          "traceback": [
            "\u001b[0;31m---------------------------------------------------------------------------\u001b[0m",
            "\u001b[0;31mNameError\u001b[0m                                 Traceback (most recent call last)",
            "\u001b[0;32m<ipython-input-57-80742338f0b4>\u001b[0m in \u001b[0;36m<module>\u001b[0;34m()\u001b[0m\n\u001b[1;32m      1\u001b[0m \u001b[0mnb_class\u001b[0m\u001b[0;34m=\u001b[0m\u001b[0;36m10\u001b[0m\u001b[0;34m\u001b[0m\u001b[0;34m\u001b[0m\u001b[0m\n\u001b[0;32m----> 2\u001b[0;31m \u001b[0my_train\u001b[0m\u001b[0;34m=\u001b[0m\u001b[0mnp_utils\u001b[0m\u001b[0;34m.\u001b[0m\u001b[0mto_categorical\u001b[0m\u001b[0;34m(\u001b[0m\u001b[0my_train\u001b[0m\u001b[0;34m,\u001b[0m\u001b[0mnb_class\u001b[0m\u001b[0;34m)\u001b[0m\u001b[0;34m\u001b[0m\u001b[0;34m\u001b[0m\u001b[0m\n\u001b[0m\u001b[1;32m      3\u001b[0m \u001b[0my_test\u001b[0m\u001b[0;34m=\u001b[0m\u001b[0mnp_utils\u001b[0m\u001b[0;34m.\u001b[0m\u001b[0mto_categorical\u001b[0m\u001b[0;34m(\u001b[0m\u001b[0my_test\u001b[0m\u001b[0;34m,\u001b[0m\u001b[0mnb_class\u001b[0m\u001b[0;34m)\u001b[0m\u001b[0;34m\u001b[0m\u001b[0;34m\u001b[0m\u001b[0m\n",
            "\u001b[0;31mNameError\u001b[0m: name 'np_utils' is not defined"
          ]
        }
      ]
    },
    {
      "cell_type": "code",
      "metadata": {
        "id": "luzAtj8pIix6"
      },
      "source": [
        "#xây dựng model\n",
        "model = Sequential()\n",
        "# thêm vào 1 lớp input, có 10 neural(10 neural), mỗi neural có 784 input\n",
        "model.add(Dense(10,input_shape=(784,)))\n",
        "model.add(Activation('relu'))"
      ],
      "execution_count": null,
      "outputs": []
    },
    {
      "cell_type": "code",
      "metadata": {
        "id": "nhMNr2rKM6sZ"
      },
      "source": [
        "# thêm vào lớp hidden sẽ tự động alasy đầu vào của lớp đầu, giá trị hidden có thể thay đổi\n",
        "model.add(Dense(40))\n",
        "model.add(Activation('relu'))"
      ],
      "execution_count": null,
      "outputs": []
    },
    {
      "cell_type": "code",
      "metadata": {
        "id": "szz5LQU3NcZk"
      },
      "source": [
        "#thêm vào lớp đầu ra từ 0 - 9\n",
        "model.add(Dense(10))\n",
        "# Dùng hàm softmax vì đầu ra là 10 lớp\n",
        "#Với các bài toán classification(phân loại) thì nếu có 2 lớp hàm activation ở output layer\n",
        "#là hàm sigmoi còn nhiều hơn 2 lớp thì hàm activation ở output layer là hàm softmax\n",
        "model.add(Activation('softmax'))\n",
        "model.summary()"
      ],
      "execution_count": null,
      "outputs": []
    },
    {
      "cell_type": "code",
      "metadata": {
        "id": "Q_1U0OT_vvx1"
      },
      "source": [
        "model.compile(loss='categorical_crossentropy',optimizer='rmsprop',metrics==['accuracy'])\n",
        "#Mỗi lần lấy 128 tấm ảnh để huấn luyện\n",
        "model.fit(x_train,y_train,batch_size=128,epochs=5)\n",
        "#dự báo mô hình, giá trị dự báo được lưu vào biến predicted_classes\n",
        "#giá trị thực tế được lưu ở tập t_test\n",
        "predicted_classes=model.predict(x_test)"
      ],
      "execution_count": null,
      "outputs": []
    },
    {
      "cell_type": "code",
      "metadata": {
        "id": "6MWb32ZZ8HdC"
      },
      "source": [
        "#Hiển thị 9 tấm ảnh ngẫu nhiên trong tập test\n",
        "#hiển thị kết quá dữ báo của 9 tấm ảnh theo mô hình neural vừa xây dựng\n",
        "plt.rcParams['figure.figsize']=(9,9)\n",
        "for i in range(9):\n",
        "  plt.subplot(3,3,i+1)\n",
        "  num=random.randint(0,len(x_test))\n",
        "  plt.imshow(x_test[num].reshape(28,28),cmap='gray',interpolation=None)\n",
        "  plt.title('Class {}'.format(predicted_classes[num].argmax()))\n",
        "plt.tight_layout()"
      ],
      "execution_count": null,
      "outputs": []
    }
  ]
}