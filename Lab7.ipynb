{
  "nbformat": 4,
  "nbformat_minor": 0,
  "metadata": {
    "colab": {
      "name": "Lab7.ipynb",
      "provenance": [],
      "authorship_tag": "ABX9TyNolquEeto3sAnEu7nIEfke",
      "include_colab_link": true
    },
    "kernelspec": {
      "name": "python3",
      "display_name": "Python 3"
    },
    "language_info": {
      "name": "python"
    }
  },
  "cells": [
    {
      "cell_type": "markdown",
      "metadata": {
        "id": "view-in-github",
        "colab_type": "text"
      },
      "source": [
        "<a href=\"https://colab.research.google.com/github/trinhvanypro1/-DataAnalystDeepLearning/blob/main/Lab7.ipynb\" target=\"_parent\"><img src=\"https://colab.research.google.com/assets/colab-badge.svg\" alt=\"Open In Colab\"/></a>"
      ]
    },
    {
      "cell_type": "code",
      "metadata": {
        "id": "VCUnE4wQ1U_D"
      },
      "source": [
        "import numpy as np\n",
        "import matplotlib.pyplot as plt\n",
        "import random\n",
        "from keras.datasets import mnist\n",
        "from keras.models import Sequential\n",
        "from keras.layers.core import Dense, Activation\n",
        "from tensorflow.keras.utils import to_categorical"
      ],
      "execution_count": 57,
      "outputs": []
    },
    {
      "cell_type": "code",
      "metadata": {
        "colab": {
          "base_uri": "https://localhost:8080/"
        },
        "id": "3mSlDOzO8cS1",
        "outputId": "ddfe42be-f5c3-4792-d96d-2f85392b13f9"
      },
      "source": [
        "# đưa tập dữ liệu huấn luyện và tập dữ liệu test load vào hàm load_data\n",
        "(x_train,y_train),(x_test,y_test)= mnist.load_data()\n",
        "#in ra dữ liệu trong tập data mnist 60000 tấm ảnh trắng đen có kích thước 28x28 px\n",
        "print('x_train shape: ',x_train.shape)"
      ],
      "execution_count": 58,
      "outputs": [
        {
          "output_type": "stream",
          "name": "stdout",
          "text": [
            "x_train shape:  (60000, 28, 28)\n"
          ]
        }
      ]
    },
    {
      "cell_type": "code",
      "metadata": {
        "colab": {
          "base_uri": "https://localhost:8080/",
          "height": 657
        },
        "id": "0qev1Jqh9tCw",
        "outputId": "abc1eed7-31ea-4c93-f3b5-7080149a6e28"
      },
      "source": [
        "#Hiển thị ngẫu nhiên các tấm ảnh trong tập train:\n",
        "plt.rcParams['figure.figsize']=(9,9)\n",
        "for i in range(9):\n",
        "  #hiển thị ma trận 9x9\n",
        "  plt.subplot(3,3,i+1)\n",
        "  #lấy ngẫu nhiên số bức ảnh từ 0 đến độ dài (x_train)\n",
        "  num=random.randint(0,len(x_train))\n",
        "  #in ra số trong bức ảnh với kích thước 28x28px\n",
        "  plt.imshow(x_train[num].reshape(28,28),cmap='gray',interpolation=None)\n",
        "  #Hiển thị title của bức ảnh với giá trị tương ứng\n",
        "  plt.title('Class {}'.format(y_train[num]))\n",
        "plt.tight_layout()"
      ],
      "execution_count": 59,
      "outputs": [
        {
          "output_type": "display_data",
          "data": {
            "image/png": "[encoded data removed]",
            "text/plain": [
              "<Figure size 648x648 with 9 Axes>"
            ]
          },
          "metadata": {
            "needs_background": "light"
          }
        }
      ]
    },
    {
      "cell_type": "markdown",
      "metadata": {
        "id": "F1AH0HJ6_7vU"
      },
      "source": [
        "***Formatting the input data layer***"
      ]
    },
    {
      "cell_type": "code",
      "metadata": {
        "id": "ZROs9_orACZs"
      },
      "source": [
        "#Đổi kích thước đầu vào bức ảnh dạng vector để truyền vào mạng neural:\n",
        "#Kích thước bức ảnh là 28x28=784\n",
        "x_train=x_train.reshape(60000,784)\n",
        "x_train=x_train.astype('float32')\n",
        "#Chuẩn hóa dữ liệu nằm trong khoảng 0-1 nên chia cho 255:\n",
        "x_train/=255"
      ],
      "execution_count": 60,
      "outputs": []
    },
    {
      "cell_type": "code",
      "metadata": {
        "id": "kVlW2Iu4FPKv"
      },
      "source": [
        "x_test=x_test.reshape(10000,784)\n",
        "x_test=x_test.astype('float32')\n",
        "x_test/=255"
      ],
      "execution_count": 61,
      "outputs": []
    },
    {
      "cell_type": "code",
      "metadata": {
        "id": "MPYtqcrfHjJ-"
      },
      "source": [
        "#Đầu ra của mạng neral là nhận dạng 1 tấm ảnh thuộc 1 trong các lớp 0-9\n",
        "#nên ta dùng hàm này để gán các giá trị kết quả cho tập y_test\n",
        "\n",
        "nb_class=10\n",
        "y_train=np_utils.to_categorical(y_train,nb_class)\n",
        "y_test=np_utils.to_categorical(y_test,nb_class)"
      ],
      "execution_count": 63,
      "outputs": []
    },
    {
      "cell_type": "code",
      "metadata": {
        "id": "luzAtj8pIix6"
      },
      "source": [
        "#xây dựng model\n",
        "model = Sequential()\n",
        "# thêm vào 1 lớp input, có 10 neural(10 neural), mỗi neural có 784 input\n",
        "model.add(Dense(10,input_shape=(784,)))\n",
        "model.add(Activation('relu'))"
      ],
      "execution_count": 64,
      "outputs": []
    },
    {
      "cell_type": "code",
      "metadata": {
        "id": "nhMNr2rKM6sZ"
      },
      "source": [
        "# thêm vào lớp hidden sẽ tự động alasy đầu vào của lớp đầu, giá trị hidden có thể thay đổi\n",
        "model.add(Dense(40))\n",
        "model.add(Activation('relu'))"
      ],
      "execution_count": 65,
      "outputs": []
    },
    {
      "cell_type": "code",
      "metadata": {
        "colab": {
          "base_uri": "https://localhost:8080/"
        },
        "id": "szz5LQU3NcZk",
        "outputId": "41132f06-ef14-4fa5-f750-a32e4e4777ef"
      },
      "source": [
        "#thêm vào lớp đầu ra từ 0 - 9\n",
        "model.add(Dense(10))\n",
        "# Dùng hàm softmax vì đầu ra là 10 lớp\n",
        "#Với các bài toán classification(phân loại) thì nếu có 2 lớp hàm activation ở output layer\n",
        "#là hàm sigmoi còn nhiều hơn 2 lớp thì hàm activation ở output layer là hàm softmax\n",
        "model.add(Activation('softmax'))\n",
        "model.summary()"
      ],
      "execution_count": 66,
      "outputs": [
        {
          "output_type": "stream",
          "name": "stdout",
          "text": [
            "Model: \"sequential_1\"\n",
            "_________________________________________________________________\n",
            "Layer (type)                 Output Shape              Param #   \n",
            "=================================================================\n",
            "dense_3 (Dense)              (None, 10)                7850      \n",
            "_________________________________________________________________\n",
            "activation_3 (Activation)    (None, 10)                0         \n",
            "_________________________________________________________________\n",
            "dense_4 (Dense)              (None, 40)                440       \n",
            "_________________________________________________________________\n",
            "activation_4 (Activation)    (None, 40)                0         \n",
            "_________________________________________________________________\n",
            "dense_5 (Dense)              (None, 10)                410       \n",
            "_________________________________________________________________\n",
            "activation_5 (Activation)    (None, 10)                0         \n",
            "=================================================================\n",
            "Total params: 8,700\n",
            "Trainable params: 8,700\n",
            "Non-trainable params: 0\n",
            "_________________________________________________________________\n"
          ]
        }
      ]
    }
  ]
}