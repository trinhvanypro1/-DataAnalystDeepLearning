{
  "nbformat": 4,
  "nbformat_minor": 0,
  "metadata": {
    "colab": {
      "name": "Lab7.ipynb",
      "provenance": [],
      "authorship_tag": "ABX9TyOSEezumvf1VZYuGmbBpcRd",
      "include_colab_link": true
    },
    "kernelspec": {
      "name": "python3",
      "display_name": "Python 3"
    },
    "language_info": {
      "name": "python"
    }
  },
  "cells": [
    {
      "cell_type": "markdown",
      "metadata": {
        "id": "view-in-github",
        "colab_type": "text"
      },
      "source": [
        "<a href=\"https://colab.research.google.com/github/trinhvanypro1/-DataAnalystDeepLearning/blob/main/Lab7.ipynb\" target=\"_parent\"><img src=\"https://colab.research.google.com/assets/colab-badge.svg\" alt=\"Open In Colab\"/></a>"
      ]
    },
    {
      "cell_type": "code",
      "metadata": {
        "id": "o3pMw39mjTD-"
      },
      "source": [
        "import numpy as np\n",
        "#Hàm để hiển thị các tấm ảnh\n",
        "import matplotlib.pyplot as plt\n",
        "# Chọn ngẫu nhiên các tấm ảnh\n",
        "import random\n",
        "#Load dữ liệu trong tập mẫu\n",
        "from keras.datasets import mnist\n",
        "# các hàm sau để xây dựng mô hình neural\n",
        "#Thêm 1 lớp, thêm hàm kích hoạt \n",
        "from keras.models import Sequential\n",
        "from keras.utils import np_utils\n",
        "from keras.layers.core import Dense,Activation"
      ],
      "execution_count": 2,
      "outputs": []
    },
    {
      "cell_type": "markdown",
      "metadata": {
        "id": "1G4tNv_krjTP"
      },
      "source": [
        "***Loading Training Data:***\n"
      ]
    },
    {
      "cell_type": "code",
      "metadata": {
        "id": "upi8bFqhroKp",
        "outputId": "ff0bfe98-de04-43e1-d67c-a2f12c700d8e",
        "colab": {
          "base_uri": "https://localhost:8080/"
        }
      },
      "source": [
        "# Tập dữ liệu huấn luyện và tập test được load từ hàm load_data\n",
        "# x là dữ liệu của bức ảnh, y là kết quả ảnh là chữ số mấy\n",
        "(x_train, y_train),(x_test,y_test)=mnist.load_data()"
      ],
      "execution_count": 3,
      "outputs": [
        {
          "output_type": "stream",
          "name": "stdout",
          "text": [
            "Downloading data from https://storage.googleapis.com/tensorflow/tf-keras-datasets/mnist.npz\n",
            "11493376/11490434 [==============================] - 0s 0us/step\n",
            "11501568/11490434 [==============================] - 0s 0us/step\n"
          ]
        }
      ]
    },
    {
      "cell_type": "code",
      "metadata": {
        "id": "MG93gXvlsXdn",
        "colab": {
          "base_uri": "https://localhost:8080/"
        },
        "outputId": "e3d88c0d-a317-4acb-9b58-02bb9ee21788"
      },
      "source": [
        "# Dữ liệu trong tập data mnist là 60000 tấm ảnh trắng đen có kích thước 28x28px\n",
        "# Mỗi px có giá trị từ 0-255, 0 là màu đen và 255 là màu sáng\n",
        "#Xem shape của tập train với kết quả ta nhận thấy có 60000 tấm ảnh trong tập train, kích thước 28x28px\n",
        "print('x_train shape: ',x_train.shape)"
      ],
      "execution_count": 4,
      "outputs": [
        {
          "output_type": "stream",
          "name": "stdout",
          "text": [
            "x_train shape:  (60000, 28, 28)\n"
          ]
        }
      ]
    },
    {
      "cell_type": "code",
      "metadata": {
        "id": "2HeiFUvbtLSx"
      },
      "source": [
        "# Vì tập dữ liệu mnist được lưu ở dạng ma trận 2 chiều 28x28px\n",
        "# nên trước khi truyền vào mạng neural cần chuyển sang dạng vector\n",
        "x_train=x_train.reshape(60000,784)\n",
        "x_train=x_train.astype('float32')\n",
        "# Chuẩn hóa dữ liệu nằm trong khoảng 0-1 nên chia cho 255\n",
        "x_train /= 255"
      ],
      "execution_count": 5,
      "outputs": []
    },
    {
      "cell_type": "code",
      "metadata": {
        "id": "RRGr5INMy9Xd"
      },
      "source": [
        "# Vì dữ liệu mnist được lưu ở dạng ma trận 2 chiều 28x28px\n",
        "#nên trước khi truyền vào neural cần chuyển sang dạng vector\n",
        "#tập test chỉ chứa 10000 tấm ảnh\n",
        "x_test=x_test.reshape(10000,784)\n",
        "x_test=x_test.astype('float32')\n",
        "x_test /= 255"
      ],
      "execution_count": 6,
      "outputs": []
    },
    {
      "cell_type": "code",
      "metadata": {
        "id": "gK0PU_Fczm1m"
      },
      "source": [
        "# Vì đầu ra của mạng neural là nhận dạng một tấm ảnh thuộc 1 trong các lớp 0-9\n",
        "# nên ta dùng hàm này để gán các giá trị kết quả cho tập y_test\n",
        "nb_class=10\n",
        "y_train = np_utils.to_categorical(y_train,nb_class)\n",
        "y_test = np_utils.to_categorical(y_test,nb_class)"
      ],
      "execution_count": 7,
      "outputs": []
    },
    {
      "cell_type": "code",
      "metadata": {
        "id": "lmcty4Sy0yor"
      },
      "source": [
        "# Tạo model\n",
        "model = Sequential()\n",
        "# add vào lớp input, 10 neural với mỗi neural có 784 input\n",
        "model.add(Dense(10,input_shape=(784,)))\n",
        "model.add(Activation('relu'))"
      ],
      "execution_count": 8,
      "outputs": []
    },
    {
      "cell_type": "code",
      "metadata": {
        "id": "6zuuc8IxjtPh"
      },
      "source": [
        "# add vào lớp hiden sẽ tự động lấy đầu vào của lớp đầu, giá trị hiden có thể thay đổi\n",
        "model.add(Dense(40))\n",
        "model.add(Activation('relu'))"
      ],
      "execution_count": 9,
      "outputs": []
    }
  ]
}